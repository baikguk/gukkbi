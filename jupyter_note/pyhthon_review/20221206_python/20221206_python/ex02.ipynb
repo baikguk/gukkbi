{
 "cells": [
  {
   "cell_type": "code",
   "execution_count": null,
   "id": "25bc695a",
   "metadata": {},
   "outputs": [],
   "source": [
    "'''\n",
    "값을 여러 개 저장하는 type 들\n",
    "  ㄴ list, tuple, set, dictionary\n",
    "  \n",
    "리스트 자료형 :  [] 를 사용함\n",
    "   ㄴ index 가 있음 : indexing, slicing 이 가능함\n",
    "      비어있는 list 를 생성할 수 있음 - [] / list() 사용\n",
    "      리스트에 저장되는 요소(item, element) 들의 type은\n",
    "      같을 수도 있고 다를 수도 있음\n",
    "      리스트 안에 리스트를 저장할 수 있음\n",
    "      리스트 자료형은 mutable type 임\n",
    "'''\n",
    "# python 에서는 data 가 \n",
    "# 모두 reference type 임 : data 를 모두 객체로 다룸\n",
    "# java 에서 처럼 primitive type 이 없음\n",
    "number = 100\n",
    "'''\n",
    "cf] new Integer(100) in java\n",
    "'''\n",
    "list1 = []\n",
    "list2 = list()\n",
    "print('list1 :',list1)\n",
    "print('list2 :',list2)\n",
    "print('list1 :',type(list1))\n",
    "print('list2 :',type(list2))\n",
    "\n",
    "list3 = [1, 2, 3, 4, 5, 6, 7, 8, 9]\n",
    "print('list3 :',list3)\n",
    "print('list3 :',type(list3))\n",
    "\n",
    "list4 = ['python', 'program', 'best', 'language']\n",
    "print('list4 :',list4)\n",
    "print('list4 :',type(list4))\n",
    "\n",
    "list5 = [1, 2, 3, 'a', 'b', 'c', True, 'python']\n",
    "print('list5 :',list5)\n",
    "print('list5 :',type(list5))"
   ]
  },
  {
   "cell_type": "code",
   "execution_count": null,
   "id": "b33a18a3",
   "metadata": {},
   "outputs": [],
   "source": [
    "list6 = [1, 2, 3, 4, 'python', ['program', 'best']]\n",
    "print('list6 :',list6)\n",
    "print('list6 :',type(list6))\n",
    "print(list6[4])\n",
    "print(list6[5])\n",
    "print(list6[5][1])\n",
    "print(list6[5][-1])\n",
    "print(list6[-1][-1])"
   ]
  },
  {
   "cell_type": "code",
   "execution_count": null,
   "id": "9d3f53cc",
   "metadata": {},
   "outputs": [],
   "source": [
    "list7 = [1, 2, 3, 4, 'python', ['program', 'best', ['language', 'life']]]\n",
    "print('list7 :',list7)\n",
    "print('list7 :',type(list7))\n",
    "print(list7[5][2][0])\n",
    "print(list7[5][2][1])\n",
    "print(list7[5][2][-1])\n",
    "print(list7[-1][-1][-1])"
   ]
  },
  {
   "cell_type": "code",
   "execution_count": null,
   "id": "53c50882",
   "metadata": {},
   "outputs": [],
   "source": [
    "list7 = [1, 2, 3, 4, 'python', ['program', 'best', ['language', 'life']]]\n",
    "# list7 에서 ['program','best'] 를 출력하세요\n",
    "print(list7[5][:2])\n",
    "# list7 에서 ['language','life'] 를 출력하세요\n",
    "print(list7[-1][-1][:2])\n",
    "# list7 에서 program language 를 출력하세요\n",
    "print(list7[5][0], list7[5][2][0])\n",
    "# list7 에서 program life 를 출력하세요\n",
    "print(list7[5][0],list7[5][2][1])"
   ]
  },
  {
   "cell_type": "code",
   "execution_count": null,
   "id": "db43573f",
   "metadata": {},
   "outputs": [],
   "source": [
    "list3 = list(range(1, 10))\n",
    "print('list3 :',list3)\n",
    "'''\n",
    "list3 : [1, 2, 3, 4, 5, 6, 7, 8, 9]\n",
    "list3 에서 홀수만 출력하세요 <-- slicing 사용하기 step 지정함\n",
    "'''\n",
    "str1 = '123456789'\n",
    "print(str1[::2])\n",
    "print(str1[1::2])\n",
    "\n",
    "print(list3[::2])\n",
    "print(list3[1::2])\n",
    "\n",
    "'''\n",
    "list3 의 숫자들을 거꾸로 출력하기 :  [::-1]\n",
    "'''\n",
    "# [9, 8, 7, 6, 5, 4, 3, 2, 1]\n",
    "print(list3[::-1])"
   ]
  },
  {
   "cell_type": "code",
   "execution_count": null,
   "id": "191e0bac",
   "metadata": {},
   "outputs": [],
   "source": [
    "list3 = [1, 2, 3, 4, 5, 6, 7, 8, 9, 10]\n",
    "\n",
    "'''\n",
    "list3 에서 9, 8, 7, 6 을 출력하세요\n",
    "'''\n",
    "# [9, 8, 7]\n",
    "print(list3[-2:-5:-1])\n",
    "# [9, 8, 7, 6]\n",
    "print(list3[-2:-6:-1])\n",
    "# [9, 8, 7]\n",
    "print(list3[8:5:-1])\n",
    "# [9, 8, 7, 6]\n",
    "print(list3[8:4:-1])"
   ]
  }
 ],
 "metadata": {
  "kernelspec": {
   "display_name": "Python 3 (ipykernel)",
   "language": "python",
   "name": "python3"
  },
  "language_info": {
   "codemirror_mode": {
    "name": "ipython",
    "version": 3
   },
   "file_extension": ".py",
   "mimetype": "text/x-python",
   "name": "python",
   "nbconvert_exporter": "python",
   "pygments_lexer": "ipython3",
   "version": "3.9.12"
  }
 },
 "nbformat": 4,
 "nbformat_minor": 5
}

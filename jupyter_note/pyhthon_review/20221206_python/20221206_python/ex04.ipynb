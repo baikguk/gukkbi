{
 "cells": [
  {
   "cell_type": "code",
   "execution_count": null,
   "id": "882281d3",
   "metadata": {},
   "outputs": [],
   "source": [
    "list_movies = ['동물사전','지구의밤','쵸콜릿공장','마이펫','마틸다']\n",
    "print('list_movies :',list_movies)"
   ]
  },
  {
   "cell_type": "code",
   "execution_count": null,
   "id": "3f324793",
   "metadata": {},
   "outputs": [],
   "source": [
    "'''\n",
    "'닥터두리틀'을 list_movies 맨 뒤에 추가하세요\n",
    "'''\n",
    "list_movies.append('닥터두리틀')\n",
    "print('list_movies :',list_movies)"
   ]
  },
  {
   "cell_type": "code",
   "execution_count": null,
   "id": "dfce2efc",
   "metadata": {},
   "outputs": [],
   "source": [
    "'''\n",
    "'안녕자두야'를 list_movies 맨 뒤에 추가하세요\n",
    "'''\n",
    "list_movies.insert(len(list_movies), '안녕자두야')"
   ]
  },
  {
   "cell_type": "code",
   "execution_count": null,
   "id": "ffe8e22c",
   "metadata": {},
   "outputs": [],
   "source": [
    "print('list_movies :',list_movies)"
   ]
  },
  {
   "cell_type": "code",
   "execution_count": null,
   "id": "16511ad5",
   "metadata": {},
   "outputs": [],
   "source": [
    "'''\n",
    "'패딩턴'을 '지구의밤'과 '쵸콜릿공장' 사이에 추가하세요\n",
    "  ㄴ index() 메소드를 사용해서 \n",
    "     '쵸콜릿공장'의 index 를 찾아서 하는 방법으로 해 보세요\n",
    "list 에도 문자열에 있는 index() 메소드가 있음\n",
    "list 에는 rindex(), find(), rfind() 메소드들은 없음\n",
    "'''\n",
    "list_movies.insert(list_movies.index('쵸콜릿공장'), '패딩턴')\n",
    "print('list_movies :',list_movies)"
   ]
  },
  {
   "cell_type": "code",
   "execution_count": null,
   "id": "7243a0ee",
   "metadata": {},
   "outputs": [],
   "source": [
    "'''\n",
    "'마이펫'을 삭제하세요\n",
    "'''\n",
    "list_movies.remove('마이펫')\n",
    "print('list_movies :',list_movies)"
   ]
  },
  {
   "cell_type": "code",
   "execution_count": null,
   "id": "210c1b0a",
   "metadata": {},
   "outputs": [],
   "source": [
    "'''\n",
    "'패딩턴'을 삭제하세요\n",
    "'''\n",
    "list_movies.pop(list_movies.index('패딩턴'))\n",
    "print('list_movies :',list_movies)"
   ]
  },
  {
   "cell_type": "code",
   "execution_count": null,
   "id": "291b169a",
   "metadata": {},
   "outputs": [],
   "source": [
    "'''\n",
    "'닥터두리틀'과 '안녕자두야'를 삭제하세요\n",
    "'''\n",
    "list_movies = \\\n",
    "  ['동물사전', '지구의밤', '쵸콜릿공장', '마틸다', '닥터두리틀', '안녕자두야']\n",
    "print('list_movies :',list_movies)\n",
    "\n",
    "list_movies.remove('닥터두리틀')\n",
    "list_movies.remove('안녕자두야')\n",
    "print('list_movies :',list_movies)"
   ]
  },
  {
   "cell_type": "code",
   "execution_count": null,
   "id": "f2ac9b8e",
   "metadata": {},
   "outputs": [],
   "source": [
    "'''\n",
    "'닥터두리틀'과 '안녕자두야'를 삭제하세요\n",
    "'''\n",
    "list_movies = \\\n",
    "  ['동물사전', '지구의밤', '쵸콜릿공장', '마틸다', '닥터두리틀', '안녕자두야']\n",
    "print('list_movies :',list_movies)\n",
    "\n",
    "list_movies.pop(-1)\n",
    "list_movies.pop(-1)\n",
    "print('list_movies :',list_movies)"
   ]
  },
  {
   "cell_type": "code",
   "execution_count": null,
   "id": "a2968259",
   "metadata": {},
   "outputs": [],
   "source": [
    "'''\n",
    "'닥터두리틀'과 '안녕자두야'를 삭제하세요\n",
    "'''\n",
    "list_movies = \\\n",
    "  ['동물사전', '지구의밤', '쵸콜릿공장', '마틸다', '닥터두리틀', '안녕자두야']\n",
    "print('list_movies :',list_movies)\n",
    "\n",
    "del list_movies[-1]\n",
    "del list_movies[-1]\n",
    "print('list_movies :',list_movies)"
   ]
  },
  {
   "cell_type": "code",
   "execution_count": null,
   "id": "e094990e",
   "metadata": {},
   "outputs": [],
   "source": [
    "'''\n",
    "'닥터두리틀'과 '안녕자두야'를 삭제하세요\n",
    "'''\n",
    "list_movies = \\\n",
    "  ['동물사전', '지구의밤', '쵸콜릿공장', '마틸다', '닥터두리틀', '안녕자두야']\n",
    "print('list_movies :',list_movies)\n",
    "\n",
    "del list_movies[-2:]\n",
    "print('list_movies :',list_movies)"
   ]
  },
  {
   "cell_type": "code",
   "execution_count": null,
   "id": "100ed74b",
   "metadata": {},
   "outputs": [],
   "source": [
    "'''\n",
    "내장함수 - built-in function\n",
    "\n",
    "max()  - 최댓값 반환\n",
    "min()  - 최솟값 반환\n",
    "sum()  - 합계 반환\n",
    "'''\n",
    "nums = [1, 2, 3, 4, 5, 6]\n",
    "print(max(nums))\n",
    "print(min(nums))\n",
    "print(sum(nums))"
   ]
  },
  {
   "cell_type": "code",
   "execution_count": 21,
   "id": "418d2ce5",
   "metadata": {},
   "outputs": [
    {
     "name": "stdout",
     "output_type": "stream",
     "text": [
      "평균 : 3.5\n",
      "평균 : 3.5\n"
     ]
    }
   ],
   "source": [
    "'''\n",
    "평균 \n",
    "   1) numpy 모듈에 있는 mean() 함수 사용\n",
    "   2) statistics 모듈에 있는 mean() 함수 사용\n",
    "'''\n",
    "import numpy\n",
    "import statistics\n",
    "\n",
    "nums = [1, 2, 3, 4, 5, 6]\n",
    "print('평균 :',numpy.mean(nums))\n",
    "print('평균 :',statistics.mean(nums))"
   ]
  },
  {
   "cell_type": "markdown",
   "id": "dfff85f1",
   "metadata": {},
   "source": [
    "### 리스트 정렬하기\n",
    "- sorted() 함수 : 원본 리스트를 변형하지 않고 정렬된 새로운 리스트를 반환함\n",
    "- sort() 메소드 : 원본 리스트를 직접 정렬하고 새로운 리스트를 반환하지 않음"
   ]
  },
  {
   "cell_type": "code",
   "execution_count": 25,
   "id": "fa100def",
   "metadata": {},
   "outputs": [
    {
     "name": "stdout",
     "output_type": "stream",
     "text": [
      "numbers(원본) : [6, 3, 8, 1, 0]\n",
      "원본을 변형시키지 않음\n",
      "numbers(원본) : [6, 3, 8, 1, 0]\n",
      "정렬된 새로운 리스트를 반환함\n",
      "sorted_numbers : [0, 1, 3, 6, 8]\n",
      "============================================================\n",
      "원본을 정렬함 - 원본이 변형됨\n",
      "numbers(원본) : [0, 1, 3, 6, 8]\n",
      "정렬된 새로운 리스트를 반환하지 않음 - None\n",
      "sort_numbers : None\n"
     ]
    }
   ],
   "source": [
    "numbers = [6, 3, 8, 1, 0]\n",
    "print('numbers(원본) :',numbers)\n",
    "\n",
    "# sorted() 함수를 사용한 정렬\n",
    "sorted_numbers = sorted(numbers)\n",
    "print('원본을 변형시키지 않음')\n",
    "print('numbers(원본) :',numbers)\n",
    "print('정렬된 새로운 리스트를 반환함')\n",
    "print('sorted_numbers :',sorted_numbers)\n",
    "print('=' * 60)\n",
    "\n",
    "# sort() 메소드를 사용한 정렬\n",
    "sort_numbers = numbers.sort()\n",
    "print('원본을 정렬함 - 원본이 변형됨')\n",
    "print('numbers(원본) :',numbers)\n",
    "print('정렬된 새로운 리스트를 반환하지 않음 - None')\n",
    "print('sort_numbers :',sort_numbers)"
   ]
  },
  {
   "cell_type": "code",
   "execution_count": 26,
   "id": "74852df6",
   "metadata": {},
   "outputs": [
    {
     "name": "stdout",
     "output_type": "stream",
     "text": [
      "numbers(원본) : [6, 3, 8, 1, 0]\n",
      "원본을 변형시키지 않음\n",
      "numbers(원본) : [6, 3, 8, 1, 0]\n",
      "정렬된 새로운 리스트를 반환함\n",
      "sorted_numbers : [8, 6, 3, 1, 0]\n",
      "============================================================\n",
      "원본을 정렬함 - 원본이 변형됨\n",
      "numbers(원본) : [8, 6, 3, 1, 0]\n",
      "정렬된 새로운 리스트를 반환하지 않음 - None\n",
      "sort_numbers : None\n"
     ]
    }
   ],
   "source": [
    "'''\n",
    "내림차순으로 정렬하기\n",
    "reverse 파라미터에 True 를 할당함\n",
    "reverse=True\n",
    "'''\n",
    "numbers = [6, 3, 8, 1, 0]\n",
    "print('numbers(원본) :',numbers)\n",
    "\n",
    "# sorted() 함수를 사용한 정렬\n",
    "sorted_numbers = sorted(numbers, reverse=True)\n",
    "print('원본을 변형시키지 않음')\n",
    "print('numbers(원본) :',numbers)\n",
    "print('정렬된 새로운 리스트를 반환함')\n",
    "print('sorted_numbers :',sorted_numbers)\n",
    "print('=' * 60)\n",
    "\n",
    "# sort() 메소드를 사용한 정렬\n",
    "sort_numbers = numbers.sort(reverse=True)\n",
    "print('원본을 정렬함 - 원본이 변형됨')\n",
    "print('numbers(원본) :',numbers)\n",
    "print('정렬된 새로운 리스트를 반환하지 않음 - None')\n",
    "print('sort_numbers :',sort_numbers)"
   ]
  },
  {
   "cell_type": "code",
   "execution_count": null,
   "id": "338701ee",
   "metadata": {},
   "outputs": [],
   "source": []
  },
  {
   "cell_type": "code",
   "execution_count": null,
   "id": "a5076cc7",
   "metadata": {},
   "outputs": [],
   "source": []
  },
  {
   "cell_type": "code",
   "execution_count": null,
   "id": "1b67345a",
   "metadata": {},
   "outputs": [],
   "source": []
  },
  {
   "cell_type": "code",
   "execution_count": null,
   "id": "902ca86b",
   "metadata": {},
   "outputs": [],
   "source": []
  },
  {
   "cell_type": "code",
   "execution_count": null,
   "id": "3971080d",
   "metadata": {},
   "outputs": [],
   "source": []
  }
 ],
 "metadata": {
  "kernelspec": {
   "display_name": "Python 3 (ipykernel)",
   "language": "python",
   "name": "python3"
  },
  "language_info": {
   "codemirror_mode": {
    "name": "ipython",
    "version": 3
   },
   "file_extension": ".py",
   "mimetype": "text/x-python",
   "name": "python",
   "nbconvert_exporter": "python",
   "pygments_lexer": "ipython3",
   "version": "3.9.12"
  }
 },
 "nbformat": 4,
 "nbformat_minor": 5
}

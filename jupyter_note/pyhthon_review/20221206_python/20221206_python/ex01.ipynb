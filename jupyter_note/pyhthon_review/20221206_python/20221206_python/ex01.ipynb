{
 "cells": [
  {
   "cell_type": "code",
   "execution_count": null,
   "id": "e9869d1d",
   "metadata": {},
   "outputs": [],
   "source": [
    "'''\n",
    "input() 함수를 사용해서\n",
    "입력한 정수가 짝수인지 홀수인지\n",
    "출력하는 code 를 작성하세요\n",
    "'''\n",
    "number = int(input('정수를 입력하세요 : '))\n",
    "if number % 2 == 1:\n",
    "    print('홀수입니다')\n",
    "else:\n",
    "    print('짝수입니다')"
   ]
  },
  {
   "cell_type": "code",
   "execution_count": null,
   "id": "0517bb67",
   "metadata": {},
   "outputs": [],
   "source": [
    "number = int(input('정수를 입력하세요 : '))\n",
    "if number % 2:\n",
    "    print('홀수입니다')\n",
    "else:\n",
    "    print('짝수입니다')"
   ]
  },
  {
   "cell_type": "code",
   "execution_count": null,
   "id": "af0bfac3",
   "metadata": {},
   "outputs": [],
   "source": [
    "number = int(input('정수를 입력하세요 : '))\n",
    "if not number % 2:\n",
    "    print('짝수입니다')\n",
    "else:\n",
    "    print('홀수입니다')"
   ]
  },
  {
   "cell_type": "code",
   "execution_count": null,
   "id": "8ce9f1dc",
   "metadata": {},
   "outputs": [],
   "source": [
    "'''\n",
    "if 를 사용한 삼항연산자 (python 의 삼항연산자는 java 와 형태가 다름)\n",
    "\n",
    "형식]\n",
    "  참일때값 if 조건 else 거짓일때값\n",
    "'''\n",
    "# 60 점 이상 합격\n",
    "score = int(input('성적을 입력하세요 : '))\n",
    "result = ''\n",
    "\n",
    "if score >= 60:\n",
    "    result = '합격'\n",
    "else:\n",
    "    result = '불합격'\n",
    "print(result)    \n",
    "\n",
    "result = '합격' if score > 60 else '불합격'\n",
    "print(result)"
   ]
  },
  {
   "cell_type": "code",
   "execution_count": null,
   "id": "97569b61",
   "metadata": {},
   "outputs": [],
   "source": [
    "number = int(input('정수를 입력하세요 : '))\n",
    "if number % 2:\n",
    "    print('홀수입니다')\n",
    "else:\n",
    "    print('짝수입니다')\n",
    "    \n",
    "# if 문을 삼항연산자로 변환하세요\n",
    "print('홀수입니다' if number % 2 else '짝수입니다')\n",
    "result = '홀수입니다' if number % 2 else '짝수입니다'\n",
    "print(result)"
   ]
  },
  {
   "cell_type": "code",
   "execution_count": null,
   "id": "675b6c43",
   "metadata": {},
   "outputs": [],
   "source": [
    "'''\n",
    "문자열 하나를 입력 받아서\n",
    "소문자이면 대문자로, 대문자이면 소문자로 \n",
    "변환하는 code 를 작성하세요\n",
    "'''\n",
    "# 1) if\n",
    "character = input('문자열 하나를 입력하세요 : ')\n",
    "result = ''\n",
    "if character.islower():\n",
    "    result = character.upper()\n",
    "else:\n",
    "    result = character.lower()\n",
    "print(result)    "
   ]
  },
  {
   "cell_type": "code",
   "execution_count": null,
   "id": "47425f2c",
   "metadata": {},
   "outputs": [],
   "source": [
    "# 2) 삼항연산자\n",
    "character = input('문자열 하나를 입력하세요 : ')\n",
    "result = character.upper() if character.islower() else character.lower()\n",
    "print(result)"
   ]
  },
  {
   "cell_type": "code",
   "execution_count": null,
   "id": "c98dbc51",
   "metadata": {},
   "outputs": [],
   "source": [
    "'''\n",
    "정수 3 개를 입력 받아서 \n",
    "가장 큰 수를 출력하세요\n",
    "1) if 문\n",
    "2) 삼항연산자\n",
    "'''\n",
    "# 1) if 문\n",
    "num1 = int(input('첫 번째 숫자를 입력하세요 : '))\n",
    "num2 = int(input('두 번째 숫자를 입력하세요 : '))\n",
    "num3 = int(input('세 번째 숫자를 입력하세요 : '))\n",
    "min = max = num1\n",
    "\n",
    "if num1 >= num2 and num1 >= num3:\n",
    "    max = num1\n",
    "elif num2 >= num3:\n",
    "    max = num2\n",
    "else:\n",
    "    max = num3\n",
    "    \n",
    "if num1 <= num2 and num1 <= num3:\n",
    "    min = num1\n",
    "elif num2 <= num3:\n",
    "    min = num2\n",
    "else:\n",
    "    min = num3\n",
    "    \n",
    "print('가장 큰 수 :',max)        \n",
    "print('가장 작은 수 :',min) "
   ]
  },
  {
   "cell_type": "code",
   "execution_count": null,
   "id": "6f2d1cb2",
   "metadata": {},
   "outputs": [],
   "source": [
    "# 2) 삼항연산자\n",
    "num1 = int(input('첫 번째 숫자를 입력하세요 : '))\n",
    "num2 = int(input('두 번째 숫자를 입력하세요 : '))\n",
    "num3 = int(input('세 번째 숫자를 입력하세요 : '))\n",
    "max=  num1 if num1 >= num2 and num1 >= num3 else num2 if num2 >= num3 else num3\n",
    "min=  num1 if num1 <= num2 and num1 <= num3 else num2 if num2 <= num3 else num3\n",
    "print('가장 큰 수 :',max)  \n",
    "print('가장 작은 수 :',min) "
   ]
  },
  {
   "cell_type": "code",
   "execution_count": null,
   "id": "c880bcce",
   "metadata": {},
   "outputs": [],
   "source": [
    "'''\n",
    "아이디와 비밀번호를 입력받아서 <-- input()\n",
    "아이디가 global 이고 비밀번호가 3333 이면 로그인 성공을 출력하고\n",
    "아니면 로그인 실패를 출력하는 code 를 작성하세요\n",
    "'''\n",
    "\n",
    "# 1) if 문\n",
    "id = input('아이디를 입력하세요 : ')\n",
    "pw = input('비밀번호를 입력하세요 : ')\n",
    "result = ''\n",
    "if id == 'global' and pw == '3333':\n",
    "    result = '로그인 성공'\n",
    "else:\n",
    "    result = '로그인 실패'\n",
    "print(result)    "
   ]
  },
  {
   "cell_type": "code",
   "execution_count": 30,
   "id": "277af557",
   "metadata": {},
   "outputs": [
    {
     "name": "stdout",
     "output_type": "stream",
     "text": [
      "아이디를 입력하세요 : human\n",
      "비밀번호를 입력하세요 : 3333\n",
      "로그인 실패\n"
     ]
    }
   ],
   "source": [
    "# 2) 삼항연산자\n",
    "# 참일때값 if 조건 else 거짓일때값\n",
    "id = input('아이디를 입력하세요 : ')\n",
    "pw = input('비밀번호를 입력하세요 : ')\n",
    "\n",
    "result = '로그인 성공' if id == 'global' and pw == '3333' else '로그인 실패'\n",
    "print(result)"
   ]
  },
  {
   "cell_type": "code",
   "execution_count": 33,
   "id": "308c6b45",
   "metadata": {},
   "outputs": [
    {
     "name": "stdout",
     "output_type": "stream",
     "text": [
      "아이디를 입력하세요 : human\n",
      "비밀번호를 입력하세요 : 3333\n",
      "아이디를 정확하게 입력해 주세요\n"
     ]
    }
   ],
   "source": [
    "'''\n",
    "중첩 if 문 : if 문 안에서 if 문을 사용함\n",
    "               ㄴ and 조건으로 연결됨\n",
    "'''\n",
    "id = input('아이디를 입력하세요 : ')\n",
    "pw = input('비밀번호를 입력하세요 : ')\n",
    "result = ''\n",
    "if id == 'global':\n",
    "    if pw == '3333':\n",
    "        result = '로그인 성공'\n",
    "    else:\n",
    "        result = '비밀번호를 올바르게 입력해 주세요'\n",
    "else:\n",
    "    result = '아이디를 정확하게 입력해 주세요'\n",
    "print(result)            "
   ]
  },
  {
   "cell_type": "code",
   "execution_count": 37,
   "id": "75cccc3d",
   "metadata": {},
   "outputs": [
    {
     "name": "stdout",
     "output_type": "stream",
     "text": [
      "아이디를 입력하세요 : human\n",
      "비밀번호를 입력하세요 : 3333\n",
      "아이디를 정확하게 입력해 주세요\n"
     ]
    }
   ],
   "source": [
    "id = input('아이디를 입력하세요 : ')\n",
    "pw = input('비밀번호를 입력하세요 : ')\n",
    "result = '로그인 성공' if id == 'global' and pw == '3333' else \\\n",
    "         '비밀번호를 올바르게 입력해 주세요' if id == 'global' and pw != '3333' else \\\n",
    "         '아이디를 정확하게 입력해 주세요'\n",
    "print(result)"
   ]
  },
  {
   "cell_type": "code",
   "execution_count": 46,
   "id": "8c478efe",
   "metadata": {},
   "outputs": [
    {
     "name": "stdout",
     "output_type": "stream",
     "text": [
      "숫자를 입력하세요 : 326598\n",
      "result : 300\n"
     ]
    }
   ],
   "source": [
    "'''\n",
    "사용자로부터 값을 입력받은 후 <-- input 함수 사용 \n",
    "해당 값에 20을 더한 값을 출력하세요. \n",
    "단 사용자가 입력한 값과 20을 더한 계산 값이 300를 초과하는 경우 \n",
    "300이 출력되도록 하세요.\n",
    "또는 사용자가 입력한 값과 20을 더한 계산 값이 0 미만의 값인 경우 \n",
    "0이 출력되도록 하세요.\n",
    "'''\n",
    "number = int(input('숫자를 입력하세요 : '))\n",
    "result = number + 20\n",
    "\n",
    "if result > 300:\n",
    "    result = 300\n",
    "elif result < 0:\n",
    "    result = 0\n",
    "print('result :',result)    "
   ]
  },
  {
   "cell_type": "code",
   "execution_count": 51,
   "id": "ac4fad90",
   "metadata": {},
   "outputs": [
    {
     "name": "stdout",
     "output_type": "stream",
     "text": [
      "현재 시각 - 18:00\n",
      "정각입니다\n"
     ]
    }
   ],
   "source": [
    "'''\n",
    "사용자로부터 입력 받은 <-- input 함수 \n",
    "시간이 정각이면 \"정각입니다\" 를 \n",
    "아니면 \"정각이 아닙니다\"를 출력하세요\n",
    "\n",
    "[출력예]\n",
    "현재시각 - 05:00\n",
    "정각입니다\n",
    "or\n",
    "현재시각 - 10:56\n",
    "정각이 아닙니다\n",
    "'''\n",
    "current_time = input('현재 시각 - ')\n",
    "result = ''\n",
    "if current_time[3:] == '00':\n",
    "    result = '정각입니다'\n",
    "else:\n",
    "    result = '정각이 아닙니다'\n",
    "print(result)    "
   ]
  },
  {
   "cell_type": "code",
   "execution_count": 66,
   "id": "e2b7d20e",
   "metadata": {},
   "outputs": [
    {
     "name": "stdout",
     "output_type": "stream",
     "text": [
      "성적을 입력하세요 : 98\n",
      "당신의 학점은 A 학점입니다\n"
     ]
    }
   ],
   "source": [
    "'''\n",
    "점수 구간에 해당하는 학점이 아래와 같습니다. \n",
    "사용자로부터 score 를 입력받아서 <-- input 함수\n",
    "학점(grade) 을 출력하세요 (if 문 사용)\n",
    "\n",
    "점수\t  학점\n",
    "90~100\t  A           if score <-- 90 ~ 100  : A\n",
    "80~89\t  B           if score <-- 80 ~ 89   : B \n",
    "70~79\t  C           if score <-- 70 ~ 79   : C\n",
    "60~69\t  D           if score <-- 60 ~ 69   : D \n",
    "0~59\t  F           if score <-- 0  ~ 59   : F\n",
    "'''\n",
    "score = int(input('성적을 입력하세요 : '))\n",
    "grade = ''\n",
    "if 0 <= score <= 100:\n",
    "    if 90 <= score <= 100:\n",
    "        grade = 'A'\n",
    "    elif 80 <= score:\n",
    "        grade = 'B'\n",
    "    elif 70 <= score:\n",
    "        grade = 'C'\n",
    "    elif 60 <= score:\n",
    "        grade = 'D'\n",
    "    else:    \n",
    "        grade = 'F'\n",
    "else:\n",
    "    grade = '?'\n",
    "    \n",
    "if grade != '?'    :\n",
    "    print('당신의 학점은',grade,'학점입니다')    \n",
    "else:\n",
    "    print('성적을 올바르게 입력해 주세요')    "
   ]
  },
  {
   "cell_type": "code",
   "execution_count": 80,
   "id": "8b51de26",
   "metadata": {},
   "outputs": [
    {
     "name": "stdout",
     "output_type": "stream",
     "text": [
      "성적을 입력하세요 : 83\n",
      "당신의 학점은 B- 학점입니다\n"
     ]
    }
   ],
   "source": [
    "'''\n",
    "위의 문제를 푸신 분들은\n",
    "학점에 + - 0 까지 출력해 보세요\n",
    "예시] A+, A0, A-\n",
    "'''\n",
    "score = int(input('성적을 입력하세요 : '))\n",
    "grade = ''\n",
    "plus_minus = ''\n",
    "if 0 <= score <= 100:\n",
    "    if 90 <= score <= 100:\n",
    "        grade = 'A'\n",
    "        if score <= 93:\n",
    "            plus_minus = '-'\n",
    "        elif 94 <= score <= 97:\n",
    "            plus_minus = '0'\n",
    "        else:\n",
    "            plus_minus = '+'\n",
    "    elif 80 <= score:\n",
    "        grade = 'B'\n",
    "        if score <= 83:\n",
    "            plus_minus = '-'\n",
    "        elif 84 <= score <= 87:\n",
    "            plus_minus = '0'\n",
    "        else:\n",
    "            plus_minus = '+'\n",
    "    elif 70 <= score:\n",
    "        grade = 'C'\n",
    "        if score <= 73:\n",
    "            plus_minus = '-'\n",
    "        elif 74 <= score <= 77:\n",
    "            plus_minus = '0'\n",
    "        else:\n",
    "            plus_minus = '+'        \n",
    "    elif 60 <= score:\n",
    "        grade = 'D'\n",
    "        if score <= 63:\n",
    "            plus_minus = '-'\n",
    "        elif 64 <= score <= 67:\n",
    "            plus_minus = '0'\n",
    "        else:\n",
    "            plus_minus = '+'        \n",
    "    else:    \n",
    "        grade = 'F'\n",
    "else:\n",
    "    grade = '?'\n",
    "    \n",
    "if grade != '?'    :\n",
    "    print('당신의 학점은 ',grade,plus_minus,' 학점입니다',sep='')    \n",
    "else:\n",
    "    print('성적을 올바르게 입력해 주세요')  "
   ]
  },
  {
   "cell_type": "code",
   "execution_count": 84,
   "id": "e38b418d",
   "metadata": {},
   "outputs": [
    {
     "name": "stdout",
     "output_type": "stream",
     "text": [
      "휴대전화번호를 입력하세요 : 01965875421\n",
      "통신사는 LGU 입니다\n"
     ]
    }
   ],
   "source": [
    "'''\n",
    "휴대폰 번호 앞자리에 따라 통신사는 아래와 같이 구분된다. \n",
    "사용자로부터 휴대전화 번호를 입력 받고 <-- input 함수 \n",
    "통신사를 출력하는 프로그램을 작성하라.\n",
    "\n",
    "번호\t통신사\n",
    "011\t  SKT\n",
    "016\t  KT\n",
    "019\t  LGU\n",
    "이외  알 수 없음\n",
    "'''\n",
    "phone = input('휴대전화번호를 입력하세요 : ')\n",
    "exchange = phone[:3]\n",
    "company = ''\n",
    "if exchange == '011':\n",
    "    company = 'SKT'\n",
    "elif exchange == '016':\n",
    "    company = 'KT'\n",
    "elif exchange == '019':\n",
    "    company = 'LGU'\n",
    "else:\n",
    "    company = '?'\n",
    "if company != '?':\n",
    "    print(f'통신사는 {company} 입니다')\n",
    "else:\n",
    "    print('전화번호를 정확하게 입력해 주세요')"
   ]
  },
  {
   "cell_type": "code",
   "execution_count": 86,
   "id": "554e576f",
   "metadata": {},
   "outputs": [
    {
     "name": "stdout",
     "output_type": "stream",
     "text": [
      "휴대전화번호를 입력하세요 : 019-9865-6532\n",
      "통신사는 LGU 입니다\n"
     ]
    }
   ],
   "source": [
    "# - 을 포함해서 입력한 경우에만 split 을 사용할 수 있음\n",
    "phone = input('휴대전화번호를 입력하세요 : ')\n",
    "# exchange = phone[:3]\n",
    "exchange = phone.split('-')[0]\n",
    "company = ''\n",
    "if exchange == '011':\n",
    "    company = 'SKT'\n",
    "elif exchange == '016':\n",
    "    company = 'KT'\n",
    "elif exchange == '019':\n",
    "    company = 'LGU'\n",
    "else:\n",
    "    company = '?'\n",
    "if company != '?':\n",
    "    print(f'통신사는 {company} 입니다')\n",
    "else:\n",
    "    print('전화번호를 정확하게 입력해 주세요')"
   ]
  },
  {
   "cell_type": "code",
   "execution_count": null,
   "id": "5356875d",
   "metadata": {},
   "outputs": [],
   "source": []
  },
  {
   "cell_type": "code",
   "execution_count": null,
   "id": "4148be29",
   "metadata": {},
   "outputs": [],
   "source": []
  },
  {
   "cell_type": "code",
   "execution_count": null,
   "id": "4fe46e5e",
   "metadata": {},
   "outputs": [],
   "source": []
  },
  {
   "cell_type": "code",
   "execution_count": null,
   "id": "fba8707b",
   "metadata": {},
   "outputs": [],
   "source": []
  },
  {
   "cell_type": "code",
   "execution_count": null,
   "id": "04bfd53a",
   "metadata": {},
   "outputs": [],
   "source": []
  }
 ],
 "metadata": {
  "kernelspec": {
   "display_name": "Python 3 (ipykernel)",
   "language": "python",
   "name": "python3"
  },
  "language_info": {
   "codemirror_mode": {
    "name": "ipython",
    "version": 3
   },
   "file_extension": ".py",
   "mimetype": "text/x-python",
   "name": "python",
   "nbconvert_exporter": "python",
   "pygments_lexer": "ipython3",
   "version": "3.9.12"
  }
 },
 "nbformat": 4,
 "nbformat_minor": 5
}

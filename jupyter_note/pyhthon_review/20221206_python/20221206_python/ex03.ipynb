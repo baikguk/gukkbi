{
 "cells": [
  {
   "cell_type": "code",
   "execution_count": 1,
   "id": "7e8c88fd",
   "metadata": {},
   "outputs": [
    {
     "name": "stdout",
     "output_type": "stream",
     "text": [
      "list3 : [1, 2, 3, 4, 5, 6, 7, 8]\n",
      "[1, 2, 3, 4, 1, 2, 3, 4, 1, 2, 3, 4]\n",
      "[5, 6, 7, 8, 5, 6, 7, 8, 5, 6, 7, 8]\n",
      "------------------------------------------------------------\n",
      "global global global global global \n"
     ]
    }
   ],
   "source": [
    "list1 = [1, 2, 3, 4]\n",
    "list2 = [5, 6, 7, 8]\n",
    "\n",
    "'''\n",
    "list 합치기\n",
    "'''\n",
    "list3 = list1 + list2\n",
    "print('list3 :',list3)\n",
    "\n",
    "'''\n",
    "list 반복하기\n",
    "'''\n",
    "print(list1 * 3)\n",
    "print(list2 * 3)\n",
    "\n",
    "'''\n",
    "문자열도 * 연산자로 반복할 수 있음\n",
    "'''\n",
    "print('-' * 60)\n",
    "print('global ' * 5)"
   ]
  },
  {
   "cell_type": "code",
   "execution_count": null,
   "id": "07818f02",
   "metadata": {},
   "outputs": [],
   "source": [
    "'''\n",
    "list 에 저장된 item(요소) 의 개수 : len() 메소드\n",
    "  문자열의 len() 메소드 와 같이\n",
    "  리스트의 len() 메소드는 저장된 item 의 개수를 반환함\n",
    "'''\n",
    "list4 = [1, 2, 3, 4, 5, 6, 7, 8]\n",
    "print('list4 요소들의 개수 :',len(list4))"
   ]
  },
  {
   "cell_type": "code",
   "execution_count": null,
   "id": "518f8728",
   "metadata": {},
   "outputs": [],
   "source": [
    "str2 = 'hello python'\n",
    "list5 = [11, 22, 33, 44, 55]\n",
    "'''\n",
    "str2 와 list5 에서\n",
    "hello33 을 출력하세요\n",
    "'''\n",
    "print(str2[:str2.find(' ')],list5[2],sep='')\n",
    "# TypeError: can only concatenate str (not \"int\") to str\n",
    "print(str2[:str2.find(' ')] + str(list5[2]))"
   ]
  },
  {
   "cell_type": "code",
   "execution_count": null,
   "id": "75a817c3",
   "metadata": {},
   "outputs": [],
   "source": [
    "'''\n",
    "리스트 자료형은 mutable type 이라서 \n",
    "저장된 요소를 변경할 수 있음\n",
    " ㄴ 문자열은 immutable type 이라서 변경할 수 없음\n",
    "'''\n",
    "list6 = [1, 2, 3, 4, 5]\n",
    "print('list6 :',list6)\n",
    "'''\n",
    "list6 에서 3을 3333으로 변경하기\n",
    "'''\n",
    "list6[2] = 3333\n",
    "print('list6 :',list6)"
   ]
  },
  {
   "cell_type": "markdown",
   "id": "6e6e8fde",
   "metadata": {},
   "source": [
    "### list 에 item 추가하기 -  append() 메소드 : 리스트의 맨 뒤에 추가됨"
   ]
  },
  {
   "cell_type": "code",
   "execution_count": null,
   "id": "fc8d2fa3",
   "metadata": {},
   "outputs": [],
   "source": [
    "list1 = [1, 2, 3, 4, 5]\n",
    "print('list1 :',list1)\n",
    "list1.append(6)\n",
    "print('list1 :',list1)\n",
    "list1.append(7)\n",
    "print('list1 :',list1)"
   ]
  },
  {
   "cell_type": "code",
   "execution_count": null,
   "id": "41e6d35b",
   "metadata": {},
   "outputs": [],
   "source": [
    "# append() 메소드의 argument 는 하나만 지정할 수 있음\n",
    "# 두 개 이상 넣으려면 [] 로 감싸주어야 함 \n",
    "# list.append(8, 9) \n",
    "# <-- append() 메소드 argument 에 리스트를 지정하면 리스트가 추가됨\n",
    "list1.append([8, 9])\n",
    "print('list1 :',list1)"
   ]
  },
  {
   "cell_type": "code",
   "execution_count": null,
   "id": "259043e6",
   "metadata": {},
   "outputs": [],
   "source": [
    "'''\n",
    "extend() 메소드를 사용하면 unpacking 된 형태로 저장됨\n",
    "'''\n",
    "list1.extend([10, 11])\n",
    "print('list1 :',list1)"
   ]
  },
  {
   "cell_type": "markdown",
   "id": "af1f0eeb",
   "metadata": {},
   "source": [
    "### list 에 item 추가하기 -  insert() 메소드 : 지정한 위치(index)에 추가됨"
   ]
  },
  {
   "cell_type": "code",
   "execution_count": null,
   "id": "43add0f3",
   "metadata": {},
   "outputs": [],
   "source": [
    "list1 = [1, 2, 3, 4, 5, 6, 7, [8, 9], 10, 11]\n",
    "print('list1 :',list1)\n",
    "# list1 의 5 번째 index 에 777을 추가함\n",
    "list1.insert(5, 777)\n",
    "print('list1 :',list1)"
   ]
  },
  {
   "cell_type": "markdown",
   "id": "3fadaff9",
   "metadata": {},
   "source": [
    "### list 에서 item 제거하기\n",
    "- remove() 메소드 : argument 에 item 을 지정해서 삭제함\n",
    "- index 를 지정해서 삭제할 수 없음\n",
    "- 정수를 지정하면 index 로 인식하지 않고 item 으로 인식함\n",
    "- item 으로만 삭제할 수 있음"
   ]
  },
  {
   "cell_type": "code",
   "execution_count": null,
   "id": "52315dbf",
   "metadata": {},
   "outputs": [],
   "source": [
    "alphabets = ['f', 'd', 'a', 'e', 'b', 'g', 'c', 'a']\n",
    "print('alphabets :',alphabets)"
   ]
  },
  {
   "cell_type": "code",
   "execution_count": null,
   "id": "06007de2",
   "metadata": {},
   "outputs": [],
   "source": [
    "# 왼쪽부터 조회해서 처음 나오는 item 을 삭제함\n",
    "alphabets.remove('a')\n",
    "print('alphabets :',alphabets)"
   ]
  },
  {
   "cell_type": "code",
   "execution_count": null,
   "id": "a15317d8",
   "metadata": {},
   "outputs": [],
   "source": [
    "alphabets.remove('e')\n",
    "print('alphabets :',alphabets)"
   ]
  },
  {
   "cell_type": "code",
   "execution_count": null,
   "id": "f9907db4",
   "metadata": {},
   "outputs": [],
   "source": [
    "# 'b' 를 삭제하고자 'b' 의 index 2 를 지정하면\n",
    "# index 로 인식하지 않고 item 으로 인식함\n",
    "# 현재 alphabets 리스트에는 2 라는 item 은 없음\n",
    "#  ㄴ 없는 item 을 삭제하려고 해서 오류가 발생함\n",
    "# alphabets.remove(2)\n",
    "# 'b' 를 삭제하려면 argument 로 'b' 를 넣어야 함\n",
    "alphabets.remove('b')\n",
    "print('alphabets :',alphabets)"
   ]
  },
  {
   "cell_type": "markdown",
   "id": "982d1d22",
   "metadata": {},
   "source": [
    "### list 에서 item 제거하기\n",
    "- pop() 메소드 : 리스트에서 맨 마지막 요소를 꺼내서 반환함"
   ]
  },
  {
   "cell_type": "code",
   "execution_count": null,
   "id": "0904b5e7",
   "metadata": {},
   "outputs": [],
   "source": [
    "alphabets = ['f', 'd', 'g', 'c', 'a']\n",
    "print('alphabets :',alphabets)\n",
    "\n",
    "item1 = alphabets.pop()\n",
    "print('alphabets :',alphabets)\n",
    "print('item1 :',item1)"
   ]
  },
  {
   "cell_type": "markdown",
   "id": "871b50ad",
   "metadata": {},
   "source": [
    "### list 에서 item 제거하기\n",
    "- pop(index) 메소드 : 리스트에서 지정한 index 에 해당하는 요소를 꺼내서 반환함\n",
    "- argument 로는 index 번호만 지정할 수 있고 item 을 직접 지정할 수는 없음"
   ]
  },
  {
   "cell_type": "code",
   "execution_count": 35,
   "id": "0f75f1d9",
   "metadata": {},
   "outputs": [
    {
     "name": "stdout",
     "output_type": "stream",
     "text": [
      "alphabets : ['f', 'd', 'g', 'c', 'a']\n"
     ]
    }
   ],
   "source": [
    "alphabets = ['f', 'd', 'g', 'c', 'a']\n",
    "print('alphabets :',alphabets)"
   ]
  },
  {
   "cell_type": "code",
   "execution_count": 36,
   "id": "5729f42a",
   "metadata": {},
   "outputs": [
    {
     "name": "stdout",
     "output_type": "stream",
     "text": [
      "alphabets : ['f', 'd', 'g', 'a']\n",
      "item2 : c\n"
     ]
    }
   ],
   "source": [
    "item2 = alphabets.pop(3)\n",
    "print('alphabets :',alphabets)\n",
    "print('item2 :',item2)"
   ]
  },
  {
   "cell_type": "code",
   "execution_count": 38,
   "id": "58c48408",
   "metadata": {},
   "outputs": [
    {
     "name": "stdout",
     "output_type": "stream",
     "text": [
      "alphabets : ['f', 'd', 'a']\n",
      "item3 : g\n"
     ]
    }
   ],
   "source": [
    "# argument 로는 index 번호만 지정할 수 있고 item 을 직접 지정할 수는 없음\n",
    "# alphabets.pop('g')\n",
    "item3 = alphabets.pop(2)\n",
    "print('alphabets :',alphabets)\n",
    "print('item3 :',item3)"
   ]
  },
  {
   "cell_type": "markdown",
   "id": "81286497",
   "metadata": {},
   "source": [
    "### list 에서 item 제거하기\n",
    "- clear() 메소드 : 현재 list 에 있는 모든 item 을 한꺼번에 삭제함"
   ]
  },
  {
   "cell_type": "code",
   "execution_count": 40,
   "id": "528e3ee5",
   "metadata": {},
   "outputs": [
    {
     "name": "stdout",
     "output_type": "stream",
     "text": [
      "alphabets : ['f', 'd', 'a']\n",
      "alphabets : []\n"
     ]
    }
   ],
   "source": [
    "print('alphabets :',alphabets)\n",
    "alphabets.clear()\n",
    "print('alphabets :',alphabets)"
   ]
  },
  {
   "cell_type": "code",
   "execution_count": 41,
   "id": "84a931ee",
   "metadata": {},
   "outputs": [
    {
     "name": "stdout",
     "output_type": "stream",
     "text": [
      "alphabets : ['f', 'd', 'g', 'c', 'a']\n"
     ]
    }
   ],
   "source": [
    "alphabets = ['f', 'd', 'g', 'c', 'a']\n",
    "print('alphabets :',alphabets)"
   ]
  },
  {
   "cell_type": "markdown",
   "id": "6be0093e",
   "metadata": {},
   "source": [
    "### list 에서 item 제거하기\n",
    "- del 명령어\n",
    "- 리스트의 index 를 지정해서 해당 index 에 있는 item 을 삭제함\n"
   ]
  },
  {
   "cell_type": "code",
   "execution_count": 42,
   "id": "44119756",
   "metadata": {},
   "outputs": [
    {
     "name": "stdout",
     "output_type": "stream",
     "text": [
      "alphabets : ['f', 'd', 'g', 'a']\n"
     ]
    }
   ],
   "source": [
    "# alphabets : ['f', 'd', 'g', 'c', 'a'] 에서\n",
    "# 3 번 index 인 'c' 가 삭제됨\n",
    "del alphabets[3]\n",
    "print('alphabets :',alphabets)"
   ]
  },
  {
   "cell_type": "code",
   "execution_count": 43,
   "id": "c7c08ff5",
   "metadata": {},
   "outputs": [
    {
     "name": "stdout",
     "output_type": "stream",
     "text": [
      "alphabets : ['f']\n"
     ]
    }
   ],
   "source": [
    "# del 명령어로 삭제할 때는 slicing 으로 삭제할 수도 있음\n",
    "del alphabets[1:]\n",
    "print('alphabets :',alphabets)"
   ]
  },
  {
   "cell_type": "markdown",
   "id": "d61c9456",
   "metadata": {},
   "source": [
    "### count() 메소드 - 지정한 item 의 개수를 반환함"
   ]
  },
  {
   "cell_type": "code",
   "execution_count": 44,
   "id": "ecb54839",
   "metadata": {},
   "outputs": [
    {
     "name": "stdout",
     "output_type": "stream",
     "text": [
      "1의 개수 : 1 개\n",
      "2의 개수 : 2 개\n",
      "3의 개수 : 3 개\n",
      "4의 개수 : 4 개\n",
      "5의 개수 : 5 개\n",
      "6의 개수 : 1 개\n",
      "7의 개수 : 1 개\n",
      "8의 개수 : 1 개\n",
      "9의 개수 : 1 개\n"
     ]
    }
   ],
   "source": [
    "numbers = [1, 2, 2, 3, 3, 3, 4, 4, 4, 4, 5, 5, 5, 5, 5, 6, 7, 8, 9]\n",
    "print('1의 개수 :',numbers.count(1),'개')\n",
    "print('2의 개수 :',numbers.count(2),'개')\n",
    "print('3의 개수 :',numbers.count(3),'개')\n",
    "print('4의 개수 :',numbers.count(4),'개')\n",
    "print('5의 개수 :',numbers.count(5),'개')\n",
    "print('6의 개수 :',numbers.count(6),'개')\n",
    "print('7의 개수 :',numbers.count(7),'개')\n",
    "print('8의 개수 :',numbers.count(8),'개')\n",
    "print('9의 개수 :',numbers.count(9),'개')"
   ]
  },
  {
   "cell_type": "code",
   "execution_count": null,
   "id": "26dc9856",
   "metadata": {},
   "outputs": [],
   "source": []
  },
  {
   "cell_type": "code",
   "execution_count": null,
   "id": "306854e4",
   "metadata": {},
   "outputs": [],
   "source": []
  },
  {
   "cell_type": "code",
   "execution_count": null,
   "id": "fd3fa68d",
   "metadata": {},
   "outputs": [],
   "source": []
  },
  {
   "cell_type": "code",
   "execution_count": null,
   "id": "9fa80373",
   "metadata": {},
   "outputs": [],
   "source": []
  },
  {
   "cell_type": "code",
   "execution_count": null,
   "id": "0a97ed7b",
   "metadata": {},
   "outputs": [],
   "source": []
  }
 ],
 "metadata": {
  "kernelspec": {
   "display_name": "Python 3 (ipykernel)",
   "language": "python",
   "name": "python3"
  },
  "language_info": {
   "codemirror_mode": {
    "name": "ipython",
    "version": 3
   },
   "file_extension": ".py",
   "mimetype": "text/x-python",
   "name": "python",
   "nbconvert_exporter": "python",
   "pygments_lexer": "ipython3",
   "version": "3.9.12"
  }
 },
 "nbformat": 4,
 "nbformat_minor": 5
}

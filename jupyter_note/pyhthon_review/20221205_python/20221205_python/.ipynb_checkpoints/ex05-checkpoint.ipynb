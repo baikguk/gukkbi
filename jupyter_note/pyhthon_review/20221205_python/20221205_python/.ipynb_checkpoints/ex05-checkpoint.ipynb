{
 "cells": [
  {
   "cell_type": "code",
   "execution_count": null,
   "id": "5fa90bc3",
   "metadata": {},
   "outputs": [],
   "source": [
    "'''\n",
    "bool type (논리 자료형)\n",
    " ㄴ boolean\n",
    "'''\n",
    "b1 = True\n",
    "b2 = False\n",
    "print(type(b1))\n",
    "print(type(b2))"
   ]
  },
  {
   "cell_type": "code",
   "execution_count": null,
   "id": "ca799b69",
   "metadata": {},
   "outputs": [],
   "source": [
    "b3 =  1 == 1\n",
    "print(b3)\n",
    "print(type(b3))"
   ]
  },
  {
   "cell_type": "code",
   "execution_count": 2,
   "id": "ad38849e",
   "metadata": {},
   "outputs": [
    {
     "name": "stdout",
     "output_type": "stream",
     "text": [
      "True\n",
      "<class 'bool'>\n"
     ]
    }
   ],
   "source": [
    "b4 = 1 == 1.0\n",
    "print(b4)\n",
    "print(type(b4))"
   ]
  },
  {
   "cell_type": "code",
   "execution_count": 1,
   "id": "8c05fe0a",
   "metadata": {},
   "outputs": [
    {
     "name": "stdout",
     "output_type": "stream",
     "text": [
      "False\n",
      "<class 'bool'>\n"
     ]
    },
    {
     "name": "stderr",
     "output_type": "stream",
     "text": [
      "<>:6: SyntaxWarning: \"is\" with a literal. Did you mean \"==\"?\n",
      "<>:6: SyntaxWarning: \"is\" with a literal. Did you mean \"==\"?\n",
      "C:\\Users\\y\\AppData\\Local\\Temp\\ipykernel_7452\\1250684237.py:6: SyntaxWarning: \"is\" with a literal. Did you mean \"==\"?\n",
      "  b5 = 1 is 1.0\n"
     ]
    }
   ],
   "source": [
    "'''\n",
    "is 연산자 : 값과 type 을 모두 비교함 - 주로 객체를 비교할 때 사용함\n",
    "            숫자를 비교하는 경우에는 권장하지 않음\n",
    "'''\n",
    "# False : 값은 같으나 int 와 float 이기 때문에 False 를 반환함\n",
    "b5 = 1 is 1.0\n",
    "print(b5)\n",
    "print(type(b5))"
   ]
  },
  {
   "cell_type": "code",
   "execution_count": 3,
   "id": "d615dcdb",
   "metadata": {},
   "outputs": [
    {
     "name": "stdout",
     "output_type": "stream",
     "text": [
      "True\n",
      "False\n",
      "True\n",
      "True\n",
      "False\n",
      "False\n",
      "False\n",
      "True\n",
      "True\n",
      "True\n",
      "True\n",
      "False\n",
      "False\n"
     ]
    }
   ],
   "source": [
    "'''\n",
    "다른 type 을 bool type 으로 형변환하기 - bool() 함수\n",
    "  ㄴ 비어 있는 값들은 False 를 반환함\n",
    "  ㄴ 숫자는 0 만 False 를 반환함\n",
    "     ㄴ bool type 값을 int type 으로 변환하면\n",
    "        True 는 1, False 는 0 을 반환함\n",
    "  ㄴ None 은 False 를 반환함\n",
    "'''\n",
    "print(bool('python'))\n",
    "print(bool(''))\n",
    "print(bool(' '))\n",
    "print(bool([1, 2, 3]))\n",
    "print(bool([]))\n",
    "print(bool(()))\n",
    "print(bool({}))\n",
    "print(bool(1))\n",
    "print(bool(-1))\n",
    "print(bool(4651))\n",
    "print(bool(-9871))\n",
    "print(bool(0))\n",
    "print(bool(None))"
   ]
  },
  {
   "cell_type": "code",
   "execution_count": null,
   "id": "4e571b67",
   "metadata": {},
   "outputs": [],
   "source": [
    "'''\n",
    "제어문 : Control Statement\n",
    "  ㄴ 조건문(conditional statement : if)\n",
    "  ㄴ 반복문(loop / for, while)\n",
    "  \n",
    "  else if  -->  elif\n",
    "  {  }     -->  : + 들여쓰기\n",
    "'''\n",
    "\n",
    "'''\n",
    "성적을 입력받아서\n",
    "성적(score)이 60 점 이상이면 success 를 출력하고\n",
    "아니면 fail 을 출력하세요\n",
    "'''\n",
    "score = int(input('성적을 입력하세요 : '))\n",
    "\n",
    "if score >= 60:\n",
    "    print(\"success\");\n",
    "else:\n",
    "    print(\"fail\");"
   ]
  },
  {
   "cell_type": "code",
   "execution_count": null,
   "id": "6053fdf4",
   "metadata": {},
   "outputs": [],
   "source": [
    "pocket = ['cash', 'card', 'phone']\n",
    "\n",
    "'''\n",
    "pocket 에 현금이 있으면 notebook 을 살 수 있음을 출력하고\n",
    "없으면 notebook 을 살 수 없음을 출력하세요 (in 연산자 사용)\n",
    "'''\n",
    "if 'cash' in pocket:\n",
    "    print('notebook 을 살 수 있음')\n",
    "else:\n",
    "    print('notebook 을 살 수 없음')"
   ]
  },
  {
   "cell_type": "code",
   "execution_count": null,
   "id": "d4d92b59",
   "metadata": {},
   "outputs": [],
   "source": []
  },
  {
   "cell_type": "code",
   "execution_count": null,
   "id": "ad52f943",
   "metadata": {},
   "outputs": [],
   "source": []
  }
 ],
 "metadata": {
  "kernelspec": {
   "display_name": "Python 3 (ipykernel)",
   "language": "python",
   "name": "python3"
  },
  "language_info": {
   "codemirror_mode": {
    "name": "ipython",
    "version": 3
   },
   "file_extension": ".py",
   "mimetype": "text/x-python",
   "name": "python",
   "nbconvert_exporter": "python",
   "pygments_lexer": "ipython3",
   "version": "3.9.12"
  }
 },
 "nbformat": 4,
 "nbformat_minor": 5
}

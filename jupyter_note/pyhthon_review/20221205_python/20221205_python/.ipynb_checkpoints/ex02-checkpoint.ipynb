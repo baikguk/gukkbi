{
 "cells": [
  {
   "cell_type": "code",
   "execution_count": null,
   "id": "367dd0b4",
   "metadata": {},
   "outputs": [],
   "source": [
    "'''\n",
    "우리 학원은 글로벌 IT 인재개발원입니다\n",
    "'''\n",
    "print('우리 학원은 글로벌 IT 인재개발원입니다')"
   ]
  },
  {
   "cell_type": "code",
   "execution_count": null,
   "id": "46c92360",
   "metadata": {},
   "outputs": [],
   "source": [
    "'''\n",
    "우리 학원은 '글로벌 IT 인재개발원'입니다\n",
    "\\ : 따옴표의 본래 기능인 문자열을 표시하는 기능을 제거함\n",
    "'''\n",
    "print('우리 학원은 \\'글로벌 IT 인재개발원\\'입니다')\n",
    "print(\"우리 학원은 '글로벌 IT 인재개발원'입니다\")"
   ]
  },
  {
   "cell_type": "code",
   "execution_count": null,
   "id": "c808098e",
   "metadata": {},
   "outputs": [],
   "source": [
    "'''\n",
    "우리 학원은 \"글로벌 IT 인재개발원\"입니다\n",
    "'''\n",
    "print('우리 학원은 \"글로벌 IT 인재개발원\"입니다')\n",
    "print(\"우리 학원은 \\\"글로벌 IT 인재개발원\\\"입니다\")"
   ]
  },
  {
   "cell_type": "code",
   "execution_count": null,
   "id": "97409e85",
   "metadata": {},
   "outputs": [],
   "source": [
    "'''\n",
    "우리 학원은 \n",
    "글로벌 IT 인재개발원\n",
    "입니다\n",
    "  ㄴ 1) 줄바꿈 문자 사용하기 (\\n)\n",
    "     2) 세 개짜리 따옴표 사용하기\n",
    "'''\n",
    "print('우리 학원은 \\n글로벌 IT 인재개발원\\n입니다')\n",
    "print('''우리 학원은 \n",
    "글로벌 IT 인재개발원\n",
    "입니다''')\n",
    "print(\"\"\"우리 학원은 \n",
    "글로벌 IT 인재개발원\n",
    "입니다\"\"\")"
   ]
  },
  {
   "cell_type": "code",
   "execution_count": null,
   "id": "c30dca8d",
   "metadata": {},
   "outputs": [],
   "source": [
    "'''\n",
    "python 의 문자열 출력방법들\n",
    "+ 연산자 : 연결연산자\n",
    ", : 반점\n",
    "\n",
    "1) %-formatting (print formatting)\n",
    "   ㄴ format specifier (서식문자,양식문자,변환문자)\n",
    "      형식   지정자  <-- 출력하는 형식을 지정함\n",
    "2) str.format()  메소드\n",
    "3) f-string\n",
    "'''\n",
    "'''\n",
    "format specifier\n",
    "%s  문자열\n",
    "%d  정수\n",
    "%f  실수\n",
    "%o  8진수\n",
    "%x  16진수\n",
    "%%  Literal %\n",
    "'''"
   ]
  },
  {
   "cell_type": "code",
   "execution_count": null,
   "id": "3b33d8f7",
   "metadata": {},
   "outputs": [],
   "source": [
    "name = '이순신'\n",
    "age  = 46\n",
    "'''\n",
    "'이름 : 이순신, 나이 : 46 세' 를\n",
    "변수 name, age 를 사용해서\n",
    "연결연산자와 반점을 사용해서 출력하세요\n",
    "'''\n",
    "print('이름 : ' + name + ', 나이 : ' + str(age)+ ' 세')\n",
    "print('이름 : ',name,', 나이 : ',age,' 세',sep='')\n",
    "print('이름 : %s, 나이 : %d 세' % (name, age))\n",
    "print('이름 : {}, 나이 : {} 세'.format(name, age))\n",
    "print(f'이름 : {name}, 나이 : {age} 세')"
   ]
  },
  {
   "cell_type": "code",
   "execution_count": null,
   "id": "68b5d637",
   "metadata": {},
   "outputs": [],
   "source": [
    "# 1) %-formatting\n",
    "print('이름 : %s' % name)\n",
    "print('이름 : %s' % (name))\n",
    "print('나이 : %d' % age)\n",
    "print('나이 : %d' % (age))\n",
    "print('이름 : %s, 나이 : %d 세' % (name, age))"
   ]
  },
  {
   "cell_type": "code",
   "execution_count": null,
   "id": "70a73cd9",
   "metadata": {},
   "outputs": [],
   "source": [
    "# 2) str.format() 메소드\n",
    "print('이름 : {}, 나이 : {} 세'.format(name, age))\n",
    "print('이름 : {0}, 나이 : {1} 세'.format(name, age))\n",
    "print('나이 : {} 세, 이름 : {}'.format(age, name))\n",
    "print('나이 : {1} 세, 이름 : {0}'.format(name, age))"
   ]
  },
  {
   "cell_type": "code",
   "execution_count": null,
   "id": "da715689",
   "metadata": {},
   "outputs": [],
   "source": [
    "# 3) f-string\n",
    "print(f'이름 : {name}, 나이 : {age} 세')\n",
    "print(f'나이 : {age} 세, 이름 : {name}')"
   ]
  },
  {
   "cell_type": "code",
   "execution_count": null,
   "id": "42405e4f",
   "metadata": {},
   "outputs": [],
   "source": [
    "# 1) %-formatting\n",
    "food = '감자'\n",
    "number = 5\n",
    "str1 = '나는 %s를 %d 개 먹었습니다' % (food, number)\n",
    "print(str1)\n",
    "print('나는 %d 개의 %s를 먹었습니다' % (number, food))"
   ]
  },
  {
   "cell_type": "code",
   "execution_count": null,
   "id": "2ce858db",
   "metadata": {
    "scrolled": true
   },
   "outputs": [],
   "source": [
    "total = 100\n",
    "male = 40\n",
    "female = 60\n",
    "'''\n",
    "우리반 학생들은 모두 100 명이고\n",
    "남학생은 40 명입니다\n",
    "여학생의 비율은 60% 입니다\n",
    "'''\n",
    "print('우리반 학생들은 모두 %d 명이고 \\n남학생은 %d 명입니다 \\n여학생의 비율은 %d%% 입니다' % (total, male, female))\n",
    "\n",
    "'''\n",
    "우리반 학생들은 모두 100 명이고\n",
    "남학생은 40 명입니다\n",
    "여학생의 비율은 60.0% 입니다\n",
    "'''\n",
    "print('우리반 학생들은 모두 %d 명이고 \\n남학생은 %d 명입니다 \\n여학생의 비율은 %.1f%% 입니다' % (total, male, female))\n",
    "\n",
    "\n",
    "print('''우리반 학생들은 모두 %d 명이고 \n",
    "남학생은 %d 명입니다\n",
    "여학생의 비율은 %.1f%% 입니다''' % (total, male, female))\n"
   ]
  },
  {
   "cell_type": "code",
   "execution_count": 1,
   "id": "10f48054",
   "metadata": {},
   "outputs": [
    {
     "name": "stdout",
     "output_type": "stream",
     "text": [
      "py\n",
      "        py\n",
      "        py\n",
      "py        \n",
      "py        거북선\n",
      "        py거북선\n"
     ]
    }
   ],
   "source": [
    "print('%s' % 'py')\n",
    "\n",
    "# 출력 전체 자릿수와 정렬방향 지정하기\n",
    "print('%10s' % 'py')\n",
    "print('%+10s' % 'py')\n",
    "print('%-10s' % 'py')\n",
    "print('%-10s거북선' % 'py')\n",
    "print('%10s거북선' % 'py')"
   ]
  },
  {
   "cell_type": "code",
   "execution_count": 2,
   "id": "24b4c739",
   "metadata": {},
   "outputs": [
    {
     "name": "stdout",
     "output_type": "stream",
     "text": [
      "3.141593\n",
      "3.14\n",
      "3.1416\n",
      "    3.1416\n",
      "3.1416    \n"
     ]
    }
   ],
   "source": [
    "'''\n",
    "%f 사용할 때 소숫점 이하 자릿수를 지정하지 않으면\n",
    "기본적으로 6 자리까지 출력됨 (반올림 적용됨)\n",
    "'''\n",
    "pi = 3.1415926535\n",
    "print('%f' % pi)\n",
    "print('%.2f' % pi)\n",
    "print('%.4f' % pi)\n",
    "print('%10.4f' % pi)\n",
    "print('%-10.4f' % pi)"
   ]
  },
  {
   "cell_type": "code",
   "execution_count": null,
   "id": "891e662d",
   "metadata": {},
   "outputs": [],
   "source": [
    "'''\n",
    "2) str.format() 메소드\n",
    "'''\n",
    "fruit = '메론'\n",
    "count = 3\n",
    "days  = 2\n",
    "'''\n",
    "나는 메론을 3 개 먹었습니다\n",
    "'''\n",
    "# 1) %-formatting\n",
    "print('나는 %s을 %d 개 먹었습니다' % (fruit, count))\n",
    "# 2) str.format() 메소드\n",
    "print('나는 {}을 {} 개 먹었습니다'.format(fruit, count))\n",
    "print('나는 {0}을 {1} 개 먹었습니다'.format(fruit, count))\n",
    "\n",
    "'''\n",
    "나는 3 개의 메론을 먹었습니다\n",
    "'''\n",
    "print('나는 {} 개의 {}을 먹었습니다'.format(count, fruit))\n",
    "print('나는 {1} 개의 {0}을 먹었습니다'.format(fruit, count))\n",
    "\n",
    "'''\n",
    "format() 메소드의 arugment 자리에서 \n",
    "변수를 지정해서 할당연산을 할 수 있음\n",
    "  ㄴ 이 경우에는 {} 를 비우거나 index 를 지정할 수 없고\n",
    "     반드시 변수를 넣어주어야 함\n",
    "'''\n",
    "print('나는 {fruit}을 {count} 개 먹었습니다'.format(fruit='메론',count=3))\n",
    "print('나는 {food}를 {number} 개 먹었습니다'.format(food='고구마', number=5))\n",
    "# print('나는 {}를 {} 개 먹었습니다'.format(food='고구마', number=5))\n",
    "# print('나는 {0}를 {1} 개 먹었습니다'.format(food='고구마', number=5))"
   ]
  },
  {
   "cell_type": "code",
   "execution_count": null,
   "id": "088fa9b0",
   "metadata": {},
   "outputs": [],
   "source": [
    "print('%-10s' % 'py')\n",
    "print('{:<10}'.format('py'))\n",
    "\n",
    "print('%10s' % 'py')\n",
    "print('{:>10}'.format('py'))\n",
    "print('{:^10}'.format('py'))\n",
    "\n",
    "print('{0:<10}'.format('py'))\n",
    "print('{0:>10}'.format('py'))\n",
    "print('{0:^10}'.format('py'))\n",
    "\n",
    "print('{0:>10}, {1:<10}'.format('py', 'thon'))\n",
    "print('{:>10}, {:<10}'.format('py', 'thon'))\n",
    "print('{1:>10}, {0:<10}'.format('py', 'thon'))"
   ]
  },
  {
   "cell_type": "code",
   "execution_count": null,
   "id": "0e1f114f",
   "metadata": {},
   "outputs": [],
   "source": [
    "print('{0:*<10}'.format('py'))\n",
    "print('{0:*>10}'.format('py'))\n",
    "print('{0:*^10}'.format('py'))"
   ]
  },
  {
   "cell_type": "code",
   "execution_count": null,
   "id": "507357e5",
   "metadata": {},
   "outputs": [],
   "source": [
    "print('{0:$<10}'.format('py'))\n",
    "print('{0:$>10}'.format('py'))\n",
    "print('{0:$^10}'.format('py'))"
   ]
  },
  {
   "cell_type": "code",
   "execution_count": null,
   "id": "db9e4ded",
   "metadata": {},
   "outputs": [],
   "source": [
    "print('{0:=<10}'.format('py'))\n",
    "print('{0:=>10}'.format('py'))\n",
    "print('{0:=^10}'.format('py'))"
   ]
  },
  {
   "cell_type": "code",
   "execution_count": null,
   "id": "4347cca1",
   "metadata": {},
   "outputs": [],
   "source": [
    "pi = 3.1415926535\n",
    "print('%f' % pi)\n",
    "print('{:f}'.format(pi))\n",
    "print('%.4f' % pi)\n",
    "print('{:.4f}'.format(pi))\n",
    "print('%10.4f' % pi)\n",
    "print('{:10.4f}'.format(pi))\n",
    "print('%10.10f' % pi)\n",
    "print('{:10.10f}'.format(pi))"
   ]
  },
  {
   "cell_type": "code",
   "execution_count": null,
   "id": "c6a49ca2",
   "metadata": {},
   "outputs": [],
   "source": [
    "'''\n",
    "25689959  -->  25,689,959\n",
    "\n",
    "format() 함수 사용하기\n",
    " ㄴ argument 로 사용된 숫자는 문자열(str type)로 변환됨\n",
    "'''\n",
    "print(format(25689959, ','))\n",
    "\n",
    "print('%15s' % format(25689959, ','))\n",
    "\n",
    "# TypeError: %d format: a number is required, not str\n",
    "# %d 는 숫자만 받음\n",
    "# print('%15d' % format(25689959, ','))\n",
    "\n",
    "print('%d' % 123456)\n",
    "\n",
    "# %s 는 문자열, 숫자 모두 받음\n",
    "# 123456 이 자동으로 문자열로 변환됨\n",
    "print('%s' % 123456)\n",
    "print('%s' % '123456')"
   ]
  },
  {
   "cell_type": "code",
   "execution_count": null,
   "id": "e6352025",
   "metadata": {},
   "outputs": [],
   "source": [
    "'''\n",
    "3) f-string\n",
    "'''\n",
    "menu = 'coffee'\n",
    "count = 5\n",
    "\n",
    "'''\n",
    "나는 하루에 커피를 5 잔 마십니다\n",
    "'''\n",
    "print('나는 하루에 %s를 %d 잔 마십니다' % (menu, count))\n",
    "print('나는 하루에 {}를 {} 잔 마십니다'.format(menu, count))\n",
    "print(f'나는 하루에 {menu}를 {count} 잔 마십니다')\n",
    "\n",
    "\n",
    "print('%s %s' % ('one', 'two'))\n",
    "print('{} {}'.format('one', 'two'))\n",
    "print(f'{\"one\"} {\"two\"}')"
   ]
  },
  {
   "cell_type": "code",
   "execution_count": null,
   "id": "f05fd056",
   "metadata": {},
   "outputs": [],
   "source": []
  },
  {
   "cell_type": "code",
   "execution_count": null,
   "id": "8f2f35d6",
   "metadata": {},
   "outputs": [],
   "source": []
  }
 ],
 "metadata": {
  "kernelspec": {
   "display_name": "Python 3 (ipykernel)",
   "language": "python",
   "name": "python3"
  },
  "language_info": {
   "codemirror_mode": {
    "name": "ipython",
    "version": 3
   },
   "file_extension": ".py",
   "mimetype": "text/x-python",
   "name": "python",
   "nbconvert_exporter": "python",
   "pygments_lexer": "ipython3",
   "version": "3.9.12"
  }
 },
 "nbformat": 4,
 "nbformat_minor": 5
}

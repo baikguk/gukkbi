{
 "cells": [
  {
   "cell_type": "code",
   "execution_count": null,
   "id": "8c6bb924",
   "metadata": {},
   "outputs": [],
   "source": [
    "'''\n",
    "str type indexing\n",
    "\n",
    "  global IT human resources institute\n",
    "  01234567890123456789012345678901234\n",
    "            1         2         3      \n",
    "  문자열의 길이 = 마지막 index 번호 + 1\n",
    "  마지막 index 번호 = 문자열의 길이 - 1\n",
    "            \n",
    "'''\n",
    "str1 = 'global IT human resources institute'\n",
    "print('str1 의 길이 :',len(str1))\n",
    "print('마지막 index : 34 OR -1')\n",
    "print('str1[34]  : ',str1[34])\n",
    "print('str1[-1]  : ',str1[-1])\n",
    "print('str1[len(str1)-1]  : ',str1[len(str1)-1])"
   ]
  },
  {
   "cell_type": "code",
   "execution_count": null,
   "id": "9472affd",
   "metadata": {},
   "outputs": [],
   "source": [
    "str2 = 'pithon'\n",
    "print('str2 :',str2)\n",
    "\n",
    "'''\n",
    "pithon 을 python 으로 수정해 보세요\n",
    "'''\n",
    "print('str2[1] :',str2[1])\n",
    "\n",
    "'''\n",
    "str type 은 immutable type 이라서 \n",
    "한 번 메모리에 올라가면 변형할 수 없음\n",
    "'''\n",
    "# TypeError: 'str' object does not support item assignment\n",
    "# str2[1] = 'y'   <-- 이렇게 하면 편리하지만 immutable 이라서 할당이 안 됨\n",
    "\n",
    "'''\n",
    "indexing 과 slicing 으로 문자열을 잘라내서 \n",
    "중간에 'y' 를 연결함\n",
    "'''\n",
    "print(str2)\n",
    "print(str2[0] + 'y' + str2[2] + str2[3] + str2[4] + str2[5])\n",
    "print(str2[0] + 'y' + str2[2:])"
   ]
  },
  {
   "cell_type": "code",
   "execution_count": 3,
   "id": "ad628b4d",
   "metadata": {},
   "outputs": [
    {
     "name": "stdout",
     "output_type": "stream",
     "text": [
      "len(str3) : 39\n",
      "마지막 문자열 : e\n",
      "마지막 문자열 : e\n",
      "str3[14:29] : best programmin\n",
      "str3[14:30] : best programming\n",
      "best\n",
      "language\n",
      "languag\n",
      "language\n",
      "language\n"
     ]
    }
   ],
   "source": [
    "'''\n",
    " str type slicing : 문자열 슬라이싱\n",
    "   index 번호로 범위를 지정해서 부분 문자열로 잘라내는 것\n",
    "   \n",
    "   [start:end:step]\n",
    "   \n",
    "   [start:end]   -  start 부터 end-1 까지 \n",
    "   [start:]      -  start 부터 끝까지\n",
    "   [:end]        -  처음부터 end-1 까지\n",
    "   \n",
    "   [start:end:step]  -  start 부터 end-1 까지 step-1 씩 건너뜀\n",
    "   \n",
    "   [:] - 문자열 처음부터 끝까지  <-- 문자열 전체\n",
    "                                   (-1)\n",
    "                                  87654321\n",
    "   python is the best programming language\n",
    "   012345678901234567890123456789012345678\n",
    "             1         2         3    \n",
    "'''\n",
    "str3 = 'python is the best programming language'\n",
    "print('len(str3) :',len(str3))\n",
    "print('마지막 문자열 :',str3[len(str3) - 1])\n",
    "print('마지막 문자열 :',str3[38])\n",
    "print('str3[14:29] :',str3[14:29])\n",
    "print('str3[14:30] :',str3[14:30])\n",
    "print(str3[14:18])\n",
    "print(str3[31:39])\n",
    "print(str3[-8:-1])\n",
    "print(str3[-8:39])\n",
    "print(str3[-8:len(str3)])"
   ]
  },
  {
   "cell_type": "code",
   "execution_count": 2,
   "id": "9692d4b5",
   "metadata": {},
   "outputs": [
    {
     "name": "stdout",
     "output_type": "stream",
     "text": [
      "13579\n",
      "13579\n"
     ]
    }
   ],
   "source": [
    "str5 = '123456789'\n",
    "\n",
    "# slicing 을 사용해서 짝수만 출력하세요\n",
    "print(str5[1::2])\n",
    "\n",
    "# slicing 을 사용해서 홀수만 출력하세요\n",
    "print(str5[::2])"
   ]
  },
  {
   "cell_type": "code",
   "execution_count": null,
   "id": "96648b8d",
   "metadata": {},
   "outputs": [],
   "source": []
  },
  {
   "cell_type": "code",
   "execution_count": null,
   "id": "ad74fdf8",
   "metadata": {},
   "outputs": [],
   "source": []
  }
 ],
 "metadata": {
  "kernelspec": {
   "display_name": "Python 3 (ipykernel)",
   "language": "python",
   "name": "python3"
  },
  "language_info": {
   "codemirror_mode": {
    "name": "ipython",
    "version": 3
   },
   "file_extension": ".py",
   "mimetype": "text/x-python",
   "name": "python",
   "nbconvert_exporter": "python",
   "pygments_lexer": "ipython3",
   "version": "3.9.12"
  }
 },
 "nbformat": 4,
 "nbformat_minor": 5
}

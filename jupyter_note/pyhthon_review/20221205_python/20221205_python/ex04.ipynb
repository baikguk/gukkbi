{
 "cells": [
  {
   "cell_type": "code",
   "execution_count": null,
   "id": "8a877ad6",
   "metadata": {},
   "outputs": [],
   "source": [
    "'''\n",
    " str(문자열) type 의 메소드들\n",
    "'''\n",
    "\n",
    "'''\n",
    "대상문자열.count(문자열) - 대상 문자열 속에 지정한 문자열이 몇 개 있는지 반환함\n",
    "'''\n",
    "str1 = 'python hello'\n",
    "print(str1.count('l'))\n",
    "print(str1.count('o'))\n",
    "print(str1.count('h'))\n",
    "print(str1.count('e'))\n",
    "print(str1.count('n h'))"
   ]
  },
  {
   "cell_type": "code",
   "execution_count": null,
   "id": "8a3ff140",
   "metadata": {},
   "outputs": [],
   "source": [
    "'''\n",
    "대상문자열.find(문자열)\n",
    "  ㄴ 지정한 문자열이 대상문자열에서 몇 번째 index 에 있는지 알려줌\n",
    "     대상문자열의 왼쪽부터 검색함. 지정한 문자열이 없으면 -1을 반환함\n",
    "\n",
    "대상문자열.rfind(문자열)\n",
    "  ㄴ 지정한 문자열이 대상문자열에서 몇 번째 index 에 있는지 알려줌\n",
    "     대상문자열의 오른쪽부터 검색함. 지정한 문자열이 없으면 -1을 반환함\n",
    "'''\n",
    "str1 = 'python program'\n",
    "print(\"str1.find('o') :\",str1.find('o'))\n",
    "print(\"str1.rfind('o') :\",str1.rfind('o'))\n",
    "print(\"str1.find('l') :\",str1.find('l'))\n",
    "print(\"str1.rfind('l') :\",str1.rfind('l'))"
   ]
  },
  {
   "cell_type": "code",
   "execution_count": null,
   "id": "d7d8936f",
   "metadata": {},
   "outputs": [],
   "source": [
    "'''\n",
    "대상문자열.index(문자열)\n",
    "  ㄴ 지정한 문자열이 대상문자열에서 몇 번째 index 에 있는지 알려줌\n",
    "     대상문자열의 왼쪽부터 검색함. 지정한 문자열이 없으면 오류가 발생함\n",
    "\n",
    "대상문자열.rindex(문자열)\n",
    "  ㄴ 지정한 문자열이 대상문자열에서 몇 번째 index 에 있는지 알려줌\n",
    "     대상문자열의 오른쪽부터 검색함. 지정한 문자열이 없으면 오류가 발생함\n",
    "'''\n",
    "str1 = 'python program'\n",
    "print(\"str1.index('o') :\",str1.index('o'))\n",
    "print(\"str1.rindex('o') :\",str1.rindex('o'))\n",
    "# ValueError: substring not found\n",
    "# print(\"str1.index('l') :\",str1.index('l'))\n",
    "# ValueError: substring not found\n",
    "# print(\"str1.rindex('l') :\",str1.rindex('l'))"
   ]
  },
  {
   "cell_type": "code",
   "execution_count": 1,
   "id": "6341c388",
   "metadata": {},
   "outputs": [
    {
     "name": "stdout",
     "output_type": "stream",
     "text": [
      "p-y-t-h-o-n-l-a-n-g-u-a-g-e\n",
      "p y t h o n l a n g u a g e\n",
      "p$y$t$h$o$n$l$a$n$g$u$a$g$e\n",
      "p###y###t###h###o###n###l###a###n###g###u###a###g###e\n",
      "p\n",
      "y\n",
      "t\n",
      "h\n",
      "o\n",
      "n\n",
      "l\n",
      "a\n",
      "n\n",
      "g\n",
      "u\n",
      "a\n",
      "g\n",
      "e\n"
     ]
    }
   ],
   "source": [
    "'''\n",
    "join() 메소드\n",
    "  ㄴ 대상문자열의 각문자 사이에 지정한 구분자를 추가함\n",
    "  \n",
    "  형식]\n",
    "    '구분자'.join(대상문자열)\n",
    "'''\n",
    "str3 = 'pythonlanguage'\n",
    "print('-'.join(str3))\n",
    "print(' '.join(str3))\n",
    "print('$'.join(str3))\n",
    "print('###'.join(str3))\n",
    "print('\\n'.join(str3))"
   ]
  },
  {
   "cell_type": "code",
   "execution_count": 2,
   "id": "2af73700",
   "metadata": {},
   "outputs": [
    {
     "name": "stdout",
     "output_type": "stream",
     "text": [
      "['p', 'y', 't', 'h', 'o', 'n']\n",
      "['p,y,', ',h,o,n']\n",
      "['p,y,t,', ',o,n']\n",
      "----------------------------------------------------------------------\n",
      "['python', 'is', 'the', 'best', 'programming', 'language']\n",
      "['python', 'is', 'the', 'best', 'programming', 'language']\n",
      "['python is the ', ' programming language']\n"
     ]
    }
   ],
   "source": [
    "'''\n",
    "split() \n",
    "  ㄴ 지정한 구분자를 기준으로 분리된 문자열로 이루어진 list 를 반환함\n",
    "      (구분자로 지정할 문자열은 대상문자열 속에 포함되어 있어야 함)\n",
    "  \n",
    "  형식]\n",
    "    대상문자열.split('구분자')\n",
    "'''\n",
    "str4 = 'p,y,t,h,o,n'\n",
    "print(str4.split(','))\n",
    "print(str4.split('t'))\n",
    "print(str4.split('h'))\n",
    "print('-' * 70)\n",
    "\n",
    "str5 = 'python is the best programming language'\n",
    "# 구분자를 공백문자로 지정하거나 \n",
    "# 구분자를 지정하지 않거나 공백이 구분자가 됨\n",
    "print(str5.split())\n",
    "print(str5.split(' '))\n",
    "print(str5.split('best'))"
   ]
  },
  {
   "cell_type": "code",
   "execution_count": null,
   "id": "7ac65edc",
   "metadata": {},
   "outputs": [],
   "source": [
    "'''\n",
    "lower()  - 소문자로 변환함\n",
    "upper()  - 대문자로 변환함\n",
    "swapcase() - 소문자 <-> 대문자\n",
    "'''\n",
    "str6 = 'PYthOn'\n",
    "print(str6.lower())\n",
    "print(str6.upper())\n",
    "print(str6.swapcase())"
   ]
  },
  {
   "cell_type": "code",
   "execution_count": null,
   "id": "dd21d0db",
   "metadata": {},
   "outputs": [],
   "source": [
    "'''\n",
    "islower()  -  소문자이면 True, 아니면 False 를 반환함\n",
    "isupper()  -  대문자이면 True, 아니면 False 를 반환함\n",
    "'''\n",
    "print('P'.islower())\n",
    "print('p'.islower())\n",
    "print('P'.isupper())\n",
    "print('p'.isupper())"
   ]
  },
  {
   "cell_type": "code",
   "execution_count": null,
   "id": "894324d2",
   "metadata": {},
   "outputs": [],
   "source": [
    "'''\n",
    "title() : 문장의 각 단어의 첫 글자만 대문자로 변환함\n",
    "capitalize() : 문장의 맨 처음 단어의 첫 글자만 대문자로 변환함\n",
    "'''\n",
    "str7 = 'python it the best programming language'\n",
    "print(str7.title())\n",
    "print(str7.capitalize())"
   ]
  },
  {
   "cell_type": "code",
   "execution_count": null,
   "id": "01bfa116",
   "metadata": {},
   "outputs": [],
   "source": [
    "'''\n",
    "strip()    :  문자열 양쪽의 공백을 제거함\n",
    "lstrip()   :  문자열 왼쪽의 공백을 제거함\n",
    "rstrip()   :  문자열 오른쪽의 공백을 제거함\n",
    "'''\n",
    "str8 = ' python '\n",
    "print(str8)\n",
    "print(str8.strip())\n",
    "print(str8.lstrip())\n",
    "print(str8.rstrip())"
   ]
  },
  {
   "cell_type": "code",
   "execution_count": null,
   "id": "50fded64",
   "metadata": {},
   "outputs": [],
   "source": [
    "'''\n",
    "대상문자열.replace(old, new) : \n",
    "   대상문자열에서 old 를 new 로 변경함\n",
    "'''\n",
    "str9 = 'pithon'\n",
    "print(str9)\n",
    "print(str9.replace('i', 'y'))\n",
    "print(id(str9))\n",
    "print(id(str9.replace('i', 'y')))\n",
    "\n",
    "str10 = 'hello'\n",
    "print(str10)\n",
    "print(str10 + ' python')\n",
    "print(str10)"
   ]
  },
  {
   "cell_type": "code",
   "execution_count": null,
   "id": "f10824f8",
   "metadata": {},
   "outputs": [],
   "source": [
    "'''\n",
    "010-1234-5678 이라는 전화번호를\n",
    "01012345678 로 출력하세요\n",
    "(replace(old, new) 메소드를 사용하세요)\n",
    "'''\n",
    "phone = '010-1234-5678'\n",
    "print(phone)\n",
    "print(phone.replace('-', ''))\n",
    "\n",
    "result = phone.split('-')\n",
    "print(result)\n",
    "print(result[0]+result[1]+result[2])"
   ]
  },
  {
   "cell_type": "code",
   "execution_count": null,
   "id": "b2638962",
   "metadata": {},
   "outputs": [],
   "source": [
    "'''\n",
    "대상문자열.endswith(문자열)   : 대상문자열이 지정한 문자열로 끝나면 True 를 반환\n",
    "대상문자열.startswith(문자열) : 대상문자열이 지정한 문자열로 시작하면 True 를 반환\n",
    "'''\n",
    "file_name1 = '2022report.xlsx'\n",
    "file_name2 = '2021report.hwp'\n",
    "\n",
    "# 엑셀 파일인지 알아보기\n",
    "print(file_name1.endswith('xlsx'))\n",
    "print(file_name2.endswith('xlsx'))\n",
    "\n",
    "# 한글 파일인지 알아보기\n",
    "print(file_name1.endswith('hwp'))\n",
    "print(file_name2.endswith('hwp'))\n",
    "\n",
    "# 2022 년도 파일인지 알아보기\n",
    "print(file_name1.startswith('2022'))\n",
    "print(file_name2.startswith('2022'))\n",
    "\n",
    "# 2022 년도 또는 2021 년도 파일인지 알아보기\n",
    "print(file_name1.startswith(('2022', '2021')))\n",
    "\n",
    "# 엑셀 파일 또는 한글 파일인지 알아보기\n",
    "print(file_name2.endswith(('xlsx', 'hwp'))"
   ]
  },
  {
   "cell_type": "code",
   "execution_count": null,
   "id": "ebbae445",
   "metadata": {},
   "outputs": [],
   "source": [
    "'''\n",
    "in 연산자  \n",
    "'''\n",
    "# 2022 년도 파일인지 알아보기\n",
    "print('2022' in file_name1)\n",
    "\n",
    "# report 파일인지 알아보기\n",
    "print('report' in file_name2)"
   ]
  },
  {
   "cell_type": "code",
   "execution_count": 53,
   "id": "c94d0db7",
   "metadata": {},
   "outputs": [
    {
     "name": "stdout",
     "output_type": "stream",
     "text": [
      "str11.find('s')  : 8\n",
      "str11.index('s') : 8\n",
      "20221205\n",
      "20221205\n",
      "20221205\n",
      "sunny\n",
      "sunny\n",
      "sunny\n",
      "2022\n",
      "12\n",
      "05\n"
     ]
    }
   ],
   "source": [
    "str11 = '20221205sunny'\n",
    "\n",
    "# slicing 을 사용해서 날짜부분만 출력하세요\n",
    "print(\"str11.find('s')  :\",str11.find('s'))\n",
    "print(\"str11.index('s') :\",str11.index('s'))\n",
    "print(str11[:str11.find('s')])\n",
    "print(str11[:str11.index('s')])\n",
    "print(str11[:8])\n",
    "\n",
    "# slicing 을 사용해서 날씨부분만 출력하세요\n",
    "print(str11[str11.find('s'):])\n",
    "print(str11[str11.index('s'):])\n",
    "print(str11[8:])\n",
    "\n",
    "str11 = '20221205sunny'\n",
    "# slicing 을 사용해서 연도만 출력하세요\n",
    "print(str11[:4])\n",
    "# slicing 을 사용해서 월만 출력하세요\n",
    "print(str11[4:6])\n",
    "# slicing 을 사용해서 일만 출력하세요\n",
    "print(str11[6:8])"
   ]
  },
  {
   "cell_type": "code",
   "execution_count": null,
   "id": "f64b9ae0",
   "metadata": {},
   "outputs": [],
   "source": []
  },
  {
   "cell_type": "code",
   "execution_count": null,
   "id": "bd973b8d",
   "metadata": {},
   "outputs": [],
   "source": []
  },
  {
   "cell_type": "code",
   "execution_count": null,
   "id": "d04fe9d2",
   "metadata": {},
   "outputs": [],
   "source": []
  },
  {
   "cell_type": "code",
   "execution_count": null,
   "id": "1cb11551",
   "metadata": {},
   "outputs": [],
   "source": []
  },
  {
   "cell_type": "code",
   "execution_count": null,
   "id": "3e9924b3",
   "metadata": {},
   "outputs": [],
   "source": []
  }
 ],
 "metadata": {
  "kernelspec": {
   "display_name": "Python 3 (ipykernel)",
   "language": "python",
   "name": "python3"
  },
  "language_info": {
   "codemirror_mode": {
    "name": "ipython",
    "version": 3
   },
   "file_extension": ".py",
   "mimetype": "text/x-python",
   "name": "python",
   "nbconvert_exporter": "python",
   "pygments_lexer": "ipython3",
   "version": "3.9.12"
  }
 },
 "nbformat": 4,
 "nbformat_minor": 5
}

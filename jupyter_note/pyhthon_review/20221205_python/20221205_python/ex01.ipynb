{
 "cells": [
  {
   "cell_type": "code",
   "execution_count": null,
   "id": "729272a3",
   "metadata": {},
   "outputs": [],
   "source": [
    "'''\n",
    "unpacking\n",
    "() : tuple\n",
    "[] : list\n",
    "'''\n",
    "tuple1 = (1, 2, 3,)\n",
    "print(tuple1)\n",
    "tuple2 = 1, 2, 3\n",
    "print(tuple2)\n",
    "\n",
    "# unpacking\n",
    "num1, num2, num3 = 1, 2, 3\n",
    "print(num1)\n",
    "print(num2)\n",
    "print(num3)\n",
    "\n",
    "list1 = [1, 2, 3]\n",
    "print(list1)\n",
    "\n",
    "# unpacking\n",
    "n1, n2, n3 = [1, 2, 3]\n",
    "print(n1)\n",
    "print(n2)\n",
    "print(n3)"
   ]
  },
  {
   "cell_type": "code",
   "execution_count": null,
   "id": "8bb0b12e",
   "metadata": {},
   "outputs": [],
   "source": [
    "numbers = 1, 2, 3, 4, 5\n",
    "print(numbers)\n",
    "\n",
    "n1, n2, *n3 = 1, 2, 3, 4, 5\n",
    "print(n1)\n",
    "print(n2)\n",
    "print(n3)\n",
    "\n",
    "*n1, n2, n3 = 1, 2, 3, 4, 5\n",
    "print(n1)\n",
    "print(n2)\n",
    "print(n3)\n",
    "\n",
    "n1, *n2, n3 = 1, 2, 3, 4, 5\n",
    "print(n1)\n",
    "print(n2)\n",
    "print(n3)"
   ]
  },
  {
   "cell_type": "markdown",
   "id": "80c831d5",
   "metadata": {},
   "source": [
    "### 사용자가 입력한 값을 변수에 할당하기"
   ]
  },
  {
   "cell_type": "code",
   "execution_count": null,
   "id": "0798f97b",
   "metadata": {},
   "outputs": [],
   "source": [
    "'''\n",
    "input() 함수\n",
    "\n",
    "  형식]\n",
    "  input('문자열') - 1) 문자열이 콘솔창에 그대로 출력됨\n",
    "                    2) 사용자가 콘솔창에 값을 입력함\n",
    "                    3) enter 하면 입력된 값이 변수에 할당됨\n",
    "                    4) input() 함수를 실행해서 입력한 값은\n",
    "                       모두 str type (문자열) 으로 저장됨\n",
    "'''\n",
    "number = input('정수 하나를 입력하세요 : ')\n",
    "print('number : ',number)"
   ]
  },
  {
   "cell_type": "code",
   "execution_count": null,
   "id": "6e21bb41",
   "metadata": {},
   "outputs": [],
   "source": [
    "'''\n",
    "input() 함수를 사용해서 연산하기\n",
    "\n",
    "12 와 13을 입력했을 때\n",
    "아래의 출력이 25 가 나오도록 \n",
    "code 를 수정하세요\n",
    "'''\n",
    "num1 = int(input('첫 번째 숫자를 입력하세요 : '))\n",
    "num2 = int(input('두 번째 숫자를 입력하세요 : '))\n",
    "result = num1 + num2\n",
    "print('result :',result)\n",
    "result = num1 - num2\n",
    "print('result :',result)\n",
    "result = num1 * num2\n",
    "print('result :',result)\n",
    "result = num1 / num2\n",
    "print('result :',result)"
   ]
  },
  {
   "cell_type": "code",
   "execution_count": null,
   "id": "7975f0e9",
   "metadata": {},
   "outputs": [],
   "source": [
    "print('010','1234','5678')\n",
    "print('010','1234','5678',sep=' ')\n",
    "print('010','1234','5678',sep='')\n",
    "print('010','1234','5678',sep='-')\n",
    "print('010','1234','5678',sep='@')\n",
    "print('010','1234','5678',sep='#')"
   ]
  },
  {
   "cell_type": "code",
   "execution_count": 21,
   "id": "db7a91d0",
   "metadata": {},
   "outputs": [
    {
     "name": "stdout",
     "output_type": "stream",
     "text": [
      "10\n",
      "2030, 40@#$\n",
      "50\n"
     ]
    }
   ],
   "source": [
    "print(10,end='\\n')\n",
    "print(20,end='')\n",
    "print(30,end=', ')\n",
    "print(40,end='@#$\\n')\n",
    "print(50)"
   ]
  },
  {
   "cell_type": "code",
   "execution_count": null,
   "id": "602d186c",
   "metadata": {},
   "outputs": [],
   "source": []
  },
  {
   "cell_type": "code",
   "execution_count": null,
   "id": "7b09681a",
   "metadata": {},
   "outputs": [],
   "source": []
  }
 ],
 "metadata": {
  "kernelspec": {
   "display_name": "Python 3 (ipykernel)",
   "language": "python",
   "name": "python3"
  },
  "language_info": {
   "codemirror_mode": {
    "name": "ipython",
    "version": 3
   },
   "file_extension": ".py",
   "mimetype": "text/x-python",
   "name": "python",
   "nbconvert_exporter": "python",
   "pygments_lexer": "ipython3",
   "version": "3.9.12"
  }
 },
 "nbformat": 4,
 "nbformat_minor": 5
}

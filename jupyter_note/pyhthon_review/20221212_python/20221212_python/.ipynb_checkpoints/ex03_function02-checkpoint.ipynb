{
 "cells": [
  {
   "cell_type": "code",
   "execution_count": 1,
   "id": "5d6047bb",
   "metadata": {},
   "outputs": [
    {
     "name": "stdout",
     "output_type": "stream",
     "text": [
      "num1 : 10\n",
      "num2 : (20,)\n",
      "num1 : 10\n",
      "num2 : (20, 30, 40, 50)\n",
      "55\n"
     ]
    }
   ],
   "source": [
    "'''\n",
    "가변 parameter - 파라미터에 * 표시를 하면\n",
    "                 파라미터 하나가 여러 개의 argument 를 받아서\n",
    "                 tuple 로 저장함                 \n",
    "'''\n",
    "def test1(num1, *num2):\n",
    "    print('num1 :',num1)\n",
    "    print('num2 :',num2)\n",
    "test1(10, 20)    \n",
    "test1(10, 20, 30, 40, 50)   \n",
    "\n",
    "def sum_test(*numbers):\n",
    "    sum = 0\n",
    "    for number in numbers:\n",
    "        sum += number\n",
    "    return sum\n",
    "print(sum_test(1, 2, 3, 4, 5, 6, 7, 8, 9, 10))"
   ]
  },
  {
   "cell_type": "code",
   "execution_count": null,
   "id": "ee138c83",
   "metadata": {},
   "outputs": [],
   "source": [
    "\n",
    "from statistics import mean, variance, stdev\n",
    "\n",
    "def get_statistics(func_name, *dataset):\n",
    "    if func_name == '평균':\n",
    "        return mean(dataset)\n",
    "    elif func_name == '분산':\n",
    "        return variance(dataset)\n",
    "    elif func_name == '표준편차':\n",
    "        return stdev(dataset)\n",
    "    elif func_name == '합계':\n",
    "        return sum(dataset)\n",
    "    else:\n",
    "        print('함수 이름을 정확하게 입력하세요')\n",
    "        \n",
    "print('합계 :',get_statistics('합계', 1, 2, 3, 4, 5, 6, 7, 8, 9, 10))        \n",
    "print('평균 :',round(get_statistics('평균', 1, 2, 3, 4, 5, 6, 7, 8, 9, 10), 4))\n",
    "print('분산 :',round(get_statistics('분산', 1, 2, 3, 4, 5, 6, 7, 8, 9, 10), 4))        \n",
    "print('표준편차 :',round(get_statistics('표준편차', 1, 2, 3, 4, 5, 6, 7, 8, 9, 10), 4))        "
   ]
  },
  {
   "cell_type": "code",
   "execution_count": null,
   "id": "7fcdd93f",
   "metadata": {},
   "outputs": [],
   "source": [
    "'''\n",
    "dictionary 형 가변 parameter : 매개변수 앞에 ** 을 붙여줌  \n",
    "'''\n",
    "def test2(name, age, **other):\n",
    "    print(name, age)\n",
    "    print(type(other))\n",
    "    print(other)\n",
    "test2('글로벌', 32, addrr='서울시', height=192, weight=81)"
   ]
  },
  {
   "cell_type": "code",
   "execution_count": null,
   "id": "043bd013",
   "metadata": {},
   "outputs": [],
   "source": [
    "'''\n",
    "lambda 함수 / lmabda 식 : 축약함수 (함수를 간단하게 표기함)\n",
    "\n",
    "  형식]\n",
    "     lambda 매개변수 : 리턴값  \n",
    "'''\n",
    "def add(num1, num2):\n",
    "    return num1 + num2\n",
    "print(add(1, 2))\n",
    "\n",
    "# lambda 함수 실행방법 : 람다함수는 이름이 없는 익명함수임\n",
    "# 1) (람다식)(argument)\n",
    "print((lambda num1, num2 : num1 + num2)(1, 2))\n",
    "\n",
    "# 2) 변수 = 람다식 (람다식에 이름을 붙여줌)\n",
    "add2= lambda n1, n2 : n1 + n2\n",
    "print(add2(20, 30))\n"
   ]
  },
  {
   "cell_type": "code",
   "execution_count": null,
   "id": "55b1cf6f",
   "metadata": {},
   "outputs": [],
   "source": []
  },
  {
   "cell_type": "code",
   "execution_count": null,
   "id": "076a5920",
   "metadata": {},
   "outputs": [],
   "source": []
  },
  {
   "cell_type": "code",
   "execution_count": null,
   "id": "9b4c8529",
   "metadata": {},
   "outputs": [],
   "source": []
  }
 ],
 "metadata": {
  "kernelspec": {
   "display_name": "Python 3 (ipykernel)",
   "language": "python",
   "name": "python3"
  },
  "language_info": {
   "codemirror_mode": {
    "name": "ipython",
    "version": 3
   },
   "file_extension": ".py",
   "mimetype": "text/x-python",
   "name": "python",
   "nbconvert_exporter": "python",
   "pygments_lexer": "ipython3",
   "version": "3.9.12"
  }
 },
 "nbformat": 4,
 "nbformat_minor": 5
}

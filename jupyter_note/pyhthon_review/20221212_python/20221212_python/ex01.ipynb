{
 "cells": [
  {
   "cell_type": "code",
   "execution_count": null,
   "id": "dd2c155a",
   "metadata": {},
   "outputs": [],
   "source": [
    "'''\n",
    "선택정렬\n",
    "\n",
    "    3  5  1  2  4\n",
    "    3  5\n",
    "    1     3 \n",
    "    1        2               \n",
    "    1           4            \n",
    "    1  5  3  2  4            \n",
    "    1  3  5                  \n",
    "       2     3               \n",
    "       2        4            \n",
    "    1  2  5  3  4            \n",
    "          3  5               \n",
    "          3     4            \n",
    "    1  2  3  5  4\n",
    "             4  5 \n",
    "    1  2  3  4  5\n",
    "\n",
    "'''\n",
    "dataset = [3, 5, 1, 2, 4]\n",
    "n = len(dataset)\n",
    "for idx1 in range(0, n-1):\n",
    "    for idx2 in range(idx1 + 1, n):\n",
    "        if dataset[idx1] > dataset[idx2]:\n",
    "            cup = dataset[idx1]\n",
    "            dataset[idx1] = dataset[idx2]\n",
    "            dataset[idx2] = cup\n",
    "        print(dataset)            \n",
    "    print('-' * 60)        \n",
    "print(dataset)   "
   ]
  },
  {
   "cell_type": "code",
   "execution_count": null,
   "id": "82b262b9",
   "metadata": {},
   "outputs": [],
   "source": [
    "dataset = [3, 5, 1, 2, 4]\n",
    "n = len(dataset)\n",
    "for idx1 in range(0, n-1):\n",
    "    for idx2 in range(idx1 + 1, n):\n",
    "        if dataset[idx1] < dataset[idx2]:\n",
    "            cup = dataset[idx1]\n",
    "            dataset[idx1] = dataset[idx2]\n",
    "            dataset[idx2] = cup\n",
    "        print(dataset)            \n",
    "    print('-' * 60)        \n",
    "print(dataset)   "
   ]
  },
  {
   "cell_type": "code",
   "execution_count": null,
   "id": "a1230796",
   "metadata": {},
   "outputs": [],
   "source": [
    "'''\n",
    "list_boolds 에서 각 혈액형 별 인원수를 출력하세요 (빈도수 구하기)\n",
    "\n",
    "dictionary 의 get() 메소드 사용하기\n",
    "              get(key)  -> value 를 반환함\n",
    "              get(key, default_value)  -> key 에 해당하는 value 가 없는 경우,\n",
    "                                          default_value 를 반환함\n",
    "'''\n",
    "list_bloods = ['A','A','A','O','O','O','B','O','AB','B','AB','A']\n",
    "bloods_count = {}\n",
    "for blood in list_bloods:\n",
    "    bloods_count[blood] = bloods_count.get(blood, 0) + 1\n",
    "    # print(bloods_count)\n",
    "    keys = sorted(bloods_count.keys())\n",
    "for blood in keys:\n",
    "    print(blood, '형 :',str(bloods_count[blood]),'명')"
   ]
  },
  {
   "cell_type": "code",
   "execution_count": null,
   "id": "ecfcbe20",
   "metadata": {},
   "outputs": [],
   "source": [
    "'''\n",
    "positions 에서 각 직위별 빈도수를 출력하세요\n",
    "'''\n",
    "positions = ['과장','부장','대리','사장','대리','과장']\n",
    "frequency_position = {}\n",
    "for position in positions:\n",
    "    frequency_position[position] = frequency_position.get(position, 0) + 1\n",
    "    keys = sorted(frequency_position.keys())\n",
    "for position in keys:\n",
    "    print(position,':',frequency_position[position],'명')"
   ]
  },
  {
   "cell_type": "code",
   "execution_count": null,
   "id": "fec45a3f",
   "metadata": {},
   "outputs": [],
   "source": [
    "positions = ['과장','부장','대리','사장','대리','과장']\n",
    "print('원본(positions) :',positions)\n",
    "print(\"positions.count('과장') :\",positions.count('과장'))\n",
    "print(\"positions.count('부장') :\",positions.count('부장'))\n",
    "print(\"positions.count('대리') :\",positions.count('대리'))\n",
    "print(\"positions.count('사장') :\",positions.count('사장'))\n",
    "\n",
    "#  positions 에서 중복 제거하기\n",
    "non_duplication = set(positions)\n",
    "non_duplication = list(non_duplication)\n",
    "non_duplication.sort()\n",
    "print('중복되지 않는 직위 :',non_duplication)\n",
    "\n",
    "frequency_position = {}\n",
    "\n",
    "for idx in range(len(non_duplication)):\n",
    "    frequency_position[non_duplication[idx]] = \\\n",
    "      positions.count(non_duplication[idx])\n",
    "print('각 직위별 빈도수 :',frequency_position)  \n",
    "for position in frequency_position.keys():\n",
    "    print(position,':',frequency_position[position],'명')"
   ]
  },
  {
   "cell_type": "code",
   "execution_count": null,
   "id": "7bc34ef6",
   "metadata": {},
   "outputs": [],
   "source": [
    "'''\n",
    "내장함수 map, filter, reduce\n",
    "'''\n",
    "\n",
    "list1 = [1, 2, 3, 4, 5, 6]\n",
    "print(list1)\n",
    "\n",
    "result = []\n",
    "for number in list1:\n",
    "    result.append(number ** 2)\n",
    "print(result)    \n",
    "  \n",
    "print([number ** 2 for number in list1])   "
   ]
  },
  {
   "cell_type": "code",
   "execution_count": null,
   "id": "aed78b42",
   "metadata": {},
   "outputs": [],
   "source": [
    "list1 = [1, 2, 3, 4, 5, 6]\n",
    "def get_pow(number):\n",
    "    return number ** 2\n",
    "print(list(map(get_pow, list1)))"
   ]
  },
  {
   "cell_type": "code",
   "execution_count": null,
   "id": "054c1451",
   "metadata": {},
   "outputs": [],
   "source": [
    "list1 = [1, 2, 3, 4, 5, 6]\n",
    "print(list(map(lambda number : number **2, list1)))"
   ]
  },
  {
   "cell_type": "code",
   "execution_count": null,
   "id": "2b1544cd",
   "metadata": {},
   "outputs": [],
   "source": [
    "'''\n",
    "filter\n",
    "'''\n",
    "list1 = [-5, -4, -3, -2, -1, 0, 1, 2, 3, 4, 5]\n",
    "result = []\n",
    "for number in list1:\n",
    "    if number < 0:\n",
    "        result.append(number)\n",
    "print(result)   \n",
    "print([number for number in list1 if number < 0])\n",
    "print('-' * 60)\n",
    "\n",
    "# bool type 을 return 하는 함수\n",
    "lambda number : number < 0\n",
    "def lt_0(number):\n",
    "    return number < 0\n",
    "\n",
    "for number in [-5, -4, -3, -2, -1, 0, 1, 2, 3, 4, 5]:\n",
    "    print(lt_0(number))"
   ]
  },
  {
   "cell_type": "code",
   "execution_count": null,
   "id": "886f2ba8",
   "metadata": {},
   "outputs": [],
   "source": [
    "list1 = [-5, -4, -3, -2, -1, 0, 1, 2, 3, 4, 5]    \n",
    "print(list(filter(lt_0, list1)))\n",
    "print(list(filter(lambda number : number < 0, list1)))"
   ]
  },
  {
   "cell_type": "code",
   "execution_count": null,
   "id": "e1c2207a",
   "metadata": {},
   "outputs": [],
   "source": [
    "'''\n",
    "reduce() 함수\n",
    "'''\n",
    "from functools import reduce\n",
    "\n",
    "list1 = [1, 2, 3, 4, 5, 6]\n",
    "\n",
    "# list1 의 item 들의 합계 구하기 (for문)\n",
    "sum = 0\n",
    "for number in list1:\n",
    "    sum += number\n",
    "print('sum :',sum)    \n",
    "print('-' * 60)\n",
    "\n",
    "\n",
    "list1 = [1, 2, 3, 4, 5, 6]\n",
    "\n",
    "# reduce() 함수 사용하기\n",
    "def get_sum(num1, num2):\n",
    "    return num1 + num2\n",
    "                       # 1 2 3 4 5 6\n",
    "sum = reduce(get_sum, list1)\n",
    "print('sum :',sum)\n",
    "print('-' * 60)\n",
    "                                              # 1 2 3 4 5 6\n",
    "sum = reduce(lambda num1, num2 : num1 + num2, list1)\n",
    "print('sum :',sum)"
   ]
  },
  {
   "cell_type": "code",
   "execution_count": null,
   "id": "a4c4d3de",
   "metadata": {},
   "outputs": [],
   "source": []
  }
 ],
 "metadata": {
  "kernelspec": {
   "display_name": "Python 3 (ipykernel)",
   "language": "python",
   "name": "python3"
  },
  "language_info": {
   "codemirror_mode": {
    "name": "ipython",
    "version": 3
   },
   "file_extension": ".py",
   "mimetype": "text/x-python",
   "name": "python",
   "nbconvert_exporter": "python",
   "pygments_lexer": "ipython3",
   "version": "3.9.12"
  }
 },
 "nbformat": 4,
 "nbformat_minor": 5
}

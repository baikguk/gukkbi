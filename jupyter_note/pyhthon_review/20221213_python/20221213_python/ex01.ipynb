{
 "cells": [
  {
   "cell_type": "code",
   "execution_count": null,
   "id": "d122c5b3",
   "metadata": {},
   "outputs": [],
   "source": [
    "'''\n",
    "Lambda 함수 (Lambda 식) <-- 축약함수 (함수를 간단하게 표기함)\n",
    "\n",
    "형식]\n",
    "  lambda 매개변수 : 리턴값\n",
    "  \n",
    "lambda 함수는 이름이 없는 익명함수임 (anonymous function)\n",
    "1) 변수에 할당할 수도 있고\n",
    "2) 함수의 parameter 에 전달할 수도 있고\n",
    "3) return 값으로도 사용할 수 있음\n",
    "\n",
    "python 의 lambda 함수는 1, 2, 3 에 해당하므로\n",
    "일급객체라고 함 : first-class object / first-class citizen\n",
    "  \n",
    "'''\n",
    "#   lambda 매개변수 : 리턴값(함수의 body 부분에 작성하는 내용) \n",
    "# lambda 함수에서 가변 parameter (가변 argument) 사용하기\n",
    "calc = lambda unit, quantity : unit * quantity\n",
    "print('제품 가격 :',calc(2000, 5),'원')"
   ]
  },
  {
   "cell_type": "code",
   "execution_count": null,
   "id": "3a2f9fed",
   "metadata": {},
   "outputs": [],
   "source": [
    "#   lambda 매개변수 : 리턴값(함수의 body 부분에 작성하는 내용)\n",
    "calc2 = lambda unit, *quantity, **product : print(unit, quantity, product)\n",
    "calc2(10000, 3, 5, 코트=300000, 바지=200000)\n",
    "\n",
    "def calc3(unit, *quantity, **product):\n",
    "    print(unit, quantity, product)\n",
    "calc3(10000, 3, 5, 코트=300000, 바지=200000)    "
   ]
  },
  {
   "cell_type": "code",
   "execution_count": null,
   "id": "7543e56e",
   "metadata": {},
   "outputs": [],
   "source": [
    "'''\n",
    "global        ┌ 함수나 클래스, for, while 등의 내부\n",
    "전역변수와 지역변수 (local)\n",
    "  ㄴ 함수나 클래스, for, while 등의 바깥 부분\n",
    "  \n",
    "지역(local) scope 는 전역(global) scope 내부에 있음\n",
    "지역(local) scope 에서는 전역(global) scope 에 있는 값을 참조할 수 있으나\n",
    "전역(global) scope 에서는 지역(local) scope 에 있는 값을 참조할 수 없음\n",
    "전역(global) scope 에서는 지역(local) scope 에 있는 값을\n",
    "직접적으로 참조할 수는 없고 해당 함수에서 return 해 주는 값만 참조할 수 있음\n",
    "'''\n",
    "# 전역 변수 : global variable\n",
    "number = 20\n",
    "\n",
    "def test1():\n",
    "    # 전역변수와 지역변수의 이름이 같은 경우에는\n",
    "    # 함수 내부(지역-local) 에서는 같은 scope 에 있는\n",
    "    # 지역변수를 우선적으로 인식함\n",
    "    number = 10\n",
    "    print('number (지역변수) :', number)\n",
    "    \n",
    "test1()\n",
    "# 전역(global) scope 에서는 지역(local) scope 에 \n",
    "# 있는 값을 참조할 수 없음\n",
    "print('number (전역변수) :', number)"
   ]
  },
  {
   "cell_type": "code",
   "execution_count": null,
   "id": "80f722af",
   "metadata": {},
   "outputs": [],
   "source": [
    "# 전역 변수 : global variable\n",
    "number = 20\n",
    "\n",
    "def test1():\n",
    "    number = 10\n",
    "    print('number (지역변수) :', number)\n",
    "    return number\n",
    "    \n",
    "test1()\n",
    "# 전역(global) scope 에서는 지역(local) scope 에 \n",
    "# 있는 값을 참조할 수 없음\n",
    "print('number (전역변수) :', number)\n",
    "\n",
    "print('test1() 함수에서 return 해 주는 값')\n",
    "print(test1())"
   ]
  },
  {
   "cell_type": "code",
   "execution_count": null,
   "id": "0fcb0f87",
   "metadata": {},
   "outputs": [],
   "source": [
    "number = 5\n",
    "\n",
    "def test2():\n",
    "    num = 10\n",
    "    print('num (지역변수) :',num)\n",
    "    # 지역변수와 전역변수의 이름이 다른 경우,\n",
    "    # 함수 내부(local)에서는 전역변수(global)를 참조함\n",
    "    print('number (전역변수) :',number)\n",
    "    \n",
    "test2()\n",
    "print('number (전역변수) :', number)\n",
    "\n",
    "# NameError: name 'num' is not defined\n",
    "#  ㄴ global scope 에서는 num 이라는 변수가 선언되어 있지 않다는 의미\n",
    "# 함수 외부(global scope) 에서는 \n",
    "# 함수 내부(local scope) 에 있는 변수를 직접적으로 참조할 수 없음\n",
    "# print('num (지역변수) :',num)"
   ]
  },
  {
   "cell_type": "code",
   "execution_count": null,
   "id": "cd1b989a",
   "metadata": {},
   "outputs": [],
   "source": [
    "'''\n",
    "함수의 parameter(매개변수) 는 \n",
    "역할상으로는 매개변수이고\n",
    "위치상으로는 지역변수임\n",
    "'''\n",
    "figure = 50\n",
    "\n",
    "# figure 는 매개변수로 지정되어 있는데\n",
    "# 매개변수도 지역변수임 (현재, 지역변수와 전역변수의 이름이 같음)\n",
    "def test3(figure):\n",
    "    figure += 50\n",
    "    # 지역변수와 전역변수의 이름이 같아서 지역변수 우선 인식\n",
    "    print('figure (지역변수) :',figure)\n",
    "\n",
    "test3(10)\n",
    "print('figure (전역변수) :',figure)"
   ]
  },
  {
   "cell_type": "code",
   "execution_count": null,
   "id": "58fb4227",
   "metadata": {},
   "outputs": [],
   "source": [
    "figure = 50\n",
    "\n",
    "def test4():\n",
    "    # UnboundLocalError: local variable 'figure' referenced before assignment\n",
    "    figure += 50\n",
    "    print('figure (지역변수) :',figure)\n",
    "\n",
    "test4()\n",
    "print('figure (전역변수) :',figure)"
   ]
  },
  {
   "cell_type": "code",
   "execution_count": null,
   "id": "6099bef9",
   "metadata": {},
   "outputs": [],
   "source": [
    "# NameError: name 'figure2' is not defined\n",
    "figure2 += 50\n",
    "print('figure2 :',figure2)\n",
    "\n",
    "figure2 = figure2 + 50\n",
    "print('figure2 :',figure2)"
   ]
  },
  {
   "cell_type": "code",
   "execution_count": null,
   "id": "6276dbb4",
   "metadata": {},
   "outputs": [],
   "source": [
    "figure2 = 50\n",
    "print('figure2 :',figure2)\n",
    "\n",
    "figure2 += 50\n",
    "print('figure2 :',figure2)\n",
    "\n",
    "figure2 = figure2 + 50\n",
    "print('figure2 :',figure2)"
   ]
  },
  {
   "cell_type": "code",
   "execution_count": null,
   "id": "9c0430ec",
   "metadata": {},
   "outputs": [],
   "source": [
    "number5 = 50\n",
    "\n",
    "def test4(number5):\n",
    "    number5 += 50\n",
    "    figure = 150\n",
    "    print('number5 (지역) :',number5)\n",
    "    print('figure  (지역) :',figure)\n",
    "\n",
    "test4(10)    \n",
    "print('number5 (전역) :',number5)"
   ]
  },
  {
   "cell_type": "code",
   "execution_count": 11,
   "id": "740e2588",
   "metadata": {},
   "outputs": [
    {
     "name": "stdout",
     "output_type": "stream",
     "text": [
      "합계 : 25\n",
      "합계 : 0\n"
     ]
    }
   ],
   "source": [
    "dataset = [1, 3, 5, 7, 9]\n",
    "\n",
    "total = 0\n",
    "\n",
    "def test5(dataset):\n",
    "    # 지역변수 사용하기\n",
    "    total = 0\n",
    "    # 전역변수 사용하기\n",
    "    # global total\n",
    "    for data in dataset:\n",
    "        # 지역변수 total 을 선언하지 않거나\n",
    "        # 전역변수 total 을 사용한다고 설정하지 않으면 오류 발생함\n",
    "        # UnboundLocalError: local variable 'total' \n",
    "        #                    referenced before assignment\n",
    "        total += data\n",
    "    return total\n",
    "\n",
    "result = test5(dataset)\n",
    "print('합계 :',result)\n",
    "\n",
    "# total 이 25 가 나올 때와 0 이 나올 때가 있는데\n",
    "# 왜 그런지 생각해 보기\n",
    "print('합계 :',total)"
   ]
  },
  {
   "cell_type": "code",
   "execution_count": 16,
   "id": "af4b8b8f",
   "metadata": {},
   "outputs": [
    {
     "name": "stdout",
     "output_type": "stream",
     "text": [
      "result : 53\n",
      "outer()(1, 2) : 53\n"
     ]
    }
   ],
   "source": [
    "'''\n",
    "중첩함수 (nested function)\n",
    "  python 에서는 함수 내부에서 함수를 정의할 수 있음\n",
    "                (외부함수)    (내부함수)\n",
    "'''\n",
    "def outer():\n",
    "    # closure : 내부함수의 실행을 위해서\n",
    "    #           외부함수가 종료되더라도 메모리에 남겨진 부분  \n",
    "    # outer 함수가 종료되더라도\n",
    "    # outer 함수의 지역변수 num1, num2 는\n",
    "    # closure 영역에 남아 있음\n",
    "    num1 = 10\n",
    "    num2 = 20\n",
    "    num3 = 30\n",
    "    # outer 함수가 종료되더라도\n",
    "    # outer 함수의 내부함수인 inner 함수는\n",
    "    # closuer 영역에 남아 있음\n",
    "    # closure 함수\n",
    "    def inner(n1, n2):\n",
    "        number = 20\n",
    "        result = n1 + n2 + num1 + num2 + number\n",
    "        return result\n",
    "    # 내부함수의 이름을 return 함\n",
    "    # 함수 이름은 함수의 정의부가 \n",
    "    # 메모리에 올라간 지점의 주소를 저장하고 있음\n",
    "    return inner\n",
    "        \n",
    "# global scope 에서 내부함수 호출하기\n",
    "# NameError: name 'inner' is not defined\n",
    "# inner 함수는 outer 함수의 내부에 정의되어 있어서\n",
    "# global scope 에서는 outer함수의 내부에 접근할 수 없으므로\n",
    "# 직접적으로 호출할 수 없음\n",
    "# 함수를 호출한다는 것은 함수의 정의부가 메모리에 올라간 지점의\n",
    "# 주소에 접근해서 parameter 에 argument를 전달해서 실행시킨다는 의미\n",
    "# inner 함수 (내부함수) 를 호출하려면 inner 함수의 정의부가 메모리에 \n",
    "# 올라간 지점의 주솟값을 받아와야 함\n",
    "# outer() 함수는 inner() 함수의 이름을 return하고 있으므로\n",
    "# outer() 함수를 호출하면 inner() 함수의 정의부가 메모리에 올라간 지점의\n",
    "# 주솟값을 얻어올 수 있음 - \n",
    "# outer() 함수를 호출해서 inner() 함수의 정의부의주소를\n",
    "# return 값으로 받아서 inner() 함수를 호출하면 됨\n",
    "# result = inner(1, 2)\n",
    "# outer()  <-- inner\n",
    "inner_function = outer()\n",
    "result = inner_function(1, 2)\n",
    "print('result :', result)\n",
    "\n",
    "print('outer()(1, 2) :',outer()(1, 2))\n"
   ]
  },
  {
   "cell_type": "code",
   "execution_count": 21,
   "id": "af8c1a91",
   "metadata": {},
   "outputs": [
    {
     "name": "stdout",
     "output_type": "stream",
     "text": [
      "outer2()() : 30\n",
      "30\n"
     ]
    }
   ],
   "source": [
    "def outer2():\n",
    "    num1 = 10\n",
    "    num2 = 20\n",
    "    num3 = 30\n",
    "    def inner2():\n",
    "        return num1 + num2 \n",
    "    return inner2\n",
    "\n",
    "'''\n",
    "inner2() 함수를 실행하고 \n",
    "inner2() 함수의 return 값을 출력하세요\n",
    "'''\n",
    "# 1)\n",
    "print('outer2()() :',outer2()())\n",
    "\n",
    "# 2)\n",
    "inner_function = outer2()\n",
    "print(inner_function())"
   ]
  },
  {
   "cell_type": "code",
   "execution_count": 22,
   "id": "fa4d9503",
   "metadata": {},
   "outputs": [
    {
     "name": "stdout",
     "output_type": "stream",
     "text": [
      "합계 : 5050 평균 : 50.5\n"
     ]
    }
   ],
   "source": [
    "dataset2 = list(range(1, 101))\n",
    "def outer3(data):\n",
    "    dataset = data\n",
    "    def inner1():\n",
    "        total = sum(dataset)\n",
    "        return total\n",
    "    def inner2(total_value):\n",
    "        average2 = total_value / len(dataset)\n",
    "        return average2\n",
    "    return inner1, inner2\n",
    "\n",
    "# 1) outer 함수 호출\n",
    "total, average3 = outer3(dataset2)\n",
    "\n",
    "# inner1 함수 호출\n",
    "total_val = total()\n",
    "\n",
    "# inner2 함수 호출\n",
    "average_val = average3(total_val)\n",
    "\n",
    "print('합계 :',total_val,'평균 :',average_val)        "
   ]
  },
  {
   "cell_type": "code",
   "execution_count": 32,
   "id": "10eb4050",
   "metadata": {},
   "outputs": [
    {
     "name": "stdout",
     "output_type": "stream",
     "text": [
      "평균 : 4.4667\n",
      "분산 : 1.9467\n",
      "표준편차 : 1.3952\n"
     ]
    }
   ],
   "source": [
    "from statistics import mean\n",
    "from math import sqrt\n",
    "\n",
    "dataset3 = [4, 5, 3.5, 2.5, 6.3, 5.5]\n",
    "\n",
    "def outer4(data):\n",
    "    dataset = data\n",
    "    def inner3():\n",
    "        average_val = mean(dataset)\n",
    "        return average_val\n",
    "    def inner4(avg):\n",
    "        diff = [(data - avg) ** 2 for data in dataset]\n",
    "        variance_val = sum(diff) / (len(dataset) - 1)\n",
    "        return variance_val\n",
    "    def inner5(var_val):\n",
    "        standard_deviation = sqrt(var_val)\n",
    "        return standard_deviation\n",
    "    return inner3, inner4, inner5\n",
    "\n",
    "avg, var, std = outer4(dataset3)\n",
    "\n",
    "print('평균 :',round(avg(), 4))\n",
    "print('분산 :',round(var(avg()), 4))\n",
    "print('표준편차 :',round(std(var(avg())), 4))\n",
    "      "
   ]
  },
  {
   "cell_type": "code",
   "execution_count": 33,
   "id": "6847beab",
   "metadata": {},
   "outputs": [
    {
     "name": "stdout",
     "output_type": "stream",
     "text": [
      "getter() : 100\n",
      "getter() : 100\n"
     ]
    }
   ],
   "source": [
    "'''\n",
    "내부함수\n",
    "getter 함수 : 함수의 지역변수를 함수 외부로 return 하는 함수\n",
    "setter 함수 : 함수의 지역변수를 함수 외부에서 수정할 수 있도록 해 주는 함수\n",
    "'''\n",
    "def test5(number):\n",
    "    num = number\n",
    "    # getter\n",
    "    def get_num():\n",
    "        return num\n",
    "    # setter\n",
    "    def set_num(value_from_out):\n",
    "        num = value_from_out\n",
    "    return get_num, set_num\n",
    "getter, setter = test5(100)\n",
    "print('getter() :',getter())\n",
    "setter(200)\n",
    "# setter(200) 을 호출했는데... \n",
    "# getter() 가 100 이 되는 이유는????\n",
    "# setter(200) 으로 호출하면 set_num 의 지역변수 \n",
    "# num이 200과 연결된 것임\n",
    "# test5() 의 지역변수 num 에는 아무 변화가 없음\n",
    "# getter() 는 setter() 의 지역변수 num 을 반환하는 것이 아니고\n",
    "# test5() 의 지역변수 num 을 반환함\n",
    "# setter() 에서 test5() 의 지역변수 num 에 200 이 할당되도록 해야 함\n",
    "# 이 때 사용하는 키워드가 nonlocal 임\n",
    "print('getter() :',getter())"
   ]
  },
  {
   "cell_type": "code",
   "execution_count": 34,
   "id": "5ace87d0",
   "metadata": {},
   "outputs": [
    {
     "name": "stdout",
     "output_type": "stream",
     "text": [
      "getter() : 100\n",
      "getter() : 200\n"
     ]
    }
   ],
   "source": [
    "def test5(number):\n",
    "    num = number\n",
    "    # getter\n",
    "    def get_num():\n",
    "        return num\n",
    "    # setter\n",
    "    def set_num(value_from_out):\n",
    "        # nonlocal 을 사용해서 test5() 의 \n",
    "        # 지역변수 num 을 사용한다고 선언함\n",
    "        # outer5() 의 지역변수 num 에 200 이 할당되어서\n",
    "        # 아래에서 getter() 를 호출하면 200 을 반환함\n",
    "        nonlocal num\n",
    "        num = value_from_out\n",
    "    return get_num, set_num\n",
    "getter, setter = test5(100)\n",
    "print('getter() :',getter())\n",
    "setter(200)\n",
    "print('getter() :',getter())"
   ]
  },
  {
   "cell_type": "code",
   "execution_count": 38,
   "id": "bb8c825b",
   "metadata": {},
   "outputs": [
    {
     "name": "stdout",
     "output_type": "stream",
     "text": [
      "안녕하세요\n",
      "글로벌\n",
      "안녕히 가세요\n"
     ]
    }
   ],
   "source": [
    "'''\n",
    "wrapper 함수\n",
    "'''\n",
    "def wrap(func_name):\n",
    "    def decorated():\n",
    "        print('안녕하세요')\n",
    "        func_name()\n",
    "        print('안녕히 가세요')\n",
    "    return decorated\n",
    "    \n",
    "@wrap\n",
    "def hello():\n",
    "    print('글로벌')\n",
    "\n",
    "hello()    "
   ]
  },
  {
   "cell_type": "code",
   "execution_count": 47,
   "id": "3abc550a",
   "metadata": {},
   "outputs": [
    {
     "name": "stdout",
     "output_type": "stream",
     "text": [
      "1 2 3 4 5 "
     ]
    }
   ],
   "source": [
    "'''\n",
    "recursive (재귀함수) - 자신이 자신을 호출하는 함수\n",
    "'''\n",
    "def counter(num):\n",
    "    # exit 조건\n",
    "    if num == 0:\n",
    "        return 0\n",
    "    else:\n",
    "        counter(num - 1)\n",
    "        print(num, end = ' ')\n",
    "    return\n",
    "# print(counter(0))\n",
    "counter(5)"
   ]
  },
  {
   "cell_type": "code",
   "execution_count": 49,
   "id": "31e9ed28",
   "metadata": {},
   "outputs": [
    {
     "name": "stdout",
     "output_type": "stream",
     "text": [
      "120\n"
     ]
    }
   ],
   "source": [
    "'''\n",
    "Factorial - 5!\n",
    "'''\n",
    "def fac(num):\n",
    "    # 종료 조건\n",
    "    if num == 1:\n",
    "        return 1\n",
    "    else:\n",
    "        return num * fac(num - 1)\n",
    "#                        num * fac(num - 1 - 1)\n",
    "#                                num * fac(num - 1 - 1 - 1)\n",
    "#                                       num * fac(num - 1 - 1 - 1 - 1)\n",
    "print(fac(5))"
   ]
  },
  {
   "cell_type": "code",
   "execution_count": 52,
   "id": "159aa275",
   "metadata": {},
   "outputs": [
    {
     "name": "stdout",
     "output_type": "stream",
     "text": [
      "120\n"
     ]
    }
   ],
   "source": [
    "def factorial(num):\n",
    "    result = 1\n",
    "    for number in range(1, num+1):\n",
    "        result *= number\n",
    "    return result    \n",
    "print(factorial(5))    "
   ]
  },
  {
   "cell_type": "code",
   "execution_count": null,
   "id": "47988c07",
   "metadata": {},
   "outputs": [],
   "source": []
  },
  {
   "cell_type": "code",
   "execution_count": null,
   "id": "10df14a5",
   "metadata": {},
   "outputs": [],
   "source": []
  }
 ],
 "metadata": {
  "kernelspec": {
   "display_name": "Python 3 (ipykernel)",
   "language": "python",
   "name": "python3"
  },
  "language_info": {
   "codemirror_mode": {
    "name": "ipython",
    "version": 3
   },
   "file_extension": ".py",
   "mimetype": "text/x-python",
   "name": "python",
   "nbconvert_exporter": "python",
   "pygments_lexer": "ipython3",
   "version": "3.9.12"
  }
 },
 "nbformat": 4,
 "nbformat_minor": 5
}

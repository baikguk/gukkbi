{
 "cells": [
  {
   "cell_type": "markdown",
   "id": "ee06a578",
   "metadata": {},
   "source": [
    "### Numpy\n",
    "- 행렬(이차원 배열) 이나 다차원 배열을 쉽게 처리할 수 있도록 지원하는 라이브러리\n",
    "- 수치 계산을 위한 여러가지 효율적인 기능들도 제공함"
   ]
  },
  {
   "cell_type": "code",
   "execution_count": null,
   "id": "01150a87",
   "metadata": {},
   "outputs": [],
   "source": [
    "import numpy as np"
   ]
  },
  {
   "cell_type": "code",
   "execution_count": null,
   "id": "7dcb08c6",
   "metadata": {},
   "outputs": [],
   "source": [
    "'''\n",
    "기본 파이썬에는 배열(array) 이 없음\n",
    "파이썬에서 배열을 사용하려면\n",
    "Numpy 의 ndarray 를 생성해서 사용함\n",
    "'''\n",
    "\n",
    "# numpy 의 ndarray(배열)\n",
    "\n",
    "# list 에서 ndarray 생성하기\n",
    "# 1 차원 list  -->  1 차원 ndarray\n",
    "list1 = [1, 2, 3, 4, 5]\n",
    "print('list1 :',list1)\n",
    "print('list1 :',type(list1))\n",
    "\n",
    "# numpy 의 array 함수의 argument 로 list 를 넣어줌\n",
    "arr1 = np.array(list1)\n",
    "print('arr1 :',arr1)\n",
    "print('arr1 :',type(arr1))\n",
    "# arr1 : (5,)  <-- item 5 개짜리 1 차원 ndarray\n",
    "print('arr1 :',arr1.shape)\n",
    "print('arr1.ndim :',arr1.ndim,'차원 배열')"
   ]
  },
  {
   "cell_type": "code",
   "execution_count": null,
   "id": "3a11eb2e",
   "metadata": {},
   "outputs": [],
   "source": [
    "# 2 차원 list 에서 ndarray 생성하기\n",
    "#  ㄴ 2 차원 ndarray 가 됨\n",
    "list2 = [[1, 2, 3],\n",
    "         [4, 5, 6]]\n",
    "print('list2 :', list2)\n",
    "print('list2 :', type(list2))\n",
    "\n",
    "arr2 = np.array(list2)\n",
    "print('arr2 :')\n",
    "print(arr2)\n",
    "print('arr2 :', type(arr2))\n",
    "print('arr2 :', arr2.shape)\n",
    "print('arr2 :', arr2.ndim,'차원')"
   ]
  },
  {
   "cell_type": "markdown",
   "id": "c08ff27e",
   "metadata": {},
   "source": [
    "### ndarray 의 요소(item, element) 들의 type : dtype"
   ]
  },
  {
   "cell_type": "code",
   "execution_count": null,
   "id": "17590336",
   "metadata": {},
   "outputs": [],
   "source": [
    "print('arr2')\n",
    "print(arr2)\n",
    "print('arr2.dtype :',arr2.dtype)"
   ]
  },
  {
   "cell_type": "code",
   "execution_count": null,
   "id": "13cb96b5",
   "metadata": {},
   "outputs": [],
   "source": [
    "list2 = [1.0, 2.0, 3.0, 4.0, 5.0]\n",
    "arr2  = np.array(list2)\n",
    "print('arr2')\n",
    "print(arr2)\n",
    "print(arr2.shape)\n",
    "print(arr2.dtype)"
   ]
  },
  {
   "cell_type": "code",
   "execution_count": null,
   "id": "d2b8b701",
   "metadata": {},
   "outputs": [],
   "source": [
    "'''\n",
    "int type 과 float type 을 같이 저장하면\n",
    "dtype 은 모두 float type 이 됨\n",
    "'''\n",
    "list3 = [1, 2.0, 3, 4.0, 5]\n",
    "arr3 = np.array(list3)\n",
    "print('arr3')\n",
    "print(arr3)\n",
    "print(arr3.shape)\n",
    "print(arr3.dtype)"
   ]
  },
  {
   "cell_type": "code",
   "execution_count": null,
   "id": "317eb763",
   "metadata": {},
   "outputs": [],
   "source": [
    "'''\n",
    "다른 type 들과 문자열 type(str type) 을 같이 저장하면\n",
    "dtype 이 모두 문자열 type 이 됨\n",
    "'''\n",
    "list4 = [1, 2.0, 3, 4.0, 5, '6', False]\n",
    "arr4 = np.array(list4)\n",
    "print('arr4')\n",
    "print(arr4)\n",
    "print(arr4.shape)\n",
    "print(arr4.dtype)"
   ]
  },
  {
   "cell_type": "code",
   "execution_count": null,
   "id": "25b7f3e2",
   "metadata": {},
   "outputs": [],
   "source": [
    "'''\n",
    "int type 과 bool type 을 같이 저장하면\n",
    "dtype 이 모두 int type 이 됨\n",
    "'''\n",
    "list5 = [1, 2, 3, 4, 5, False]\n",
    "arr5 = np.array(list5)\n",
    "print('arr5')\n",
    "print(arr5)\n",
    "print(arr5.shape)\n",
    "print(arr5.dtype)"
   ]
  },
  {
   "cell_type": "code",
   "execution_count": null,
   "id": "16e69ba3",
   "metadata": {},
   "outputs": [],
   "source": [
    "'''\n",
    "float type 과 bool type 을 같이 저장하면\n",
    "dtype 이 모두 float type 이 됨\n",
    "'''\n",
    "list6 = [1.0, 2.0, 3.0, 4.0, 5.0, False]\n",
    "arr6 = np.array(list6)\n",
    "print('arr6')\n",
    "print(arr6)\n",
    "print(arr6.shape)\n",
    "print(arr6.dtype)"
   ]
  },
  {
   "cell_type": "code",
   "execution_count": null,
   "id": "d8b8ad7c",
   "metadata": {},
   "outputs": [],
   "source": [
    "'''\n",
    "float type 과 int type 과 bool type 을 같이 저장하면\n",
    "dtype 이 모두 float type 이 됨\n",
    "'''\n",
    "list7 = [1.0, 2.0, 3.0, 4.0, 5, False]\n",
    "arr7 = np.array(list7)\n",
    "print('arr7')\n",
    "print(arr7)\n",
    "print(arr7.shape)\n",
    "print(arr7.dtype)"
   ]
  },
  {
   "cell_type": "code",
   "execution_count": null,
   "id": "6e2771f1",
   "metadata": {},
   "outputs": [],
   "source": [
    "'''\n",
    "dtype 변환하기 : ndarray 의 astype() 메소드\n",
    "'''\n",
    "arr_int = np.array([1, 2, 3, 4, 5])\n",
    "print(arr_int.dtype)\n",
    "arr_float = arr_int.astype('float')\n",
    "\n",
    "print(type(arr_float))\n",
    "print(arr_float.dtype)\n",
    "\n",
    "arr_int2 = arr_float.astype('int')\n",
    "print(arr_int2.dtype)"
   ]
  },
  {
   "cell_type": "markdown",
   "id": "fc1d78b3",
   "metadata": {},
   "source": [
    "### Numpy 의 arange(), zeros(), ones() 함수"
   ]
  },
  {
   "cell_type": "code",
   "execution_count": null,
   "id": "7f4304b6",
   "metadata": {},
   "outputs": [],
   "source": [
    "print(list(range(10)))"
   ]
  },
  {
   "cell_type": "code",
   "execution_count": null,
   "id": "df8ebcc9",
   "metadata": {},
   "outputs": [],
   "source": [
    "'''\n",
    "0 부터 9까지 저장된 ndarray 생성하기\n",
    "'''\n",
    "arr1 = np.arange(10)\n",
    "print('arr1')\n",
    "print(arr1)\n",
    "print(arr1.shape)\n",
    "\n",
    "arr1 = np.arange(11, 21)\n",
    "print('arr1')\n",
    "print(arr1)\n",
    "print(arr1.shape)\n",
    "\n",
    "arr1 = np.arange(1, 11, 2)\n",
    "print('arr1')\n",
    "print(arr1)\n",
    "print(arr1.shape)"
   ]
  },
  {
   "cell_type": "code",
   "execution_count": null,
   "id": "cb6f61c3",
   "metadata": {},
   "outputs": [],
   "source": [
    "# zeros() : 요소가 모두 0 인 ndarray 를 생성함\n",
    "# ones()  : 요소가 모두 1 인 ndarray 를 생성함\n",
    "\n",
    "#  dtype='float' 이 기본값\n",
    "#  dtype='int' 로 설정하면 dtype 이 \n",
    "# int 인 ndarray 가 생성됨\n",
    "zeros1 = np.zeros((5,), dtype='float')\n",
    "print('zeros1')\n",
    "print(zeros1)\n",
    "print(zeros1.dtype)\n",
    "print(zeros1.shape)\n",
    "\n",
    "zeros2 = np.zeros((5,), dtype='int')\n",
    "print('zeros2')\n",
    "print(zeros2)\n",
    "print(zeros2.dtype)\n",
    "print(zeros2.shape)\n",
    "\n",
    "zeros3 = np.zeros((5,5), dtype='int')\n",
    "print('zeros3')\n",
    "print(zeros3)\n",
    "print(zeros3.dtype)\n",
    "print(zeros3.shape)"
   ]
  },
  {
   "cell_type": "code",
   "execution_count": null,
   "id": "1c8811cb",
   "metadata": {},
   "outputs": [],
   "source": [
    "'''\n",
    "(3, 2) 의 shape 이면서 모든 원소가 0이고\n",
    "dtype 은 int 인 ndarray 를 생성하세요\n",
    "'''\n",
    "zeros4 = np.zeros((3, 2), dtype='int')\n",
    "print('zeros4')\n",
    "print(zeros4)\n",
    "print(zeros4.dtype)\n",
    "print(zeros4.shape)"
   ]
  },
  {
   "cell_type": "markdown",
   "id": "9265088d",
   "metadata": {},
   "source": [
    "### ndarray 의 차원과 크기 변경하기 - reshape() 메소드"
   ]
  },
  {
   "cell_type": "code",
   "execution_count": null,
   "id": "53a3bc2f",
   "metadata": {},
   "outputs": [],
   "source": [
    "arr1 = np.arange(10)\n",
    "print('arr1')\n",
    "print(arr1)\n",
    "print(arr1.shape)"
   ]
  },
  {
   "cell_type": "code",
   "execution_count": null,
   "id": "596f290b",
   "metadata": {},
   "outputs": [],
   "source": [
    "'''\n",
    "(2, 5) 로 변환하기\n",
    "'''\n",
    "arr2 = arr1.reshape(2, 5)\n",
    "print('arr2')\n",
    "print(arr2)\n",
    "print(arr2.shape)"
   ]
  },
  {
   "cell_type": "code",
   "execution_count": null,
   "id": "90b97e72",
   "metadata": {},
   "outputs": [],
   "source": [
    "'''\n",
    "(5, 2) 로 변환하기\n",
    "'''\n",
    "arr3 = arr1.reshape(5, 2)\n",
    "print('arr3')\n",
    "print(arr3)\n",
    "print(arr3.shape)\n",
    "\n",
    "'''\n",
    "(3, 3) 로 변환하기\n",
    "'''\n",
    "# ValueError: cannot reshape array of size 10 into shape (3,3)\n",
    "# 원래 크기에 맞도록 행과 열을 지정해야 함\n",
    "# arr4 = arr1.reshape(3, 3)"
   ]
  },
  {
   "cell_type": "code",
   "execution_count": null,
   "id": "11e008fe",
   "metadata": {},
   "outputs": [],
   "source": [
    "'''\n",
    "-1 은 상대값이 결정된 이후에\n",
    "원본의 크기에 맞도록 자동으로 결정됨\n",
    "'''\n",
    "arr4 = arr1.reshape(-1, 5)\n",
    "print('arr4')\n",
    "print(arr4)\n",
    "print(arr4.shape)"
   ]
  },
  {
   "cell_type": "code",
   "execution_count": null,
   "id": "5c1bcc52",
   "metadata": {},
   "outputs": [],
   "source": [
    "arr5 = arr1.reshape(5, -1)\n",
    "print('arr5')\n",
    "print(arr5)\n",
    "print(arr5.shape)"
   ]
  },
  {
   "cell_type": "code",
   "execution_count": null,
   "id": "953c29dd",
   "metadata": {},
   "outputs": [],
   "source": [
    "# ValueError: cannot reshape array of size 10 into shape (3,newaxis)\n",
    "# arr6 = arr1.reshape(3, -1)"
   ]
  },
  {
   "cell_type": "code",
   "execution_count": null,
   "id": "df1a3ab9",
   "metadata": {},
   "outputs": [],
   "source": [
    "arr1 = np.arange(8)\n",
    "\n",
    "arr3d = arr1.reshape(2, 2, 2)\n",
    "print('arr3d')\n",
    "print(arr3d)\n",
    "print(arr3d.ndim,'차원')"
   ]
  },
  {
   "cell_type": "code",
   "execution_count": null,
   "id": "1b67b949",
   "metadata": {},
   "outputs": [],
   "source": [
    "'''\n",
    "3 차원 ndarray 를 2 차원 ndarray 로 변환하기\n",
    "단, 컬럼의 개수는 1로 함\n",
    "'''\n",
    "arr2d = arr3d.reshape(-1, 1)\n",
    "print('arr2d')\n",
    "print(arr2d)\n",
    "print(arr2d.shape)"
   ]
  },
  {
   "cell_type": "code",
   "execution_count": null,
   "id": "87575c72",
   "metadata": {},
   "outputs": [],
   "source": [
    "arr2d = arr3d.reshape(1, -1)\n",
    "print('arr2d')\n",
    "print(arr2d)\n",
    "print(arr2d.shape)"
   ]
  },
  {
   "cell_type": "code",
   "execution_count": null,
   "id": "61930b88",
   "metadata": {},
   "outputs": [],
   "source": [
    "'''\n",
    "1 차원 ndarray 를  2 차원 ndarray 로 변환하기\n",
    "'''\n",
    "print(arr1)\n",
    "print(arr1.shape)\n",
    "print('-' * 60)\n",
    "\n",
    "arr2d = arr1.reshape(1, -1)\n",
    "print(arr2d)\n",
    "print(arr2d.shape)\n",
    "print('-' * 60)\n",
    "\n",
    "arr2d = arr1.reshape(-1, 1)\n",
    "print(arr2d)\n",
    "print(arr2d.shape)\n",
    "print('-' * 60)"
   ]
  },
  {
   "cell_type": "code",
   "execution_count": null,
   "id": "27736db7",
   "metadata": {},
   "outputs": [],
   "source": []
  },
  {
   "cell_type": "code",
   "execution_count": null,
   "id": "0e15ccb8",
   "metadata": {},
   "outputs": [],
   "source": []
  },
  {
   "cell_type": "code",
   "execution_count": null,
   "id": "8d0efcda",
   "metadata": {},
   "outputs": [],
   "source": []
  },
  {
   "cell_type": "code",
   "execution_count": null,
   "id": "54e7002e",
   "metadata": {},
   "outputs": [],
   "source": []
  },
  {
   "cell_type": "code",
   "execution_count": null,
   "id": "95ad99dd",
   "metadata": {},
   "outputs": [],
   "source": []
  },
  {
   "cell_type": "code",
   "execution_count": null,
   "id": "b16f24e8",
   "metadata": {},
   "outputs": [],
   "source": []
  }
 ],
 "metadata": {
  "kernelspec": {
   "display_name": "Python 3 (ipykernel)",
   "language": "python",
   "name": "python3"
  },
  "language_info": {
   "codemirror_mode": {
    "name": "ipython",
    "version": 3
   },
   "file_extension": ".py",
   "mimetype": "text/x-python",
   "name": "python",
   "nbconvert_exporter": "python",
   "pygments_lexer": "ipython3",
   "version": "3.9.12"
  }
 },
 "nbformat": 4,
 "nbformat_minor": 5
}

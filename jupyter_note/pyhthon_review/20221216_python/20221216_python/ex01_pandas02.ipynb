{
 "cells": [
  {
   "cell_type": "code",
   "execution_count": null,
   "id": "628fa539",
   "metadata": {},
   "outputs": [],
   "source": [
    "import pandas as pd\n",
    "import numpy as np\n",
    "import warnings\n",
    "warnings.filterwarnings('ignore')"
   ]
  },
  {
   "cell_type": "code",
   "execution_count": null,
   "id": "9f3eca15",
   "metadata": {},
   "outputs": [],
   "source": [
    "titanic_df = pd.read_csv('titanic_train.csv')"
   ]
  },
  {
   "cell_type": "code",
   "execution_count": null,
   "id": "b1b3105f",
   "metadata": {},
   "outputs": [],
   "source": [
    "print(type(titanic_df))\n",
    "print(titanic_df.shape)\n",
    "print(titanic_df.shape[0])"
   ]
  },
  {
   "cell_type": "code",
   "execution_count": null,
   "id": "b455d369",
   "metadata": {},
   "outputs": [],
   "source": [
    "titanic_df.columns"
   ]
  },
  {
   "cell_type": "code",
   "execution_count": null,
   "id": "f909bd03",
   "metadata": {},
   "outputs": [],
   "source": [
    "'''\n",
    "titanic_df 의 컬럼 중 Age 컬럼을 사용해서\n",
    "titanic_df 에 Age_by_20 이라는 컬럼 추가하기\n",
    "\n",
    "DataFrame 에 컬럼을 추가하는 것은\n",
    "Dictionary 에 item 추가하는 것과 비슷함\n",
    "데이터프레임이름[추가할컬럼이름] = 값\n",
    "'''\n",
    "# Age 컬럼에 20 을 곱해서 Age_by_20 컬럼 생성하기\n",
    "titanic_df['Age_by_20'] = titanic_df['Age'] * 20\n",
    "# 맨 뒤에 Age_by_20 이라는 컬럼이 추가되고\n",
    "# 값들은 Age 컬럼의 값들에 20 을 곱한 값들이 저장됨\n",
    "titanic_df.head(10)"
   ]
  },
  {
   "cell_type": "code",
   "execution_count": null,
   "id": "f73d3dfb",
   "metadata": {},
   "outputs": [],
   "source": [
    "'''\n",
    "Age_0 이라는 이름의 컬럼 추가하기\n",
    "Age_0 컬럼의 모든 값들은 0 으로 함\n",
    "'''\n",
    "titanic_df['Age_0'] = 0\n",
    "titanic_df.head(10)"
   ]
  },
  {
   "cell_type": "code",
   "execution_count": null,
   "id": "7025e538",
   "metadata": {},
   "outputs": [],
   "source": [
    "'''\n",
    "파생변수 만들기 - 여기서 변수는 컬럼을 의미함\n",
    "  변수, 컬럼, feature 모두 (90%)같은 의미임\n",
    "  파생변수란, 기존의 변수(컬럼)들을 이용해서 만들어진 \n",
    "  새로운 컬럼(변수)을 의미함\n",
    "'''\n",
    "# SibSp 컬럼과 Parch 컬럼의 인원수를 합해서\n",
    "# Family_No 이라는 컬럼 생성하기 \n",
    "# SibSp 컬럼과 Parch 컬럼의 인원수에는 \n",
    "# 자기자신은 포함되지 않았으므로 1을 더해 줌\n",
    "titanic_df['Family_No'] = titanic_df['SibSp'] + titanic_df['Parch'] + 1\n",
    "titanic_df.head(10)"
   ]
  },
  {
   "cell_type": "code",
   "execution_count": null,
   "id": "7084233f",
   "metadata": {},
   "outputs": [],
   "source": [
    "'''\n",
    "Age_by_20 컬럼의 값들을 100 증가시키고 \n",
    "titanic_df 를 상위 10 개의 row 를 출력하세요\n",
    "\n",
    "DataFrame 에 컬럼을 추가하는 것은\n",
    "Dictionary 에 item 추가하는 것과 비슷함\n",
    "데이터프레임이름[추가할컬럼이름] = 값\n",
    " ㄴ 이때, 추가할컬럼이름이 이미 있는 컬럼이면\n",
    "    컬럼이 새로 추가되지 않고 값들만 갱신됨\n",
    "'''\n",
    "titanic_df['Age_by_20'] = titanic_df['Age_by_20'] + 100\n",
    "titanic_df.head(10)"
   ]
  },
  {
   "cell_type": "code",
   "execution_count": null,
   "id": "8853ac86",
   "metadata": {},
   "outputs": [],
   "source": [
    "'''\n",
    "DataFrame 에서 data 삭제하기\n",
    "- axis 를 설정해서 row 방향으로 삭제할지 column 방향으로 삭제할지 정해 줌\n",
    "- axis=0 이면 row 를 삭제함\n",
    "- axis=1 이면 column 을 삭제함\n",
    "'''\n",
    "# Age_0 컬럼 삭제하기\n",
    "# inplace=False 가 default 값\n",
    "#   ㄴ 원본에서는 Age_0 컬럼이 삭제되지 않고\n",
    "#      Age_0 컬럼이 삭제된 새로운 DataFrame 을 생성하고 반환함\n",
    "# inplace=True 로 하면 원본 DataFrame 에서 Age_0 컬럼이 삭제됨\n",
    "titanic_df_drop_column = titanic_df.drop('Age_0', axis=1, inplace=False)\n",
    "titanic_df_drop_column.head()"
   ]
  },
  {
   "cell_type": "code",
   "execution_count": null,
   "id": "3b6a176e",
   "metadata": {},
   "outputs": [],
   "source": [
    "# inplace=False 로 설정했으므로\n",
    "# 원본에서는 Age_0 컬럼이 남아있음\n",
    "titanic_df.head()"
   ]
  },
  {
   "cell_type": "code",
   "execution_count": null,
   "id": "e83670c8",
   "metadata": {},
   "outputs": [],
   "source": [
    "'''\n",
    "axis=0 으로 삭제하기 - row 를 삭제함\n",
    "'''\n",
    "print('axis=0 으로 삭제하기 전 : 0 ~ 4 row 가 남아있음')\n",
    "display(titanic_df.head())\n",
    "# drop([0, 1, 2]) <-- index 번호 0, 1, 2 번째 row 를 삭제한다는 의미\n",
    "titanic_df_012_drop = titanic_df.drop([0, 1, 2], axis=0, inplace=False)\n",
    "print('axis=0 으로 삭제한 후 : 0 ~ 4 row 가 삭제됨')\n",
    "display(titanic_df_012_drop.head())\n",
    "print('원본에는 그대로 남아있음')\n",
    "display(titanic_df.head())"
   ]
  },
  {
   "cell_type": "code",
   "execution_count": null,
   "id": "6150464e",
   "metadata": {},
   "outputs": [],
   "source": []
  },
  {
   "cell_type": "code",
   "execution_count": null,
   "id": "a6e92220",
   "metadata": {},
   "outputs": [],
   "source": []
  },
  {
   "cell_type": "code",
   "execution_count": null,
   "id": "3378e414",
   "metadata": {},
   "outputs": [],
   "source": []
  }
 ],
 "metadata": {
  "kernelspec": {
   "display_name": "Python 3 (ipykernel)",
   "language": "python",
   "name": "python3"
  },
  "language_info": {
   "codemirror_mode": {
    "name": "ipython",
    "version": 3
   },
   "file_extension": ".py",
   "mimetype": "text/x-python",
   "name": "python",
   "nbconvert_exporter": "python",
   "pygments_lexer": "ipython3",
   "version": "3.9.12"
  }
 },
 "nbformat": 4,
 "nbformat_minor": 5
}

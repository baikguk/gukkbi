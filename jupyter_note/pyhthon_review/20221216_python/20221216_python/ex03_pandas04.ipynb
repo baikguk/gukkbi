{
 "cells": [
  {
   "cell_type": "code",
   "execution_count": null,
   "id": "c8809b53",
   "metadata": {
    "scrolled": true
   },
   "outputs": [],
   "source": [
    "import pandas as pd\n",
    "import numpy as np\n",
    "import warnings\n",
    "warnings.filterwarnings('ignore')"
   ]
  },
  {
   "cell_type": "code",
   "execution_count": null,
   "id": "ed0149de",
   "metadata": {
    "scrolled": true
   },
   "outputs": [],
   "source": [
    "titanic_df = pd.read_csv('titanic_train.csv')\n",
    "titanic_df.shape"
   ]
  },
  {
   "cell_type": "code",
   "execution_count": null,
   "id": "fb9487b3",
   "metadata": {
    "scrolled": true
   },
   "outputs": [],
   "source": [
    "'''\n",
    "boolean indexing\n",
    "'''\n",
    "# 나이가 60을 초과한 사람들의 \n",
    "# 나이와 이름을 출력하세요 (상위 6 명만)\n",
    "# 데이터프레임[조건][[컬럼1, 컬럼2]]\n",
    "titanic_df[titanic_df['Age'] > 60][['Age', 'Name']].head(6)\n",
    "condition1 = titanic_df['Age'] > 60\n",
    "titanic_df[condition1][['Age', 'Name']].head(6)\n",
    "titanic_df[condition1][['Age', 'Name']].iloc[:6]\n",
    "titanic_df[condition1][['Age', 'Name']].iloc[6]\n",
    "titanic_df[condition1][['Age', 'Name']][:6]\n",
    "# titanic_df[condition1][['Age', 'Name']][6]"
   ]
  },
  {
   "cell_type": "code",
   "execution_count": null,
   "id": "fe5e5859",
   "metadata": {
    "scrolled": true
   },
   "outputs": [],
   "source": [
    "'''\n",
    "boolean indexing 결과 DataFrame 의 index 번호를 0 1 2 ... 로 변경하기\n",
    "'''\n",
    "titanic_df[titanic_df['Age'] > 60][['Age', 'Name']].reset_index(drop=True).head(6)"
   ]
  },
  {
   "cell_type": "code",
   "execution_count": null,
   "id": "1d8355d7",
   "metadata": {
    "scrolled": true
   },
   "outputs": [],
   "source": [
    "'''\n",
    "데이터프레임[조건][[컬럼1, 컬럼2]]\n",
    "\n",
    "나이가 60을 초과하고 1 등 개실 승객이고\n",
    "성별은 여성인 승객의\n",
    "Age, Pcalss, Sex 를 출력하세요\n",
    "'''\n",
    "condition1 = titanic_df['Age'] > 60\n",
    "condition2 = titanic_df['Pclass'] == 1\n",
    "condition3 = titanic_df['Sex'] == 'female'\n",
    "titanic_df[condition1 & condition2 & condition3][['Age', 'Pclass', 'Sex']]"
   ]
  },
  {
   "cell_type": "code",
   "execution_count": null,
   "id": "ec12110a",
   "metadata": {
    "scrolled": true
   },
   "outputs": [],
   "source": [
    "titanic_df[condition1 & condition2 & condition3][['Name', 'Age', 'Pclass', 'Sex']].reset_index(drop=True)"
   ]
  },
  {
   "cell_type": "code",
   "execution_count": null,
   "id": "0240a4ac",
   "metadata": {
    "scrolled": true
   },
   "outputs": [],
   "source": [
    "'''\n",
    "sort_values() : Series 와 DataFrame 을 정렬하는 메소드\n",
    "\n",
    "Name 컬럼을 기준으로 정렬하기  \n",
    "  ㄴ sort_values(by=['Name'])\n",
    "  ㄴ sort_values('Name')\n",
    "  \n",
    "정렬의 기본값은 오름차순임\n",
    "  ㄴ ascending 파라미터의 기본값이 True 임\n",
    "     ascending=False 로 설정하면 내림차순이 됨\n",
    "'''\n",
    "titanic_sort_by_name = titanic_df.sort_values(by=['Name'])\n",
    "titanic_sort_by_name.head(6)"
   ]
  },
  {
   "cell_type": "code",
   "execution_count": null,
   "id": "ffc93e03",
   "metadata": {
    "scrolled": true
   },
   "outputs": [],
   "source": [
    "titanic_sort_by_name = titanic_df.sort_values(['Name'])\n",
    "titanic_sort_by_name.head(6)"
   ]
  },
  {
   "cell_type": "code",
   "execution_count": null,
   "id": "3ef98e33",
   "metadata": {
    "scrolled": true
   },
   "outputs": [],
   "source": [
    "titanic_sort_by_name = titanic_df.sort_values('Name')\n",
    "titanic_sort_by_name.head(6)"
   ]
  },
  {
   "cell_type": "code",
   "execution_count": null,
   "id": "de8aeb3b",
   "metadata": {
    "scrolled": true
   },
   "outputs": [],
   "source": [
    "'''\n",
    "Pclass 컬럼과 Name 컬럼을 기준으로 내림차순 정렬하기\n",
    "'''\n",
    "titanic_df_sort_pclass_name = \\\n",
    "  titanic_df.sort_values(by=['Pclass', 'Name'], ascending=False)\n",
    "titanic_df_sort_pclass_name.head(6)"
   ]
  },
  {
   "cell_type": "code",
   "execution_count": null,
   "id": "12450e07",
   "metadata": {
    "scrolled": true
   },
   "outputs": [],
   "source": [
    "'''\n",
    "집계함수(그룹함수) : aggregation function\n",
    "'''\n",
    "titanic_df.shape[0]"
   ]
  },
  {
   "cell_type": "code",
   "execution_count": null,
   "id": "791dcf21",
   "metadata": {
    "scrolled": true
   },
   "outputs": [],
   "source": [
    "titanic_df.count()"
   ]
  },
  {
   "cell_type": "code",
   "execution_count": null,
   "id": "f80a87ea",
   "metadata": {
    "scrolled": true
   },
   "outputs": [],
   "source": [
    "titanic_df.info()"
   ]
  },
  {
   "cell_type": "code",
   "execution_count": null,
   "id": "51ce1c13",
   "metadata": {
    "scrolled": true
   },
   "outputs": [],
   "source": [
    "'''\n",
    "특정 컬럼을 대상으로 집계함수 실행하기\n",
    "'''\n",
    "# Age 와 Fare 각각의 평균값 조회하기\n",
    "print(titanic_df[['Age', 'Fare']].mean())\n",
    "print('-' * 70)\n",
    "\n",
    "# Age 와 Fare 각각의 합계 조회하기\n",
    "print(titanic_df[['Age', 'Fare']].sum())\n",
    "print('-' * 70)\n",
    "\n",
    "# Age 와 Fare 각각의 건수 조회하기\n",
    "print(titanic_df[['Age', 'Fare']].count())"
   ]
  },
  {
   "cell_type": "code",
   "execution_count": null,
   "id": "69d1d34e",
   "metadata": {
    "scrolled": true
   },
   "outputs": [],
   "source": [
    "'''\n",
    "groupby() 메소드\n",
    "  ㄴ groupby(by=그룹핑할컬럼이름)\n",
    "'''\n",
    "titanic_pclass = titanic_df.groupby(by='Pclass')\n",
    "print(type(titanic_pclass))\n",
    "print(titanic_pclass)\n",
    "print(titanic_pclass[['Age', 'Fare']])\n",
    "print(type(titanic_pclass[['Age', 'Fare']].count()))"
   ]
  },
  {
   "cell_type": "code",
   "execution_count": null,
   "id": "0b7be441",
   "metadata": {
    "scrolled": true
   },
   "outputs": [],
   "source": [
    "display(titanic_pclass[['Age', 'Fare']].count())\n",
    "print('-' * 70)\n",
    "print(titanic_pclass['Age'].count())\n",
    "print('-' * 70)\n",
    "print(titanic_pclass['Fare'].count())"
   ]
  },
  {
   "cell_type": "code",
   "execution_count": null,
   "id": "96a9bf27",
   "metadata": {
    "scrolled": true
   },
   "outputs": [],
   "source": [
    "# titanic_df 이 모든 컬럼값을 Pclass 를 기준으로 그룹핑해서 조회함\n",
    "titanic_groupby_pclass = titanic_df.groupby('Pclass').count()\n",
    "titanic_groupby_pclass"
   ]
  },
  {
   "cell_type": "code",
   "execution_count": null,
   "id": "d2741b34",
   "metadata": {
    "scrolled": true
   },
   "outputs": [],
   "source": [
    "# Pclass 별  최고 나이 (max age)\n",
    "print(titanic_df.groupby('Pclass')['Age'].max())"
   ]
  },
  {
   "cell_type": "code",
   "execution_count": null,
   "id": "a31a7589",
   "metadata": {
    "scrolled": true
   },
   "outputs": [],
   "source": [
    "# Pclass 별  최소 나이 (min age)\n",
    "print(titanic_df.groupby('Pclass')['Age'].min())"
   ]
  },
  {
   "cell_type": "code",
   "execution_count": null,
   "id": "be4187c2",
   "metadata": {},
   "outputs": [],
   "source": [
    "# Pclass 별  최고 나이 (max age) 와 최소 나이 (min age) 한꺼번에 조회하기\n",
    "# 결과의 column이 두 개 이상이 되므로 DataFrame이 됨\n",
    "display(titanic_df.groupby('Pclass')['Age'].aggregate([max, min]))"
   ]
  },
  {
   "cell_type": "code",
   "execution_count": null,
   "id": "358e8649",
   "metadata": {},
   "outputs": [],
   "source": [
    "# aggregate() 함수 이름을 agg 로 작성해도 됨\n",
    "display(titanic_df.groupby('Pclass')['Age'].agg([max, min]))"
   ]
  },
  {
   "cell_type": "code",
   "execution_count": null,
   "id": "c99ea426",
   "metadata": {},
   "outputs": [],
   "source": [
    "# Pclass 별로 최고나이, 형제(자매)나 배우자 인원수의 합계, 평균 운임 조회하기\n",
    "display(titanic_df.groupby('Pclass').agg({'Age':'max', 'SibSp':'sum', 'Fare':'mean'}))"
   ]
  },
  {
   "cell_type": "code",
   "execution_count": null,
   "id": "1372a22b",
   "metadata": {},
   "outputs": [],
   "source": [
    "# 위의 dictionary 를 변수에 연결(할당)한 후 변수를 사용해도 됨\n",
    "# dictionary 의 key 는 컬럼명으로 하고\n",
    "# value 는 집계함수이름으로 작성함\n",
    "agg_format = {'Age':'max', 'SibSp':'sum', 'Fare':'mean'}\n",
    "display(titanic_df.groupby('Pclass').agg(agg_format))"
   ]
  },
  {
   "cell_type": "code",
   "execution_count": null,
   "id": "018a630f",
   "metadata": {},
   "outputs": [],
   "source": [
    "'''\n",
    "dictionary 에서 key 값으로 컬럼이름을 지정할 수 있는데\n",
    "중복되게 지정한 경우, 뒤에 지정한 집계함수만 적용됨\n",
    "아래의 code 에서는 'Age':'max', 'Age':'mean' 순으로 지정되어\n",
    "뒤에 지장한 mean() 집계함수만 적용됨\n",
    "'''\n",
    "agg_format = {'Age':'max', 'Age':'mean', 'Fare':'mean'}\n",
    "display(titanic_df.groupby('Pclass').agg(agg_format))"
   ]
  },
  {
   "cell_type": "code",
   "execution_count": null,
   "id": "e5201419",
   "metadata": {},
   "outputs": [],
   "source": [
    "'''\n",
    "출력되는 컬럼이름을 달리하여 \n",
    "같은 컬럼에 두 개 이상의 집계함수를 적용할 수 있음\n",
    "'''\n",
    "display(titanic_df.groupby('Pclass').agg(age_max=('Age', 'max'),\n",
    "                                         age_mean=('Age', 'mean'),\n",
    "                                         fare_mean=('Fare', 'mean')))"
   ]
  },
  {
   "cell_type": "code",
   "execution_count": null,
   "id": "a445ac92",
   "metadata": {},
   "outputs": [],
   "source": [
    "'''\n",
    "아래와 같이 해도 위의 결과와 같게 출력됨\n",
    "'''\n",
    "titanic_df.groupby('Pclass').agg(\n",
    "            age_max=pd.NamedAgg(column='Age', aggfunc='max'),\n",
    "            age_mean=pd.NamedAgg(column='Age', aggfunc='mean'),\n",
    "            fare_mean=pd.NamedAgg(column='Fare', aggfunc='mean')\n",
    "       )"
   ]
  },
  {
   "cell_type": "code",
   "execution_count": null,
   "id": "0a50db3a",
   "metadata": {},
   "outputs": [],
   "source": [
    "'''\n",
    "결측치 처리하기 - Null, NaN, Na (null, nan, na) \n",
    "                     ㄴ 모두 결측치를 의미하는 키워드들임\n",
    "                     \n",
    "DataFrame 의 isna() 메소드 : 결측치이면 True, 아니면 False 를 반환함\n",
    "'''\n",
    "# 결측치가 있는 칸은 True , 아닌 칸은 False 로 출력됨\n",
    "titanic_df.isna().head(6)"
   ]
  },
  {
   "cell_type": "code",
   "execution_count": null,
   "id": "4f4f7745",
   "metadata": {},
   "outputs": [],
   "source": [
    "# 각 컬럼에서 결측치들의 개수를 컬럼별로 반환함\n",
    "titanic_df.isna().sum()"
   ]
  },
  {
   "cell_type": "code",
   "execution_count": null,
   "id": "38a18f43",
   "metadata": {},
   "outputs": [],
   "source": [
    "# 각 컬럼에서 결측치가 아닌 것들의 개수를 컬럼별로 반환함\n",
    "titanic_df.count()"
   ]
  },
  {
   "cell_type": "code",
   "execution_count": null,
   "id": "2e281603",
   "metadata": {},
   "outputs": [],
   "source": [
    "# 각 컬럼에서 unique 한 값들의 개수를 반환함\n",
    "titanic_df.nunique()"
   ]
  },
  {
   "cell_type": "code",
   "execution_count": null,
   "id": "9d414d4f",
   "metadata": {},
   "outputs": [],
   "source": []
  }
 ],
 "metadata": {
  "kernelspec": {
   "display_name": "Python 3 (ipykernel)",
   "language": "python",
   "name": "python3"
  },
  "language_info": {
   "codemirror_mode": {
    "name": "ipython",
    "version": 3
   },
   "file_extension": ".py",
   "mimetype": "text/x-python",
   "name": "python",
   "nbconvert_exporter": "python",
   "pygments_lexer": "ipython3",
   "version": "3.9.12"
  }
 },
 "nbformat": 4,
 "nbformat_minor": 5
}

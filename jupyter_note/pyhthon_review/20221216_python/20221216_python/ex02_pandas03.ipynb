{
 "cells": [
  {
   "cell_type": "code",
   "execution_count": null,
   "id": "33e1a3bf",
   "metadata": {},
   "outputs": [],
   "source": [
    "import pandas as pd\n",
    "import numpy as np\n",
    "import warnings\n",
    "warnings.filterwarnings('ignore')"
   ]
  },
  {
   "cell_type": "code",
   "execution_count": null,
   "id": "b75daf37",
   "metadata": {},
   "outputs": [],
   "source": [
    "'''\n",
    "DataFrame 의 index\n",
    "'''\n",
    "titanic_df = pd.read_csv('titanic_train.csv')\n",
    "titanic_df.shape\n",
    "titanic_df.shape[0]"
   ]
  },
  {
   "cell_type": "code",
   "execution_count": null,
   "id": "d8ebbdcd",
   "metadata": {},
   "outputs": [],
   "source": [
    "titanic_df.head()"
   ]
  },
  {
   "cell_type": "code",
   "execution_count": null,
   "id": "f8f2b839",
   "metadata": {},
   "outputs": [],
   "source": [
    "titanic_df.columns"
   ]
  },
  {
   "cell_type": "code",
   "execution_count": null,
   "id": "fd23033b",
   "metadata": {},
   "outputs": [],
   "source": [
    "titanic_df.columns.values"
   ]
  },
  {
   "cell_type": "code",
   "execution_count": null,
   "id": "5682e7b0",
   "metadata": {},
   "outputs": [],
   "source": [
    "titanic_df.index"
   ]
  },
  {
   "cell_type": "code",
   "execution_count": null,
   "id": "2e97dbf9",
   "metadata": {},
   "outputs": [],
   "source": [
    "titanic_df.index.values"
   ]
  },
  {
   "cell_type": "code",
   "execution_count": null,
   "id": "8a1db2cb",
   "metadata": {},
   "outputs": [],
   "source": [
    "'''\n",
    "titanic_df.index.values 의 type 은 ndarray 임\n",
    "'''\n",
    "type(titanic_df.index.values)"
   ]
  },
  {
   "cell_type": "code",
   "execution_count": null,
   "id": "6637d5bd",
   "metadata": {},
   "outputs": [],
   "source": [
    "indexes = titanic_df.index\n",
    "print('type(indexes) :',type(indexes))\n",
    "print('type(indexes.values) :',type(indexes.values))\n",
    "print('indexes.values.shape :',indexes.values.shape)\n",
    "print('indexes[:5] :',indexes[:5])\n",
    "print('indexes[:5].values :',indexes[:5].values)\n",
    "print('indexes.values[:5] :',indexes.values[:5])\n",
    "print('indexes[6] :',indexes[6])\n",
    "print('indexes.values :')\n",
    "print(indexes.values)"
   ]
  },
  {
   "cell_type": "code",
   "execution_count": null,
   "id": "055a958a",
   "metadata": {},
   "outputs": [],
   "source": [
    "'''\n",
    "DataFrame 에서 컬럼 하나만 추출하면 \n",
    "Series type 으로 되어 일차원 구조가 됨\n",
    "'''\n",
    "fare_sr = titanic_df['Fare']\n",
    "print(type(fare_sr))\n",
    "fare_sr"
   ]
  },
  {
   "cell_type": "code",
   "execution_count": null,
   "id": "c2da5f04",
   "metadata": {},
   "outputs": [],
   "source": [
    "'''\n",
    "DataFrame 에서 컬럼 하나만 추출할 때 [] 를 이중으로 사용하면\n",
    "DataFrame type 으로 되어 이차원 구조를 유지함\n",
    "'''\n",
    "fare_df = titanic_df[['Fare']]\n",
    "print(type(fare_df))\n",
    "display(fare_df)"
   ]
  },
  {
   "cell_type": "code",
   "execution_count": null,
   "id": "e9660fe9",
   "metadata": {},
   "outputs": [],
   "source": [
    "'''\n",
    "운임 중에서 최대요금, 최소요금, 운임의 합계 구해보기\n",
    "'''\n",
    "print('최대요금 :',fare_sr.max())\n",
    "print('최소요금 :',fare_sr.min())\n",
    "print('운임합계 :',fare_sr.sum())"
   ]
  },
  {
   "cell_type": "code",
   "execution_count": null,
   "id": "15080d9f",
   "metadata": {},
   "outputs": [],
   "source": [
    "print('원본 :')\n",
    "print(fare_sr)\n",
    "print('-' * 60)\n",
    "\n",
    "# 원본인 fare_sr 는 변형하지 않고\n",
    "# 원본 컬럼값에 10을 더한 새로운 Series 를 생성함\n",
    "fare_sr_add10 = fare_sr + 10\n",
    "print('fare_sr_add10')\n",
    "print(fare_sr_add10)\n",
    "print('-' * 60)\n",
    "\n",
    "print('원본 :')\n",
    "print(fare_sr)"
   ]
  },
  {
   "cell_type": "code",
   "execution_count": null,
   "id": "aac977a5",
   "metadata": {},
   "outputs": [],
   "source": [
    "'''\n",
    "DataFrame 의 reset_index() 메소드 : \n",
    "  왼쪽 옆에 있던 index 를 컬럼으로 올림\n",
    "  이 컬럼의 이름은 자동으로 index 로 됨\n",
    "'''\n",
    "titanic_df_reset_index = titanic_df.reset_index()\n",
    "titanic_df_reset_index.head()"
   ]
  },
  {
   "cell_type": "code",
   "execution_count": null,
   "id": "5e78d247",
   "metadata": {},
   "outputs": [],
   "source": [
    "'''\n",
    "원본은 변형되지 않음\n",
    "'''\n",
    "titanic_df.head()"
   ]
  },
  {
   "cell_type": "code",
   "execution_count": null,
   "id": "7a807ac6",
   "metadata": {},
   "outputs": [],
   "source": [
    "'''\n",
    "value_counts() 메소드 : 해당 컬럼의 unique 값들의 중복 개수를 반환함\n",
    "\n",
    "3    491  - 3 등 객실 승객 491 명\n",
    "1    216  - 1 등 객실 승객 216 명\n",
    "2    184  - 2 등 객실 승객 184 명\n",
    "\n",
    "'''\n",
    "titanic_df['Pclass'].value_counts()"
   ]
  },
  {
   "cell_type": "code",
   "execution_count": null,
   "id": "1dd6675d",
   "metadata": {},
   "outputs": [],
   "source": [
    "'''\n",
    "nunique() 메소드 : 해당 컬럼에서 unique 값이 몇 개 있는지 반환함\n",
    "'''\n",
    "titanic_df['Pclass'].nunique()"
   ]
  },
  {
   "cell_type": "code",
   "execution_count": null,
   "id": "c9b81c9d",
   "metadata": {},
   "outputs": [],
   "source": [
    "'''\n",
    "value_counts() 반환값의 type - Series\n",
    "'''\n",
    "print(titanic_df['Pclass'].value_counts())\n",
    "print(type(titanic_df['Pclass'].value_counts()))\n",
    "print(titanic_df['Pclass'].value_counts().shape)\n",
    "print(titanic_df['Pclass'].value_counts().index)"
   ]
  },
  {
   "cell_type": "code",
   "execution_count": null,
   "id": "151790c2",
   "metadata": {},
   "outputs": [],
   "source": [
    "'''\n",
    "value_counts() 의 결과는 값 내림차순으로 나오기에\n",
    "3    491\n",
    "1    216\n",
    "2    184\n",
    "이러한 형태가 됨\n",
    "현재 index 는 3 2 1 인데 이것을 0 1 2 로 바꾸기\n",
    "'''\n",
    "value_counts = titanic_df['Pclass'].value_counts()\n",
    "\n",
    "# Series 에서 reset_index() 로 하면\n",
    "# column 이 두 개로 되어서 자동으로 DataFrame type 으로 됨\n",
    "value_counts_df = value_counts.reset_index()\n",
    "\n",
    "# index 라는 이름의 column 을 삭제함\n",
    "value_counts = value_counts_df.drop('index', axis=1)\n",
    "\n",
    "# Pclass 컬럼을 추출함 --> Series 로 됨\n",
    "value_counts = value_counts['Pclass']\n",
    "\n",
    "# value_counts 의 index 를 3 1 2 에서  0 1 2 로 변경함\n",
    "value_counts"
   ]
  },
  {
   "cell_type": "code",
   "execution_count": null,
   "id": "432f0e3c",
   "metadata": {},
   "outputs": [],
   "source": [
    "'''\n",
    "value_counts() 의 index 를 3 1 2 에서 0 1 2 로 바꾸기 - 2\n",
    "\n",
    "reset_index() 메소드를 실행하면서 \n",
    "drop 파라미터를 True 로 설정하면\n",
    "index 라는 컬럼이 생성되지 않고\n",
    "기존의 index 만 삭제됨\n",
    "기존의 index 는 삭제되고 \n",
    "0 1 2 3 으로 시작되는 새로운 index 가 생김\n",
    "'''\n",
    "value_counts = titanic_df['Pclass'].value_counts()\n",
    "print('reset_index(drop=True) 실행 전')\n",
    "print(value_counts)\n",
    "print('-' * 60)\n",
    "\n",
    "value_counts = value_counts.reset_index(drop=True)\n",
    "print('reset_index(drop=True) 실행 후')\n",
    "print(value_counts)"
   ]
  },
  {
   "cell_type": "code",
   "execution_count": null,
   "id": "37f919d7",
   "metadata": {},
   "outputs": [],
   "source": [
    "'''\n",
    "DataFrame 의 컬럼명 변경하기\n",
    "  ㄴ rename() 메소드\n",
    "     columns 파라미터에 dictionary 형태로\n",
    "     기존컬럼명을 key 로 하고, 새로운컬럼명을 value 로 지정함\n",
    "'''\n",
    "value_counts = titanic_df['Pclass'].value_counts().reset_index()\n",
    "display(value_counts)\n",
    "value_counts = \\\n",
    "  value_counts.rename(columns={'index':'Pclass', 'Pclass':'Pclass_Count'})\n",
    "display(value_counts)"
   ]
  },
  {
   "cell_type": "code",
   "execution_count": null,
   "id": "4b90656d",
   "metadata": {},
   "outputs": [],
   "source": [
    "'''\n",
    "DataFrame 의 [ ] 연산자 (index 연산자)\n",
    "'''\n",
    "\n",
    "# titanic_df 에서 상위 3 개의 row 만 조회하기\n",
    "display(titanic_df.head(3))\n",
    "\n",
    "# slicing 하기\n",
    "display(titanic_df[:3])"
   ]
  },
  {
   "cell_type": "code",
   "execution_count": null,
   "id": "b21369da",
   "metadata": {
    "scrolled": true
   },
   "outputs": [],
   "source": [
    "# KeyError: 4  - indexing 은 바로 안 됨\n",
    "# display(titanic_df[4])\n",
    "# 한 row (행) 만 추출하면 Series 가 됨\n",
    "# iloc[] 연산자를 사용해서 indexing 해야 됨\n",
    "display(titanic_df.iloc[4])"
   ]
  },
  {
   "cell_type": "code",
   "execution_count": null,
   "id": "72363297",
   "metadata": {},
   "outputs": [],
   "source": [
    "'''\n",
    "DataFrame 에서 boolean indexing 하기\n",
    "'''\n",
    "# Pclass 가 3 인 (3등 객실인) 승객들의 정보만 조회하세요\n",
    "# 처음 4 명만....\n",
    "titanic_df[titanic_df['Pclass'] == 3][:4]"
   ]
  },
  {
   "cell_type": "code",
   "execution_count": null,
   "id": "3a9b583e",
   "metadata": {},
   "outputs": [],
   "source": [
    "titanic_df[titanic_df['Pclass'] == 3].head(4)"
   ]
  },
  {
   "cell_type": "code",
   "execution_count": null,
   "id": "d0f22316",
   "metadata": {},
   "outputs": [],
   "source": [
    "'''\n",
    "iloc[] 연산자 : 위치기반 slicing OR indexing\n",
    "'''\n",
    "dict1 = {\n",
    "    'name' : ['이순신','유관순','양만춘','장보고'],\n",
    "    'year' : [2011, 2016, 2015, 2015],\n",
    "    'gender' : ['male', 'female', 'male', 'male']\n",
    "}\n",
    "\n",
    "# pretty print 모듈 import\n",
    "#  ㄴ dictionary 출력할 때 보기 편하게 출력함\n",
    "import pprint\n",
    "pprint.pprint(dict1)"
   ]
  },
  {
   "cell_type": "code",
   "execution_count": null,
   "id": "7a969324",
   "metadata": {},
   "outputs": [],
   "source": [
    "# index 에 이름 지정하기 : 'one', 'two', 'three', 'four'\n",
    "dict1_df = pd.DataFrame(dict1, index=['one', 'two', 'three', 'four'])\n",
    "display(dict1_df)"
   ]
  },
  {
   "cell_type": "code",
   "execution_count": null,
   "id": "91465cce",
   "metadata": {},
   "outputs": [],
   "source": [
    "'''\n",
    "2014 년도 지나서 출생한 사람들만 출력하기\n",
    "  ㄴ boolean indexing\n",
    "'''\n",
    "dict1_df[dict1_df['year'] > 2014]"
   ]
  },
  {
   "cell_type": "code",
   "execution_count": null,
   "id": "8b7f4796",
   "metadata": {
    "scrolled": true
   },
   "outputs": [],
   "source": [
    "display(dict1_df)"
   ]
  },
  {
   "cell_type": "code",
   "execution_count": null,
   "id": "3579697c",
   "metadata": {},
   "outputs": [],
   "source": [
    "# 이순신 출력하기\n",
    "dict1_df.iloc[0,0]\n",
    "\n",
    "# iloc[] 의 [] 안에는 정수만 지정할 수 있음\n",
    "# dict1_df.iloc[0, 'name']"
   ]
  },
  {
   "cell_type": "code",
   "execution_count": null,
   "id": "28e85094",
   "metadata": {},
   "outputs": [],
   "source": [
    "# 이순신의 gender 값 출력하기\n",
    "dict1_df.iloc[0,2]\n",
    "# iloc[] 의 [] 안에는 정수만 지정할 수 있음\n",
    "# dict1_df.iloc['one', 'gender']"
   ]
  },
  {
   "cell_type": "code",
   "execution_count": null,
   "id": "53467421",
   "metadata": {},
   "outputs": [],
   "source": [
    "# 유관순의 출생년도 출력하기\n",
    "dict1_df.iloc[1,1]\n",
    "# iloc[] 의 [] 안에는 정수만 지정할 수 있음\n",
    "# dict1_df.iloc['twbo', 1]"
   ]
  },
  {
   "cell_type": "code",
   "execution_count": null,
   "id": "bd689f94",
   "metadata": {},
   "outputs": [],
   "source": [
    "dict1_df.iloc[:]"
   ]
  },
  {
   "cell_type": "code",
   "execution_count": null,
   "id": "cba07f7f",
   "metadata": {},
   "outputs": [],
   "source": [
    "print('dict1_df.iloc[1, 0]')\n",
    "display(dict1_df.iloc[1, 0])"
   ]
  },
  {
   "cell_type": "code",
   "execution_count": null,
   "id": "486f25d1",
   "metadata": {},
   "outputs": [],
   "source": [
    "print('dict1_df.iloc[2, 1]')\n",
    "display(dict1_df.iloc[2, 1])"
   ]
  },
  {
   "cell_type": "code",
   "execution_count": null,
   "id": "165e3e91",
   "metadata": {},
   "outputs": [],
   "source": [
    "print('dict1_df.iloc[:2, [0,1]]')\n",
    "display(dict1_df.iloc[:2, [0,1]])"
   ]
  },
  {
   "cell_type": "code",
   "execution_count": null,
   "id": "75f796d1",
   "metadata": {},
   "outputs": [],
   "source": [
    "print('dict1_df.iloc[:2, [0,2]]')\n",
    "display(dict1_df.iloc[:2, [0,2]])"
   ]
  },
  {
   "cell_type": "code",
   "execution_count": null,
   "id": "e9e8e227",
   "metadata": {},
   "outputs": [],
   "source": [
    "print('dict1_df.iloc[:, :]')\n",
    "display(dict1_df.iloc[:, :])"
   ]
  },
  {
   "cell_type": "code",
   "execution_count": null,
   "id": "8cc0b1a9",
   "metadata": {},
   "outputs": [],
   "source": [
    "'''\n",
    "맨 마지막 컬럼만 추출하기 : indexing\n",
    "'''\n",
    "print('dict1_df.iloc[:, -1]')\n",
    "print(dict1_df.iloc[:, -1])"
   ]
  },
  {
   "cell_type": "code",
   "execution_count": null,
   "id": "eaae962a",
   "metadata": {},
   "outputs": [],
   "source": [
    "'''\n",
    "맨 마지막 컬럼만 제외하고 추출하기 : slicing\n",
    "'''\n",
    "print('dict1_df.iloc[:, :-1]')\n",
    "print(dict1_df.iloc[:, :-1])"
   ]
  },
  {
   "cell_type": "code",
   "execution_count": null,
   "id": "47efc7cd",
   "metadata": {},
   "outputs": [],
   "source": [
    "'''\n",
    "iloc[] 연산자로 2014 년 초과해서 \n",
    "출생한 사람들의 정보만 출력하기  - boolean indexing\n",
    "'''\n",
    "dict1_df[dict1_df['year'] > 2014]\n",
    "\n",
    "# TypeError: Cannot index by location index with a non-integer key\n",
    "# iloc[] 연산자는 boolean indexing 을 지원하지 않음\n",
    "# dict1_df[dict1_df.iloc['year'] > 2014]"
   ]
  },
  {
   "cell_type": "code",
   "execution_count": null,
   "id": "c95367af",
   "metadata": {},
   "outputs": [],
   "source": [
    "'''\n",
    "loc[] 연산자 : 명칭기반 slicing OR indexing\n",
    "'''\n",
    "dict1_df"
   ]
  },
  {
   "cell_type": "code",
   "execution_count": null,
   "id": "62a56160",
   "metadata": {},
   "outputs": [],
   "source": [
    "'''\n",
    "loc[] 연산자에는 컬럼이름이나 index 이름만 넣을 수 있음\n",
    "\n",
    "dict1_df.loc[0, 'name']\n",
    "dict1_df.loc['one', 0]\n",
    "dict1_df.loc[0, 0]\n",
    "'''\n",
    "dict1_df.loc['one', 'name']"
   ]
  },
  {
   "cell_type": "code",
   "execution_count": null,
   "id": "999ee0a9",
   "metadata": {},
   "outputs": [],
   "source": [
    "dict1_df = pd.DataFrame(dict1)\n",
    "display(dict1_df)"
   ]
  },
  {
   "cell_type": "code",
   "execution_count": null,
   "id": "e75c2a40",
   "metadata": {},
   "outputs": [],
   "source": [
    "'''\n",
    "loc[] 연산자에는 컬럼이름이나 index 이름만 넣을 수 있음\n",
    "  ㄴ index 이름이 숫자로 되어 있는 경우에는 가능함\n",
    "'''\n",
    "dict1_df.loc[0, 'name']"
   ]
  },
  {
   "cell_type": "code",
   "execution_count": null,
   "id": "aedbaf4c",
   "metadata": {},
   "outputs": [],
   "source": [
    "dict1_df = pd.DataFrame(dict1)\n",
    "display(dict1_df)\n",
    "dict1_df_rename = dict1_df.rename(columns={'name':0, 'year':1, 'gender':2})\n",
    "display(dict1_df_rename)\n",
    "\n",
    "'''\n",
    "loc[] 연산자에는 컬럼이름이나 index 이름만 넣을 수 있음\n",
    "  ㄴ 컬럼이름이 숫자로 되어 있는 경우에는 가능함\n",
    "'''\n",
    "dict1_df_rename.loc[0,0]"
   ]
  },
  {
   "cell_type": "code",
   "execution_count": 136,
   "id": "c47198d8",
   "metadata": {
    "scrolled": true
   },
   "outputs": [
    {
     "data": {
      "text/html": [
       "<div>\n",
       "<style scoped>\n",
       "    .dataframe tbody tr th:only-of-type {\n",
       "        vertical-align: middle;\n",
       "    }\n",
       "\n",
       "    .dataframe tbody tr th {\n",
       "        vertical-align: top;\n",
       "    }\n",
       "\n",
       "    .dataframe thead th {\n",
       "        text-align: right;\n",
       "    }\n",
       "</style>\n",
       "<table border=\"1\" class=\"dataframe\">\n",
       "  <thead>\n",
       "    <tr style=\"text-align: right;\">\n",
       "      <th></th>\n",
       "      <th>name</th>\n",
       "      <th>year</th>\n",
       "      <th>gender</th>\n",
       "    </tr>\n",
       "  </thead>\n",
       "  <tbody>\n",
       "    <tr>\n",
       "      <th>one</th>\n",
       "      <td>이순신</td>\n",
       "      <td>2011</td>\n",
       "      <td>male</td>\n",
       "    </tr>\n",
       "    <tr>\n",
       "      <th>two</th>\n",
       "      <td>유관순</td>\n",
       "      <td>2016</td>\n",
       "      <td>female</td>\n",
       "    </tr>\n",
       "    <tr>\n",
       "      <th>three</th>\n",
       "      <td>양만춘</td>\n",
       "      <td>2015</td>\n",
       "      <td>male</td>\n",
       "    </tr>\n",
       "    <tr>\n",
       "      <th>four</th>\n",
       "      <td>장보고</td>\n",
       "      <td>2015</td>\n",
       "      <td>male</td>\n",
       "    </tr>\n",
       "  </tbody>\n",
       "</table>\n",
       "</div>"
      ],
      "text/plain": [
       "      name  year  gender\n",
       "one    이순신  2011    male\n",
       "two    유관순  2016  female\n",
       "three  양만춘  2015    male\n",
       "four   장보고  2015    male"
      ]
     },
     "metadata": {},
     "output_type": "display_data"
    }
   ],
   "source": [
    "dict1_df = pd.DataFrame(dict1, index=['one','two','three','four'])\n",
    "display(dict1_df)"
   ]
  },
  {
   "cell_type": "code",
   "execution_count": null,
   "id": "dac351d8",
   "metadata": {},
   "outputs": [],
   "source": [
    "'''\n",
    "명시적으로 지정된 index 이름과 column 이름 이외에\n",
    "row index 와 column index 가 내부적으로 지정됨\n",
    "아래의 code 는 iloc[] 연산자를 사용하여\n",
    "내부적으로 지정된 row index 와 column index 를 적용해서\n",
    "조회하는 code 임\n",
    "'''\n",
    "print(dict1_df.iloc[0, 0])\n",
    "print(dict1_df.iloc[3, 0])\n",
    "print(dict1_df.iloc[2, 2])"
   ]
  },
  {
   "cell_type": "code",
   "execution_count": null,
   "id": "0d539a04",
   "metadata": {},
   "outputs": [],
   "source": [
    "display(dict1_df)\n",
    "print('index 가 three 인 행의 name 출력')\n",
    "print(dict1_df.loc['three', 'name'])\n",
    "print('-' * 60)\n",
    "print('index 값 one 부터 two 까지인 행의 name 과 year 출력')\n",
    "print(dict1_df.loc['one':'two', ['name','year']])\n",
    "print('-' * 60)\n",
    "print('index 값 one 부터 three 까지인 행의 name 부터 gender 까지 출력')\n",
    "print(dict1_df.loc['one':'three', 'name':'gender'])\n",
    "print('-' * 60)\n",
    "print('모든 행과 열 출력')\n",
    "print(dict1_df.loc[:, :])\n",
    "print('-' * 60)\n",
    "# dict1_df.loc[:, :] 이나 dict1_df.loc[:] 은 결과가 같음\n",
    "print(dict1_df.loc[:])\n",
    "print('-' * 60)\n",
    "print('출생년도가 2014 이후인 사람들의 모든 정보 출력')\n",
    "# loc[] 에서는 boolean indexing 이 됨\n",
    "print(dict1_df.loc[dict1_df['year'] >= 2014])\n",
    "print('-' * 60)\n",
    "print(dict1_df.loc[dict1_df.year >= 2014])"
   ]
  },
  {
   "cell_type": "code",
   "execution_count": null,
   "id": "248daea9",
   "metadata": {},
   "outputs": [],
   "source": []
  },
  {
   "cell_type": "code",
   "execution_count": null,
   "id": "816716bd",
   "metadata": {},
   "outputs": [],
   "source": []
  },
  {
   "cell_type": "code",
   "execution_count": null,
   "id": "12fa8f6d",
   "metadata": {},
   "outputs": [],
   "source": []
  },
  {
   "cell_type": "code",
   "execution_count": null,
   "id": "c3d11365",
   "metadata": {},
   "outputs": [],
   "source": []
  }
 ],
 "metadata": {
  "kernelspec": {
   "display_name": "Python 3 (ipykernel)",
   "language": "python",
   "name": "python3"
  },
  "language_info": {
   "codemirror_mode": {
    "name": "ipython",
    "version": 3
   },
   "file_extension": ".py",
   "mimetype": "text/x-python",
   "name": "python",
   "nbconvert_exporter": "python",
   "pygments_lexer": "ipython3",
   "version": "3.9.12"
  }
 },
 "nbformat": 4,
 "nbformat_minor": 5
}

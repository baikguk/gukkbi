{
 "cells": [
  {
   "cell_type": "code",
   "execution_count": null,
   "id": "86dbf99f",
   "metadata": {},
   "outputs": [],
   "source": [
    "!pip install pymongo"
   ]
  },
  {
   "cell_type": "code",
   "execution_count": null,
   "id": "3aa6a8f2",
   "metadata": {},
   "outputs": [],
   "source": [
    "import pymongo"
   ]
  },
  {
   "cell_type": "markdown",
   "id": "d8acff60",
   "metadata": {},
   "source": [
    "1. pymongo 라이브러리 import\n",
    "2. mongodb 접속\n",
    "3. 사용할 database, collection 지정하기(생성하기)\n",
    "4. 해당 database 의 collection 에서 CRUD 명령하기"
   ]
  },
  {
   "cell_type": "code",
   "execution_count": null,
   "id": "da4ab69d",
   "metadata": {},
   "outputs": [],
   "source": [
    "'''\n",
    "python 에서 MongoDB 접속하기\n",
    " ㄴ pymongo 모듈에 정의된 MongoClient 클래스의 객체를 생성\n",
    " \n",
    "형식]\n",
    "1) conn = pymongo.MongoClient(\"ip주소(domain주소)\", 포트번호)\n",
    "2) conn = pymongo.MongoClient()\n",
    "                   ㄴ 자동으로 localhost:27017 로 접속함\n",
    "'''\n",
    "conn = pymongo.MongoClient(\"localhost\", 27017)\n",
    "# conn = pymongo.MongoClient(\"127.0.0.1\", 27017)"
   ]
  },
  {
   "cell_type": "code",
   "execution_count": null,
   "id": "eb160f91",
   "metadata": {},
   "outputs": [],
   "source": [
    "'''\n",
    "test 데이터베이스 사용하기\n",
    "  ㄴ 생성되어 있지 않으면 새로 생성됨\n",
    "'''\n",
    "# db = 커넥션객체.사용할db이름\n",
    "# test 라는 이름의 Database 를 사용하기 (없으면 만들어짐)\n",
    "# Database 객체가 생성됨\n",
    "# test : 데이터베이스 이름, db_test : 변수\n",
    "db_test = conn.test\n",
    "# db = conn[\"test\"] <-- 이렇게 해도 됨\n",
    "# 생성된 데이터베이스 객체의 정보 확인하기\n",
    "print(db_test)\n",
    "# 데이터베이스 이름 확인하기\n",
    "print(db_test.name)"
   ]
  },
  {
   "cell_type": "code",
   "execution_count": null,
   "id": "d86f2c27",
   "metadata": {},
   "outputs": [],
   "source": [
    "'''\n",
    "test collection 사용하기\n",
    "  ㄴ 생성되어 있지 않으면 새로 생성됨\n",
    "형식]\n",
    "  데이터베이스(변수).컬렉션이름\n",
    "'''\n",
    "# test_collection 이라는 collection 생성하기\n",
    "# 변수                        컬렉션이름\n",
    "test_collection = db_test.test_collection\n",
    "# test_collection = db_test[\"test_collection\"]\n",
    "\n",
    "# 생성된 Collection 객체의 정보 확인하기\n",
    "print(test_collection)"
   ]
  },
  {
   "cell_type": "code",
   "execution_count": null,
   "id": "17576b94",
   "metadata": {},
   "outputs": [],
   "source": [
    "'''\n",
    "Document insert 하기\n",
    " ㄴ insert_one() / insert_many()\n",
    "    insertOne()    insertMany()\n",
    "'''\n",
    "# dictionary 형태로 document 작성하기\n",
    "post = {\n",
    "            \"author\":\"global\", \n",
    "            \"text\":\"global text\", \n",
    "            \"tags\":[\"python\",\"pymongo\",'mongodb']\n",
    "       }\n",
    "\n",
    "# _id(primary key) 확인하기 - inserted_id 속성\n",
    "post_id = test_collection.insert_one(post).inserted_id\n",
    "post_id"
   ]
  },
  {
   "cell_type": "code",
   "execution_count": null,
   "id": "0d565816",
   "metadata": {},
   "outputs": [],
   "source": [
    "test_collection.insert_many(\n",
    "    [\n",
    "        {\"author\":\"Tom Cruise\", \"age\":55},\n",
    "        {\"author\":\"Tom\", \"age\":32}\n",
    "    ]\n",
    ")"
   ]
  },
  {
   "cell_type": "code",
   "execution_count": null,
   "id": "d8c48525",
   "metadata": {},
   "outputs": [],
   "source": [
    "# test_collection 에 있는 모든 document 의 개수\n",
    "# count_documents({}) - ({}) : 조건을 작성하지 않으면 모두 조회함\n",
    "all_docs = test_collection.count_documents({})\n",
    "print('all_docs :',all_docs,'개')\n",
    "\n",
    "# author 가 Tom 인 document\n",
    "tom_doc = test_collection.count_documents({\"author\":\"Tom\"})\n",
    "print('tom_doc  :',tom_doc,'개')"
   ]
  },
  {
   "cell_type": "code",
   "execution_count": null,
   "id": "342dcd77",
   "metadata": {},
   "outputs": [],
   "source": [
    "'''\n",
    "list 와 dictionary  를 사용해서 insert 하기\n",
    "'''\n",
    "test_collection.insert_one(\n",
    "    {'title':'october sky', 'castings':['jake','chris','laura']}\n",
    ")\n",
    "test_collection.insert_many(\n",
    "    [\n",
    "        {'title':'avatar','castings':['zoe','sam','sigourney']},\n",
    "        {'title':'한산', 'castings':['박해일','안성기','손현주']}\n",
    "    ]\n",
    ")"
   ]
  },
  {
   "cell_type": "code",
   "execution_count": null,
   "id": "74061855",
   "metadata": {},
   "outputs": [],
   "source": [
    "test_collection.insert_one(\n",
    "    {\n",
    "        'title':'실미도',\n",
    "        'castings':['설경구', '안성기'],\n",
    "        'datetime':\n",
    "            {\n",
    "                'year':'2003',\n",
    "                'month':3,\n",
    "                'val':\n",
    "                    {\n",
    "                        'a':\n",
    "                            {\n",
    "                                'b':1\n",
    "                            }\n",
    "                    }\n",
    "            }\n",
    "    }\n",
    ")"
   ]
  },
  {
   "cell_type": "code",
   "execution_count": null,
   "id": "02b2c768",
   "metadata": {},
   "outputs": [],
   "source": [
    "data = []\n",
    "data.append({'name':'arron', 'age':23})\n",
    "data.append({'name':'bob', 'age':32})\n",
    "data.append({'name':'cathy', 'age':25})\n",
    "data.append({'name':'peter', 'age':27})\n",
    "data.append({'name':'erick', 'age':28})\n",
    "data.append({'name':'davison', 'age':36})\n",
    "data.append({'name':'lee'})\n",
    "\n",
    "test_collection.insert_many(data)"
   ]
  },
  {
   "cell_type": "code",
   "execution_count": null,
   "id": "9ea9d4bf",
   "metadata": {},
   "outputs": [],
   "source": [
    "# document 전체 개수 확인\n",
    "test_collection.count_documents({})"
   ]
  },
  {
   "cell_type": "code",
   "execution_count": null,
   "id": "cb0b3a20",
   "metadata": {},
   "outputs": [],
   "source": [
    "'''\n",
    "document 조회하기 :  find_one() / find()\n",
    "                       ㄴ 최초로 검색되는 document 하나만 조회함\n",
    "'''\n",
    "test_collection.find_one()"
   ]
  },
  {
   "cell_type": "code",
   "execution_count": null,
   "id": "35e349c9",
   "metadata": {},
   "outputs": [],
   "source": [
    "'''\n",
    "author 가 Tom Cruise 인 document 조회하기\n",
    "'''\n",
    "test_collection.find_one({\"author\":\"Tom Cruise\"})"
   ]
  },
  {
   "cell_type": "code",
   "execution_count": null,
   "id": "007ce80e",
   "metadata": {},
   "outputs": [],
   "source": [
    "'''\n",
    "find() 는 검색되는 모든 document 들을 조회함  \n",
    "'''\n",
    "docs = test_collection.find()"
   ]
  },
  {
   "cell_type": "code",
   "execution_count": null,
   "id": "d15213b8",
   "metadata": {},
   "outputs": [],
   "source": [
    "# docs 에 저장된 doc 들을 하나씩 출력함\n",
    "for doc in docs:\n",
    "    print(doc)"
   ]
  },
  {
   "cell_type": "code",
   "execution_count": null,
   "id": "98454426",
   "metadata": {},
   "outputs": [],
   "source": [
    "'''\n",
    "Document 수정하기 : update_one() / update_many()\n",
    "                     ㄴ 가장 먼저 검색되는 document 하나만 수정함\n",
    "'''\n",
    "test_collection.find_one({\"author\":\"Tom\"})"
   ]
  },
  {
   "cell_type": "code",
   "execution_count": null,
   "id": "83feecfd",
   "metadata": {},
   "outputs": [],
   "source": [
    "test_collection.update_one(\n",
    "    {\"author\":\"Tom\"},\n",
    "    {\"$set\" : {\"age\": 25}}\n",
    ")"
   ]
  },
  {
   "cell_type": "code",
   "execution_count": null,
   "id": "214830ec",
   "metadata": {},
   "outputs": [],
   "source": [
    "test_collection.find_one({\"author\":\"Tom\"})"
   ]
  },
  {
   "cell_type": "code",
   "execution_count": null,
   "id": "b0cf2d8b",
   "metadata": {},
   "outputs": [],
   "source": [
    "test_collection.update_one(\n",
    "    {\"author\":\"Tom\"},\n",
    "    {\"$set\" : {\"text\": \"안녕하세요 Tom 입니다\"}}\n",
    ")"
   ]
  },
  {
   "cell_type": "code",
   "execution_count": null,
   "id": "321d3adf",
   "metadata": {},
   "outputs": [],
   "source": [
    "test_collection.find_one({\"author\":\"Tom\"})"
   ]
  },
  {
   "cell_type": "code",
   "execution_count": null,
   "id": "696a1081",
   "metadata": {},
   "outputs": [],
   "source": [
    "docs = test_collection.find({})"
   ]
  },
  {
   "cell_type": "code",
   "execution_count": null,
   "id": "05a3f893",
   "metadata": {},
   "outputs": [],
   "source": [
    "for doc in docs:\n",
    "    print(doc)"
   ]
  },
  {
   "cell_type": "code",
   "execution_count": null,
   "id": "65ed8675",
   "metadata": {},
   "outputs": [],
   "source": [
    "test_collection.update_many(\n",
    "    {\"author\":\"global\"},\n",
    "    {\"$set\" : {\"text\" : \"안녕하세요 글로벌학원입니다\"}}\n",
    ")"
   ]
  },
  {
   "cell_type": "code",
   "execution_count": null,
   "id": "50d5f764",
   "metadata": {},
   "outputs": [],
   "source": [
    "for doc in test_collection.find({}):\n",
    "    print(doc)"
   ]
  },
  {
   "cell_type": "code",
   "execution_count": null,
   "id": "c96cb302",
   "metadata": {},
   "outputs": [],
   "source": [
    "for doc in test_collection.find({\"author\":\"global\"}):\n",
    "    print(doc)"
   ]
  },
  {
   "cell_type": "code",
   "execution_count": null,
   "id": "a425fda4",
   "metadata": {},
   "outputs": [],
   "source": [
    "'''\n",
    "Document 삭제하기 : delete_one() / delete_many()\n",
    "                     ㄴ 가장 먼저 검색되는 document 하나만 삭제함\n",
    "'''\n",
    "for doc in test_collection.find({\"author\":\"global\"}):\n",
    "    print(doc)"
   ]
  },
  {
   "cell_type": "code",
   "execution_count": null,
   "id": "d844beaa",
   "metadata": {},
   "outputs": [],
   "source": [
    "test_collection.delete_one({\"author\":\"global\"})"
   ]
  },
  {
   "cell_type": "code",
   "execution_count": null,
   "id": "bdb4bf8f",
   "metadata": {},
   "outputs": [],
   "source": [
    "# 3 개 중에 제일 먼저 insert 된 document 만 삭제됨\n",
    "for doc in test_collection.find({\"author\":\"global\"}):\n",
    "    print(doc)"
   ]
  },
  {
   "cell_type": "code",
   "execution_count": null,
   "id": "b2d8cf76",
   "metadata": {},
   "outputs": [],
   "source": [
    "test_collection.delete_many({\"author\":\"global\"})"
   ]
  },
  {
   "cell_type": "code",
   "execution_count": null,
   "id": "3a5fb84c",
   "metadata": {},
   "outputs": [],
   "source": [
    "# author 가 global 인 document 가 모두 삭제되어서 출력이 안 됨\n",
    "for doc in test_collection.find({\"author\":\"global\"}):\n",
    "    print(doc)"
   ]
  },
  {
   "cell_type": "code",
   "execution_count": null,
   "id": "d04bf142",
   "metadata": {},
   "outputs": [],
   "source": [
    "# author 가 global 인 ducument 는 0 개\n",
    "test_collection.count_documents({\"author\":\"global\"})"
   ]
  },
  {
   "cell_type": "code",
   "execution_count": null,
   "id": "be0f4bd3",
   "metadata": {},
   "outputs": [],
   "source": [
    "data = []\n",
    "for idx in range(100):\n",
    "    data.append({\"author\":\"global\", \"publidsher\":\"global.org\", \"number\":idx})"
   ]
  },
  {
   "cell_type": "code",
   "execution_count": null,
   "id": "7de9f0cb",
   "metadata": {},
   "outputs": [],
   "source": [
    "data"
   ]
  },
  {
   "cell_type": "code",
   "execution_count": null,
   "id": "23591245",
   "metadata": {},
   "outputs": [],
   "source": [
    "# CRUD - insert\n",
    "test_collection.insert_many(data)"
   ]
  },
  {
   "cell_type": "code",
   "execution_count": null,
   "id": "4a9bb55a",
   "metadata": {},
   "outputs": [],
   "source": [
    "# CRUD - Read\n",
    "# test_collection.find({}) 와 test_collection.find() 는 결과가 같음\n",
    "for doc in test_collection.find({}):\n",
    "    print(doc)"
   ]
  },
  {
   "cell_type": "code",
   "execution_count": null,
   "id": "a299a4fd",
   "metadata": {},
   "outputs": [],
   "source": [
    "# CRUD - Update\n",
    "test_collection.update_many({},{\"$set\" : {\"publisher\":\"globalithumanresources-org\"}})"
   ]
  },
  {
   "cell_type": "code",
   "execution_count": null,
   "id": "c7482d55",
   "metadata": {},
   "outputs": [],
   "source": [
    "for doc in test_collection.find({}):\n",
    "    print(doc)"
   ]
  },
  {
   "cell_type": "code",
   "execution_count": null,
   "id": "81154a29",
   "metadata": {},
   "outputs": [],
   "source": [
    "'''\n",
    "number 가 9 이상인 document 모두 삭제하기\n",
    "'''\n",
    "test_collection.delete_many({\"number\" : {\"$gt\":8}})"
   ]
  },
  {
   "cell_type": "code",
   "execution_count": null,
   "id": "b0dd8b43",
   "metadata": {},
   "outputs": [],
   "source": [
    "for doc in test_collection.find({}):\n",
    "    print(doc)"
   ]
  },
  {
   "cell_type": "code",
   "execution_count": null,
   "id": "1a960520",
   "metadata": {},
   "outputs": [],
   "source": [
    "# CRUD - delete\n",
    "test_collection.delete_many({\"author\":\"global\"})"
   ]
  },
  {
   "cell_type": "code",
   "execution_count": null,
   "id": "e38fbaf7",
   "metadata": {},
   "outputs": [],
   "source": [
    "for doc in test_collection.find({}):\n",
    "    print(doc)"
   ]
  },
  {
   "cell_type": "code",
   "execution_count": null,
   "id": "6a80f1b5",
   "metadata": {},
   "outputs": [],
   "source": []
  },
  {
   "cell_type": "code",
   "execution_count": null,
   "id": "521d2f54",
   "metadata": {},
   "outputs": [],
   "source": []
  },
  {
   "cell_type": "code",
   "execution_count": null,
   "id": "e2dd292a",
   "metadata": {},
   "outputs": [],
   "source": []
  }
 ],
 "metadata": {
  "kernelspec": {
   "display_name": "Python 3 (ipykernel)",
   "language": "python",
   "name": "python3"
  },
  "language_info": {
   "codemirror_mode": {
    "name": "ipython",
    "version": 3
   },
   "file_extension": ".py",
   "mimetype": "text/x-python",
   "name": "python",
   "nbconvert_exporter": "python",
   "pygments_lexer": "ipython3",
   "version": "3.9.12"
  }
 },
 "nbformat": 4,
 "nbformat_minor": 5
}

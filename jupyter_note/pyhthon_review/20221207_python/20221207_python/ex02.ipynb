{
 "cells": [
  {
   "cell_type": "code",
   "execution_count": null,
   "id": "3b44fcc1",
   "metadata": {},
   "outputs": [],
   "source": [
    "'''\n",
    "tuple type\n",
    "\n",
    "  () 를 사용함 - () 를 생략할 수 있음\n",
    "  index 가 있음 (str, range(), list, tuple) - sequential type\n",
    "  list (mutable type) VS tuple (immutable type)\n",
    "                          ㄴ 한 번 메모리에 올리면 원본을 변형할 수 없음\n",
    "                          ㄴ item 의 추가나 변경, 삽입, 삭제가 안 됨\n",
    "                             ㄴ 이와 관련된 메소드들이 없음\n",
    "                          ㄴ 참조만 가능함\n",
    "  list 와 비슷하면서 item 의 추가, 삽입, 변경, 삭제가 안 됨\n",
    "  \n",
    "  비어 있는 tuple 을 생성할 수 있음 : () / tuple() 함수\n",
    "  \n",
    "  item 이 하나만 있는 tuple 을 표현하려면 item 뒤에 , 을 붙여줌\n",
    "  \n",
    "  서로 다른 type 의 data 를 item 으로 가질 수 있음\n",
    "  \n",
    "  tuple 안에 tuple 을 item 으로 넣을 수 있음\n",
    "'''\n",
    "tp1 = ()\n",
    "tp2 = tuple()\n",
    "print('tp1 :',tp1)\n",
    "print('tp2 :',tp2)\n",
    "print('tp1 :',type(tp1))\n",
    "print('tp2 :',type(tp2))"
   ]
  },
  {
   "cell_type": "code",
   "execution_count": null,
   "id": "8409c1da",
   "metadata": {},
   "outputs": [],
   "source": [
    "tp3 = 3\n",
    "print('tp3 :', tp3)\n",
    "# item 이 하나인 경우,\n",
    "# 반점을 사용하지 않아서 \n",
    "# tuple 이 아니라 int type 으로 인식됨\n",
    "print('tp3 :', type(tp3))\n",
    "\n",
    "# item 이 하나인 경우, 반점을 사용하면\n",
    "# tuple 로 인식함\n",
    "tp4 = 3,\n",
    "print('tp4 :',tp4)\n",
    "print('tp4 :',type(tp4))"
   ]
  },
  {
   "cell_type": "code",
   "execution_count": null,
   "id": "dde060b8",
   "metadata": {},
   "outputs": [],
   "source": [
    "tp5 = (1, 2, 3, 4, 5)\n",
    "print('tp5 :',tp5)\n",
    "print('tp5 :',type(tp5))\n",
    "\n",
    "# () 를 생략해도 tuple 로 인식함\n",
    "tp6 = 1, 2, 3, 4, 5\n",
    "print('tp6 :',tp6)\n",
    "print('tp6 :',type(tp6))"
   ]
  },
  {
   "cell_type": "code",
   "execution_count": null,
   "id": "23ce6949",
   "metadata": {},
   "outputs": [],
   "source": [
    "tp7 = ('a', 'b', 'c', 'd', 'e')\n",
    "print('tp7 :',tp7)\n",
    "print('tp7 :',type(tp7))"
   ]
  },
  {
   "cell_type": "code",
   "execution_count": null,
   "id": "c16ceed4",
   "metadata": {},
   "outputs": [],
   "source": [
    "tp8 = 1, 2, 3, 'python', 'program', True\n",
    "print('tp8 :',tp8)\n",
    "print('tp8 :',type(tp8))"
   ]
  },
  {
   "cell_type": "code",
   "execution_count": null,
   "id": "0deeba1a",
   "metadata": {},
   "outputs": [],
   "source": [
    "tp9 = 1, 2, 3, 'python', 'best', False, (4, 5, True)\n",
    "print('tp9 :',tp9)\n",
    "print('tp9 :',type(tp9))"
   ]
  },
  {
   "cell_type": "code",
   "execution_count": null,
   "id": "e29db274",
   "metadata": {},
   "outputs": [],
   "source": [
    "# indexing\n",
    "print(tp9[1])\n",
    "print(tp9[-1][-1])\n",
    "\n",
    "# slicing\n",
    "print(tp9[:3])\n",
    "print(tp9[-1][1:])"
   ]
  },
  {
   "cell_type": "code",
   "execution_count": null,
   "id": "49c8eea9",
   "metadata": {},
   "outputs": [],
   "source": [
    "# tuple unpacking\n",
    "n1, n2, n3, n4, n5 = 1, 2, 3, 4, 5\n",
    "print(n1, n2, n3, n4, n5)"
   ]
  },
  {
   "cell_type": "code",
   "execution_count": null,
   "id": "836a68f9",
   "metadata": {},
   "outputs": [],
   "source": [
    "tp10 = 1, 2, 3, 4, 5\n",
    "tp11 = 6, 7, 8, 9, 10\n",
    "\n",
    "# 연결\n",
    "print(tp10 + tp11)\n",
    "\n",
    "# 반복\n",
    "print(tp10 * 3)\n",
    "print(tp11 * 2)"
   ]
  },
  {
   "cell_type": "code",
   "execution_count": null,
   "id": "f8a9d2b0",
   "metadata": {},
   "outputs": [],
   "source": [
    "'''\n",
    "range 객체 : range() 함수를 호출해서 생성함\n",
    "             index 가 있음 - sequential type (str, range, list, tuple)\n",
    "             \n",
    "  range(end)               : 0 부터 end-1 까지\n",
    "  range(start, end)        : start 부터 end-1 까지\n",
    "  range(start, end, step)  : start 부터 end-1 까지 step-1 씩 건너뛰기\n",
    "'''\n",
    "# 1 부터 10 까지 저장된 list 생성하기\n",
    "list1 = list(range(1, 11))\n",
    "print('list1 :',list1)"
   ]
  },
  {
   "cell_type": "code",
   "execution_count": null,
   "id": "51ecfbc7",
   "metadata": {},
   "outputs": [],
   "source": [
    "'''\n",
    "range() 함수를 사용해서 11 부터 20까지의 list 를 생성하고 출력하세요\n",
    "'''\n",
    "print(list(range(11, 21)))"
   ]
  },
  {
   "cell_type": "code",
   "execution_count": null,
   "id": "779d13a6",
   "metadata": {},
   "outputs": [],
   "source": [
    "'''\n",
    "range() 함수를 사용해서 1 부터 10까지의 tuple 을 생성하고 짝수를 출력하세요\n",
    "'''\n",
    "print(tuple(range(2, 11, 2)))"
   ]
  },
  {
   "cell_type": "code",
   "execution_count": 25,
   "id": "d40ee88f",
   "metadata": {},
   "outputs": [
    {
     "name": "stdout",
     "output_type": "stream",
     "text": [
      "[0, 1, 2, 3, 4, 5, 6, 7, 8, 9, 10, 11, 12, 13, 14, 15, 16, 17, 18, 19, 20, 21, 22, 23, 24, 25, 26, 27, 28, 29, 30, 31, 32, 33, 34, 35, 36, 37, 38, 39, 40, 41, 42, 43, 44, 45, 46, 47, 48, 49, 50]\n"
     ]
    }
   ],
   "source": [
    "'''\n",
    "range() 함수를 사용해서 0 부터 50까지의 list 를 생성하고 출력하세요\n",
    "'''\n",
    "print(list(range(51)))"
   ]
  },
  {
   "cell_type": "code",
   "execution_count": null,
   "id": "66f637f9",
   "metadata": {},
   "outputs": [],
   "source": []
  },
  {
   "cell_type": "code",
   "execution_count": null,
   "id": "b3e426ca",
   "metadata": {},
   "outputs": [],
   "source": []
  },
  {
   "cell_type": "code",
   "execution_count": null,
   "id": "c740d29c",
   "metadata": {},
   "outputs": [],
   "source": []
  },
  {
   "cell_type": "code",
   "execution_count": null,
   "id": "29a33190",
   "metadata": {},
   "outputs": [],
   "source": []
  }
 ],
 "metadata": {
  "kernelspec": {
   "display_name": "Python 3 (ipykernel)",
   "language": "python",
   "name": "python3"
  },
  "language_info": {
   "codemirror_mode": {
    "name": "ipython",
    "version": 3
   },
   "file_extension": ".py",
   "mimetype": "text/x-python",
   "name": "python",
   "nbconvert_exporter": "python",
   "pygments_lexer": "ipython3",
   "version": "3.9.12"
  }
 },
 "nbformat": 4,
 "nbformat_minor": 5
}

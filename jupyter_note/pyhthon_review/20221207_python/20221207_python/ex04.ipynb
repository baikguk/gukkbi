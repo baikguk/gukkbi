{
 "cells": [
  {
   "cell_type": "code",
   "execution_count": null,
   "id": "3281efce",
   "metadata": {},
   "outputs": [],
   "source": [
    "'''\n",
    "dictionary type  \n",
    "      {} 를 사용함\n",
    "      비어 있는 dictionary 생성하기 : {} / dict() 함수\n",
    "      key 와 value 가 한 쌍으로 저장됨\n",
    "      index 가 없음 - 저장되는 순서가 보장되지 않음\n",
    "      value 를 구분하는 수단이 key 가 됨\n",
    "      key 를 사용해서 value 를 저장하고\n",
    "      key 를 사용해서 value 를 찾음\n",
    "      \n",
    "      key 의 중복 허용 (X) - value 의 중복 허용 (O)\n",
    "       ㄴ value(값)를 구별하는 수단\n",
    "          immutable type 만 key 로 사용할 수 있음\n",
    "          value 는 immutable, mutable 모두 사용할 수 있음      \n",
    "'''\n",
    "\n",
    "# 비어 있는 dictionary 생성하기\n",
    "dict1 = {}\n",
    "dict2 = dict()\n",
    "print('dict1 :',dict1)\n",
    "print('dict2 :',dict2)\n",
    "\n",
    "print('dict1 :',type(dict1))\n",
    "print('dict2 :',type(dict2))\n",
    "\n",
    "'''\n",
    "비어 있는 dictionary 에 item 추가하기\n",
    "\n",
    "dict2 에 key는 'name', value 는 '글로벌' 인 item 저장하기\n",
    "\n",
    "형식]\n",
    "  dictionary 이름['key'] = value\n",
    "'''\n",
    "dict2['name'] = '글로벌'\n",
    "print('dict2 :',dict2)\n",
    "\n",
    "'''\n",
    "dict2 에 key 는 age, value 는 23 인 item 을 추가하세요\n",
    "'''\n",
    "dict2['age'] = 23\n",
    "print('dict2 :',dict2)"
   ]
  },
  {
   "cell_type": "code",
   "execution_count": null,
   "id": "46bb5739",
   "metadata": {},
   "outputs": [],
   "source": [
    "'''\n",
    "dictionary 를 생성하면서 item 저장하기\n",
    "'''\n",
    "student = {'name':'이순신', 'age':46, 'addrr':'서울'}\n",
    "print('student :',student)\n",
    "\n",
    "'''\n",
    "원래 없는 key 에 value 를 할당해서 item 추가하기\n",
    "원래 없는 key 에 value 를 할당하면 새로운 item 이 추가됨\n",
    "'''\n",
    "# key 는 height, value 가 193 인 item 을 추가하세요\n",
    "student['height']=198\n",
    "print('student :',student)"
   ]
  },
  {
   "cell_type": "code",
   "execution_count": null,
   "id": "639952e7",
   "metadata": {},
   "outputs": [],
   "source": [
    "'''\n",
    "이미 있는 key 에 value 를 할당해서 item 추가하기\n",
    "이미 있는 key 에 value 를 할당하면 key 는 그대로 있고 value 만 갱신됨\n",
    "'''\n",
    "# key 는 height, value 가 187 인 item 을 추가하세요\n",
    "student['height']=187\n",
    "print('student :',student)"
   ]
  },
  {
   "cell_type": "code",
   "execution_count": null,
   "id": "a2aaeb9f",
   "metadata": {},
   "outputs": [],
   "source": [
    "'''\n",
    "student 에서 value 출력하기\n",
    "  dictionary이름['key'] / get('key')\n",
    "'''\n",
    "print(student['name'])\n",
    "print(student['age'])\n",
    "print(student['addrr'])\n",
    "print(student['height'])\n",
    "\n",
    "print(student.get('name'))\n",
    "print(student.get('age'))\n",
    "print(student.get('addrr'))\n",
    "print(student.get('height'))\n",
    "\n",
    "# dictionary이름.key 의 형태는 허용하지 않음\n",
    "# print(student.name)\n",
    "\n",
    "'''\n",
    "get() 메소드의 경우,\n",
    "get('key') 로 value 를 가져오는데,\n",
    "지정한 key 가 없는 경우, defaul value 를 지정할 수 있음\n",
    "현재 student 에는 key 가 name, age, addrr, height 만 있음\n",
    "weight 는 없음. 이때, get('weight', 87) 을 실행하면 87 을 반환함\n",
    "이 경우, 87 이 default value 임\n",
    "'''\n",
    "# None\n",
    "print('student 에는 weight 이라는 key 가 없어서 value 를 가져오려고 하면 None 을 반환함')\n",
    "print(\"student.get('weight') :\",student.get('weight'))\n",
    "print('이런 경우, default value 를 지정하면 default value 를 반환함')\n",
    "print('리스트에 저장된 item 의 빈도수를 구하는 경우에 활용됨')\n",
    "print(\"student.get('weight', 87) :\",student.get('weight',87))"
   ]
  },
  {
   "cell_type": "code",
   "execution_count": null,
   "id": "d547c768",
   "metadata": {},
   "outputs": [],
   "source": [
    "'''\n",
    "OHLC : Open, High, Low, Close - 시가, 고가, 저가, 종가\n",
    "'''\n",
    "# 리스트로 저장하는 경우\n",
    "# 아래의 list 들은 12월1일, 2일, 3일의 OHLC 를 나타내고 있음\n",
    "market_1201 = ['1201', 10100, 10600, 10000, 10200]\n",
    "market_1202 = ['1202', 10200, 10500, 10100, 10100]\n",
    "market_1203 = ['1203', 10000, 10400, 9000, 10100]\n",
    "\n",
    "# dictionary 를 사용하면 하나로 묶을 수 있음\n",
    "dict_ohlc = {\n",
    "                '1201' : [10100, 10600, 10000, 10200],\n",
    "                '1202' : [10200, 10500, 10100, 10100],\n",
    "                '1203' : [10000, 10400, 9000, 10100],\n",
    "            }\n",
    "\n",
    "# pretty print 모듈 : dictionary 를 출력할 때 가지런하게 해 줌\n",
    "import pprint\n",
    "pprint.pprint(dict_ohlc)"
   ]
  },
  {
   "cell_type": "code",
   "execution_count": null,
   "id": "84ffb035",
   "metadata": {},
   "outputs": [],
   "source": [
    "'''\n",
    "dict_ohlc 에서 12월 2일자 고가를 출력하세요\n",
    "'''\n",
    "print('12월 2일자 고가 :',dict_ohlc['1202'][1],'원')"
   ]
  },
  {
   "cell_type": "code",
   "execution_count": null,
   "id": "16b77ec9",
   "metadata": {},
   "outputs": [],
   "source": [
    "'''\n",
    "12월 4일자 ohlc 는 [10200, 10800, 10100, 10300] 입니다\n",
    "이 정보를 dict_ohlc 에 추가하세요\n",
    "'''\n",
    "dict_ohlc['1204']=[10200, 10800, 10100, 10300]\n",
    "pprint.pprint(dict_ohlc)\n",
    "\n",
    "'''\n",
    "dict_holc\n",
    "{'1201': [10100, 10600, 10000, 10200],\n",
    " '1202': [10200, 10500, 10100, 10100],\n",
    " '1203': [10000, 10400, 9000, 10100],\n",
    " '1204': [10200, 10800, 10100, 10300]}\n",
    "12월 3일의 저가를 8000원으로 변경하세요 \n",
    "'''\n",
    "print('12월 3일의 저가 :',dict_ohlc['1203'][2],'원')\n",
    "dict_ohlc['1203'][2] = 8000\n",
    "print('12월 3일의 저가 :',dict_ohlc['1203'][2],'원')"
   ]
  },
  {
   "cell_type": "code",
   "execution_count": null,
   "id": "ddf60d43",
   "metadata": {},
   "outputs": [],
   "source": [
    "fruits = {11:'apple', 22:'orange', 33:'melon'}\n",
    "pprint.pprint(fruits)\n",
    "'''\n",
    "fruits 에서 상품코드 11의 과일의 이름을 \n",
    "watermelon 으로 수정하세요\n",
    "'''\n",
    "fruits[11]='watermelon'\n",
    "print(fruits)"
   ]
  },
  {
   "cell_type": "code",
   "execution_count": null,
   "id": "ebf3f0f5",
   "metadata": {},
   "outputs": [],
   "source": [
    "students = {\n",
    "    'name' : ['이순신', '강감찬', '유관순'],\n",
    "    'addrr' : ['동작구', '마포구', '강남구'],\n",
    "    'age' : [46, 72, 19]\n",
    "}\n",
    "pprint.pprint(students)"
   ]
  },
  {
   "cell_type": "code",
   "execution_count": null,
   "id": "7391878e",
   "metadata": {},
   "outputs": [],
   "source": [
    "'''\n",
    "students 에 학년 정보를 추가하세요\n",
    "key 는 grade, value 는 [4, 3, 1]\n",
    "'''\n",
    "students['grade'] = [4, 3, 1]\n",
    "pprint.pprint(students)"
   ]
  },
  {
   "cell_type": "code",
   "execution_count": null,
   "id": "eed540ac",
   "metadata": {},
   "outputs": [],
   "source": [
    "'''\n",
    "students 에서 key 만 추출하기 : keys() 메소드\n",
    "'''\n",
    "print(list(students.keys()))"
   ]
  },
  {
   "cell_type": "code",
   "execution_count": null,
   "id": "44115244",
   "metadata": {},
   "outputs": [],
   "source": [
    "'''\n",
    "students 에서 value 만 추출하기 : values() 메소드\n",
    "'''\n",
    "print(list(students.values()))"
   ]
  },
  {
   "cell_type": "code",
   "execution_count": null,
   "id": "f47e226e",
   "metadata": {},
   "outputs": [],
   "source": [
    "'''\n",
    "students 에서 key 와 value 를 tuple 로 추출하기 : itmes() 메소드\n",
    "'''\n",
    "print(list(students.items()))"
   ]
  },
  {
   "cell_type": "code",
   "execution_count": null,
   "id": "3f43e491",
   "metadata": {},
   "outputs": [],
   "source": [
    "print('values() :\\n',list(students.values()))"
   ]
  },
  {
   "cell_type": "code",
   "execution_count": null,
   "id": "d739447d",
   "metadata": {},
   "outputs": [],
   "source": [
    "# 이름만 출력하는 방법들\n",
    "print(students['name'])\n",
    "print(students.get('name'))\n",
    "print(list(students.values())[0])"
   ]
  },
  {
   "cell_type": "code",
   "execution_count": null,
   "id": "32dac482",
   "metadata": {},
   "outputs": [],
   "source": [
    "# 주소만 출력하는 방법들\n",
    "print(students['addrr'])\n",
    "print(students.get('addrr'))\n",
    "print(list(students.values())[1])"
   ]
  },
  {
   "cell_type": "code",
   "execution_count": null,
   "id": "dce58524",
   "metadata": {},
   "outputs": [],
   "source": [
    "# 나이만 출력하는 방법들\n",
    "print(students['age'])\n",
    "print(students.get('age'))\n",
    "print(list(students.values())[2])"
   ]
  },
  {
   "cell_type": "code",
   "execution_count": null,
   "id": "a4ef98e1",
   "metadata": {},
   "outputs": [],
   "source": [
    "# 학년만 출력하는 방법들\n",
    "print(students['grade'])\n",
    "print(students.get('grade'))\n",
    "print(list(students.values())[3])"
   ]
  },
  {
   "cell_type": "code",
   "execution_count": null,
   "id": "12eacb28",
   "metadata": {},
   "outputs": [],
   "source": [
    "'''\n",
    "특정 key 가 students 에 있는지 알아보기\n",
    "  ㄴ in 연산자\n",
    "'''\n",
    "print('name' in students)\n",
    "print('addr' in students)\n",
    "print('age' in students)\n",
    "print('grade' in students)\n",
    "print('height' in students)"
   ]
  },
  {
   "cell_type": "code",
   "execution_count": null,
   "id": "8076cfb5",
   "metadata": {},
   "outputs": [],
   "source": [
    "print(tuple(students.values())[2])"
   ]
  },
  {
   "cell_type": "code",
   "execution_count": null,
   "id": "22c6bbf2",
   "metadata": {},
   "outputs": [],
   "source": []
  },
  {
   "cell_type": "code",
   "execution_count": null,
   "id": "a2cb1e2a",
   "metadata": {},
   "outputs": [],
   "source": []
  },
  {
   "cell_type": "code",
   "execution_count": null,
   "id": "17e376e8",
   "metadata": {},
   "outputs": [],
   "source": []
  }
 ],
 "metadata": {
  "kernelspec": {
   "display_name": "Python 3 (ipykernel)",
   "language": "python",
   "name": "python3"
  },
  "language_info": {
   "codemirror_mode": {
    "name": "ipython",
    "version": 3
   },
   "file_extension": ".py",
   "mimetype": "text/x-python",
   "name": "python",
   "nbconvert_exporter": "python",
   "pygments_lexer": "ipython3",
   "version": "3.9.12"
  }
 },
 "nbformat": 4,
 "nbformat_minor": 5
}

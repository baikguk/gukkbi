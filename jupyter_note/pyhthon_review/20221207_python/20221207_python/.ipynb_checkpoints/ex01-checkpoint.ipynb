{
 "cells": [
  {
   "cell_type": "code",
   "execution_count": null,
   "id": "b0278c8c",
   "metadata": {},
   "outputs": [],
   "source": [
    "'''\n",
    "리스트 순서를 역순으로 바꾸기\n",
    "  ㄴ 단순히 순서를 반대로 하는 기능만 있음\n",
    "     정렬하는 기능은 없음\n",
    "     \n",
    "reversed() 함수 : 원본을 변형하지 않고 역순으로 된 list 를 생성해서 반환함\n",
    "reverse() 메소드 : 원본을 변형하고 역순으로 된 list 를 생성하지 않음\n",
    "'''\n",
    "list1 = [1, 9, 3, 6, 0]\n",
    "print('원본 :',list1)\n",
    "print(list(reversed(list1)))\n",
    "print('원본 :',list1)\n",
    "\n",
    "list1.reverse()\n",
    "print('원본 :',list1)"
   ]
  },
  {
   "cell_type": "code",
   "execution_count": null,
   "id": "c0c825d3",
   "metadata": {},
   "outputs": [],
   "source": [
    "list1 = [1, 9, 3, 6, 0]\n",
    "'''\n",
    "list1 을 sort() 메소드와 reverse() 메소드를 사용해서\n",
    "내림차순으로 정렬하세요\n",
    "'''\n",
    "# 1) sort() 로 오름차순으로 정렬하기\n",
    "print('원본 :',list1)\n",
    "list1.sort()\n",
    "print('원본 :',list1)\n",
    "# 2) reverse() 로 순서 바꿔주기\n",
    "list1.reverse()\n",
    "print('원본 :',list1)"
   ]
  },
  {
   "cell_type": "code",
   "execution_count": 1,
   "id": "909745ec",
   "metadata": {},
   "outputs": [
    {
     "name": "stdout",
     "output_type": "stream",
     "text": [
      "companies : ['SK하이닉스', '미래에셋', 'LG전자', '삼성전자']\n"
     ]
    }
   ],
   "source": [
    "companies = ['SK하이닉스', '미래에셋', 'LG전자', '삼성전자']\n",
    "print('companies :',companies)"
   ]
  },
  {
   "cell_type": "code",
   "execution_count": 2,
   "id": "2fdce003",
   "metadata": {},
   "outputs": [
    {
     "name": "stdout",
     "output_type": "stream",
     "text": [
      "SK하이닉스 미래에셋 LG전자 삼성전자\n"
     ]
    }
   ],
   "source": [
    "'''\n",
    "SK하이닉스 미래에셋 LG전자 삼성전자\n",
    "  ㄴ 이렇게 출력하세요\n",
    "  join() 메소드 사용하기\n",
    "  '구분자'.join(대상문자열이나리스트)\n",
    "'''\n",
    "print(' '.join(companies))"
   ]
  },
  {
   "cell_type": "code",
   "execution_count": null,
   "id": "9dfc851d",
   "metadata": {},
   "outputs": [],
   "source": [
    "'''\n",
    "companies : ['SK하이닉스', '미래에셋', 'LG전자', '삼성전자']\n",
    "\n",
    "SK하이닉스 \n",
    "미래에셋 \n",
    "LG전자 \n",
    "삼성전자\n",
    "  ㄴ 이렇게 출력하세요\n",
    "  join() 메소드 사용하기\n",
    "  '구분자'.join(대상문자열이나리스트)\n",
    "'''\n",
    "print('\\n'.join(companies))"
   ]
  },
  {
   "cell_type": "code",
   "execution_count": null,
   "id": "2f3a878d",
   "metadata": {},
   "outputs": [],
   "source": [
    "str1 = 'SK하이닉스 미래에셋 LG전자 삼성전자'\n",
    "'''\n",
    "['SK하이닉스', '미래에셋', 'LG전자', '삼성전자']\n",
    "   ㄴ 이렇게 출력하세요\n",
    "   split() - split() 메소드에서의 구분자는 대상문자열에 포함되어 있는 것만 가능\n",
    "   형식\n",
    "   대상문자열.split('구분자')\n",
    "'''\n",
    "list_result = str1.split(' ')\n",
    "print(list_result)"
   ]
  },
  {
   "cell_type": "code",
   "execution_count": null,
   "id": "fdd1ad3b",
   "metadata": {},
   "outputs": [],
   "source": [
    "str2 = 'SK하이닉스/미래에셋/LG전자/삼성전자'\n",
    "'''\n",
    "['SK하이닉스', '미래에셋', 'LG전자', '삼성전자']\n",
    "   ㄴ 이렇게 출력하세요\n",
    "   split() - split() 메소드에서의 구분자는 대상문자열에 포함되어 있는 것만 가능\n",
    "   형식\n",
    "   대상문자열.split('구분자')\n",
    "'''\n",
    "list_result = str2.split('/')\n",
    "print(list_result)"
   ]
  },
  {
   "cell_type": "code",
   "execution_count": null,
   "id": "d16fdf53",
   "metadata": {},
   "outputs": [],
   "source": [
    "'''\n",
    "리스트 복사하기\n",
    "1) slicing\n",
    "2) copy() 메소드\n",
    "'''\n",
    "list1 = [1, 2, 3, 4, 5]\n",
    "#  list2 = list1 은 복사가 아니고\n",
    "#  list1 이 저장하고 있는 주소를 list2 에 할당(복붙)한 것임\n",
    "list2 = list1\n",
    "\n",
    "# 같은 주소지에 있는 리스트를 출력하니 같은 결과가 나옴\n",
    "print('list1 :',list1)\n",
    "print('list2 :',list2)\n",
    "\n",
    "# 주소를 확인하면 같은 주소로 출력됨\n",
    "print('list1 :',id(list1))\n",
    "print('list2 :',id(list2))\n",
    "\n",
    "list1[2] = 333\n",
    "print('list1 :',list1)\n",
    "print('list2 :',list2)\n",
    "\n",
    "list2[4] = 555\n",
    "print('list1 :',list1)\n",
    "print('list2 :',list2)"
   ]
  },
  {
   "cell_type": "code",
   "execution_count": null,
   "id": "dd0a9d9b",
   "metadata": {},
   "outputs": [],
   "source": [
    "'''\n",
    "slicing 을 하면 새로운 리스트가 생성됨\n",
    "'''\n",
    "list1 = [1, 2, 3, 4, 5]\n",
    "list2 = list1[:]\n",
    "\n",
    "# 복사된 리스트를 출력하니 같은 결과가 나옴\n",
    "print('list1 :',list1)\n",
    "print('list2 :',list2)\n",
    "\n",
    "# 주소를 확인하면 다른 주소로 출력됨\n",
    "print('list1 :',id(list1))\n",
    "print('list2 :',id(list2))\n",
    "\n",
    "list1[2] = 333\n",
    "print('list1 :',list1)\n",
    "print('list2 :',list2)\n",
    "'''\n",
    "list1 : [1, 2, 333, 4, 5]\n",
    "list2 : [1, 2, 3, 4, 5]\n",
    "'''\n",
    "\n",
    "list2[4] = 555\n",
    "print('list1 :',list1)\n",
    "print('list2 :',list2)\n",
    "'''\n",
    "list1 : [1, 2, 333, 4, 5]\n",
    "list2 : [1, 2, 3, 4, 555]\n",
    "'''"
   ]
  },
  {
   "cell_type": "code",
   "execution_count": null,
   "id": "26163de1",
   "metadata": {},
   "outputs": [],
   "source": [
    "'''\n",
    "copy() 메소드  :  리스트를 복사함\n",
    "'''\n",
    "list1 = [1, 2, 3, 4, 5]\n",
    "list2 = list1.copy()\n",
    "\n",
    "# 복사된 리스트를 출력하니 같은 결과가 나옴\n",
    "print('list1 :',list1)\n",
    "print('list2 :',list2)\n",
    "\n",
    "# 주소를 확인하면 다른 주소로 출력됨\n",
    "print('list1 :',id(list1))\n",
    "print('list2 :',id(list2))\n",
    "\n",
    "list1[2] = 333\n",
    "print('list1 :',list1)\n",
    "print('list2 :',list2)\n",
    "'''\n",
    "list1 : [1, 2, 333, 4, 5]\n",
    "list2 : [1, 2, 3, 4, 5]\n",
    "'''\n",
    "\n",
    "list2[4] = 555\n",
    "print('list1 :',list1)\n",
    "print('list2 :',list2)\n",
    "'''\n",
    "list1 : [1, 2, 333, 4, 5]\n",
    "list2 : [1, 2, 3, 4, 555]\n",
    "'''\n",
    "1"
   ]
  },
  {
   "cell_type": "code",
   "execution_count": null,
   "id": "626e2a1d",
   "metadata": {},
   "outputs": [],
   "source": [
    "'''\n",
    "2 차원 리스트의 복사\n",
    "\n",
    "1) 얕은 복사 (shallow copy) - copy() 메소드 사용\n",
    "    ㄴ 외부 리스트만 복사하고 내부 리스트는 같은 것을 공유함\n",
    "        ㄴ 외부 리스트의 주소만 다르고 내부 리스트의 주소는 같음\n",
    "           ㄴ 원본의 내부 리스트를 변경하면 복사복의 내부 리스트도 변경됨\n",
    "\n",
    "2) 깊은 복사 (deep copy) - copy 모듈의 deepcopy() 함수 사용\n",
    "    ㄴ 외부 리스트와 내부 리스트 모두 복사함 (복사 : 같은 것을 하나 더 생성함)\n",
    "        ㄴ 외부 리스트와 내부 리스트의 주소가 모두 다름\n",
    "           ㄴ 원본의 내부 리스트를 변경해도 복사복의 내부 리스트는 변경 안 됨\n",
    "'''\n",
    "\n",
    "# 1) 얕은 복사 : shallow copy\n",
    "list1 = [[1, 2, 3], [4, 5, 6]]\n",
    "list2 = list1.copy()\n",
    "\n",
    "print('-- 외부 리스트 --')\n",
    "print('list1 :',list1)\n",
    "print('list2 :',list2)\n",
    "\n",
    "print('외부 리스트는 복사되어서 주소가 다름')\n",
    "print('list1 :',id(list1))\n",
    "print('list2 :',id(list2))\n",
    "\n",
    "print('-- 내부 리스트 --')\n",
    "print('list1[0] :',list1[0])\n",
    "print('list1[1] :',list1[1])\n",
    "print('list2[0] :',list2[0])\n",
    "print('list2[1] :',list2[1])\n",
    "\n",
    "print('내부 리스트는 복사되지 않아서 주소가 같음')\n",
    "print('list1[0] :',id(list1[0]))\n",
    "print('list2[0] :',id(list2[0]))\n",
    "\n",
    "print('list1[1] :',id(list1[1]))\n",
    "print('list2[1] :',id(list2[1]))"
   ]
  },
  {
   "cell_type": "code",
   "execution_count": null,
   "id": "b4e62996",
   "metadata": {},
   "outputs": [],
   "source": [
    "print('list1 의 내부 리스트나 list2 의 내부 리스트의 주소가 같으므로')\n",
    "print('list1 에서 내부 리스트를 변경하면 list2 의 내부 리스트도 변경됨')\n",
    "print('list1[0] :',list1[0])\n",
    "print('list1[1] :',list1[1])\n",
    "\n",
    "list1[0][1] = 222\n",
    "print('list1[0] :',list1[0])\n",
    "print('list2[0] :',list2[0])\n",
    "\n",
    "print('list1 의 내부 리스트나 list2 의 내부 리스트의 주소가 같으므로')\n",
    "print('list2 에서 내부 리스트를 변경하면 list1 의 내부 리스트도 변경됨')\n",
    "list2[1][0] = 111\n",
    "print('list1[1] :',list1[1])\n",
    "print('list2[1] :',list2[1])"
   ]
  },
  {
   "cell_type": "code",
   "execution_count": 50,
   "id": "c7e75305",
   "metadata": {},
   "outputs": [
    {
     "name": "stdout",
     "output_type": "stream",
     "text": [
      "list1 : [[1, 2, 3], [4, 5, 6]]\n",
      "list2 : [[1, 2, 3], [4, 5, 6]]\n",
      "list1 : 2485606891328\n",
      "list2 : 2485606900032\n",
      "list1[0] : [1, 2, 3]\n",
      "list2[0] : [1, 2, 3]\n",
      "list1 의 내부 리스트나 list2 의 내부 리스트의 주소가 다름\n",
      "list1[0] : 2485606881856\n",
      "list2[0] : 2485606892352\n",
      "list1[1] : [4, 5, 6]\n",
      "list2[1] : [4, 5, 6]\n",
      "list1 의 내부 리스트나 list2 의 내부 리스트의 주소가 다름\n",
      "list1[1] : 2485606581056\n",
      "list2[1] : 2485606889088\n"
     ]
    }
   ],
   "source": [
    "# 깊은 복사 : deep copy - copy 모듈의 deepcopy() 함수 사용하기\n",
    "\n",
    "import copy\n",
    "\n",
    "list1 = [[1, 2, 3], [4, 5, 6]]\n",
    "list2 = copy.deepcopy(list1)\n",
    "\n",
    "print('list1 :',list1)\n",
    "print('list2 :',list2)\n",
    "\n",
    "print('list1 :',id(list1))\n",
    "print('list2 :',id(list2))\n",
    "\n",
    "print('list1[0] :',list1[0])\n",
    "print('list2[0] :',list2[0])\n",
    "print('list1 의 내부 리스트나 list2 의 내부 리스트의 주소가 다름')\n",
    "print('list1[0] :',id(list1[0]))\n",
    "print('list2[0] :',id(list2[0]))\n",
    "\n",
    "print('list1[1] :',list1[1])\n",
    "print('list2[1] :',list2[1])\n",
    "print('list1 의 내부 리스트나 list2 의 내부 리스트의 주소가 다름')\n",
    "print('list1[1] :',id(list1[1]))\n",
    "print('list2[1] :',id(list2[1]))"
   ]
  },
  {
   "cell_type": "code",
   "execution_count": 51,
   "id": "283c316f",
   "metadata": {},
   "outputs": [
    {
     "name": "stdout",
     "output_type": "stream",
     "text": [
      "list1 의 내부 리스트와 list2 의 내부 리스트의 주소가 다르므로\n",
      "list1 에서 내부 리스트를 변경해도 list2 의 내부 리스트는 변경 안 됨\n",
      "list1[0] : [1, 2, 3]\n",
      "list2[0] : [1, 2, 3]\n",
      "list1[0][0] = 1234\n",
      "list1[0] : [1234, 2, 3]\n",
      "list2[0] : [1, 2, 3]\n",
      "list1 의 내부 리스트와 list2 의 내부 리스트의 주소가 다르므로\n",
      "list2 에서 내부 리스트를 변경해도 list1 의 내부 리스트는 변경 안 됨\n",
      "list2[1][2] = 6789\n",
      "list1[1] : [4, 5, 6]\n",
      "list2[1] : [4, 5, 6789]\n"
     ]
    }
   ],
   "source": [
    "print('list1 의 내부 리스트와 list2 의 내부 리스트의 주소가 다르므로')\n",
    "print('list1 에서 내부 리스트를 변경해도 list2 의 내부 리스트는 변경 안 됨')\n",
    "print('list1[0] :',list1[0])\n",
    "print('list2[0] :',list2[0])\n",
    "list1[0][0] = 1234\n",
    "print('list1[0][0] = 1234')\n",
    "print('list1[0] :',list1[0])\n",
    "print('list2[0] :',list2[0])\n",
    "\n",
    "print('list1 의 내부 리스트와 list2 의 내부 리스트의 주소가 다르므로')\n",
    "print('list2 에서 내부 리스트를 변경해도 list1 의 내부 리스트는 변경 안 됨')\n",
    "list2[1][2] = 6789\n",
    "print('list2[1][2] = 6789')\n",
    "print('list1[1] :',list1[1])\n",
    "print('list2[1] :',list2[1])"
   ]
  },
  {
   "cell_type": "code",
   "execution_count": null,
   "id": "0556d8c2",
   "metadata": {},
   "outputs": [],
   "source": []
  },
  {
   "cell_type": "code",
   "execution_count": null,
   "id": "dcef4289",
   "metadata": {},
   "outputs": [],
   "source": []
  },
  {
   "cell_type": "code",
   "execution_count": null,
   "id": "6fe39734",
   "metadata": {},
   "outputs": [],
   "source": []
  },
  {
   "cell_type": "code",
   "execution_count": null,
   "id": "16eb80c1",
   "metadata": {},
   "outputs": [],
   "source": []
  }
 ],
 "metadata": {
  "kernelspec": {
   "display_name": "Python 3 (ipykernel)",
   "language": "python",
   "name": "python3"
  },
  "language_info": {
   "codemirror_mode": {
    "name": "ipython",
    "version": 3
   },
   "file_extension": ".py",
   "mimetype": "text/x-python",
   "name": "python",
   "nbconvert_exporter": "python",
   "pygments_lexer": "ipython3",
   "version": "3.9.12"
  }
 },
 "nbformat": 4,
 "nbformat_minor": 5
}

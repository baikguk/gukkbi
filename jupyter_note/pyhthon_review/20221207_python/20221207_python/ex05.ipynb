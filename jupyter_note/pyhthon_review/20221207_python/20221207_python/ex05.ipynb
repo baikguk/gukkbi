{
 "cells": [
  {
   "cell_type": "code",
   "execution_count": null,
   "id": "b80420c5",
   "metadata": {},
   "outputs": [],
   "source": [
    "import pprint"
   ]
  },
  {
   "cell_type": "code",
   "execution_count": null,
   "id": "06545cbe",
   "metadata": {},
   "outputs": [],
   "source": [
    "students = {\n",
    "    'name' : ['이순신','강감찬','유관순'],\n",
    "    'addr' : ['동작구','마포구','관악구'],\n",
    "    'age' : [46, 72, 19],\n",
    "    'grade' : [4, 3, 1],\n",
    "    'class' : [2, 5, 1]\n",
    "}\n",
    "pprint.pprint(students)"
   ]
  },
  {
   "cell_type": "code",
   "execution_count": null,
   "id": "399b8ac8",
   "metadata": {},
   "outputs": [],
   "source": [
    "'''\n",
    "dictionary 에서 item 삭제하기\n",
    "'''\n",
    "# 1) pop('key') 메소드\n",
    "#         ㄴ 지정한 key 에 해당하는 item 이 삭제되고, value 는 반환함\n",
    "value1 = students.pop('age')\n",
    "print('value1 :',value1)\n",
    "pprint.pprint(students)"
   ]
  },
  {
   "cell_type": "code",
   "execution_count": null,
   "id": "8cc5db00",
   "metadata": {},
   "outputs": [],
   "source": [
    "# 2) popitem() 메소드 : 맨 마지막에 입력된 item 을 삭제함, item 전체를 반환함\n",
    "item1 = students.popitem()\n",
    "print('item1 :',item1)\n",
    "pprint.pprint(students)"
   ]
  },
  {
   "cell_type": "code",
   "execution_count": null,
   "id": "749e1bb6",
   "metadata": {},
   "outputs": [],
   "source": [
    "# 3) del 명령어 사용하기\n",
    "del students['name']\n",
    "pprint.pprint(students)"
   ]
  },
  {
   "cell_type": "code",
   "execution_count": null,
   "id": "e29cbd66",
   "metadata": {},
   "outputs": [],
   "source": [
    "students = {\n",
    "    'name' : ['이순신','강감찬','유관순'],\n",
    "    'addr' : ['동작구','마포구','관악구'],\n",
    "    'age' : [46, 72, 19],\n",
    "    'grade' : [4, 3, 1],\n",
    "    'class' : [2, 5, 1]\n",
    "}\n",
    "pprint.pprint(students)"
   ]
  },
  {
   "cell_type": "code",
   "execution_count": null,
   "id": "c34eccc5",
   "metadata": {},
   "outputs": [],
   "source": [
    "# 4) clear() 메소드 : 모든 item 을 한꺼번에 삭제함\n",
    "students.clear()\n",
    "pprint.pprint(students)"
   ]
  },
  {
   "cell_type": "code",
   "execution_count": null,
   "id": "3e17f89d",
   "metadata": {},
   "outputs": [],
   "source": [
    "'''\n",
    "dictionary  결합하기 - update() 메소드\n",
    "'''\n",
    "std1 = {'name':['장보고','이순신','유관순'], 'age':[36, 46, 19]}\n",
    "std2 = {'height':[184, 197, 170], 'weight':[81,92,56]}\n",
    "print('std1')\n",
    "pprint.pprint(std1)\n",
    "print('std2')\n",
    "pprint.pprint(std2)"
   ]
  },
  {
   "cell_type": "code",
   "execution_count": null,
   "id": "f4b275fc",
   "metadata": {},
   "outputs": [],
   "source": [
    "# std1 에 std2 를 결합함 : std1 에서 한 작업이라서 std2 는 변화가 없음\n",
    "std1.update(std2)\n",
    "print('std1')\n",
    "pprint.pprint(std1)\n",
    "print('std2')\n",
    "pprint.pprint(std2)"
   ]
  },
  {
   "cell_type": "code",
   "execution_count": null,
   "id": "2428a2e5",
   "metadata": {},
   "outputs": [],
   "source": [
    "# std2 에 std1 을 결합함 : std2 에서 한 작업이라서 std1 는 변화가 없음\n",
    "# std2 에서, 이미 있는 key 는 변화가 없음\n",
    "std2.update(std1)\n",
    "print('std1')\n",
    "pprint.pprint(std1)\n",
    "print('std2')\n",
    "pprint.pprint(std2)"
   ]
  },
  {
   "cell_type": "code",
   "execution_count": null,
   "id": "750e1fa7",
   "metadata": {},
   "outputs": [],
   "source": []
  }
 ],
 "metadata": {
  "kernelspec": {
   "display_name": "Python 3 (ipykernel)",
   "language": "python",
   "name": "python3"
  },
  "language_info": {
   "codemirror_mode": {
    "name": "ipython",
    "version": 3
   },
   "file_extension": ".py",
   "mimetype": "text/x-python",
   "name": "python",
   "nbconvert_exporter": "python",
   "pygments_lexer": "ipython3",
   "version": "3.9.12"
  }
 },
 "nbformat": 4,
 "nbformat_minor": 5
}

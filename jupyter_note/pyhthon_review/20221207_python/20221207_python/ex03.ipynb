{
 "cells": [
  {
   "cell_type": "code",
   "execution_count": null,
   "id": "42772e02",
   "metadata": {},
   "outputs": [],
   "source": [
    "'''\n",
    " set type \n",
    "    index 가 없음 <-- sequential type 이 아님 : item 의 중복을 허용하지 않음\n",
    "    item 이 중복되더라도 구분할 수 있는 수단이 있으면\n",
    "    중복을 허용하나, index 가 없으면 item 자체로만 구분이 되므로\n",
    "    set 에서는 item 의 중복을 허용하지 않음\n",
    "    \n",
    "    index 가 없어서 item 을 저장하면 순서가 보장되지 않음\n",
    "    (sequential type 이 아님)\n",
    "    \n",
    "    {} 를 사용함 - 비어있는 set 을 생성할 때는 {} 는 사용하지 못함\n",
    "                   set() 함수만 사용할 수 있음\n",
    "                   item 이 있는 set 을 생성할 때는 {} 도 사용할 수 있음\n",
    "                   {} 을 사용해서 생성하면 set 이 생성되지 않고\n",
    "                                           dictionary 가 생성됨\n",
    "'''\n",
    "\n",
    "# 비어 있는 set 생성하기\n",
    "set1 = set()\n",
    "print('set1 :',set1)\n",
    "print('set1 :',type(set1))\n",
    "\n",
    "# {} 을 사용하는 경우, 비어있는 dictionary 가 생성됨\n",
    "set2 = {}\n",
    "print('set2 :',set2)\n",
    "print('set2 :',type(set2))\n",
    "\n",
    "# 리스트로 set 생성하기\n",
    "set3 = set([1, 2, 2, 3, 3, 3, 4, 5, 6, 7, 7, 8])\n",
    "# item 이 중복되어 저장되지 않음\n",
    "print('set3 :',set3)\n",
    "print('set3 :',type(set3))\n",
    "\n",
    "# 튜플로 set 생성하기\n",
    "set4 = set((1, 2, 3, 3, 3, 4, 5,))\n",
    "print('set4 :',set4)\n",
    "print('set4 :',type(set4))\n",
    "\n",
    "# 문자열로 set 생성하기\n",
    "set5 = set('python program')\n",
    "# index 가 없으므로 \n",
    "# item 이 저장된 순서가 보장되지 않음\n",
    "# set3, set4 의 경우에도 순서가 보장되지 않으나\n",
    "# item 이 숫자인 경우에는 python 이 \n",
    "# 정렬된 형태로 출력만 해주는 것이지\n",
    "# 메모리에서 실제로 순서를 기억하지는 않음\n",
    "print('set5 :',set5)\n",
    "print('set5 :',type(set5))"
   ]
  },
  {
   "cell_type": "code",
   "execution_count": null,
   "id": "979a25de",
   "metadata": {},
   "outputs": [],
   "source": [
    "'''\n",
    "교집합, 합집합, 차집합, 대칭차집합(차집합의 합집합)\n",
    "'''\n",
    "set1 = {1, 2, 3, 4, 5, 6}\n",
    "set2 = {4, 5, 6, 7, 8, 9}\n",
    "print('set1 :',set1)\n",
    "print('set2 :',set2)\n",
    "\n",
    "# 교집합 : & 연산자 / intersection() 메소드\n",
    "print('set1 & set2 :', set1 & set2)\n",
    "print('set1.intersection(set2) :',set1.intersection(set2))\n",
    "\n",
    "# 합집합 : | 연산자 / union() 메소드\n",
    "print('set1 | set2 :',set1 | set2)\n",
    "print('set1.union(set2) :',set1.union(set2))\n",
    "\n",
    "# 차집합 : - 연산자 / difference() 메소드\n",
    "print('set1 - set2 :',set1 - set2)\n",
    "print('set1.difference(set2) :',set1.difference(set2))\n",
    "print('set2 - set1 :',set2 - set1)\n",
    "print('set2.difference(set1) :',set2.difference(set1))\n",
    "\n",
    "# 대칭차집합 : ^ 연산자 / symmetric_difference() 메소드\n",
    "print('set1 ^ set2 :',set1 ^ set2)\n",
    "print('set1.symmetric_difference(set2) :',set1.symmetric_difference(set2))\n",
    "\n",
    "# 부분집합 : issubset() 메소드\n",
    "set3 = {2, 4, 6}\n",
    "set4 = {1, 2, 3, 4, 5, 6, 7, 8}\n",
    "\n",
    "# set3 이 set4 의 부분집합인지 확인하기 : True\n",
    "print('set3.issubset(set4) :',set3.issubset(set4))\n",
    "\n",
    "# set4 가 set3 의 부분집합인지 확인하기 : False\n",
    "print('set4.issubset(set3) :',set4.issubset(set3))\n",
    "\n",
    "# 확대집합 : issuperset() 메소드\n",
    "\n",
    "# set4 가 set3 의 확대집합인지 확인하기 : True\n",
    "print('set4.issuperset(set3) :',set4.issuperset(set3))\n",
    "\n",
    "# set3 이 set4 의 확대집합인지 확인하기 : False\n",
    "print('set3.issuperset(set4) :',set3.issuperset(set4))"
   ]
  },
  {
   "cell_type": "code",
   "execution_count": null,
   "id": "fe7c8ea1",
   "metadata": {},
   "outputs": [],
   "source": [
    "'''\n",
    "set  에 item 추가하기 : add() 메소드 - item 하나 추가\n",
    " ㄴ mutable type\n",
    "'''\n",
    "set1 = {1, 2, 3, 4, 5}\n",
    "print('set1 :',set1)\n",
    "set1.add(6)\n",
    "print('set1 :',set1)\n",
    "set1.add(7)\n",
    "print('set1 :',set1)\n",
    "set1.add(8)\n",
    "print('set1 :',set1)"
   ]
  },
  {
   "cell_type": "code",
   "execution_count": null,
   "id": "1a97bd4d",
   "metadata": {},
   "outputs": [],
   "source": [
    "'''\n",
    "set  에 item 추가하기 : update() 메소드 - item 여러 개 추가\n",
    " ㄴ mutable type\n",
    "'''\n",
    "print('set1 :',set1)\n",
    "set1.update({9, 10, 11})\n",
    "print('set1 :',set1)\n",
    "set1.update([12, 13, 14])\n",
    "print('set1 :',set1)\n",
    "set1.update((15, 16, 17))\n",
    "print('set1 :',set1)"
   ]
  },
  {
   "cell_type": "code",
   "execution_count": null,
   "id": "40aef755",
   "metadata": {},
   "outputs": [],
   "source": [
    "'''\n",
    "set 에 저장된 item 삭제하기\n",
    "  ㄴ remove(), discard(), pop(), clear()\n",
    "'''\n",
    "print('set1 :',set1)\n",
    "\n",
    "# remove() 메소드 : () 안에 넣은 item 을 삭제함, index 번호로 지정할 수 없음\n",
    "set1.remove(13)\n",
    "print('set1 :',set1)"
   ]
  },
  {
   "cell_type": "code",
   "execution_count": null,
   "id": "40eaf20a",
   "metadata": {},
   "outputs": [],
   "source": [
    "# discard() 메소드 : () 안에 넣은 item 을 삭제함, index 번호로 지정할 수 없음\n",
    "# discard() 와 remove() 차이점\n",
    "# 없는 item 을 삭제하려 할 때\n",
    "# remove() 는 오류 발생함 / discard() 는 오류는 발생하지 않고 삭제가 안 이루어짐\n",
    "set1.discard(10)\n",
    "print('set1 :',set1)"
   ]
  },
  {
   "cell_type": "code",
   "execution_count": null,
   "id": "17f5d860",
   "metadata": {},
   "outputs": [],
   "source": [
    "# set1 에서 10 이 삭제된 후\n",
    "# discard(10) 을 실행하면 \n",
    "# 오류는 발생하지 않고 삭제가 안 이루어짐\n",
    "set1.discard(10)\n",
    "print('set1 :',set1)"
   ]
  },
  {
   "cell_type": "code",
   "execution_count": null,
   "id": "0615120c",
   "metadata": {},
   "outputs": [],
   "source": [
    "# set1 에서 10 이 삭제된 후\n",
    "# remove(10) 을 실행하면 \n",
    "# 오류가 발생함\n",
    "# KeyError: 10\n",
    "# set1.remove(10)"
   ]
  },
  {
   "cell_type": "code",
   "execution_count": null,
   "id": "6d244ad1",
   "metadata": {},
   "outputs": [],
   "source": [
    "# pop() : 임의의 item 을 삭제하고 반환함 - \n",
    "#         item 이 없는 set 에서 pop() 을 호출하면 KeyError 발생함\n",
    "#         실행해 보면 제일먼저 저장된 item 을 삭제하고 반환하는 것 같으나\n",
    "#         실질적으로 삭제 순서가 보장되지는 않음\n",
    "set1 = {1, 2, 3, 4, 5, 6, 7, 8, 9, 10, 11, 12, 14, 15, 16, 17}\n",
    "print('set1 :',set1)\n",
    "item1 = set1.pop()\n",
    "print('item1 ',item1)\n",
    "print('set1 :',set1)\n",
    "item1 = set1.pop()\n",
    "print('item1 ',item1)\n",
    "print('set1 :',set1)\n",
    "item1 = set1.pop()\n",
    "print('item1 ',item1)\n",
    "print('set1 :',set1)"
   ]
  },
  {
   "cell_type": "code",
   "execution_count": null,
   "id": "ae67103a",
   "metadata": {},
   "outputs": [],
   "source": [
    "'''\n",
    "clear() 메소드 - set 에 저장된 모든 item 을 한꺼번에 삭제함\n",
    "'''\n",
    "print('set1 :',set1)\n",
    "set1.clear()\n",
    "# 비어 있는 set 이 됨\n",
    "print('set1 :',set1)"
   ]
  },
  {
   "cell_type": "code",
   "execution_count": null,
   "id": "5c729973",
   "metadata": {},
   "outputs": [],
   "source": [
    "'''\n",
    "range() 함수를 사용해서 set 생성하기\n",
    "'''\n",
    "set2 = set(range(1, 11))\n",
    "print('set2 :',set2)"
   ]
  },
  {
   "cell_type": "code",
   "execution_count": null,
   "id": "24d5c0e6",
   "metadata": {},
   "outputs": [],
   "source": [
    "'''\n",
    "list 속에 list 나 tuple 포함하기\n",
    "'''\n",
    "numbers = [1, 2, 3, [4, 5], [6, 7], (8, 9)]\n",
    "print('numbers :',numbers)"
   ]
  },
  {
   "cell_type": "code",
   "execution_count": null,
   "id": "14097685",
   "metadata": {},
   "outputs": [],
   "source": [
    "'''\n",
    "list 속에 set 포함하기\n",
    "'''\n",
    "numbers = [1, 2, 4, {4, 5, 6}]\n",
    "print('numbers :',numbers)"
   ]
  },
  {
   "cell_type": "code",
   "execution_count": null,
   "id": "0fe8c453",
   "metadata": {},
   "outputs": [],
   "source": [
    "'''\n",
    "tuple 속에 set 포함하기\n",
    "'''\n",
    "numbers = (1, 2, 3, {4, 5, 6})\n",
    "print('numbers :',numbers)"
   ]
  },
  {
   "cell_type": "code",
   "execution_count": null,
   "id": "a1061df2",
   "metadata": {},
   "outputs": [],
   "source": [
    "'''\n",
    "set 속에 list 포함하기 : list 는 mutable type 이라서 안 됨\n",
    " ㄴ set 속에는 immutable type 만 포함(저장)할 수 없음\n",
    "'''\n",
    "# numbers = {1, 2, 3, [4, 5, 6]}"
   ]
  },
  {
   "cell_type": "code",
   "execution_count": null,
   "id": "8ea4166b",
   "metadata": {},
   "outputs": [],
   "source": [
    "'''\n",
    "set 속에 set 포함하기 : set 은 mutable type 이라서 안 됨\n",
    " ㄴ set 속에는 immutable type 만 포함(저장)할 수 없음\n",
    "'''\n",
    "# numbers = {1, 2, 3, {4, 5, 6}}"
   ]
  },
  {
   "cell_type": "code",
   "execution_count": null,
   "id": "e6c1e9c1",
   "metadata": {},
   "outputs": [],
   "source": [
    "'''\n",
    "frozenset : set 구조이면서 immutable 한 type\n",
    "                            ㄴ item 의 추가, 변경, 삽입, 삭제가 안 됨\n",
    "'''\n",
    "# 비어 있는 frozenset 생성하기\n",
    "fs1 = frozenset()\n",
    "print('fs1 :',fs1)\n",
    "print('fs1 :',type(fs1))\n",
    "\n",
    "# 리스트로 frozenset 생성하기\n",
    "fs2 = frozenset([1, 2, 3, 4, 5])\n",
    "print('fs2 :',fs2)\n",
    "print('fs2 :',type(fs2))\n",
    "\n",
    "# 튜플로 frozenset 생성하기\n",
    "fs3 = frozenset((6, 7, 8, 9))\n",
    "print('fs3 :',fs3)\n",
    "print('fs3 :',type(fs3))\n",
    "\n",
    "# 셋으로 frozenset 생성하기\n",
    "fs4 = frozenset({10, 11, 12})\n",
    "print('fs4 :',fs4)\n",
    "print('fs4 :',type(fs4))"
   ]
  },
  {
   "cell_type": "code",
   "execution_count": null,
   "id": "93f6b79b",
   "metadata": {},
   "outputs": [],
   "source": []
  },
  {
   "cell_type": "code",
   "execution_count": null,
   "id": "f505e326",
   "metadata": {},
   "outputs": [],
   "source": []
  }
 ],
 "metadata": {
  "kernelspec": {
   "display_name": "Python 3 (ipykernel)",
   "language": "python",
   "name": "python3"
  },
  "language_info": {
   "codemirror_mode": {
    "name": "ipython",
    "version": 3
   },
   "file_extension": ".py",
   "mimetype": "text/x-python",
   "name": "python",
   "nbconvert_exporter": "python",
   "pygments_lexer": "ipython3",
   "version": "3.9.12"
  }
 },
 "nbformat": 4,
 "nbformat_minor": 5
}

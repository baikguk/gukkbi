{
 "cells": [
  {
   "cell_type": "code",
   "execution_count": null,
   "id": "1e2316b0",
   "metadata": {},
   "outputs": [],
   "source": [
    "import numpy as np"
   ]
  },
  {
   "cell_type": "code",
   "execution_count": null,
   "id": "1500a7ff",
   "metadata": {},
   "outputs": [],
   "source": [
    "arr1 = np.arange(8)\n",
    "\n",
    "print(arr1)\n",
    "\n",
    "# arr1 을 3 차원 구조로 변경하기\n",
    "arr3d = arr1.reshape((2, 2, 2,))\n",
    "print(arr3d)"
   ]
  },
  {
   "cell_type": "code",
   "execution_count": null,
   "id": "bb1d38e2",
   "metadata": {},
   "outputs": [],
   "source": [
    "'''\n",
    "ndarray 를 list 로 변환하기 : tolist() 메소드\n",
    "'''\n",
    "print(arr3d.tolist())\n",
    "'''\n",
    "3 차원 ndarray 를 2 차원 ndarray 로 변환하기\n",
    "'''\n",
    "print(arr3d.reshape(-1, 2))\n",
    "print(arr3d.reshape(-1, 2).tolist())\n",
    "'''\n",
    "3 차원 ndarray 를 1 차원 ndarray 로 변환하기\n",
    "'''\n",
    "print(arr3d.reshape(-1))\n",
    "print(arr3d.reshape(-1).tolist())\n",
    "print(arr3d.reshape(-1,))\n",
    "print(arr3d.reshape(-1,).tolist())"
   ]
  },
  {
   "cell_type": "markdown",
   "id": "54e63964",
   "metadata": {},
   "source": [
    "### Numpy ndarray 의 dataset 에서 indexing 하기"
   ]
  },
  {
   "cell_type": "code",
   "execution_count": null,
   "id": "d8b26957",
   "metadata": {},
   "outputs": [],
   "source": [
    "'''\n",
    "단일 indexing\n",
    "'''\n",
    "# 1 ~ 9 까지의 숫자로 된 ndarray 생성하기\n",
    "arr1 = np.arange(1, 10)\n",
    "print(arr1)\n",
    "print(arr1[3])\n",
    "print(arr1)\n",
    "print(arr1[-1])\n",
    "print(arr1)\n",
    "\n",
    "'''\n",
    "ndarray 는 indexing 한 item 을 다른 값으로 재할당할 수 있음\n",
    "  ㄴ mutable type\n",
    "'''\n",
    "arr1[3] = 555\n",
    "print(arr1)\n",
    "arr1[-1] = 333\n",
    "print(arr1)"
   ]
  },
  {
   "cell_type": "code",
   "execution_count": null,
   "id": "e87717d1",
   "metadata": {},
   "outputs": [],
   "source": [
    "arr1 = np.arange(1, 10)\n",
    "print(arr1)\n",
    "\n",
    "arr2d = arr1.reshape(3, 3)\n",
    "print(arr2d)"
   ]
  },
  {
   "cell_type": "code",
   "execution_count": null,
   "id": "2853bbc2",
   "metadata": {},
   "outputs": [],
   "source": [
    "print(arr2d[0])\n",
    "print(arr2d[1])\n",
    "print(arr2d[2])"
   ]
  },
  {
   "cell_type": "code",
   "execution_count": null,
   "id": "85d5445a",
   "metadata": {},
   "outputs": [],
   "source": [
    "print(arr2d[0][0])\n",
    "print(arr2d[0][1])\n",
    "print(arr2d[0][2])\n",
    "print(arr2d[1][0])\n",
    "print(arr2d[1][1])\n",
    "print(arr2d[1][2])\n",
    "print(arr2d[2][0])\n",
    "print(arr2d[2][1])\n",
    "print(arr2d[2][2])"
   ]
  },
  {
   "cell_type": "code",
   "execution_count": null,
   "id": "8e74c46d",
   "metadata": {},
   "outputs": [],
   "source": [
    "'''\n",
    "ndarray 에서 slicing 하기\n",
    "'''\n",
    "arr1 = np.arange(1, 10)\n",
    "print(arr1)\n",
    "print(arr1[:3])\n",
    "print(arr1[3:])\n",
    "print(arr1[:])"
   ]
  },
  {
   "cell_type": "code",
   "execution_count": null,
   "id": "90c2cbfe",
   "metadata": {},
   "outputs": [],
   "source": [
    "arr2d = arr1.reshape(3, 3)\n",
    "print(arr2d)"
   ]
  },
  {
   "cell_type": "code",
   "execution_count": null,
   "id": "5293f765",
   "metadata": {},
   "outputs": [],
   "source": [
    "print('arr2d[:2, 2]')\n",
    "print(arr2d[:2, 2])\n",
    "print('arr2d[1:3, :]')\n",
    "print(arr2d[1:3, :])\n",
    "print('arr2d[:, :]')\n",
    "print(arr2d[:, :])"
   ]
  },
  {
   "cell_type": "code",
   "execution_count": null,
   "id": "0a8f442d",
   "metadata": {},
   "outputs": [],
   "source": [
    "print(arr2d)\n",
    "print('arr2d[:2, 0]')\n",
    "print(arr2d[:2, 0])\n",
    "print(arr2d[:2, 0].shape)\n",
    "print('arr2d[:2, :1]')\n",
    "print(arr2d[:2, :1])\n",
    "print(arr2d[:2, :1].shape)"
   ]
  },
  {
   "cell_type": "markdown",
   "id": "44f37f90",
   "metadata": {},
   "source": [
    "### Fancy Indexing\n",
    "- slicing : 범위를 정해서 연속적으로 indexing 함\n",
    "- fancy indexing : 연속적이지 않은 slicing"
   ]
  },
  {
   "cell_type": "code",
   "execution_count": null,
   "id": "8a4b4018",
   "metadata": {},
   "outputs": [],
   "source": [
    "print(arr2d)"
   ]
  },
  {
   "cell_type": "code",
   "execution_count": null,
   "id": "f7c71904",
   "metadata": {},
   "outputs": [],
   "source": [
    "# slicing\n",
    "print('arr2d[0:2, 2]')\n",
    "print(arr2d[0:2, 2])"
   ]
  },
  {
   "cell_type": "code",
   "execution_count": null,
   "id": "30785adc",
   "metadata": {},
   "outputs": [],
   "source": [
    "# fancy indexing\n",
    "print('arr2d[[0,1], 2]')\n",
    "print(arr2d[[0,1], 2])"
   ]
  },
  {
   "cell_type": "code",
   "execution_count": null,
   "id": "e83f807c",
   "metadata": {},
   "outputs": [],
   "source": [
    "# fancy indexing\n",
    "print('arr2d[[0,2], 2]')\n",
    "print(arr2d[[0,2], 2])"
   ]
  },
  {
   "cell_type": "code",
   "execution_count": null,
   "id": "d13e6eab",
   "metadata": {},
   "outputs": [],
   "source": [
    "# slicing\n",
    "print('arr2d[0:3, 2]')\n",
    "print(arr2d[0:3, 2])"
   ]
  },
  {
   "cell_type": "code",
   "execution_count": null,
   "id": "ad92ee03",
   "metadata": {},
   "outputs": [],
   "source": [
    "# fancy indexing\n",
    "print('arr2d[[0, 2], 2]')\n",
    "print(arr2d[[0, 2], 2])"
   ]
  },
  {
   "cell_type": "markdown",
   "id": "90e56eb7",
   "metadata": {},
   "source": [
    "### boolean indexing : [](인덱스 연산자) 안에 bool type 값을 지정함"
   ]
  },
  {
   "cell_type": "code",
   "execution_count": null,
   "id": "3bfd7066",
   "metadata": {},
   "outputs": [],
   "source": [
    "print(arr1)"
   ]
  },
  {
   "cell_type": "code",
   "execution_count": null,
   "id": "e2b34e4e",
   "metadata": {},
   "outputs": [],
   "source": [
    "'''\n",
    "arr1 에서 5 보다 큰 요소들로 이루어진 ndarray 생성하기\n",
    "  ㄴ boolean indexing 으로 filtering 함\n",
    "'''\n",
    "# 1) [] 연산자 안에 조건식 작성하기\n",
    "print('arr1[arr1 > 5]')\n",
    "print(arr1[arr1 > 5])\n",
    "\n",
    "arr_bool = \\\n",
    "  np.array([False, False, False, False, False, True, True, True, True])\n",
    "# 2) [] 연산자 안에 bool type 으로 이루어진 ndarray 넣어주기\n",
    "print(arr1[arr_bool])"
   ]
  },
  {
   "cell_type": "code",
   "execution_count": null,
   "id": "a057482d",
   "metadata": {},
   "outputs": [],
   "source": [
    "'''\n",
    "arr1 에서 5 보다 큰 요소들로 이루어진 ndarray 생성하기\n",
    "  ㄴ 일반 인덱싱으로 filtering 함\n",
    "'''\n",
    "arr_idx = np.array([5, 6, 7, 8])\n",
    "print(arr1[arr_idx])"
   ]
  },
  {
   "cell_type": "code",
   "execution_count": null,
   "id": "7c6ab542",
   "metadata": {},
   "outputs": [],
   "source": [
    "'''\n",
    "arr1 <-- [1 2 3 4 5 6 7 8 9]\n",
    "arr1 에서 5 보다 큰 요소들로 이루어진 ndarray 생성하기\n",
    " ㄴ for 문으로 작성해서 출력해 보세요\n",
    "    리스트 내포로 작성하세요\n",
    "'''\n",
    "result = []\n",
    "for idx in range(9):\n",
    "    if arr1[idx] > 5:\n",
    "        result.append(arr1[idx])\n",
    "print(result)        \n",
    "result = []\n",
    "for number in arr1:\n",
    "    if number > 5:\n",
    "        result.append(number)\n",
    "print(result)   \n",
    "print([number for number in arr1 if number > 5])"
   ]
  },
  {
   "cell_type": "markdown",
   "id": "f9f6dd92",
   "metadata": {},
   "source": [
    "### ndarray 정렬하기\n",
    "- numpy 의 sort() 함수, ndarray 의  sort() 메소드\n",
    "- argsort() 함수"
   ]
  },
  {
   "cell_type": "code",
   "execution_count": null,
   "id": "a3a4081a",
   "metadata": {},
   "outputs": [],
   "source": [
    "arr_origin = np.array([3, 1, 4, 7])\n",
    "print('원본')\n",
    "print(arr_origin)"
   ]
  },
  {
   "cell_type": "code",
   "execution_count": null,
   "id": "562e6263",
   "metadata": {},
   "outputs": [],
   "source": [
    "arr_sort = np.sort(arr_origin)\n",
    "print('np.sort() 함수로 정렬한 ndarray')\n",
    "print(arr_sort)\n",
    "print('np.sort() 함수로 정렬한 후 원본 ndarray')\n",
    "print('  ㄴ 원본을 정렬하지 않고 정렬된 새로운 ndarray 를 반환함')\n",
    "print(arr_origin)"
   ]
  },
  {
   "cell_type": "code",
   "execution_count": null,
   "id": "d361122c",
   "metadata": {},
   "outputs": [],
   "source": [
    "arr_sort2 = arr_origin.sort()\n",
    "print('ndarray 의 sort() 메소드로 정렬한 ndarray')\n",
    "print('  ㄴ 새로운 ndarray 를 생성해서 반환하지 않음')\n",
    "print(arr_sort2)\n",
    "print('ndarray 의 sort() 메소드로 정렬한 후 원본 ndarray')\n",
    "print('  ㄴ 원본을 정렬하고 새로운 ndarray 를 생성해서 반환하지 않음')\n",
    "print(arr_origin)"
   ]
  },
  {
   "cell_type": "code",
   "execution_count": null,
   "id": "8abd4f62",
   "metadata": {},
   "outputs": [],
   "source": [
    "arr_origin = np.array([3, 1, 4, 7])\n",
    "print('원본')\n",
    "print(arr_origin)"
   ]
  },
  {
   "cell_type": "code",
   "execution_count": null,
   "id": "1491f49b",
   "metadata": {},
   "outputs": [],
   "source": [
    "'''\n",
    "내림차순으로 정렬하기 : [::-1] slicing 사용\n",
    "'''\n",
    "arr_sort_descending = np.sort(arr_origin)[::-1]\n",
    "print(arr_sort_descending)"
   ]
  },
  {
   "cell_type": "code",
   "execution_count": null,
   "id": "c0c6c14f",
   "metadata": {},
   "outputs": [],
   "source": [
    "'''\n",
    "2 차원 ndarray 정렬하기 - row 방향 / column 방향\n",
    "                          axis=0        axis=1\n",
    "'''\n",
    "arr2d = np.array([[9, 13],\n",
    "                  [6, 2]])\n",
    "print(arr2d)\n",
    "print('row 방향 정렬 - row 를 축으로 해서 정렬함')\n",
    "print(np.sort(arr2d, axis=0))\n",
    "print('column 방향 정렬 - column 을 축으로 해서 정렬함')\n",
    "print(np.sort(arr2d, axis=1))"
   ]
  },
  {
   "cell_type": "markdown",
   "id": "5763680f",
   "metadata": {},
   "source": [
    "### numpy 의 argsort() 함수 - index 를 반환함"
   ]
  },
  {
   "cell_type": "code",
   "execution_count": null,
   "id": "406ab52a",
   "metadata": {},
   "outputs": [],
   "source": [
    "arr_origin = np.array([3, 1, 7, 4])\n",
    "print('원본')\n",
    "print(arr_origin)"
   ]
  },
  {
   "cell_type": "code",
   "execution_count": null,
   "id": "0547f7c4",
   "metadata": {},
   "outputs": [],
   "source": [
    "print('원본 arr_origin 의 index')\n",
    "print('배열  : [3 1 7 4]')\n",
    "print('index : [0 1 2 3]')\n",
    "print('배열  :',np.sort(arr_origin))\n",
    "print('index :',np.argsort(arr_origin))\n",
    "print('배열  :',np.sort(arr_origin)[::-1])\n",
    "print('index :',np.argsort(arr_origin)[::-1])"
   ]
  },
  {
   "cell_type": "code",
   "execution_count": null,
   "id": "86c09e33",
   "metadata": {},
   "outputs": [],
   "source": [
    "arr_name  = np.array(['이순신','유관순','강감찬','이율곡','김정호'])\n",
    "print(arr_name[1])\n",
    "print(arr_name[[0, 1]])\n",
    "print(arr_name[[4, 2, 3]])\n",
    "print(arr_name[[3, 0]])\n",
    "print(arr_name[[0, 1, 2, 4]])"
   ]
  },
  {
   "cell_type": "code",
   "execution_count": null,
   "id": "7fdc762c",
   "metadata": {},
   "outputs": [],
   "source": [
    "'''\n",
    "np.argsort() 와 일반 indexing 을 사용해서\n",
    "성적 오름차순으로 이름 출력하기\n",
    "(arr_name 배열과 arr_score 배열의 item 의 순서가 일치해야 함)\n",
    "'''\n",
    "arr_name  = np.array(['이순신','유관순','강감찬','이율곡','김정호'])\n",
    "arr_score = np.array([92, 89, 84, 76, 89])\n",
    "\n",
    "print(np.sort(arr_score))\n",
    "print(np.argsort(arr_score))\n",
    "print('일반 indexing 으로 filtering 하기')\n",
    "print('[] 연산자 안에 리스트나 ndarray 를 넣어주면 item 들을 index로 인식함')\n",
    "print('성적 오름차순으로 이름출력하기')\n",
    "# arr_name <-- ['이순신','유관순','강감찬','이율곡','김정호']\n",
    "print(arr_name[[3, 2, 1, 4, 0]])\n",
    "print(arr_name[np.array([3, 2, 1, 4, 0])])\n",
    "\n",
    "print(arr_score[[3, 2, 1, 4, 0]])"
   ]
  },
  {
   "cell_type": "code",
   "execution_count": null,
   "id": "0edcffce",
   "metadata": {},
   "outputs": [],
   "source": [
    "names = np.array(['양만춘', '신사임당', '대조영', '이성계', '김춘추'])\n",
    "heights = np.array([187, 165, 178, 192, 172])\n",
    "'''\n",
    "argsort() 와 일반 indexing 을 사용해서\n",
    "키가 큰 순서대로 이름을 출력하세요\n",
    "'''\n",
    "print(np.argsort(heights))\n",
    "print(np.sort(heights)[::-1])\n",
    "print(names[np.argsort(heights)[::-1]])"
   ]
  },
  {
   "cell_type": "code",
   "execution_count": null,
   "id": "63b9aa6a",
   "metadata": {},
   "outputs": [],
   "source": [
    "name_weight = {'김유신':83, '장보고':78, '유관순':56, '차범근':85, '손흥민':87}\n",
    "'''\n",
    "argsort() 와 일반 indexing 을 사용해서\n",
    "몸이 무거운 순서대로 이름을 출력하세요\n",
    "(keys(), values() 메소드 사용)\n",
    "'''\n",
    "arr_names = np.array(list(name_weight.keys()))\n",
    "print(arr_names)\n",
    "arr_weights = np.array(list(name_weight.values()))\n",
    "print(arr_weights)\n",
    "print(arr_names[np.argsort(arr_weights)[::-1]])\n",
    "print(np.sort(arr_weights)[::-1])"
   ]
  },
  {
   "cell_type": "code",
   "execution_count": null,
   "id": "7d60e37f",
   "metadata": {},
   "outputs": [],
   "source": [
    "'''\n",
    "행렬의 내적 구하기 - 행렬곱 : numpy 의 dot() 함수\n",
    "'''\n",
    "A = np.array([[1, 2, 3],\n",
    "              [4, 5, 6]])\n",
    "B = np.array([[7, 8],\n",
    "              [9, 10],\n",
    "              [11, 12]])\n",
    "print(A)\n",
    "print(B)\n",
    "arr_product = np.dot(A, B)\n",
    "print(arr_product)"
   ]
  },
  {
   "cell_type": "code",
   "execution_count": null,
   "id": "56a93fbb",
   "metadata": {},
   "outputs": [],
   "source": [
    "'''\n",
    "전치행렬 - transpose matrix : numpy 의 transpose() 함수\n",
    "  ㄴ 주대각선을 축으로 해서 행과 열을 교환함\n",
    "'''\n",
    "A = np.array([[1, 2, 3],\n",
    "              [4, 5, 6],\n",
    "              [7, 8, 9]])\n",
    "print(A)\n",
    "A_T = np.transpose(A)\n",
    "print(A_T)"
   ]
  },
  {
   "cell_type": "code",
   "execution_count": null,
   "id": "75ffa196",
   "metadata": {},
   "outputs": [],
   "source": [
    "'''\n",
    "삼각행렬 : 주대각선을 기준으로 대각항의 위쪽이나 아래쪽 항들의 값이\n",
    "           모두 0 인 행렬\n",
    "상삼각행렬 : 대각항의 아래쪽 항들의 값이 모두 0 인 행렬\n",
    "하삼각행렬 : 대각항의 위쪽 항들의 값이 모두 0 인 행렬\n",
    "\n",
    "numpy 의 triu(ndarray) 함수는 행렬(2차원 배열(ndarray))을 상삼각행렬로 만들어줌\n",
    "\n",
    "numpy 의 ones_like(ndarray) 함수는 행렬(2차원 배열(ndarray))과 구조는 같고\n",
    "                                   모두 1로 채워진 행렬을 만들어 줌\n",
    "'''\n",
    "A = np.array([[1, 2, 3, 4, 5],\n",
    "              [6, 7, 8, 9, 10],\n",
    "              [11, 12, 13, 14, 15],\n",
    "              [16, 17, 18, 19, 20],\n",
    "              [21, 22, 23, 24, 25]])\n",
    "print(A)  \n",
    "print('A.shape :',A.shape)\n",
    "print(np.triu(A))\n",
    "\n",
    "print(np.ones_like(A))\n",
    "print(np.triu(np.ones_like(A)))"
   ]
  }
 ],
 "metadata": {
  "kernelspec": {
   "display_name": "Python 3 (ipykernel)",
   "language": "python",
   "name": "python3"
  },
  "language_info": {
   "codemirror_mode": {
    "name": "ipython",
    "version": 3
   },
   "file_extension": ".py",
   "mimetype": "text/x-python",
   "name": "python",
   "nbconvert_exporter": "python",
   "pygments_lexer": "ipython3",
   "version": "3.9.12"
  }
 },
 "nbformat": 4,
 "nbformat_minor": 5
}

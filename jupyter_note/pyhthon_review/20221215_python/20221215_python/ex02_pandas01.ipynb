{
 "cells": [
  {
   "cell_type": "markdown",
   "id": "1fb3163d",
   "metadata": {},
   "source": [
    "### Pandas\n",
    "- data 분석과 조작을 위한 python 의 library"
   ]
  },
  {
   "cell_type": "code",
   "execution_count": null,
   "id": "bac8a56e",
   "metadata": {},
   "outputs": [],
   "source": [
    "import pandas as pd\n",
    "import numpy as np\n",
    "import warnings\n",
    "warnings.filterwarnings('ignore')"
   ]
  },
  {
   "cell_type": "code",
   "execution_count": null,
   "id": "2d03fc87",
   "metadata": {},
   "outputs": [],
   "source": [
    "pd.__version__"
   ]
  },
  {
   "cell_type": "markdown",
   "id": "ec489ff6",
   "metadata": {},
   "source": [
    "- PassengerId : 탑승자 일렬번호\n",
    "- Survived : 생존 여부 (0 - 사망, 1 - 생존)\n",
    "- Pclass : 선실 등급 (1-일등석, 2-이등석, 3-삼등석)\n",
    "- Name : 승객 이름\n",
    "- Sex : 성별\n",
    "- Age : 나이\n",
    "- SibSp : 형제(자매), 배우자\n",
    "- Parch : 부모, 자식\n",
    "- Ticket : 티켓 번호\n",
    "- Fare : 운임\n",
    "- Cabin : 선실 번호\n",
    "- Embarked : 경유지"
   ]
  },
  {
   "cell_type": "code",
   "execution_count": null,
   "id": "011c1aa2",
   "metadata": {},
   "outputs": [],
   "source": [
    "'''\n",
    "pandas 의 read_csv() 함수\n",
    "   ㄴ csv 파일을 DataFrame 이나 Series 로 변환함\n",
    "                  ㄴ 2차원       ㄴ 1차원\n",
    "'''\n",
    "titanic_df = pd.read_csv('titanic_train.csv')\n",
    "print(type(titanic_df))\n",
    "print(titanic_df.shape)"
   ]
  },
  {
   "cell_type": "code",
   "execution_count": null,
   "id": "12358aab",
   "metadata": {},
   "outputs": [],
   "source": [
    "display(titanic_df)"
   ]
  },
  {
   "cell_type": "code",
   "execution_count": null,
   "id": "084a7db2",
   "metadata": {},
   "outputs": [],
   "source": [
    "display(titanic_df.head())"
   ]
  },
  {
   "cell_type": "code",
   "execution_count": null,
   "id": "408f7829",
   "metadata": {},
   "outputs": [],
   "source": [
    "display(titanic_df.tail())"
   ]
  },
  {
   "cell_type": "code",
   "execution_count": null,
   "id": "31088a2d",
   "metadata": {},
   "outputs": [],
   "source": [
    "display(titanic_df.head(10))"
   ]
  },
  {
   "cell_type": "code",
   "execution_count": null,
   "id": "391c8bff",
   "metadata": {},
   "outputs": [],
   "source": [
    "pd.set_option('display.max_rows', 1000)\n",
    "pd.set_option('display.max_colwidth', 100)\n",
    "pd.set_option('display.max_columns', 100)"
   ]
  },
  {
   "cell_type": "code",
   "execution_count": null,
   "id": "591c264a",
   "metadata": {},
   "outputs": [],
   "source": [
    "display(titanic_df)"
   ]
  },
  {
   "cell_type": "code",
   "execution_count": null,
   "id": "9d4207d8",
   "metadata": {},
   "outputs": [],
   "source": [
    "print(titanic_df.columns)"
   ]
  },
  {
   "cell_type": "code",
   "execution_count": null,
   "id": "2119f9d6",
   "metadata": {},
   "outputs": [],
   "source": [
    "print(titanic_df.index)\n",
    "print(type(titanic_df.index.values))\n",
    "print(titanic_df.index.values)"
   ]
  },
  {
   "cell_type": "code",
   "execution_count": null,
   "id": "4c8dcceb",
   "metadata": {},
   "outputs": [],
   "source": [
    "'''\n",
    "info() 메소드\n",
    "  ㄴ DataFrame 의 column 명, dtype, \n",
    "     Non-Null 건수, data 건수 등...\n",
    "'''\n",
    "titanic_df.info()"
   ]
  },
  {
   "cell_type": "code",
   "execution_count": null,
   "id": "2bf27c6a",
   "metadata": {},
   "outputs": [],
   "source": [
    "'''\n",
    "DataFrame 의 describe() 메소드\n",
    " ㄴ 수치 컬럼의 기초통계량을 반환함\n",
    "    ㄴ dtype 이 숫자형인 컬럼들의\n",
    "       전체 건수, 평균, 표준편차, 4 분위수(quartile) 를 알려줌\n",
    "'''\n",
    "display(titanic_df.describe())"
   ]
  },
  {
   "cell_type": "code",
   "execution_count": null,
   "id": "44901278",
   "metadata": {},
   "outputs": [],
   "source": [
    "titanic_df.describe(exclude=np.number)"
   ]
  },
  {
   "cell_type": "code",
   "execution_count": null,
   "id": "8e4e5cc8",
   "metadata": {},
   "outputs": [],
   "source": [
    "titanic_df.describe(include=np.object)"
   ]
  },
  {
   "cell_type": "code",
   "execution_count": null,
   "id": "39227594",
   "metadata": {},
   "outputs": [],
   "source": [
    "'''\n",
    "value_counts() 메소드\n",
    "  ㄴ 특정 컬럼에서 중복된 값이 몇 개 있는이 반환함\n",
    "                   ㄴ 동일한 개별 data 값이 몇 개 있는지\n",
    "                   \n",
    " DataFrame 에서 컬럼 하나만 추출하면 기본적으로 Series type 이 됨\n",
    "   2 차원 구조                                   1 차원 구조\n",
    "'''\n",
    "print(titanic_df['Pclass'].head())\n",
    "print(titanic_df.Pclass.head())"
   ]
  },
  {
   "cell_type": "code",
   "execution_count": null,
   "id": "75e2de38",
   "metadata": {},
   "outputs": [],
   "source": [
    "print(\"titanic_df['Pclass'].value_counts()\")\n",
    "print(titanic_df['Pclass'].value_counts())"
   ]
  },
  {
   "cell_type": "code",
   "execution_count": null,
   "id": "e7653202",
   "metadata": {},
   "outputs": [],
   "source": [
    "titanic_df['Survived'].value_counts()"
   ]
  },
  {
   "cell_type": "code",
   "execution_count": null,
   "id": "474c5385",
   "metadata": {},
   "outputs": [],
   "source": [
    "'''\n",
    "DataFrame 에서 컬럼 하나를 추출할 때\n",
    "  1) [] 를 한 번 사용하면 Series 로 추출됨      : 1차원 구조 (행, 열 개념이 없음)\n",
    "  2) [] 를 두 번 사용하면 DataFrame 으로 추출됨 : 2차원 구조 (행과 열이 있는 구조)\n",
    "  \n",
    "DataFrame 에서 컬럼 여러 개를 추출할 때  \n",
    "  ㄴ [] 를 두 번 사용해야 함\n",
    "'''\n",
    "print(type(titanic_df['Pclass']))\n",
    "print(type(titanic_df[['Pclass']]))"
   ]
  },
  {
   "cell_type": "code",
   "execution_count": null,
   "id": "421b02aa",
   "metadata": {},
   "outputs": [],
   "source": [
    "titanic_df['Pclass'].head()"
   ]
  },
  {
   "cell_type": "code",
   "execution_count": null,
   "id": "2d5e4921",
   "metadata": {},
   "outputs": [],
   "source": [
    "titanic_df[['Pclass']].head()"
   ]
  },
  {
   "cell_type": "code",
   "execution_count": null,
   "id": "0bdd56b2",
   "metadata": {},
   "outputs": [],
   "source": [
    "'''\n",
    "DataFrame 에서 컬럼 여러 개를 추출할 때  \n",
    "  ㄴ [] 를 두 번 사용해야 함\n",
    "'''\n",
    "# Name, Age\n",
    "titanic_df[['Name', 'Age']].head()"
   ]
  },
  {
   "cell_type": "code",
   "execution_count": null,
   "id": "f03fbff2",
   "metadata": {},
   "outputs": [],
   "source": [
    "titanic_df[['Name', 'Age', 'Sex']].head()"
   ]
  },
  {
   "cell_type": "code",
   "execution_count": null,
   "id": "36717049",
   "metadata": {},
   "outputs": [],
   "source": [
    "'''\n",
    "titanic_df 의 건수(row의 개수) 알아보기\n",
    "  ㄴ DataFrame 의 shape 속성 : 행과 열의 개수를 tuple 로 반환함\n",
    "'''\n",
    "print(titanic_df.shape)\n",
    "print('행의 개수')\n",
    "print(titanic_df.shape[0],'개')\n",
    "print('열의 개수')\n",
    "print(titanic_df.shape[1],'개')"
   ]
  },
  {
   "cell_type": "code",
   "execution_count": null,
   "id": "2fd44b4c",
   "metadata": {},
   "outputs": [],
   "source": [
    "'''\n",
    " Embarked : 경유지 컬럼\n",
    " \n",
    " DataFrame 의 nunique() 메소드  <-- unique 한 값의 개수를 반환함\n",
    "'''\n",
    "print('타이타닉호의 경유지',titanic_df['Embarked'].nunique(),'곳')\n",
    "print('경유지별 승객수')\n",
    "print(titanic_df['Embarked'].value_counts())"
   ]
  },
  {
   "cell_type": "code",
   "execution_count": null,
   "id": "28f6e4cf",
   "metadata": {},
   "outputs": [],
   "source": [
    "'''\n",
    "결측치 - NULL(null), NaN(nan), Na(na)\n",
    "          ㄴ 모두 결측치를 의미함         \n",
    "value_counts() 메소드의 dropna 는 True 가 default 값임\n",
    "'''\n",
    "print('결측치까지 포함해서 Embarked 컬럼에서 경유지별 승객수 알아보기')\n",
    "print('경유지가 기록되지 않은 승객은 2 명임')\n",
    "print(titanic_df['Embarked'].value_counts(dropna=False))"
   ]
  },
  {
   "cell_type": "code",
   "execution_count": null,
   "id": "69a043aa",
   "metadata": {},
   "outputs": [],
   "source": [
    "'''\n",
    "객실등급별, 경유지별 승객수 알아보기\n",
    "'''\n",
    "titanic_df[['Pclass', 'Embarked']].value_counts()"
   ]
  },
  {
   "cell_type": "code",
   "execution_count": null,
   "id": "3e1e3b7f",
   "metadata": {},
   "outputs": [],
   "source": [
    "'''\n",
    "numpy 의 ndarray 와 list, dictionary 를\n",
    "DataFrame 으로 변환하기\n",
    "'''\n",
    "column_name1 = ['col1']\n",
    "list1 = [1, 2, 3]\n",
    "arr1 = np.array(list1)\n",
    "\n",
    "print(list1)\n",
    "print(arr1)"
   ]
  },
  {
   "cell_type": "code",
   "execution_count": null,
   "id": "309b4d23",
   "metadata": {},
   "outputs": [],
   "source": [
    "print('1차원 리스트로 DataFrame 생성하기')\n",
    "print('columns(컬럼파라미터)를 설정하지 않으면 자동으로 0 이 저장됨')\n",
    "list1_df = pd.DataFrame(list1)\n",
    "display(list1_df)"
   ]
  },
  {
   "cell_type": "code",
   "execution_count": null,
   "id": "8d02ee25",
   "metadata": {},
   "outputs": [],
   "source": [
    "print('컬럼파라미터를 지정해서 컬럼명을 정하고 DataFrame 으로 변환하기')\n",
    "list1_df = pd.DataFrame(list1, columns=column_name1)\n",
    "display(list1_df)"
   ]
  },
  {
   "cell_type": "code",
   "execution_count": null,
   "id": "9db6d77f",
   "metadata": {},
   "outputs": [],
   "source": [
    "print('1차원 ndarray 로 DataFrame 생성하기')\n",
    "arr1_df = pd.DataFrame(arr1, columns=column_name1)\n",
    "display(arr1_df)"
   ]
  },
  {
   "cell_type": "code",
   "execution_count": null,
   "id": "22b65e4a",
   "metadata": {},
   "outputs": [],
   "source": [
    "'''\n",
    "2행 3열 구조의 2 차원 리스트와 ndarray 로\n",
    "DataFrame 생성하기\n",
    "'''\n",
    "column_name2 = ['col1', 'col2', 'col3']\n",
    "list2 = [[1, 2, 3],\n",
    "         [11, 22, 33]]\n",
    "arr2 = np.array(list2)\n",
    "print(list2)\n",
    "print(arr2)"
   ]
  },
  {
   "cell_type": "code",
   "execution_count": null,
   "id": "fbd5fb86",
   "metadata": {},
   "outputs": [],
   "source": [
    "list2_df = pd.DataFrame(list2)\n",
    "print('2차원 리스트로 DataFrame 생성하기')\n",
    "print('columns 를 설정하지 않으면 0 1 2 로 자동 생성됨')\n",
    "display(list2_df)"
   ]
  },
  {
   "cell_type": "code",
   "execution_count": null,
   "id": "20f47d58",
   "metadata": {},
   "outputs": [],
   "source": [
    "list2_df = pd.DataFrame(list2, columns=column_name2)\n",
    "print('2차원 리스트로 DataFrame 생성하기')\n",
    "print('columns  설정하기')\n",
    "display(list2_df)"
   ]
  },
  {
   "cell_type": "code",
   "execution_count": null,
   "id": "12159e4f",
   "metadata": {},
   "outputs": [],
   "source": [
    "arr2_df = pd.DataFrame(arr2, columns=column_name2)\n",
    "print('2차원 ndarray 로 DataFrame 생성하기')\n",
    "display(arr2_df)"
   ]
  },
  {
   "cell_type": "code",
   "execution_count": null,
   "id": "2bf9d2ce",
   "metadata": {},
   "outputs": [],
   "source": [
    "'''\n",
    "dictionary 로 DataFrame 생성하기\n",
    "  key   :  컬럼명\n",
    "  value :  data\n",
    "'''\n",
    "dict1 = {'col1':[1, 11], 'col2':[2, 22], 'col3':[3, 33]}\n",
    "dict1_df = pd.DataFrame(dict1)\n",
    "print('dictionary 로 생성한 DataFrame')\n",
    "print(type(dict1_df))\n",
    "display(dict1_df)"
   ]
  },
  {
   "cell_type": "code",
   "execution_count": null,
   "id": "ba2a7a57",
   "metadata": {},
   "outputs": [],
   "source": [
    "'''\n",
    "DataFrame 을 ndarray, list, dictionary 로 변환하기\n",
    "\n",
    "DataFrame 의 values 속성을 사용해서\n",
    "data 를 추출하면 ndarray 가 됨\n",
    "\n",
    "shape 속성은 ndarray, Series, DataFrame\n",
    "모두 사용할 수 있음\n",
    "'''\n",
    "arr3 = dict1_df.values\n",
    "print(type(arr3))\n",
    "print(arr3.shape)\n",
    "print(arr3)\n",
    "print(dict1_df.shape)\n",
    "print(dict1_df)"
   ]
  },
  {
   "cell_type": "code",
   "execution_count": 80,
   "id": "45941eba",
   "metadata": {},
   "outputs": [
    {
     "name": "stdout",
     "output_type": "stream",
     "text": [
      "dict1_df.values\n",
      "<class 'numpy.ndarray'>\n",
      "[[ 1  2  3]\n",
      " [11 22 33]]\n",
      "<class 'pandas.core.frame.DataFrame'>\n"
     ]
    },
    {
     "data": {
      "text/html": [
       "<div>\n",
       "<style scoped>\n",
       "    .dataframe tbody tr th:only-of-type {\n",
       "        vertical-align: middle;\n",
       "    }\n",
       "\n",
       "    .dataframe tbody tr th {\n",
       "        vertical-align: top;\n",
       "    }\n",
       "\n",
       "    .dataframe thead th {\n",
       "        text-align: right;\n",
       "    }\n",
       "</style>\n",
       "<table border=\"1\" class=\"dataframe\">\n",
       "  <thead>\n",
       "    <tr style=\"text-align: right;\">\n",
       "      <th></th>\n",
       "      <th>col1</th>\n",
       "      <th>col2</th>\n",
       "      <th>col3</th>\n",
       "    </tr>\n",
       "  </thead>\n",
       "  <tbody>\n",
       "    <tr>\n",
       "      <th>0</th>\n",
       "      <td>1</td>\n",
       "      <td>2</td>\n",
       "      <td>3</td>\n",
       "    </tr>\n",
       "    <tr>\n",
       "      <th>1</th>\n",
       "      <td>11</td>\n",
       "      <td>22</td>\n",
       "      <td>33</td>\n",
       "    </tr>\n",
       "  </tbody>\n",
       "</table>\n",
       "</div>"
      ],
      "text/plain": [
       "   col1  col2  col3\n",
       "0     1     2     3\n",
       "1    11    22    33"
      ]
     },
     "metadata": {},
     "output_type": "display_data"
    },
    {
     "name": "stdout",
     "output_type": "stream",
     "text": [
      "<class 'list'>\n",
      "[[1, 2, 3], [11, 22, 33]]\n"
     ]
    }
   ],
   "source": [
    "'''\n",
    "DataFrame 을 list 로 변환하기\n",
    "  1) DataFrame 을 values 속성을 사용해서 ndarray 로 변환함\n",
    "  2) 이 ndarray 를 tolist() 메소드를 호출해서 list 로 변환함\n",
    "'''\n",
    "list3 = dict1_df.values.tolist()\n",
    "print('dict1_df.values')\n",
    "print(type(dict1_df.values))\n",
    "print(dict1_df.values)\n",
    "print(type(dict1_df))\n",
    "display(dict1_df)\n",
    "print(type(list3))\n",
    "print(list3)"
   ]
  },
  {
   "cell_type": "code",
   "execution_count": null,
   "id": "001fe953",
   "metadata": {},
   "outputs": [],
   "source": []
  },
  {
   "cell_type": "code",
   "execution_count": null,
   "id": "c5189a0f",
   "metadata": {},
   "outputs": [],
   "source": []
  },
  {
   "cell_type": "code",
   "execution_count": null,
   "id": "aac5ed47",
   "metadata": {},
   "outputs": [],
   "source": []
  }
 ],
 "metadata": {
  "kernelspec": {
   "display_name": "Python 3 (ipykernel)",
   "language": "python",
   "name": "python3"
  },
  "language_info": {
   "codemirror_mode": {
    "name": "ipython",
    "version": 3
   },
   "file_extension": ".py",
   "mimetype": "text/x-python",
   "name": "python",
   "nbconvert_exporter": "python",
   "pygments_lexer": "ipython3",
   "version": "3.9.12"
  }
 },
 "nbformat": 4,
 "nbformat_minor": 5
}

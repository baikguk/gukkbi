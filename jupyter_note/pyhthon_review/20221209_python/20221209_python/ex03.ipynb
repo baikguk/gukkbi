{
 "cells": [
  {
   "cell_type": "code",
   "execution_count": null,
   "id": "fb25fa79",
   "metadata": {},
   "outputs": [],
   "source": [
    "'''\n",
    "while loop\n",
    "\n",
    "형식) : 조건식이 참인 동안에만 반복을 수행하고\n",
    "        조건식이 거짓이 되는 순간 반복을 종료함\n",
    "         <-- while 반복문의 종료시점 : 조건식이 False 가 되는 순간\n",
    "        1) while 의 조건식이 참이면 code block (: + 들여쓰기) 내부에 있는\n",
    "           모든 statement(명령문, 수행문) 가 실행됨\n",
    "        2) 모든 statement(명령문, 수행문) 가 실행된 후\n",
    "        3) 다시 조건식 부분으로 가서 조건식이 참인지 거짓인지 비교연산을 함\n",
    "        4) 이 때, 참이면 다시 code block 내부의 \n",
    "           모든 statement(명령문, 수행문) 가 실행됨\n",
    "           거짓이면 바로 반복을 종료함\n",
    "        \n",
    "형식]\n",
    "\n",
    "while 조건식 :\n",
    "    조건식이 참일 때 반복하는 statement\n",
    "    조건식이 참일 때 반복하는 statement\n",
    "    조건식이 참일 때 반복하는 statement\n",
    "    .......\n",
    "'''"
   ]
  },
  {
   "cell_type": "code",
   "execution_count": null,
   "id": "16127828",
   "metadata": {},
   "outputs": [],
   "source": [
    "for number in range(1, 6):\n",
    "    print('안녕하세요')"
   ]
  },
  {
   "cell_type": "code",
   "execution_count": null,
   "id": "dbc8de38",
   "metadata": {},
   "outputs": [],
   "source": [
    "number = 1\n",
    "while number < 6:\n",
    "    print('안녕하세요')\n",
    "    number += 1"
   ]
  },
  {
   "cell_type": "code",
   "execution_count": null,
   "id": "4b013dec",
   "metadata": {},
   "outputs": [],
   "source": [
    "count = total = 0\n",
    "while count < 5:\n",
    "    count += 1\n",
    "    total += 1\n",
    "    print(count, total)"
   ]
  },
  {
   "cell_type": "code",
   "execution_count": 4,
   "id": "ac36a75d",
   "metadata": {},
   "outputs": [
    {
     "name": "stdout",
     "output_type": "stream",
     "text": [
      "1 부터 100 까지의 3의 배수의 합 : 1683\n",
      "1 부터 100 까지의 3의 배수의 목록 :\n",
      "[3, 6, 9, 12, 15, 18, 21, 24, 27, 30, 33, 36, 39, 42, 45, 48, 51, 54, 57, 60, 63, 66, 69, 72, 75, 78, 81, 84, 87, 90, 93, 96, 99]\n"
     ]
    }
   ],
   "source": [
    "'''\n",
    "1 부터 100까지의 정수 중에서\n",
    "3 의 배수의 합과 3의 배수들 목록 출력하기\n",
    "'''\n",
    "count = total = 0\n",
    "result = []\n",
    "while count <= 100:\n",
    "    count += 1\n",
    "    # not count % 3 : 3 의 배수라는 의미\n",
    "    #   ㄴ count % 3 == 0 과 같은 의미\n",
    "    if not count % 3:\n",
    "        total += count\n",
    "        result.append(count)\n",
    "print('1 부터 100 까지의 3의 배수의 합 :',total)        \n",
    "print('1 부터 100 까지의 3의 배수의 목록 :')      \n",
    "print(result)"
   ]
  },
  {
   "cell_type": "code",
   "execution_count": 5,
   "id": "da2043df",
   "metadata": {},
   "outputs": [
    {
     "name": "stdout",
     "output_type": "stream",
     "text": [
      "1 2 4 5 \n"
     ]
    }
   ],
   "source": [
    "i = 0\n",
    "while i < 10:\n",
    "    i += 1\n",
    "    if i == 3:\n",
    "        continue\n",
    "    if i == 6:\n",
    "        break\n",
    "    print(i, end = ' ')\n",
    "print()"
   ]
  },
  {
   "cell_type": "code",
   "execution_count": 6,
   "id": "c1a58877",
   "metadata": {},
   "outputs": [
    {
     "name": "stdout",
     "output_type": "stream",
     "text": [
      "1 2 4 5 6 7 8 9 10 \n"
     ]
    }
   ],
   "source": [
    "i = 0\n",
    "while i < 10:\n",
    "    i += 1\n",
    "    if i == 3:\n",
    "        continue\n",
    "    print(i, end = ' ')    \n",
    "print()    "
   ]
  },
  {
   "cell_type": "code",
   "execution_count": 7,
   "id": "a39184ca",
   "metadata": {},
   "outputs": [
    {
     "name": "stdout",
     "output_type": "stream",
     "text": [
      "1 2 3 4 5 6 7 8 9 10 \n"
     ]
    }
   ],
   "source": [
    "i = 0\n",
    "while i < 10:\n",
    "    i += 1\n",
    "    print(i, end = ' ')  \n",
    "    if i == 3:\n",
    "        continue      \n",
    "print() "
   ]
  },
  {
   "cell_type": "code",
   "execution_count": 15,
   "id": "34b5a748",
   "metadata": {},
   "outputs": [
    {
     "name": "stdout",
     "output_type": "stream",
     "text": [
      "list1 : [4, 2, 5, 4, 9, 9, 1, 2, 1, 2]\n"
     ]
    }
   ],
   "source": [
    "'''\n",
    "random 모듈\n",
    "'''\n",
    "import random\n",
    "\n",
    "# randint(start, end)\n",
    "# start 부터 end 까지의 정수 중 임의의 숫자를 반환함\n",
    "list1 = []\n",
    "# 1 부터 10 까지의 정수 중에서 임의의 숫자를 10 번 반환함\n",
    "for idx in range(10):\n",
    "    r_num = random.randint(1, 10)\n",
    "    list1.append(r_num)\n",
    "print('list1 :',list1)    "
   ]
  },
  {
   "cell_type": "code",
   "execution_count": 16,
   "id": "2a6b3820",
   "metadata": {},
   "outputs": [
    {
     "name": "stdout",
     "output_type": "stream",
     "text": [
      "numbers : [3, 81, 51, 57, 26, 82, 38, 11, 28, 14]\n",
      "최댓값 : 82\n",
      "최솟값 : 3\n"
     ]
    }
   ],
   "source": [
    "'''\n",
    "비어 있는 리스트를 생성하고\n",
    "1 부터 100 까지의 정수 중에서 임의의 숫자 10 개를 추가하세요\n",
    "'''\n",
    "numbers = []\n",
    "for idx in range(10):\n",
    "    r_num = random.randint(1, 100)\n",
    "    numbers.append(r_num)\n",
    "print('numbers :',numbers)\n",
    "'''\n",
    "numbers 에 추가된 10 개의 임의의 정수 중에서\n",
    "최댓값과 최솟값 구하기\n",
    "'''\n",
    "max_num = min_num = numbers[0]\n",
    "for number in numbers:\n",
    "    if max_num < number:\n",
    "        max_num = number\n",
    "    if min_num > number:\n",
    "        min_num = number\n",
    "print('최댓값 :',max_num)        \n",
    "print('최솟값 :',min_num)"
   ]
  },
  {
   "cell_type": "code",
   "execution_count": null,
   "id": "f4613209",
   "metadata": {},
   "outputs": [],
   "source": []
  },
  {
   "cell_type": "code",
   "execution_count": null,
   "id": "f7da211e",
   "metadata": {},
   "outputs": [],
   "source": []
  }
 ],
 "metadata": {
  "kernelspec": {
   "display_name": "Python 3 (ipykernel)",
   "language": "python",
   "name": "python3"
  },
  "language_info": {
   "codemirror_mode": {
    "name": "ipython",
    "version": 3
   },
   "file_extension": ".py",
   "mimetype": "text/x-python",
   "name": "python",
   "nbconvert_exporter": "python",
   "pygments_lexer": "ipython3",
   "version": "3.9.12"
  }
 },
 "nbformat": 4,
 "nbformat_minor": 5
}

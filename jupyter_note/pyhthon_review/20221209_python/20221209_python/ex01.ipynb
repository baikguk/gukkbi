{
 "cells": [
  {
   "cell_type": "code",
   "execution_count": null,
   "id": "c21dadaa",
   "metadata": {},
   "outputs": [],
   "source": [
    "'''\n",
    "  중첩(이중) for loop : nested for loop\n",
    "  \n",
    "'''\n",
    "# 5 단을 출력하는 구구단\n",
    "for number in range(1, 10):\n",
    "    print(f'5 X {number} = {5 * number}')"
   ]
  },
  {
   "cell_type": "code",
   "execution_count": null,
   "id": "ccacff00",
   "metadata": {},
   "outputs": [],
   "source": [
    "'''\n",
    "외부 for 문 : 일정한 수(단수) 를 외부 for 문의 index 변수로 정함\n",
    "내부 for 문 : 증가하는 수(1~9) 를 내부 for 문의 index 변수로 정함\n",
    "'''\n",
    "for dan in range(2, 10):\n",
    "    for number in range(1, 10):\n",
    "        print(f'{dan} X {number} = {dan * number}')\n",
    "    print()    "
   ]
  },
  {
   "cell_type": "code",
   "execution_count": null,
   "id": "426e23d8",
   "metadata": {},
   "outputs": [],
   "source": [
    "'''\n",
    "홀수단만 출력하는 구구단을 출력하세요\n",
    "'''\n",
    "for dan in range(2, 10):\n",
    "    for number in range(1, 10):\n",
    "        # if dan % 2 == 1:\n",
    "        if dan % 2:\n",
    "            print(f'{dan} X {number} = {dan * number}')\n",
    "    print()  \n",
    "\n",
    "'''\n",
    "range() 에 step 을 지정해서 if 문을 사용하지 않고 \n",
    "홀수단만 출력하기\n",
    "'''\n",
    "for dan in range(3, 10, 2):\n",
    "    for number in range(1, 10):\n",
    "        print(f'{dan} X {number} = {dan * number}')\n",
    "    print()"
   ]
  },
  {
   "cell_type": "code",
   "execution_count": null,
   "id": "15300c4d",
   "metadata": {},
   "outputs": [],
   "source": [
    "'''\n",
    "각 단에 홀수만 곱하는 구구단을 출력하세요\n",
    "'''\n",
    "for dan in range(2, 10):\n",
    "    for number in range(1, 10):\n",
    "        if number % 2:\n",
    "            print(f'{dan} X {number} = {dan * number}')\n",
    "    print()       "
   ]
  },
  {
   "cell_type": "code",
   "execution_count": null,
   "id": "a37cd925",
   "metadata": {},
   "outputs": [],
   "source": [
    "for dan in range(2, 10):\n",
    "    for number in range(1, 10, 2):\n",
    "        print(f'{dan} X {number} = {dan * number}')\n",
    "    print()    "
   ]
  },
  {
   "cell_type": "code",
   "execution_count": null,
   "id": "9a7d6ec0",
   "metadata": {},
   "outputs": [],
   "source": [
    "'''\n",
    "짝수단에는 짝수만 곱하고 홀수단에는 홀수만 곱하는\n",
    "구구단을 출력하세요\n",
    "'''\n",
    "for dan in range(2, 10):\n",
    "    for number in range(1, 10):\n",
    "        if dan % 2 == 0 and number % 2 == 0:\n",
    "            print(f'{dan} X {number} = {dan * number}')\n",
    "        if dan % 2 != 0 and number % 2 != 0:\n",
    "            print(f'{dan} X {number} = {dan * number}')\n",
    "    print()       "
   ]
  },
  {
   "cell_type": "code",
   "execution_count": null,
   "id": "34c8b4cc",
   "metadata": {},
   "outputs": [],
   "source": [
    "for dan in range(2, 10):\n",
    "    for number in range(1, 10):\n",
    "        if dan % 2 == 0 and number % 2 == 0 or dan % 2 != 0 and number % 2 != 0:\n",
    "            print(f'{dan} X {number} = {dan * number}')\n",
    "    print() "
   ]
  },
  {
   "cell_type": "code",
   "execution_count": null,
   "id": "37eb6c45",
   "metadata": {},
   "outputs": [],
   "source": [
    "for dan in range(2, 10):\n",
    "    for number in range(1, 10):\n",
    "        if dan % 2 == number % 2:\n",
    "            print(f'{dan} X {number} = {dan * number}')\n",
    "    print()        "
   ]
  },
  {
   "cell_type": "code",
   "execution_count": null,
   "id": "33c4465c",
   "metadata": {},
   "outputs": [],
   "source": [
    "'''\n",
    "아래의 str1 에 저장된 문자열에서\n",
    "문장 단위로 list_sentences 에 저장하고\n",
    "단어(띄어쓰기로 구분함) 단위로 list_words 에 저장하세요\n",
    " ㄴ split() 사용하기 : separator 를 어떤 것으로 할지 먼저 결정해야 함\n",
    "\n",
    "문장 개수와 단어(띄어쓰기로 구분함) 개수도 출력하세요\n",
    "'''\n",
    "str1 = '''나는 더조은 입니다\n",
    "주소는 마포구 입니다\n",
    "나이는 30세 입니다'''\n",
    "\n",
    "# 문장 단위로 저장하기 : \\n 으로 나누어져있음\n",
    "list_sentences = []\n",
    "\n",
    "# 단어 단위로 저장하기 : ' ' 으로 나누어져있음\n",
    "list_words = []\n",
    "\n",
    "for sentence in str1.split('\\n'):\n",
    "    list_sentences.append(sentence)\n",
    "    for word in sentence.split(' '):\n",
    "        list_words.append(word)\n",
    "\n",
    "print('list_sentences')        \n",
    "print(list_sentences)\n",
    "print('list_words')\n",
    "print(list_words)\n",
    "print('문장 개수 :',len(list_sentences),'개')\n",
    "print('단어 개수 :',len(list_words),'개')"
   ]
  },
  {
   "cell_type": "code",
   "execution_count": 16,
   "id": "e84d4c00",
   "metadata": {},
   "outputs": [
    {
     "name": "stdout",
     "output_type": "stream",
     "text": [
      "정답률은 60 % 입니다\n",
      "정답률은 60.0 % 입니다\n"
     ]
    }
   ],
   "source": [
    "answers  = [1, 3, 4, 2, 2]\n",
    "solution = [1, 2, 4, 1, 2]\n",
    "'''\n",
    "answer : 학생답안\n",
    "solution : 정답지\n",
    "정답률을 출력하세요\n",
    "[출력]\n",
    "  정답률은 60% 입니다\n",
    "  or\n",
    "  정답률은 60.0% 입니다\n",
    "'''\n",
    "correct = 0\n",
    "for idx in range(len(solution)):\n",
    "    if solution[idx] == answers[idx]:\n",
    "        correct += 1\n",
    "print(f'정답률은 {int(correct / len(solution) * 100)} % 입니다')        \n",
    "print(f'정답률은 {correct / len(solution) * 100} % 입니다')        "
   ]
  },
  {
   "cell_type": "code",
   "execution_count": null,
   "id": "88253cb9",
   "metadata": {},
   "outputs": [],
   "source": []
  },
  {
   "cell_type": "code",
   "execution_count": null,
   "id": "906963d8",
   "metadata": {},
   "outputs": [],
   "source": []
  },
  {
   "cell_type": "code",
   "execution_count": null,
   "id": "99cf1a8e",
   "metadata": {},
   "outputs": [],
   "source": []
  }
 ],
 "metadata": {
  "kernelspec": {
   "display_name": "Python 3 (ipykernel)",
   "language": "python",
   "name": "python3"
  },
  "language_info": {
   "codemirror_mode": {
    "name": "ipython",
    "version": 3
   },
   "file_extension": ".py",
   "mimetype": "text/x-python",
   "name": "python",
   "nbconvert_exporter": "python",
   "pygments_lexer": "ipython3",
   "version": "3.9.12"
  }
 },
 "nbformat": 4,
 "nbformat_minor": 5
}

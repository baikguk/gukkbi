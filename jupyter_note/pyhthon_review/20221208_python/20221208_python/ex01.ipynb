{
 "cells": [
  {
   "cell_type": "code",
   "execution_count": null,
   "id": "aa8ee5ee",
   "metadata": {},
   "outputs": [],
   "source": [
    "import pprint\n",
    "\n",
    "'''\n",
    "dictionary  결합하기 - update() 메소드\n",
    "'''\n",
    "std1 = {'name':['장보고','이순신','유관순'], 'age':[36, 46, 19]}\n",
    "std2 = {'height':[184, 197, 170], 'weight':[81,92,56]}\n",
    "print('std1')\n",
    "pprint.pprint(std1)\n",
    "print('std2')\n",
    "pprint.pprint(std2)\n",
    "\n",
    "# std1 에 std2 를 결합함 : std1 에서 한 작업이라서 std2 는 변화가 없음\n",
    "std1.update(std2)\n",
    "print('std1')\n",
    "pprint.pprint(std1)\n",
    "print('std2')\n",
    "pprint.pprint(std2)\n",
    "\n",
    "# std2 에 std1 을 결합함 : std2 에서 한 작업이라서 std1 는 변화가 없음\n",
    "# std2 에서, 이미 있는 key 는 변화가 없음\n",
    "std2.update(std1)\n",
    "print('std1')\n",
    "pprint.pprint(std1)\n",
    "print('std2')\n",
    "pprint.pprint(std2)"
   ]
  },
  {
   "cell_type": "code",
   "execution_count": null,
   "id": "b836b391",
   "metadata": {},
   "outputs": [],
   "source": [
    "std2.update({'addr': ['강남', '종로', '관악']})\n",
    "pprint.pprint(std2)"
   ]
  },
  {
   "cell_type": "code",
   "execution_count": null,
   "id": "3b917bfe",
   "metadata": {},
   "outputs": [],
   "source": [
    "'''\n",
    "아래와 같이 출력하세요\n",
    "장보고의 키 : 184 cm\n",
    "'''\n",
    "print('장보고의 키 :',std2['height'][0],'cm')"
   ]
  },
  {
   "cell_type": "code",
   "execution_count": null,
   "id": "fcd9f063",
   "metadata": {},
   "outputs": [],
   "source": [
    "'''\n",
    "장보고의 키를 변경하고 아래와 같이 출력하세요\n",
    "장보고의 키 : 192 cm\n",
    "'''\n",
    "std2['height'][0] = 192\n",
    "print('장보고의 키 :',std2['height'][0],'cm')"
   ]
  },
  {
   "cell_type": "code",
   "execution_count": null,
   "id": "7c8e3e64",
   "metadata": {},
   "outputs": [],
   "source": [
    "'''\n",
    "std2\n",
    "{'addr': ['강남', '종로', '관악'],\n",
    " 'age': [36, 46, 19],\n",
    " 'height': [184, 197, 170],\n",
    " 'name': ['장보고', '이순신', '유관순'],\n",
    " 'weight': [81, 92, 56]}\n",
    " \n",
    "std2 에서 장보고, 이순신, 유관순의 나이를\n",
    "각각 10 살씩 증가시키고 출력하세요\n",
    "'''\n",
    "print(std2['age'])\n",
    "std2['age'] = [46, 56, 29]\n",
    "print(std2['age'])\n",
    "print('-' * 70)\n",
    "print(std2['name'][0],'의 나이 :',std2['age'][0],'세')\n",
    "print(std2['name'][1],'의 나이 :',std2['age'][1],'세')\n",
    "print(std2['name'][2],'의 나이 :',std2['age'][2],'세')\n",
    "print('-' * 70)\n",
    "std2['age'] = [std2['age'][0]+10, std2['age'][1]+10, std2['age'][2]+10]\n",
    "print(std2['name'][0],'의 나이 :',std2['age'][0],'세')\n",
    "print(std2['name'][1],'의 나이 :',std2['age'][1],'세')\n",
    "print(std2['name'][2],'의 나이 :',std2['age'][2],'세')\n",
    "print('-' * 70)\n",
    "std2.update({'age':[std2['age'][0]+10, std2['age'][1]+10, std2['age'][2]+10]})\n",
    "print(std2['name'][0],'의 나이 :',std2['age'][0],'세')\n",
    "print(std2['name'][1],'의 나이 :',std2['age'][1],'세')\n",
    "print(std2['name'][2],'의 나이 :',std2['age'][2],'세')"
   ]
  },
  {
   "cell_type": "code",
   "execution_count": null,
   "id": "102ac0d3",
   "metadata": {},
   "outputs": [],
   "source": [
    "'''\n",
    "학번(std_no) 추가하기\n",
    "'''\n",
    "std2['std_no'] = [2201, 2202, 2203]\n",
    "pprint.pprint(std2)"
   ]
  },
  {
   "cell_type": "code",
   "execution_count": null,
   "id": "4c225096",
   "metadata": {},
   "outputs": [],
   "source": [
    "'''\n",
    "전화번호(phone) 추가하기\n",
    "'''\n",
    "std2['phone'] = ['01012345678', '01098765432', '01032659887']\n",
    "pprint.pprint(std2)"
   ]
  },
  {
   "cell_type": "code",
   "execution_count": null,
   "id": "ead25847",
   "metadata": {},
   "outputs": [],
   "source": [
    "'''\n",
    "setdeault() 메소드\n",
    "  ㄴ setdefault(key) : value 를 지정하지 않고 key 만 넣으면\n",
    "                       value 는 None 이 됨\n",
    "     setdefault(key, value)  <--  key 와 value 가 저장됨\n",
    "'''\n",
    "std2.setdefault('subject', ['건축', '화학', '영문'])\n",
    "pprint.pprint(std2)"
   ]
  },
  {
   "cell_type": "code",
   "execution_count": null,
   "id": "ed18a8cd",
   "metadata": {},
   "outputs": [],
   "source": [
    "'''\n",
    "setdedault() 메소드로는 value 를 변경할 수는 없음\n",
    "   ㄴ 추가만 가능하고 변경은 못함\n",
    "\n",
    "'addr': ['강남', '종로', '관악'] 의 value 를 \n",
    "setdefault() 메소드로 변경하려고 하는 경우\n",
    "오류는 발생하지 않고, 변경은 안 됨\n",
    "'''\n",
    "std2.setdefault('addr', ['수서', '송파', '영등포'])\n",
    "pprint.pprint(std2)\n",
    "\n",
    "# key 가 hobby 인 item 의 value 는 None 이 됨\n",
    "# : key 만 지정하고 value 는 지정하지 않은 경우\n",
    "std2.setdefault('hobby')\n",
    "pprint.pprint(std2)"
   ]
  },
  {
   "cell_type": "code",
   "execution_count": null,
   "id": "25a13369",
   "metadata": {},
   "outputs": [],
   "source": [
    "'''\n",
    "key      value\n",
    "메로나   1000  \n",
    "폴라포   1200 \n",
    "빵빠레   1800\n",
    "\n",
    "icecream 의 이름을 key 로 하고\n",
    "가격을 value 로 하는 dictionary 를 생성하세요\n",
    "(dictionary 이름 : icecream_info)\n",
    "'''\n",
    "icecream_info = {'메로나':1000, '폴라포':1200, '빵빠레':1800}\n",
    "pprint.pprint(icecream_info)"
   ]
  },
  {
   "cell_type": "code",
   "execution_count": null,
   "id": "305bcebe",
   "metadata": {},
   "outputs": [],
   "source": [
    "'''\n",
    "key      value\n",
    "죠스바   1200  \n",
    "월드콘   1500 \n",
    "누가바   1300\n",
    "돼지바   1100\n",
    "\n",
    "위의 icecream 의 정보를 icecream_info 에 추가하세요\n",
    "'''\n",
    "icecream_info = {'메로나': 1000, '빵빠레': 1800, '폴라포': 1200}\n",
    "icecream_info['죠스바'] = 1200\n",
    "pprint.pprint(icecream_info)"
   ]
  },
  {
   "cell_type": "code",
   "execution_count": null,
   "id": "110386a2",
   "metadata": {},
   "outputs": [],
   "source": [
    "icecream_info.update({'월드콘':1500})\n",
    "pprint.pprint(icecream_info)"
   ]
  },
  {
   "cell_type": "code",
   "execution_count": null,
   "id": "48962e99",
   "metadata": {},
   "outputs": [],
   "source": [
    "icecream_info.update(누가바=1300)\n",
    "pprint.pprint(icecream_info)"
   ]
  },
  {
   "cell_type": "code",
   "execution_count": null,
   "id": "4e129030",
   "metadata": {},
   "outputs": [],
   "source": [
    "icecream_info.setdefault('돼지바', 1300)\n",
    "pprint.pprint(icecream_info)"
   ]
  },
  {
   "cell_type": "code",
   "execution_count": null,
   "id": "2e54be94",
   "metadata": {},
   "outputs": [],
   "source": [
    "'''\n",
    "폴라포 가격 : 1200 원\n",
    "과 같이 출력해 보세요\n",
    "'''\n",
    "print('폴라포 가격 :',icecream_info['폴라포'],'원')\n",
    "print('폴라포 가격 :',icecream_info.get('폴라포'),'원')\n",
    "print(list(icecream_info.keys())[2],'가격 :',icecream_info['폴라포'],'원')\n",
    "print(list(icecream_info.keys())[2],'가격 :',list(icecream_info.values())[2],'원')"
   ]
  },
  {
   "cell_type": "code",
   "execution_count": null,
   "id": "eac7f9f5",
   "metadata": {},
   "outputs": [],
   "source": [
    "'''\n",
    "icecream_info\n",
    "{'메로나': 1000, '빵빠레': 1800, '폴라포': 1200, '죠스바': 1200, \n",
    "'월드콘': 1500, '누가바': 1300, '돼지바': 1300} 에서\n",
    "월드콘의 가격을 수정하고 아래와 같이 출력하세요\n",
    "  ㄴ 월드콘 가격 : 1800 원\n",
    "'''\n",
    "icecream_info['월드콘'] = 1800\n",
    "print('월드콘 가격 :',icecream_info['월드콘'],'원')\n",
    "icecream_info.update({'월드콘': 2000})\n",
    "print('월드콘 가격 :',icecream_info['월드콘'],'원')\n",
    "icecream_info.update(월드콘=3000)\n",
    "print('월드콘 가격 :',icecream_info['월드콘'],'원')\n",
    "# setdefault() 로 value 를 변경 못 함\n",
    "icecream_info.setdefault('월드콘',5000)\n",
    "print('월드콘 가격 :',icecream_info['월드콘'],'원')"
   ]
  },
  {
   "cell_type": "code",
   "execution_count": null,
   "id": "e5a882f1",
   "metadata": {},
   "outputs": [],
   "source": [
    "icecream_info = {'메로나': 1000, '빵빠레': 1800, '폴라포': 1200, '죠스바': 1200, \n",
    "'월드콘': 1500, '누가바': 1300, '돼지바': 1300}\n",
    "\n",
    "print(icecream_info)\n",
    "'''\n",
    "icecream_info 에서 빵빠레를 삭제하세요\n",
    "'''\n",
    "icecream_info.pop('빵빠레')\n",
    "pprint.pprint(icecream_info)"
   ]
  },
  {
   "cell_type": "code",
   "execution_count": null,
   "id": "8bc571e0",
   "metadata": {},
   "outputs": [],
   "source": [
    "icecream_info = {'메로나': 1000, '폴라포': 1200, '죠스바': 1200, \\\n",
    "                 '월드콘': 1500, '누가바': 1300, '돼지바': 1300}\n",
    "\n",
    "'''\n",
    "icecream_info 에서 돼지바를 삭제하세요\n",
    " ㄴ 마지막에 있는 item 삭제하기\n",
    "'''\n",
    "icecream_info.popitem()\n",
    "print(icecream_info)\n"
   ]
  },
  {
   "cell_type": "code",
   "execution_count": null,
   "id": "0ad6b28f",
   "metadata": {},
   "outputs": [],
   "source": [
    "'''\n",
    "key      value\n",
    "이름     가격과 재고를 list로 저장함\n",
    "메로나   300  20\n",
    "비비빅   400  30\n",
    "죠스바   250  100\n",
    "\n",
    "아이스크림 이름을 key 로 하고\n",
    "가격과 재고를 value 로 하는 dictionary 를 생성하세요\n",
    "(dictionary 이름 : ice_inventory)\n",
    "'''\n",
    "ice_inventory = {\n",
    "                    '메로나' : [300, 20],\n",
    "                    '비비빅' : [400, 30],\n",
    "                    '죠스바' : [250, 100]\n",
    "                }\n",
    "pprint.pprint(ice_inventory)"
   ]
  },
  {
   "cell_type": "code",
   "execution_count": null,
   "id": "3a60cced",
   "metadata": {},
   "outputs": [],
   "source": [
    "'''\n",
    "비비빅 가격 : 400 원  <-- 을 출력하세요\n",
    "'''\n",
    "print('비비빅 가격 :',ice_inventory['비비빅'][0],'원')"
   ]
  },
  {
   "cell_type": "code",
   "execution_count": null,
   "id": "a94eab57",
   "metadata": {},
   "outputs": [],
   "source": [
    "'''\n",
    "죠스바 재고 : 100 개  <-- 를 출력하세요\n",
    "'''\n",
    "print('죠스바 재고 :',ice_inventory['죠스바'][1],'개')"
   ]
  },
  {
   "cell_type": "code",
   "execution_count": null,
   "id": "145974d4",
   "metadata": {},
   "outputs": [],
   "source": [
    "'''\n",
    "ice_inventory : {'메로나': [300, 20], '비비빅': [400, 30], '죠스바': [250, 100]}\n",
    "싸만코 1000원 56개\n",
    "붕버빵 2000원 20개\n",
    "아맛나 1200원 33개\n",
    "부라보콘 1800원 40개\n",
    "를 ice_inventory 에 추가하세요\n",
    "4 가지 방법으로 해 보세요\n",
    "'''\n",
    "ice_inventory['싸만코']=[1000, 56]\n",
    "# dictionary 는 index 가 없어서 \n",
    "# 저장하는 순서대로 출력되지 않는 경우가 많음\n",
    "pprint.pprint(ice_inventory)\n",
    "\n",
    "ice_inventory.update({'붕어빵':[2000, 20]})\n",
    "pprint.pprint(ice_inventory)\n",
    "\n",
    "ice_inventory.update(아맛나=[1200, 33])\n",
    "pprint.pprint(ice_inventory)\n",
    "\n",
    "ice_inventory.setdefault('부라보콘', [1800, 40])\n",
    "pprint.pprint(ice_inventory)\n",
    "\n",
    "ice_inventory.update(키위바=[1000, 45], 투게더=[5000, 32])\n",
    "pprint.pprint(ice_inventory)"
   ]
  },
  {
   "cell_type": "code",
   "execution_count": null,
   "id": "95721ced",
   "metadata": {},
   "outputs": [],
   "source": [
    "'''\n",
    "ice_inventory 에서 아이스크림 이름만 출력하세요\n",
    "'''\n",
    "# pprint.pprint(ice_inventory)\n",
    "print(list(ice_inventory.keys()))"
   ]
  },
  {
   "cell_type": "code",
   "execution_count": null,
   "id": "f2c5ebbe",
   "metadata": {},
   "outputs": [],
   "source": [
    "'''\n",
    "ice_inventory 에서 아이스크림 가격만 출력하세요\n",
    " ㄴ value 에는 가격과 재고가 list 로 저장되어 있음\n",
    "    index 번호로 가격만 추출해야 함\n",
    "'''\n",
    "print(list(ice_inventory.values()))\n",
    "print(list(ice_inventory.keys())[0],':',list(ice_inventory.values())[0][0],'원')\n",
    "print(list(ice_inventory.keys())[1],':',list(ice_inventory.values())[1][0],'원')\n",
    "print(list(ice_inventory.keys())[2],':',list(ice_inventory.values())[2][0],'원')\n",
    "print(list(ice_inventory.keys())[3],':',list(ice_inventory.values())[3][0],'원')\n",
    "print(list(ice_inventory.keys())[4],':',list(ice_inventory.values())[4][0],'원')\n",
    "print(list(ice_inventory.keys())[5],':',list(ice_inventory.values())[5][0],'원')\n",
    "print(list(ice_inventory.keys())[6],':',list(ice_inventory.values())[6][0],'원')"
   ]
  },
  {
   "cell_type": "code",
   "execution_count": null,
   "id": "c52f8548",
   "metadata": {},
   "outputs": [],
   "source": [
    "'''\n",
    "ice_inventory 에서 아이스크림 재고만 출력하세요\n",
    " ㄴ value 에는 가격과 재고가 list 로 저장되어 있음\n",
    "    index 번호로 재고만 추출해야 함\n",
    "'''\n",
    "print(list(ice_inventory.keys())[0],':',list(ice_inventory.values())[0][1],'개')\n",
    "print(list(ice_inventory.keys())[1],':',list(ice_inventory.values())[1][1],'개')\n",
    "print(list(ice_inventory.keys())[2],':',list(ice_inventory.values())[2][1],'개')\n",
    "print(list(ice_inventory.keys())[3],':',list(ice_inventory.values())[3][1],'개')\n",
    "print(list(ice_inventory.keys())[4],':',list(ice_inventory.values())[4][1],'개')\n",
    "print(list(ice_inventory.keys())[5],':',list(ice_inventory.values())[5][1],'개')\n",
    "print(list(ice_inventory.keys())[6],':',list(ice_inventory.values())[6][1],'개')"
   ]
  },
  {
   "cell_type": "code",
   "execution_count": 67,
   "id": "7c5fae96",
   "metadata": {},
   "outputs": [
    {
     "name": "stdout",
     "output_type": "stream",
     "text": [
      "{'1201': 10800, '1202': 10200, '1203': 10300, '1204': 10600}\n"
     ]
    }
   ],
   "source": [
    "'''\n",
    "두 개의 list 나 tuple 을 사용해서\n",
    "dictionary 생성하기\n",
    "  zip() 함수와 dict() 함수 사용하기\n",
    "  dict(zip(key 로 사용할 list, value 로 사용할 list))\n",
    "'''\n",
    "dates = ['1201', '1202', '1203', '1204']\n",
    "close_prices = [10800, 10200, 10300, 10600]\n",
    "\n",
    "close_table = dict(zip(dates, close_prices))\n",
    "print(close_table)"
   ]
  },
  {
   "cell_type": "code",
   "execution_count": 68,
   "id": "71a09f36",
   "metadata": {},
   "outputs": [
    {
     "name": "stdout",
     "output_type": "stream",
     "text": [
      "{'딸기': 20000, '수박': 15000, '복숭아': 50000, '포도': 30000}\n"
     ]
    }
   ],
   "source": [
    "'''\n",
    "딸기, 수박, 복숭아, 포도를 item 으로 하는 tuple 과\n",
    "이 과일들의 가격인 20000, 15000, 50000, 30000 을 \n",
    "item 으로 하는 tuple 을 생성하고\n",
    "과일이름을 key 로 하고 과일가격을 value 로 하는\n",
    "dictionary 를 생성하세요\n",
    "'''\n",
    "fruits = ('딸기', '수박', '복숭아', '포도')\n",
    "prices = (20000, 15000, 50000, 30000)\n",
    "fruits_dict = dict(zip(fruits, prices))\n",
    "print(fruits_dict)"
   ]
  },
  {
   "cell_type": "code",
   "execution_count": null,
   "id": "05649a79",
   "metadata": {},
   "outputs": [],
   "source": []
  },
  {
   "cell_type": "code",
   "execution_count": null,
   "id": "c1d3f298",
   "metadata": {},
   "outputs": [],
   "source": []
  },
  {
   "cell_type": "code",
   "execution_count": null,
   "id": "003107ba",
   "metadata": {},
   "outputs": [],
   "source": []
  }
 ],
 "metadata": {
  "kernelspec": {
   "display_name": "Python 3 (ipykernel)",
   "language": "python",
   "name": "python3"
  },
  "language_info": {
   "codemirror_mode": {
    "name": "ipython",
    "version": 3
   },
   "file_extension": ".py",
   "mimetype": "text/x-python",
   "name": "python",
   "nbconvert_exporter": "python",
   "pygments_lexer": "ipython3",
   "version": "3.9.12"
  }
 },
 "nbformat": 4,
 "nbformat_minor": 5
}

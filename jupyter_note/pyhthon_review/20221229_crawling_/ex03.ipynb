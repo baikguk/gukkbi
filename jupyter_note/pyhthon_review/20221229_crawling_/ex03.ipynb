{
 "cells": [
  {
   "cell_type": "code",
   "execution_count": null,
   "id": "bb0b7478",
   "metadata": {},
   "outputs": [],
   "source": [
    "import pandas as pd\n",
    "import numpy as np\n",
    "import warnings\n",
    "warnings.filterwarnings('ignore')\n",
    "\n",
    "import matplotlib.pyplot as plt\n",
    "import seaborn as sns\n",
    "%matplotlib inline"
   ]
  },
  {
   "cell_type": "code",
   "execution_count": null,
   "id": "195d08c1",
   "metadata": {},
   "outputs": [],
   "source": [
    "'''\n",
    "https://app.flourish.studio/ 를 이용해서 data 시각화하기\n",
    "'''\n",
    "\n",
    "covid_df = pd.read_csv('csse_covid_19_daily_reports/04-01-2020.csv')\n",
    "covid_df.shape\n",
    "covid_df.head()"
   ]
  },
  {
   "cell_type": "code",
   "execution_count": null,
   "id": "c5c4b761",
   "metadata": {},
   "outputs": [],
   "source": [
    "covid_df = pd.read_csv('csse_covid_19_daily_reports/03-01-2020.csv')\n",
    "covid_df.shape\n",
    "covid_df.head()"
   ]
  },
  {
   "cell_type": "code",
   "execution_count": null,
   "id": "78d1212d",
   "metadata": {},
   "outputs": [],
   "source": [
    "covid_df = pd.read_csv('csse_covid_19_daily_reports/01-22-2020.csv')\n",
    "\n",
    "try:\n",
    "    covid_df = covid_df[['Province_State', 'Country_Region', 'Confirmed']]\n",
    "except:\n",
    "    covid_df = covid_df[['Province/State', 'Country/Region', 'Confirmed']]\n",
    "    covid_df.columns = ['Province_State', 'Country_Region', 'Confirmed']\n",
    "\n",
    "print(covid_df.shape)\n",
    "covid_df.head()\n",
    "\n",
    "covid_df = covid_df.dropna(subset=['Confirmed'])\n",
    "covid_df.info()\n",
    "covid_df = covid_df.astype({'Confirmed':'int64'})\n",
    "covid_df.info()\n",
    "covid_df.head()"
   ]
  },
  {
   "cell_type": "code",
   "execution_count": null,
   "id": "3806517e",
   "metadata": {},
   "outputs": [],
   "source": [
    "'''\n",
    "국기 이미지를 표현하기 위해서 국가 정보 알아보기\n",
    "\n",
    "https://public.flourish.studio/country-flags/svg/kr.svg\n",
    "'''\n",
    "\n",
    "country_iso2 = 'kr'\n",
    "country_flag = f'https://public.flourish.studio/country-flags/svg/{country_iso2}.svg'\n",
    "print(country_flag)\n"
   ]
  },
  {
   "cell_type": "code",
   "execution_count": null,
   "id": "70f15532",
   "metadata": {},
   "outputs": [],
   "source": []
  },
  {
   "cell_type": "code",
   "execution_count": null,
   "id": "444f9dff",
   "metadata": {},
   "outputs": [],
   "source": []
  },
  {
   "cell_type": "code",
   "execution_count": null,
   "id": "9f5ca08d",
   "metadata": {},
   "outputs": [],
   "source": []
  }
 ],
 "metadata": {
  "kernelspec": {
   "display_name": "Python 3 (ipykernel)",
   "language": "python",
   "name": "python3"
  },
  "language_info": {
   "codemirror_mode": {
    "name": "ipython",
    "version": 3
   },
   "file_extension": ".py",
   "mimetype": "text/x-python",
   "name": "python",
   "nbconvert_exporter": "python",
   "pygments_lexer": "ipython3",
   "version": "3.9.12"
  }
 },
 "nbformat": 4,
 "nbformat_minor": 5
}

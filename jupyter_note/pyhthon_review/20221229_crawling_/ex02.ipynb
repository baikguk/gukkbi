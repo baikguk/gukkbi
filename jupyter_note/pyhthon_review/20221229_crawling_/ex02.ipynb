{
 "cells": [
  {
   "cell_type": "code",
   "execution_count": null,
   "id": "23321214",
   "metadata": {},
   "outputs": [],
   "source": [
    "'''\n",
    "탐색적 데이터 분석\n",
    "  존 튜키가 제안한 분석 방법론으로\n",
    "  data 자체를 탐색하는데 중점을 둠\n",
    "   ㄴ 기존의 통계학은 가설을 세우고 이를 검증하는 방법론에 치우쳐 있어서\n",
    "      data 본래의 정보를 파악하는데 있어서 어려운 점이 있는데 이를 보완하고자 함\n",
    "Exploratory Data Analysis\n",
    "  data 분석을 위해서 raw data 를 여러 각도에서 관찰하여 이해함\n",
    "  \n",
    "  1) data 출처와 주제 이해하기\n",
    "  2) data 크기 확인하기\n",
    "  3) data 구성요소(feature)의 특징 확인하기\n",
    "      ㄴ feature : data 의 구성요소 <-- column (field, 속성, 변수 라고도 함)\n",
    "         학생 성적 dataset 인 경우, \n",
    "         학생이름, 학년, 과목, 과목별 성적 등이 feature 가 됨\n",
    "\n",
    "'''\n",
    "\n",
    "'''\n",
    "COVID-19 dataset 다운로드\n",
    "https://github.com/CSSEGISandData/COVID-19\n",
    "\n",
    "\n",
    "04-01-2020.csv\n",
    "'''\n",
    "\n",
    "import pandas as pd\n",
    "import numpy as np\n",
    "import warnings\n",
    "warnings.filterwarnings('ignore')\n",
    "\n",
    "import matplotlib.pyplot as plt\n",
    "import seaborn as sns\n",
    "%matplotlib inline"
   ]
  },
  {
   "cell_type": "code",
   "execution_count": null,
   "id": "9f02a424",
   "metadata": {},
   "outputs": [],
   "source": [
    "covid_df = pd.read_csv('04-01-2020.csv')"
   ]
  },
  {
   "cell_type": "code",
   "execution_count": null,
   "id": "2f53cefb",
   "metadata": {},
   "outputs": [],
   "source": [
    "print(covid_df.shape)\n",
    "print(covid_df.shape[0])\n",
    "print(covid_df.shape[1])"
   ]
  },
  {
   "cell_type": "code",
   "execution_count": null,
   "id": "5aee7e41",
   "metadata": {},
   "outputs": [],
   "source": [
    "covid_df.head(10)\n",
    "covid_df[:10]\n",
    "covid_df.iloc[10]\n",
    "print(type(covid_df[:10]))\n",
    "print(type(covid_df.iloc[10]))"
   ]
  },
  {
   "cell_type": "code",
   "execution_count": null,
   "id": "e86bd7e2",
   "metadata": {},
   "outputs": [],
   "source": [
    "covid_df[:10]"
   ]
  },
  {
   "cell_type": "code",
   "execution_count": null,
   "id": "35aebb5f",
   "metadata": {},
   "outputs": [],
   "source": [
    "covid_df.tail(10)\n",
    "covid_df[-10:]"
   ]
  },
  {
   "cell_type": "code",
   "execution_count": null,
   "id": "0d117b6f",
   "metadata": {},
   "outputs": [],
   "source": [
    "covid_df.info()"
   ]
  },
  {
   "cell_type": "code",
   "execution_count": null,
   "id": "c3181575",
   "metadata": {
    "scrolled": true
   },
   "outputs": [],
   "source": [
    "'''\n",
    "Country_Region  국가\n",
    "Lat/Long_  위도/경도\n",
    "Confirmed  확진\n",
    "Deaths  사망\n",
    "Recovered  회복\n",
    "Active  확진자(사망자,회복자 제외)\n",
    "'''\n",
    "covid_df.columns"
   ]
  },
  {
   "cell_type": "code",
   "execution_count": null,
   "id": "fbe4f5d0",
   "metadata": {},
   "outputs": [],
   "source": [
    "covid_df.index"
   ]
  },
  {
   "cell_type": "code",
   "execution_count": null,
   "id": "107f3503",
   "metadata": {},
   "outputs": [],
   "source": [
    "covid_df.index.values"
   ]
  },
  {
   "cell_type": "code",
   "execution_count": null,
   "id": "bad2d2a1",
   "metadata": {
    "scrolled": true
   },
   "outputs": [],
   "source": [
    "'''\n",
    "mean 평균, std 표준편차, \n",
    "\n",
    "4 분위수 (quartile)\n",
    "min 25% 50% 75% max\n",
    "     Q1  Q2  Q3  Q4  \n",
    "       median  \n",
    "'''\n",
    "covid_df.describe()"
   ]
  },
  {
   "cell_type": "code",
   "execution_count": null,
   "id": "5226227e",
   "metadata": {
    "scrolled": true
   },
   "outputs": [],
   "source": [
    "covid_df.describe(include=['object'])"
   ]
  },
  {
   "cell_type": "code",
   "execution_count": null,
   "id": "2a34d391",
   "metadata": {},
   "outputs": [],
   "source": [
    "covid_df.describe(exclude=['number'])"
   ]
  },
  {
   "cell_type": "code",
   "execution_count": null,
   "id": "6da00f77",
   "metadata": {},
   "outputs": [],
   "source": [
    "'''\n",
    "Feature(속성:변수) 간의 상관관계\n",
    "                   correlation\n",
    "상관계수 (correlation coefficient)   <-- DataFrame 의 corr() 메소드  \n",
    "                                                       ㄴ 피어슨상관계수가 기본값\n",
    "  ㄴ 두 Feature 간의 통계적 관계를 표현하기 위해서\n",
    "     상관 관계의 정도를 수치로 나타낸 계수\n",
    "     \n",
    "     -1       ~       0       ~       1\n",
    "     음의 상관관계  상관관계없음   양의 상관관계\n",
    "'''"
   ]
  },
  {
   "cell_type": "code",
   "execution_count": null,
   "id": "81180843",
   "metadata": {},
   "outputs": [],
   "source": [
    "covid_df.corr()"
   ]
  },
  {
   "cell_type": "code",
   "execution_count": null,
   "id": "58162f44",
   "metadata": {},
   "outputs": [],
   "source": [
    "'''\n",
    "시각화 라이브러리들\n",
    "\n",
    "matplotlib :  예전부터 사용함\n",
    "seaborn    :  matplolib 를 기반으로 해서 여러가지 차트와 색상테마가 추가됨\n",
    "  \n",
    "plotly : 나중에 나온 라이브러리  \n",
    "'''\n",
    "'''\n",
    "seaborn 의 heatmap 으로 시각화하기\n",
    "\n",
    "sns.heatmap(data=covid_df.corr(), annot=True, fmt='.2f', linewidths=0.5, cmap='Blues')\n",
    "\n",
    "  data        dataset\n",
    "  annot       box 안에 값 표시\n",
    "  fmt         box 안에 값 표시되는 형식 - .2f (소숫점 이하 둘 째자리까지 표시)\n",
    "  linewidths  box 와 box 사이 간격 설정\n",
    "  cmap        색상 선택\n",
    "   ㄴ https://matplotlib.org/stable/tutorials/colors/colormaps.html\n",
    "    \n",
    "'''\n",
    "\n",
    "# 그래프 사이즈 설정하기\n",
    "plt.figure(figsize=(8, 8))\n",
    "sns.heatmap(data=covid_df.corr(), annot=True, fmt='.2f', \n",
    "            linewidths=0.5, cmap='Blues', vmax=1, vmin=-1)"
   ]
  },
  {
   "cell_type": "code",
   "execution_count": null,
   "id": "56b119eb",
   "metadata": {},
   "outputs": [],
   "source": [
    "'''\n",
    "vmax=1, vmin=-1 : 색으로 표현하는 값의 최댓값과 최솟값 지정\n",
    "'''\n",
    "\n",
    "mask = np.triu(np.ones_like(covid_df.corr()))\n",
    "\n",
    "plt.figure(figsize=(10, 6))\n",
    "sns.heatmap(data=covid_df.corr(), annot=True, fmt='.2f', \n",
    "            linewidths=0.5, cmap='coolwarm', mask=mask,\n",
    "            vmax=1, vmin=-1)"
   ]
  },
  {
   "cell_type": "code",
   "execution_count": null,
   "id": "bcf36498",
   "metadata": {},
   "outputs": [],
   "source": [
    "countries = covid_df['Country_Region']"
   ]
  },
  {
   "cell_type": "code",
   "execution_count": null,
   "id": "32420a9a",
   "metadata": {},
   "outputs": [],
   "source": [
    "'''\n",
    "Series 클래스의 주요 속성과 메소드들\n",
    "size - 크기 반환\n",
    "count() - 결측치 제외한 크기 반환\n",
    "unique() - unique 값 반환\n",
    "value_counts() - 결측치를 제외한 값의 개수 반환\n",
    "'''\n",
    "print(countries.size, countries.count())"
   ]
  },
  {
   "cell_type": "code",
   "execution_count": null,
   "id": "e2cfbe15",
   "metadata": {},
   "outputs": [],
   "source": [
    "print(len(countries.unique()))"
   ]
  },
  {
   "cell_type": "code",
   "execution_count": null,
   "id": "b7b90f5b",
   "metadata": {},
   "outputs": [],
   "source": [
    "print(countries.unique())"
   ]
  },
  {
   "cell_type": "code",
   "execution_count": null,
   "id": "6c5da142",
   "metadata": {},
   "outputs": [],
   "source": [
    "countries.value_counts()"
   ]
  },
  {
   "cell_type": "code",
   "execution_count": null,
   "id": "29a10536",
   "metadata": {},
   "outputs": [],
   "source": [
    "covid_df\n",
    "\n",
    "'''\n",
    "필요한 Feature 만 추출하기\n",
    "'''\n",
    "\n",
    "# 'Confirmed', 'Deaths', 'Recovered' 컬럼들만 조회하기\n",
    "covid_status = covid_df[['Confirmed', 'Deaths', 'Recovered']]\n",
    "display(covid_status.head())"
   ]
  },
  {
   "cell_type": "code",
   "execution_count": null,
   "id": "8d255afc",
   "metadata": {},
   "outputs": [],
   "source": [
    "# US data 만 조회하기\n",
    "covid_us = covid_df[covid_df['Country_Region']=='US']\n",
    "covid_us.head()\n",
    "covid_us[['Country_Region', 'Confirmed', 'Deaths', 'Recovered']].head()"
   ]
  },
  {
   "cell_type": "code",
   "execution_count": null,
   "id": "2079774d",
   "metadata": {},
   "outputs": [],
   "source": [
    "'''\n",
    "결측치 처리하기\n",
    "'''\n",
    "# 각 컬럼들의 결측치 개수 조회하기\n",
    "print(covid_df.isnull().sum())"
   ]
  },
  {
   "cell_type": "code",
   "execution_count": null,
   "id": "a53248b2",
   "metadata": {},
   "outputs": [],
   "source": [
    "# DataFrame 전체의 결측치 개수 조회하기\n",
    "print(covid_df.isnull().sum().sum())"
   ]
  },
  {
   "cell_type": "code",
   "execution_count": null,
   "id": "17dd31a2",
   "metadata": {},
   "outputs": [],
   "source": [
    "print(covid_df.shape)\n",
    "# 결측치가 있는 row 삭제하기\n",
    "covid_dropna = covid_df.dropna()\n",
    "print(covid_dropna.shape)"
   ]
  },
  {
   "cell_type": "code",
   "execution_count": null,
   "id": "41187aed",
   "metadata": {},
   "outputs": [],
   "source": [
    "'''\n",
    "dropna() <-- 결측치가 있는 row 를 삭제함\n",
    "dropna() 메소드의 parameter\n",
    "subset=['특정컬럼'] 을 지정하지 않으면 모든 column 에 대해서 dropna 실행 (결측치가 있는 row 를 삭제)\n",
    "subset=['특정컬럼'] 을 지정하면 특정 column 에 대해서만 dropna 실행 (결측치가 있는 row 를 삭제)\n",
    "'''\n",
    "covid_dropna_confirmed = covid_df.dropna(subset=['Confirmed'])\n",
    "print(covid_dropna_confirmed.shape)\n",
    "covid_dropna_confirmed.head()"
   ]
  },
  {
   "cell_type": "code",
   "execution_count": null,
   "id": "edc8e8b0",
   "metadata": {},
   "outputs": [],
   "source": [
    "'''\n",
    "결측치를 특정 값으로 변경하기 - fillna(특정값)\n",
    "'''\n",
    "pd.set_option('display.max_rows', 3000)\n",
    "covid_df.isna()[:1000]\n",
    "\n",
    "# 537 571 664\n",
    "covid_fillna0 = covid_df.fillna(0)\n",
    "covid_fillna0[:1000]"
   ]
  },
  {
   "cell_type": "code",
   "execution_count": null,
   "id": "716c9ce0",
   "metadata": {},
   "outputs": [],
   "source": [
    "covid_df.info()"
   ]
  },
  {
   "cell_type": "code",
   "execution_count": null,
   "id": "ad900256",
   "metadata": {},
   "outputs": [],
   "source": [
    "# Province_State 컬럼의 결측치를 covid_area 로 변경하기\n",
    "covid_df['Province_State'][-50:].isna()\n",
    "covid_area = covid_df['Province_State'].fillna('Covid_Area')\n",
    "covid_area[-50:]"
   ]
  },
  {
   "cell_type": "code",
   "execution_count": null,
   "id": "e8e2e7b9",
   "metadata": {},
   "outputs": [],
   "source": [
    "'''\n",
    "컬럼별로 결측치 대체값 다르게 설정하기\n",
    "Province_State - Covid_Area\n",
    "FIPS           - round(covid_df['FIPS'].mean(),2)\n",
    "'''\n",
    "covid_df.info()\n",
    "print()\n",
    "print('FIPS 평균 :',round(covid_df['FIPS'].mean(),2))\n",
    "covid_FP = covid_df.fillna({'Province_State':'Covid_Area', 'FIPS':round(covid_df['FIPS'].mean(),2)})\n",
    "display(covid_FP[-50:])"
   ]
  },
  {
   "cell_type": "code",
   "execution_count": null,
   "id": "ae27c5e6",
   "metadata": {},
   "outputs": [],
   "source": [
    "'''\n",
    "특정 column 을 기준으로 data grouping 하기\n",
    "\n",
    "groupby() : 특정 column 을 기준으로 grouping 함\n",
    "sum()     : grouping 된 data 의 합계\n",
    "'''\n",
    "covid_df.head()"
   ]
  },
  {
   "cell_type": "code",
   "execution_count": null,
   "id": "7e2a5934",
   "metadata": {},
   "outputs": [],
   "source": [
    "'''\n",
    "groupby('Country_Region') 로 grouping 하면\n",
    "Country_Region 컬럼이 index 인 DataFrame 이 생성됨\n",
    "'''\n",
    "country_sum = covid_df.groupby('Country_Region').sum()\n",
    "\n",
    "# index 오름차순\n",
    "country_sum[:100]\n",
    "\n",
    "# index 내림차순\n",
    "country_sum.sort_index(ascending=False)[:100]\n",
    "\n",
    "# Country_Region 으로 grouping 해서 Confirmed 컬럼 내림차순으로 정렬\n",
    "#                                     ㄴ 확진자 많은 나라순으로 정렬\n",
    "country_sum.sort_values('Confirmed', ascending=False)[:100]\n",
    "\n",
    "# reset_index() - 확진자 많은 나라순으로 정렬\n",
    "country_sum.sort_values('Confirmed', ascending=False).reset_index()[:100]"
   ]
  },
  {
   "cell_type": "code",
   "execution_count": null,
   "id": "ffa9e1f7",
   "metadata": {},
   "outputs": [],
   "source": [
    "country_mean = covid_df.groupby('Country_Region').mean()\n",
    "\n",
    "# 국가별 평균 확진자 내림차순\n",
    "country_mean.sort_values('Confirmed', ascending=False).reset_index()[:100]"
   ]
  },
  {
   "cell_type": "code",
   "execution_count": null,
   "id": "5f3fb457",
   "metadata": {},
   "outputs": [],
   "source": [
    "# country_sum 의 column 들\n",
    "country_sum.columns"
   ]
  },
  {
   "cell_type": "code",
   "execution_count": null,
   "id": "1390f4dd",
   "metadata": {},
   "outputs": [],
   "source": [
    "# country_sum 의 국가들\n",
    "country_sum.index"
   ]
  },
  {
   "cell_type": "code",
   "execution_count": null,
   "id": "86d37171",
   "metadata": {},
   "outputs": [],
   "source": [
    "# 국가 목록을 ndarray 로 보여줌\n",
    "print(type(country_sum.index.values))\n",
    "country_sum.index.values"
   ]
  },
  {
   "cell_type": "code",
   "execution_count": null,
   "id": "c7228147",
   "metadata": {},
   "outputs": [],
   "source": [
    "# US(미국) 의 확진자 합계 : boolean indexing - 216926 명\n",
    "# Country_Region 으로 groupby 했기에 index 가 Conutry_Region 임\n",
    "country_sum[country_sum.index=='US']"
   ]
  },
  {
   "cell_type": "code",
   "execution_count": null,
   "id": "c9b7333a",
   "metadata": {},
   "outputs": [],
   "source": [
    "# 우리나라 의 확진자 합계 : boolean indexing - 9887 명\n",
    "country_sum[country_sum.index=='Korea, South']"
   ]
  },
  {
   "cell_type": "code",
   "execution_count": null,
   "id": "7a8f47e8",
   "metadata": {},
   "outputs": [],
   "source": [
    "covid_country_confirmed = covid_df[['Country_Region', 'Confirmed']]\n",
    "covid_country_confirmed[:100]\n",
    "covid_country_confirmed.info()"
   ]
  },
  {
   "cell_type": "code",
   "execution_count": null,
   "id": "1bceae2f",
   "metadata": {},
   "outputs": [],
   "source": [
    "'''\n",
    "DataFrame 에서의 주요 dtype\n",
    "  object : 문자열 type\n",
    "  int32 / int64  : int type\n",
    "  float32 / float64  : float type\n",
    "  bool  : bool type\n",
    "  \n",
    "dtype 변환 : astype() 메소드  \n",
    "              <--  해당 컬럼에 결측치가 있으면 오류가 발생할 수 있음\n",
    "DataFrame 의 astype() 메소드  \n",
    "Series    의 astype() 메소드\n",
    "'''\n",
    "covid_country_confirmed = covid_df[['Country_Region', 'Confirmed']]\n",
    "\n",
    "# Confirmed 컬럼의 결측치 제거하기\n",
    "covid_country_confirmed = covid_country_confirmed.dropna(subset=['Confirmed'])\n",
    "covid_country_confirmed.info()\n",
    "# 1   Confirmed       2522 non-null   int64 \n",
    "#     현재 Confirmed 컬럼의 dtype 은 int64 임\n",
    "#  Confirmed 컬럼의 dtype 을 float64 로 변경하기\n",
    "covid_country_confirmed = covid_country_confirmed.astype({'Confirmed':'float64'})\n",
    "covid_country_confirmed.info()\n",
    "# 1   Confirmed       2522 non-null   float64\n",
    "#     현재 Confirmed 컬럼의 dtype 은 float64 로 변경됨\n",
    "# 다시 int64 로 변경하기\n",
    "covid_country_confirmed = covid_country_confirmed.astype({'Confirmed':'int64'})\n",
    "covid_country_confirmed.info()\n",
    "# 1   Confirmed       2522 non-null   int64 \n",
    "#     현재 Confirmed 컬럼의 dtype 은 int64 로 변경됨"
   ]
  },
  {
   "cell_type": "code",
   "execution_count": null,
   "id": "c3f83a6b",
   "metadata": {},
   "outputs": [],
   "source": [
    "'''\n",
    "DataFrame 의 column 이름 변경하기\n",
    "'''\n",
    "covid_country_confirmed = covid_df[['Country_Region', 'Confirmed']]\n",
    "covid_country_confirmed.columns\n",
    "covid_country_confirmed[:10]"
   ]
  },
  {
   "cell_type": "code",
   "execution_count": null,
   "id": "64b83c6a",
   "metadata": {},
   "outputs": [],
   "source": [
    "# Country_Region --> Country\n",
    "# Confirmed      --> Confirmed_Case\n",
    "covid_country_confirmed.columns = ['Country', 'Confirmed_Case']\n",
    "covid_country_confirmed.columns\n",
    "covid_country_confirmed[:10]"
   ]
  },
  {
   "cell_type": "code",
   "execution_count": null,
   "id": "570e7ac6",
   "metadata": {},
   "outputs": [],
   "source": [
    "# 다른 방법\n",
    "# Country         --> Country_Region\n",
    "# Confirmed_Case  --> Confirmed\n",
    "# inplace=True : 원본을 변형함 - 기본값은 inplace=False 임\n",
    "# covid_country_confirmed.rename({'Country':'Country_Region', 'Confirmed_Case':'Confirmed'}, inplace=True)\n",
    "covid_country_confirmed.rename(columns={'Country':'Country_Region',  'Confirmed_Case':'Confirmed'})[:10]"
   ]
  },
  {
   "cell_type": "code",
   "execution_count": null,
   "id": "d605f7b4",
   "metadata": {},
   "outputs": [],
   "source": [
    "'''\n",
    "중복 행(raw) 확인하기 - duplicated() 메소드\n",
    "\n",
    "'''\n",
    "iso_df = pd.read_csv('UID_ISO_FIPS_LookUp_Table.csv')\n",
    "print(iso_df.shape)\n",
    "print(iso_df.columns)"
   ]
  },
  {
   "cell_type": "code",
   "execution_count": null,
   "id": "abe8a447",
   "metadata": {},
   "outputs": [],
   "source": [
    "iso2_country = iso_df[['iso2', 'Country_Region']]"
   ]
  },
  {
   "cell_type": "code",
   "execution_count": null,
   "id": "c56a99ff",
   "metadata": {},
   "outputs": [],
   "source": [
    "iso2_country[-10:]"
   ]
  },
  {
   "cell_type": "code",
   "execution_count": null,
   "id": "8aca3e36",
   "metadata": {},
   "outputs": [],
   "source": [
    "'''\n",
    "어떤 행이 중복되어 있는지 확인하기\n",
    "'''\n",
    "iso2_country.duplicated()"
   ]
  },
  {
   "cell_type": "code",
   "execution_count": null,
   "id": "b2d52fe5",
   "metadata": {},
   "outputs": [],
   "source": [
    "'''\n",
    "중복된 행만 확인하기 - boolean indexing\n",
    "'''\n",
    "iso2_country_duplicated = iso2_country[iso2_country.duplicated()]\n",
    "print(iso2_country_duplicated.shape)"
   ]
  },
  {
   "cell_type": "code",
   "execution_count": null,
   "id": "eb09caf3",
   "metadata": {},
   "outputs": [],
   "source": [
    "'''\n",
    "중복된 행 삭제하기 - drop_duplicates() 메소드\n",
    "  ㄴ 특정 column 을 기준으로 중복행 삭제하기\n",
    "     subset=특정 column\n",
    "  ㄴ 중복된 경우, 처음과 마지막 중 어느 행을 남길 것인지 설정하기\n",
    "     처음 : keep='first'  <-- default(기본값)\n",
    "     마지막 : keep='last'     \n",
    "'''\n",
    "iso2_country_drop = iso2_country.drop_duplicates(subset='Country_Region', keep='last')\n",
    "iso2_country_drop"
   ]
  },
  {
   "cell_type": "code",
   "execution_count": null,
   "id": "78efee21",
   "metadata": {},
   "outputs": [],
   "source": [
    "iso_df.shape"
   ]
  },
  {
   "cell_type": "code",
   "execution_count": null,
   "id": "9a45c0de",
   "metadata": {},
   "outputs": [],
   "source": [
    "iso2_country.shape"
   ]
  },
  {
   "cell_type": "code",
   "execution_count": null,
   "id": "91ee361b",
   "metadata": {},
   "outputs": [],
   "source": [
    "iso2_country_drop.shape"
   ]
  },
  {
   "cell_type": "code",
   "execution_count": null,
   "id": "1aa15ee6",
   "metadata": {},
   "outputs": [],
   "source": [
    "# iso2_country_drop.sort_values('iso2',ascending=False)\n",
    "iso2_country_drop.sort_index(ascending=False)"
   ]
  },
  {
   "cell_type": "code",
   "execution_count": null,
   "id": "6fd2a83f",
   "metadata": {},
   "outputs": [],
   "source": [
    "'''\n",
    "DataFrame 합치기\n",
    "\n",
    "1) concat() - DataFrame 을 위/아래 또는 왼쪽/오른쪽으로 연결함\n",
    "              pd.concat(DataFrame1, DataFrame2)\n",
    "2) merge() - DataFrame 에서 같은 이름의 column 을 기준으로 병합함\n",
    "             pd.merge(DataFrame1, DataFrame2)\n",
    "             \n",
    "원하는 dataset 을 만들기 위해서\n",
    "두 DataFrame 합치기\n",
    "DataFrame의 concat() 함수\n",
    "  ㄴ 두 DataFrame 을 연결해서 하나의 DataFrame 으로 만듬\n",
    "     두 DataFrame 을 위/아래 또는 왼쪽/오른쪽으로 연결함\n",
    "     pd.concat([DataFrame1, DataFrame2])\n",
    "     axis 파라미터를 0으로 설정하면 row 방향으로 합치고 <-- default 설정임\n",
    "     axis 파라미터를 1로 설정하면 column 방향으로 합침\n",
    "\n",
    "\n",
    "두 DataFrame 병합하기 : merge() 함수\n",
    "  ㄴ merge(DataFrame1, DataFrame2)\n",
    "      ㄴ 두 DataFrame 에 있는 같은 이름의 column 을 기준으로 병합함\n",
    "    ***************************************************************  \n",
    "      같은 이름의 column 을 기준으로 병합한다는 것의 의미\n",
    "      공통 컬럼에 들어있는 값이 같은 row 만 선택한다는 의미\n",
    "    ***************************************************************  \n",
    "\n",
    "\n",
    "merge() 함수로 병합할 때 결합형태를 다양하게 할 수 있음\n",
    "  ㄴ merge(DataFrame1, DataFrame2, how=결합방법)\n",
    "       ㄴ 결합방법 :  1) inner : 내부조인 : SQL 의 INNER JOIN  <-- default 설정\n",
    "                      2) outer : 외부조인 : SQL 의 OUTER JOIN  \n",
    "                      3) left  : SQL 의 LEFT OUTER JOINT\n",
    "                      4) right : SQL 의 RIGHT OUTER JOINT\n",
    "\n",
    "\n",
    " 1) inner : 내부조인 : SQL 의 INNER JOIN  <-- default 설정\n",
    " inner 가 기본이므로 명시적으로 해 주지 않아도 inner 로 됨\n",
    "   ㄴ  on 에 지정한 컬럼값이 df01 과 df02 에서 같은 값인 것만 가져옴\n",
    "\n",
    "\n",
    " 2) outer : 외부조인 : SQL 의 OUTER JOIN  \n",
    "     a) on 의 컬럼값이 두 DataFrame 에서 같은 row들을 찾음\n",
    "     b) 각 같은 row 의 컬럼/컬럼값을 가져와서 붙임\n",
    "     c) 각 DataFrame 에서 on 컬럼값이 다른 나머지 row들을 찾음\n",
    "     d) 각 나머지 row 의 컬럼/컬럼값을 가져와서 별도의 row에 붙임\n",
    "           ㄴ 이때, 두 DataFrame 에 각각에만 있는 컬럼이라서\n",
    "                    컬럼값이 없는 경우에는 결측치(NaN)로 표기함\n",
    "\n",
    "\n",
    " 3) left  : SQL 의 LEFT OUTER JOINT\n",
    "     a) 왼쪽 DataFrame 의 row들을 모두 가져옴\n",
    "     b) 왼쪽 DataFrame 의 row 에 있는 컬럼값과 같은 컬럼값을 가지고 있는\n",
    "        오른쪽 DataFrame 의 row 를 가져와서 붙임\n",
    "     c) 오른쪽 DataFrame 에 없는 on 컬럼값을 가진 \n",
    "        왼쪽 DataFrame 중에서 오른쪽 DataFrame 의 컬럼들에는 \n",
    "        결측치(NaN)로 표기함\n",
    "       <-- 오른쪽 DataFrame 에 있는 결측치만 표기됨        \n",
    "\n",
    "\n",
    " 4) right : SQL 의 RIGHT OUTER JOINT\n",
    "     a) 오른쪽 DataFrame 의 row들을 모두 가져옴\n",
    "     b) 오른쪽 DataFrame 의 row 에 있는 컬럼값과 같은 컬럼값을 가지고 있는\n",
    "        왼쪽 DataFrame 의 row 를 가져와서 붙임\n",
    "     c) 왼쪽 DataFrame 에 없는 on 컬럼값을 가진 \n",
    "        오른쪽 DataFrame 중에서 왼쪽 DataFrame 의 컬럼들에는 \n",
    "        결측치(NaN)로 표기함\n",
    "       <-- 왼쪽 DataFrame 에 있는 결측치만 표기됨        \n",
    "\n",
    "\n",
    " column 이 아니라, \n",
    " index 를 기준으로 병합하기\n",
    "   ㄴ merge(DataFrame1, DataFrame2, left_index=True, right_index=True)\n",
    "      (기준 컬럼을 명시할 수도 있음)\n",
    "             \n",
    "'''"
   ]
  },
  {
   "cell_type": "code",
   "execution_count": null,
   "id": "1ca869f0",
   "metadata": {},
   "outputs": [],
   "source": [
    "test1_dict = {\n",
    "                 'id':[1, 2, 3],\n",
    "                 'customer_id':[1, 2, 3],\n",
    "                 'customer_name':['이순신','서태지','강감찬']\n",
    "             }\n",
    "test1_df = pd.DataFrame(test1_dict)\n",
    "display(test1_df)"
   ]
  },
  {
   "cell_type": "code",
   "execution_count": null,
   "id": "5e735771",
   "metadata": {},
   "outputs": [],
   "source": [
    "test2_dict = {\n",
    "    'id':[1, 2, 4],\n",
    "    'order_id':[100, 200, 300],\n",
    "    'order_date':['2022-01-21','2022-02-03','2022-10-01']\n",
    "}\n",
    "test2_df = pd.DataFrame(test2_dict)\n",
    "display(test2_df)"
   ]
  },
  {
   "cell_type": "code",
   "execution_count": null,
   "id": "a2e96237",
   "metadata": {},
   "outputs": [],
   "source": [
    "'''\n",
    "같은 컬럼은 그대로 나오고 \n",
    "다른 컬럼은 오른쪽으로 추가됨\n",
    "axis=0 - 아래로 연결됨\n",
    "'''\n",
    "pd.concat([test1_df, test2_df],axis=0)"
   ]
  },
  {
   "cell_type": "code",
   "execution_count": null,
   "id": "6a05db0f",
   "metadata": {},
   "outputs": [],
   "source": [
    "'''\n",
    "axis=1 - 오른쪽 옆으로 연결됨\n",
    "'''\n",
    "pd.concat([test1_df, test2_df],axis=1)"
   ]
  },
  {
   "cell_type": "code",
   "execution_count": null,
   "id": "dbf55a9d",
   "metadata": {},
   "outputs": [],
   "source": [
    "'''\n",
    "2) merge() - DataFrame 에서 같은 이름의 column 을 기준으로 병합함\n",
    "             pd.merge(DataFrame1, DataFrame2)\n",
    "'''\n",
    "pd.merge(test1_df, test2_df)"
   ]
  },
  {
   "cell_type": "code",
   "execution_count": null,
   "id": "7960e885",
   "metadata": {},
   "outputs": [],
   "source": [
    "pd.merge(test1_df, test2_df, on='id')"
   ]
  },
  {
   "cell_type": "code",
   "execution_count": null,
   "id": "01d4d756",
   "metadata": {},
   "outputs": [],
   "source": [
    "pd.merge(test1_df, test2_df, on='id', how='inner')"
   ]
  },
  {
   "cell_type": "code",
   "execution_count": null,
   "id": "6c93d9e0",
   "metadata": {},
   "outputs": [],
   "source": [
    "pd.merge(test1_df, test2_df, on='id', how='outer')"
   ]
  },
  {
   "cell_type": "code",
   "execution_count": null,
   "id": "1f22d6da",
   "metadata": {
    "scrolled": true
   },
   "outputs": [],
   "source": [
    "pd.merge(test1_df, test2_df, on='id', how='left')"
   ]
  },
  {
   "cell_type": "code",
   "execution_count": null,
   "id": "5478b976",
   "metadata": {},
   "outputs": [],
   "source": [
    "pd.merge(test1_df, test2_df, on='id', how='right')"
   ]
  },
  {
   "cell_type": "code",
   "execution_count": null,
   "id": "d3456824",
   "metadata": {},
   "outputs": [],
   "source": [
    "'''\n",
    "test1_df, test2_df 의 index 를 id 컬럼으로 만들어 보세요\n",
    "  ㄴ DataFrame 의 set_index(컬럼) 메소드\n",
    "'''\n",
    "test1_idx_df = test1_df.set_index('id')\n",
    "test1_idx_df"
   ]
  },
  {
   "cell_type": "code",
   "execution_count": null,
   "id": "05e94ea2",
   "metadata": {},
   "outputs": [],
   "source": [
    "test2_idx_df = test2_df.set_index('id')\n",
    "test2_idx_df"
   ]
  },
  {
   "cell_type": "code",
   "execution_count": null,
   "id": "ec165a83",
   "metadata": {
    "scrolled": true
   },
   "outputs": [],
   "source": [
    "'''\n",
    "test1_df 과 test2_df DataFrame 을 index 를 기준으로 병합하세요 \n",
    "(inner join 을 사용하세요) \n",
    "ㄴ inner join 이 default 이므로 how 에 지정하지 않아도 됨\n",
    "'''\n",
    "pd.merge(test1_idx_df, test2_idx_df, left_index=True, right_index=True)"
   ]
  },
  {
   "cell_type": "code",
   "execution_count": null,
   "id": "f1d915ec",
   "metadata": {},
   "outputs": [],
   "source": [
    "pd.merge(test1_idx_df, test2_idx_df, left_index=True, right_index=True, how='inner')"
   ]
  },
  {
   "cell_type": "code",
   "execution_count": null,
   "id": "35ad376d",
   "metadata": {},
   "outputs": [],
   "source": [
    "'''\n",
    "test1_df 과 test2_df DataFrame 을 index 를 기준으로 병합하세요 \n",
    "(outer join 을 사용하세요) \n",
    "'''\n",
    "pd.merge(test1_idx_df, test2_idx_df, left_index=True, right_index=True, how='outer')"
   ]
  },
  {
   "cell_type": "code",
   "execution_count": null,
   "id": "e2578fb9",
   "metadata": {
    "scrolled": true
   },
   "outputs": [],
   "source": []
  },
  {
   "cell_type": "code",
   "execution_count": null,
   "id": "0fd5deb2",
   "metadata": {},
   "outputs": [],
   "source": []
  },
  {
   "cell_type": "code",
   "execution_count": null,
   "id": "4aa65f95",
   "metadata": {},
   "outputs": [],
   "source": []
  },
  {
   "cell_type": "code",
   "execution_count": null,
   "id": "097c6a9f",
   "metadata": {},
   "outputs": [],
   "source": []
  }
 ],
 "metadata": {
  "kernelspec": {
   "display_name": "Python 3 (ipykernel)",
   "language": "python",
   "name": "python3"
  },
  "language_info": {
   "codemirror_mode": {
    "name": "ipython",
    "version": 3
   },
   "file_extension": ".py",
   "mimetype": "text/x-python",
   "name": "python",
   "nbconvert_exporter": "python",
   "pygments_lexer": "ipython3",
   "version": "3.9.12"
  }
 },
 "nbformat": 4,
 "nbformat_minor": 5
}

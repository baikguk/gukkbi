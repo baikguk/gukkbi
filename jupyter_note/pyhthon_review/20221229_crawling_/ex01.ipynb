{
 "cells": [
  {
   "cell_type": "code",
   "execution_count": null,
   "id": "1bc0b694",
   "metadata": {},
   "outputs": [],
   "source": [
    "import requests\n",
    "from bs4 import BeautifulSoup\n",
    "import openpyxl"
   ]
  },
  {
   "cell_type": "code",
   "execution_count": null,
   "id": "54ecc284",
   "metadata": {},
   "outputs": [],
   "source": [
    "\n",
    "excel_file = openpyxl.Workbook()\n",
    "excel_sheet = excel_file.active\n",
    "excel_sheet.append(['랭킹', '상품명', '판매가격', '상세페이지', '판매처'])\n",
    "\n",
    "url = 'https://corners.gmarket.co.kr/Bestsellers?viewType=G&groupCode=G06'\n",
    "response = requests.get(url)\n",
    "# print(response.text)\n",
    "\n",
    "soup = BeautifulSoup(response.content, 'html.parser')\n",
    "\n",
    "bestlists = soup.select('div.best-list')\n",
    "# print(len(list(bestlists)))\n",
    "# print(bestlists[0])\n",
    "bestitems = bestlists[0]\n",
    "products = bestitems.select('ul > li')\n",
    "# print('상품개수 :',len(list(products)),'개')\n",
    "for idx, product in enumerate(products):\n",
    "    title = product.select_one('a.itemname')\n",
    "    price = product.select_one('div.s-price > strong')\n",
    "    \n",
    "    response_detail = requests.get(title['href'])\n",
    "    soup_detail = BeautifulSoup(response_detail.content, 'html.parser')\n",
    "    seller_info = soup_detail.select_one('div.item-topinfo > div.item-topinfo_headline > p > span.text__seller > a')\n",
    "    # print(seller_info.get_text())\n",
    "    print(idx+1,title.get_text(), price.get_text(), title['href'], seller_info.get_text())\n",
    "    excel_sheet.append([idx+1,title.get_text(), price.get_text(), title['href'], seller_info.get_text()])\n",
    "    \n",
    "excel_file.save('bestproduct_gmarket.xlsx') \n",
    "excel_file.close()"
   ]
  },
  {
   "cell_type": "code",
   "execution_count": null,
   "id": "1d4629fd",
   "metadata": {},
   "outputs": [],
   "source": []
  },
  {
   "cell_type": "code",
   "execution_count": null,
   "id": "7e471262",
   "metadata": {},
   "outputs": [],
   "source": []
  },
  {
   "cell_type": "code",
   "execution_count": null,
   "id": "062f73ff",
   "metadata": {},
   "outputs": [],
   "source": []
  }
 ],
 "metadata": {
  "kernelspec": {
   "display_name": "Python 3 (ipykernel)",
   "language": "python",
   "name": "python3"
  },
  "language_info": {
   "codemirror_mode": {
    "name": "ipython",
    "version": 3
   },
   "file_extension": ".py",
   "mimetype": "text/x-python",
   "name": "python",
   "nbconvert_exporter": "python",
   "pygments_lexer": "ipython3",
   "version": "3.9.12"
  }
 },
 "nbformat": 4,
 "nbformat_minor": 5
}

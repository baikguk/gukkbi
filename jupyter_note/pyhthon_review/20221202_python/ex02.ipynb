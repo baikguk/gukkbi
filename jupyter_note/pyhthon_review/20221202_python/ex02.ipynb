{
 "cells": [
  {
   "cell_type": "code",
   "execution_count": null,
   "id": "2b3f9b43",
   "metadata": {},
   "outputs": [],
   "source": [
    "name = '글로벌'\n",
    "age  = 23\n",
    "print('이름은 글로벌 이고, 나이는 23 세입니다')\n",
    "print('이름은',name,'이고, 나이는',age,'세입니다')\n",
    "# TypeError: can only concatenate str (not \"int\") to str\n",
    "# print('이름은' + name + '이고, 나이는' + strage + '세입니다')\n",
    "print('이름은' + name + '이고, 나이는' + str(age) + '세입니다')\n",
    "print('이름은 ' + name + '이고, 나이는 ' + str(age) + '세입니다')\n",
    "print('이름은',name,'이고, 나이는',age,'세입니다',sep=' ')\n",
    "print('이름은',name,'이고, 나이는',age,'세입니다',sep='')\n",
    "print('이름은 ',name,' 이고, 나이는 ',age,'세입니다',sep='')"
   ]
  },
  {
   "cell_type": "code",
   "execution_count": null,
   "id": "09556a4a",
   "metadata": {},
   "outputs": [],
   "source": [
    "'''\n",
    "이름은 유관순이고 키는 162.32cm입니다\n",
    "'''\n",
    "name = '유관순'\n",
    "height = 162.32\n",
    "# TypeError: can only concatenate str (not \"int\") to str\n",
    "print('이름은 ' + name + '이고, 키는 ' + str(height) + 'cm입니다')\n",
    "print('이름은',name,'이고, 키는',height,'cm입니다')"
   ]
  },
  {
   "cell_type": "code",
   "execution_count": null,
   "id": "c7140bf6",
   "metadata": {},
   "outputs": [],
   "source": [
    "'''\n",
    "str()  -  문자열 type 으로 변환해 주는 함수\n",
    "int()  -  숫자(정수)type 으로 변환해 주는 함수\n",
    "          숫자(정수) 모양의 문자열만 숫자(정수)로 변환할 수 있음\n",
    "'''\n",
    "number1 = '10'\n",
    "number2 = 20\n",
    "result = number1 + str(number2)\n",
    "# 아래의 결과가 result : 1020 이 되도록\n",
    "# code 를 수정하세요\n",
    "print('result : ' + result)\n",
    "\n",
    "result = int(number1) + number2\n",
    "print('result :',result)"
   ]
  },
  {
   "cell_type": "code",
   "execution_count": null,
   "id": "5cf2206b",
   "metadata": {},
   "outputs": [],
   "source": [
    "'''\n",
    "float() - 숫자(실수) 로 형변환해 주는 함수\n",
    "'''\n",
    "number3 = '12.34'\n",
    "number4 = 56.78\n",
    "result = float(number3) + number4\n",
    "# 아래의 결과가 result : 69.12 가 나오도록\n",
    "# code 를 수정하세요\n",
    "print('result :',result)"
   ]
  },
  {
   "cell_type": "code",
   "execution_count": null,
   "id": "bd38cd7a",
   "metadata": {},
   "outputs": [],
   "source": [
    "# 아래의 결과가 result : 12.3456.78 이 나오도록\n",
    "# code 를 수정하세요 : java 에서 처럼 문자열을 + 연산하면 연결연산자가 됨\n",
    "result = number3 + str(number4)\n",
    "print('result :',result)"
   ]
  },
  {
   "cell_type": "code",
   "execution_count": null,
   "id": "26345c8b",
   "metadata": {},
   "outputs": [],
   "source": [
    "number5 = '1234'\n",
    "number6 = '56.78'\n",
    "print('정수 :',int(number5))\n",
    "print('실수 :',float(number5))\n",
    "print('실수 :',float(number6))\n",
    "\n",
    "# ValueError: invalid literal for int() with base 10: '56.78'\n",
    "'''\n",
    " 정수 모양의 문자열은 int(), float() 모두 다 변환할 수 있으나\n",
    " 실수 모양의 문자열은 int() 로 변화하면 오류가 발생함\n",
    " 실수 모양의 문자열은 float()  로만 변환할 수 있음\n",
    "'''\n",
    "# print('정수 :',int(number6))\n",
    "1"
   ]
  },
  {
   "cell_type": "code",
   "execution_count": null,
   "id": "21369e56",
   "metadata": {},
   "outputs": [],
   "source": [
    "'''\n",
    "str() 함수는 int type  이나 float type 모두를 문자열로 변환할 수 있음\n",
    "'''\n",
    "\n",
    "'''\n",
    "실수  ->  정수 : int()\n",
    "반올림이 되지 않고 정수부분만 남음   \n",
    "'''\n",
    "num1 = 3.74\n",
    "print('num1 :',num1)\n",
    "\n",
    "'''\n",
    "type()  :  자료형을 알려주는 함수\n",
    "'''\n",
    "# num1 : <class 'float'>  <-- float type 이라는 의미\n",
    "print('num1 :',type(num1))\n",
    "\n",
    "# int() 로 형변환하기\n",
    "num1 = int(num1)\n",
    "# float 를 int 로 형변환하면 \n",
    "# 정수부분만 남고 반올림은 적용 안 됨\n",
    "print('num1 :',num1)\n",
    "print('num1 :',type(num1))"
   ]
  },
  {
   "cell_type": "code",
   "execution_count": null,
   "id": "7395823f",
   "metadata": {},
   "outputs": [],
   "source": [
    "'''\n",
    "정수  ->  실수 : float()\n",
    "소숫점 이하 부분이 살아나나\n",
    "기본값인 0 으로 됨\n",
    "'''\n",
    "num2 = 330\n",
    "print('num2 :',num2)\n",
    "# num2 : <class 'int'>  <-- int type 이라는 의미\n",
    "print('num2 :',type(num2))\n",
    "\n",
    "num2 = float(num2)\n",
    "print('num2 :',num2)\n",
    "# num2 : <class 'float'>  <-- int float 이라는 의미\n",
    "print('num2 :',type(num2))"
   ]
  },
  {
   "cell_type": "code",
   "execution_count": null,
   "id": "7f4aa906",
   "metadata": {},
   "outputs": [],
   "source": [
    "'''\n",
    "논리형  ->  정수형 :  int()\n",
    "'''\n",
    "b1 = True\n",
    "print('b1 :',b1)\n",
    "print('b1 :',type(b1))\n",
    "b2 = False\n",
    "print('b2 :',b2)\n",
    "print('b2 :',type(b2))\n",
    "b1 = int(b1)\n",
    "# b1 : 1 - True 를 bool type 으로 변환하면 1 이 됨\n",
    "print('b1 :',b1)\n",
    "print('b1 :',type(b1))\n",
    "b2 = int(b2)\n",
    "# b2 : 0 - False 를 bool type 으로 변환하면 0 이 됨\n",
    "print('b2 :',b2)\n",
    "print('b2 :',type(b2))"
   ]
  },
  {
   "cell_type": "code",
   "execution_count": 42,
   "id": "6dc1c822",
   "metadata": {},
   "outputs": [
    {
     "name": "stdout",
     "output_type": "stream",
     "text": [
      "1 : True\n",
      "321 : True\n",
      "-65 : True\n",
      "0 : False\n"
     ]
    }
   ],
   "source": [
    "'''\n",
    "정수형(int) --> 논리형(bool)\n",
    "  0 은 False 가 되고, 0 이외의 모든 숫자들은 True  가 됨\n",
    "'''\n",
    "num3 = 1\n",
    "num4 = 321\n",
    "num5 = -65\n",
    "num6 = 0\n",
    "print('1 :',bool(num3))\n",
    "print('321 :',bool(num4))\n",
    "print('-65 :',bool(num5))\n",
    "print('0 :',bool(num6))"
   ]
  },
  {
   "cell_type": "code",
   "execution_count": 44,
   "id": "51706b64",
   "metadata": {},
   "outputs": [
    {
     "name": "stdout",
     "output_type": "stream",
     "text": [
      "1.23 : True\n",
      "321.32 : True\n",
      "-98.65 : True\n",
      "0.0 : False\n"
     ]
    }
   ],
   "source": [
    "'''\n",
    "실수형(float) --> 논리형(bool)\n",
    "  0.0 은 False 가 되고, 0.0 이외의 모든 숫자들은 True  가 됨\n",
    "'''\n",
    "num7 = 1.23\n",
    "num8 = 321.32\n",
    "num9 = -98.65\n",
    "num10 = 0.0\n",
    "print('1.23 :',bool(num7))\n",
    "print('321.32 :',bool(num8))\n",
    "print('-98.65 :',bool(num9))\n",
    "print('0.0 :',bool(num10))"
   ]
  },
  {
   "cell_type": "code",
   "execution_count": null,
   "id": "d131a31b",
   "metadata": {},
   "outputs": [],
   "source": []
  },
  {
   "cell_type": "code",
   "execution_count": null,
   "id": "7ee8735d",
   "metadata": {},
   "outputs": [],
   "source": []
  },
  {
   "cell_type": "code",
   "execution_count": null,
   "id": "b9d51edd",
   "metadata": {},
   "outputs": [],
   "source": []
  },
  {
   "cell_type": "code",
   "execution_count": null,
   "id": "abfd6faf",
   "metadata": {},
   "outputs": [],
   "source": []
  }
 ],
 "metadata": {
  "kernelspec": {
   "display_name": "Python 3 (ipykernel)",
   "language": "python",
   "name": "python3"
  },
  "language_info": {
   "codemirror_mode": {
    "name": "ipython",
    "version": 3
   },
   "file_extension": ".py",
   "mimetype": "text/x-python",
   "name": "python",
   "nbconvert_exporter": "python",
   "pygments_lexer": "ipython3",
   "version": "3.9.12"
  }
 },
 "nbformat": 4,
 "nbformat_minor": 5
}

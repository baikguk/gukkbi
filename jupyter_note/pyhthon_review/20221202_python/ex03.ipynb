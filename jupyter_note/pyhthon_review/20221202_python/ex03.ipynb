{
 "cells": [
  {
   "cell_type": "markdown",
   "id": "81e8e91f",
   "metadata": {},
   "source": [
    "### 연산자 (operator)"
   ]
  },
  {
   "cell_type": "code",
   "execution_count": null,
   "id": "38147a38",
   "metadata": {},
   "outputs": [],
   "source": [
    "'''\n",
    "산술연산자 : + - * / // %\n",
    "'''\n",
    "num1 = 10\n",
    "num2 = 8\n",
    "\n",
    "result = num1 + num2\n",
    "print('result :',result)\n",
    "\n",
    "result = num1 - num2\n",
    "print('result :',result)\n",
    "\n",
    "result = num1 * num2\n",
    "print('result :',result)\n",
    "\n",
    "# / : 실수값을 반환함\n",
    "result = num1 / num2\n",
    "print('result :',result)\n",
    "\n",
    "# // : 정수부분만 반환함 - 몫\n",
    "result = num1 // num2\n",
    "print('result :',result)\n",
    "\n",
    "# % : 나머지\n",
    "result = num1 % num2\n",
    "print('result :',result)"
   ]
  },
  {
   "cell_type": "code",
   "execution_count": null,
   "id": "9a1136a9",
   "metadata": {},
   "outputs": [],
   "source": [
    "'''\n",
    "비교(관계)연산자\n",
    "동등비교 : == / !=\n",
    "'''\n",
    "num1 = 10\n",
    "num2 = 8\n",
    "print(num1 == num2)\n",
    "print(num1 != num2)\n",
    "\n",
    "'''\n",
    "크기 비교\n",
    "'''\n",
    "print(num1 > num2)\n",
    "print(num1 >= num2)\n",
    "print(num1 < num2)\n",
    "print(num1 <= num2)\n"
   ]
  },
  {
   "cell_type": "code",
   "execution_count": null,
   "id": "626f575e",
   "metadata": {},
   "outputs": [],
   "source": [
    "'''\n",
    "논리연산자\n",
    "and(논리곱), or(논리합), not(부정연산자)\n",
    "'''\n",
    "\n",
    "'''\n",
    "and - 동시에 True 가 되어야 True 를 반환함\n",
    "      하나라도 False 면 False 를 반환함\n",
    "        ㄴ False 가 나오면 and 연산자 뒤의 연산을 하지 않고\n",
    "           무조건 False 를 반환함\n",
    "or  - 동시에 False 가 되어야 False 를 반환함\n",
    "      하나라도 True 면 True 를 반환함     \n",
    "        ㄴ True 가 나오면 or 연산자 뒤의 연산을 하지 않고\n",
    "           무조건 True 를 반환함      \n",
    "'''\n",
    "print(True   and True)\n",
    "print(True   and False)\n",
    "print(False  and True)\n",
    "print(False  and False)\n",
    "print('True and 10 :',(True and 10))\n",
    "print('False and 10 :',(False and 10))\n",
    "print('True and 10+10 :',(True and 10+10))\n",
    "print('False and 10 :',(False and 10))\n",
    "\n",
    "# 문자열을 곱하면 반복하는 효과가 있음\n",
    "print('-' * 70)\n",
    "\n",
    "print(True   or True)\n",
    "print(True   or False)\n",
    "print(False  or True)\n",
    "print(False  or False)\n",
    "print('True or 10 :',(True or 10))\n",
    "print('False or 10 :',(False or 10))\n",
    "print('True or 10+10 :',(True or 10+10))\n",
    "print('False or 10+10 :',(False or 10+10))"
   ]
  },
  {
   "cell_type": "code",
   "execution_count": null,
   "id": "7f697c23",
   "metadata": {},
   "outputs": [],
   "source": [
    "num1 = 10\n",
    "num2 = 8\n",
    "print(num1 >= 50 and num2 <= 10)\n",
    "print(num1 >= 50  or num2 <= 10)\n",
    "\n",
    "print(5 <= num1 and num1 <= 9)\n",
    "'''\n",
    "5 <= num1 && num1 <= 9   in java\n",
    "\n",
    "아래와 같이 줄여서 표기할 수도 있음\n",
    "'''\n",
    "print(5 <= num1 <= 9)"
   ]
  },
  {
   "cell_type": "code",
   "execution_count": 21,
   "id": "3e048876",
   "metadata": {},
   "outputs": [
    {
     "name": "stdout",
     "output_type": "stream",
     "text": [
      "number : 10\n",
      "number : 11\n",
      "number : 12\n",
      "number : 11\n",
      "number : 10\n"
     ]
    }
   ],
   "source": [
    "'''\n",
    "변수에 연결된 값 1 증가시키기\n",
    "'''\n",
    "number = 10\n",
    "print('number :',number)\n",
    "\n",
    "# python  에는 증가(감소) 연산자가 없음\n",
    "# print('number :',number++)\n",
    "\n",
    "number = number + 1\n",
    "print('number :',number)\n",
    "\n",
    "number += 1\n",
    "print('number :',number)\n",
    "\n",
    "number = number - 1\n",
    "print('number :',number)\n",
    "\n",
    "number -= 1\n",
    "print('number :',number)\n",
    "\n"
   ]
  },
  {
   "cell_type": "code",
   "execution_count": 32,
   "id": "15f56c16",
   "metadata": {},
   "outputs": [
    {
     "name": "stdout",
     "output_type": "stream",
     "text": [
      "cup1 : 사이다 cup2 : 콜라\n",
      "cup1 : 콜라 cup2 : 사이다\n"
     ]
    }
   ],
   "source": [
    "'''\n",
    "변수에 연결된 값 서로 맞바꾸기 - swapping\n",
    "'''\n",
    "num1 = 10\n",
    "num2 = 20\n",
    "# print('num1 :',num1,'num2 :',num2)\n",
    "\n",
    "'''\n",
    " code 를 작성해서\n",
    " num1 : 20 num2 : 10\n",
    " 으로 출력되도록 해 보세요\n",
    " (사이다와 콜라가 들어있는 컵이 각각 있는 경우,\n",
    "  서로 맞부어서 사이다와 콜라를 맞바꿀 수 없음\n",
    "  제 3 의 컵이 하나 필요함)\n",
    "'''\n",
    "cup1 = '사이다'\n",
    "cup2 = '콜라'\n",
    "print('cup1 :',cup1,'cup2 :',cup2)\n",
    "\n",
    "'''\n",
    "cup1 = cup2\n",
    "cup2 = cup1\n",
    "print('cup1 :',cup1,'cup2 :',cup2)\n",
    "'''\n",
    "cup3 = cup2\n",
    "cup2 = cup1\n",
    "cup1 = cup3\n",
    "print('cup1 :',cup1,'cup2 :',cup2)"
   ]
  },
  {
   "cell_type": "code",
   "execution_count": 34,
   "id": "c05e3ed6",
   "metadata": {},
   "outputs": [
    {
     "name": "stdout",
     "output_type": "stream",
     "text": [
      "cup1 : 사이다 cup2 : 콜라\n",
      "cup1 : 콜라 cup2 : 사이다\n"
     ]
    }
   ],
   "source": [
    "cup1 = '사이다'\n",
    "cup2 = '콜라'\n",
    "print('cup1 :',cup1,'cup2 :',cup2)\n",
    "\n",
    "'''\n",
    "할당연산자 오른쪽의 cup2, cup1 부분은\n",
    "변수 두 개를 한꺼번에 할당연산을 한 것이 아니고,\n",
    "(cup2, cup1) 에서 () 가 생략된 형태임\n",
    "() 를 tuple 이라고 함\n",
    "할당연산자 오른쪽에는 변수 두 개가 있는 것이 아니고\n",
    "변수 두 개를 저장하고 있는 tuple 하나가 있는 것임\n",
    "cup1, cup2 = cup2, cup1\n",
    "이 부분은 할당연산자 오른쪽에 있는 tuple 속에 있는\n",
    "cup2와 cup1 을 unpacking 해서 각각 cup1 과 cup2에 할당한 것임\n",
    "*** 할당연산자 오른쪽에는 값이 여러 개가 한 번에 올 수 없음\n",
    "    딱 하나만 올 수 있음\n",
    "'''\n",
    "# unpacking\n",
    "cup1, cup2 = cup2, cup1\n",
    "print('cup1 :',cup1,'cup2 :',cup2)"
   ]
  },
  {
   "cell_type": "code",
   "execution_count": null,
   "id": "dbda1ece",
   "metadata": {},
   "outputs": [],
   "source": []
  },
  {
   "cell_type": "code",
   "execution_count": null,
   "id": "9a1982df",
   "metadata": {},
   "outputs": [],
   "source": []
  },
  {
   "cell_type": "code",
   "execution_count": null,
   "id": "1e4327dd",
   "metadata": {},
   "outputs": [],
   "source": []
  },
  {
   "cell_type": "code",
   "execution_count": null,
   "id": "2235ca25",
   "metadata": {},
   "outputs": [],
   "source": []
  },
  {
   "cell_type": "code",
   "execution_count": null,
   "id": "a9e7f0ee",
   "metadata": {},
   "outputs": [],
   "source": []
  }
 ],
 "metadata": {
  "kernelspec": {
   "display_name": "Python 3 (ipykernel)",
   "language": "python",
   "name": "python3"
  },
  "language_info": {
   "codemirror_mode": {
    "name": "ipython",
    "version": 3
   },
   "file_extension": ".py",
   "mimetype": "text/x-python",
   "name": "python",
   "nbconvert_exporter": "python",
   "pygments_lexer": "ipython3",
   "version": "3.9.12"
  }
 },
 "nbformat": 4,
 "nbformat_minor": 5
}

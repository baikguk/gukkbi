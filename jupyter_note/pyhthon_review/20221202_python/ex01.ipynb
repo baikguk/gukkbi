{
 "cells": [
  {
   "cell_type": "markdown",
   "id": "59b4db6f",
   "metadata": {},
   "source": [
    "b : cell 이 아래로 생김<br>\n",
    "a : cell 이 위로 생김<br>\n",
    "dd <- cell 삭제하기<br><br>\n",
    "\n",
    "y : cell mode 를 code 로 설정함<br>\n",
    "m : cell mode 를 markdown 으로 설정함<br><br>\n",
    "\n",
    "ctrl + enter  : cell 실행하기 - cell 이 아래로 생기지 않음<br>\n",
    "shift + enter : cell 실행하기 - cell 이 아래로 생김<br><br>\n",
    "\n",
    "markdown mode 에서\n",
    "#-으로 글자 크기를 설정할 수 있음  (5 단계)\n",
    "\n",
    "# 제목1\n",
    "## 제목2\n",
    "### 제목3\n",
    "#### 제목4\n",
    "##### 제목5\n",
    "<br>\n",
    "\n",
    "# python programming\n",
    "- the best programming\n",
    "  - Life is too short\n",
    "    - You should learn python\n",
    "      - goo programming\n"
   ]
  },
  {
   "cell_type": "code",
   "execution_count": null,
   "id": "8fa04695",
   "metadata": {},
   "outputs": [],
   "source": [
    "# 한 줄 주석입니다\n",
    "'''\n",
    "여러 줄 \n",
    "주석 \n",
    "입니다\n",
    "\n",
    "python 에서는 큰따옴표와 작은따옴표를 구별하지 않고\n",
    "문자열을 표시하는데 사용함\n",
    "python 에서는 문자열 type, 문자 type 이 따로 없고\n",
    "모두 문자열 type (str type)으로 인식함\n",
    "문자열을 나타낼 때 큰따옴표나 작은따옴표나 모두 사용할 수 있으나\n",
    "시작과 끝을 표시할 때는 같은 것을 사용해야 함\n",
    "'''\n",
    "\n",
    "'''\n",
    "python 은 literal data 를 \n",
    "먼저 memory 에 올리고나서\n",
    "변수(이름표) 를 연결시킴\n",
    "'''\n",
    "\n",
    "name = '글로벌'\n",
    "print('name :',name)\n",
    "\n",
    "number1 = 10\n",
    "number2 = 20\n",
    "result = number1 + number2\n",
    "print('result :',result)\n",
    "print('result : ' + str(result))"
   ]
  },
  {
   "cell_type": "code",
   "execution_count": null,
   "id": "3b79f2ec",
   "metadata": {},
   "outputs": [],
   "source": [
    "'''\n",
    "name  :  str type (문자열)\n",
    "age   :  int type (정수 : 숫자)\n",
    "height : float type (실수 : 숫자)\n",
    "general : bool type (논리형)\n",
    "'''\n",
    "name = '이순신'\n",
    "age  = 46\n",
    "height = 187.4\n",
    "general = True\n",
    "\n",
    "print('이름은',name,'이고 나이는',age,'세이고, 키는',height,'cm이고, 직업은 장군입니다',general)"
   ]
  },
  {
   "cell_type": "code",
   "execution_count": null,
   "id": "e1ab3ad8",
   "metadata": {},
   "outputs": [],
   "source": [
    "'''\n",
    "복소수 자료형 - complex type\n",
    "  ㄴ 실수부 , 허수부(j)\n",
    "'''\n",
    "c1 = 2 + 3j\n",
    "print('c1 :',c1)\n",
    "print('실수부 :',c1.real,'허수부 :',c1.imag)"
   ]
  },
  {
   "cell_type": "code",
   "execution_count": null,
   "id": "47d0f8ba",
   "metadata": {},
   "outputs": [],
   "source": [
    "'''\n",
    "python 에서는 모든 변수들이 reference type 임\n",
    "  ㄴ 모두 주소를 저장하고 있음\n",
    "  ㄴ 모든 data 들은 전부 객체로 메모리에 올라감 \n",
    "변수 - data 와 연결된 이름표 (reference type)\n",
    "        ㄴ data 가 memory 상에서 어느 위치에 있는지 \n",
    "           computer 한테 알려주는 이름표\n",
    "'''\n",
    "number = 100;\n",
    "print('number :',number)\n",
    "\n",
    "# id() 함수 : 객체(data)가 memory 상에 올라간 지점의 주소를 반환함\n",
    "print('number :',id(number))\n",
    "\n",
    "number = 200;\n",
    "print('number :',number)\n",
    "print('number :',id(number))\n",
    "\n",
    "number = 300;\n",
    "print('number :',number)\n",
    "print('number :',id(number))"
   ]
  },
  {
   "cell_type": "code",
   "execution_count": null,
   "id": "d1805635",
   "metadata": {},
   "outputs": [],
   "source": []
  },
  {
   "cell_type": "code",
   "execution_count": null,
   "id": "c03124ed",
   "metadata": {},
   "outputs": [],
   "source": []
  },
  {
   "cell_type": "code",
   "execution_count": null,
   "id": "71456bfa",
   "metadata": {},
   "outputs": [],
   "source": []
  },
  {
   "cell_type": "code",
   "execution_count": null,
   "id": "4976dc52",
   "metadata": {},
   "outputs": [],
   "source": []
  }
 ],
 "metadata": {
  "kernelspec": {
   "display_name": "Python 3 (ipykernel)",
   "language": "python",
   "name": "python3"
  },
  "language_info": {
   "codemirror_mode": {
    "name": "ipython",
    "version": 3
   },
   "file_extension": ".py",
   "mimetype": "text/x-python",
   "name": "python",
   "nbconvert_exporter": "python",
   "pygments_lexer": "ipython3",
   "version": "3.9.12"
  }
 },
 "nbformat": 4,
 "nbformat_minor": 5
}

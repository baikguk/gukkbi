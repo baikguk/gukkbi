{
 "cells": [
  {
   "cell_type": "code",
   "execution_count": null,
   "id": "14b650fe",
   "metadata": {},
   "outputs": [],
   "source": [
    "import requests\n",
    "from bs4 import BeautifulSoup\n",
    "\n",
    "url = 'https://corners.gmarket.co.kr/Bestsellers?viewType=G&groupCode=G06'\n",
    "response = requests.get(url)\n",
    "# print(response.text)\n",
    "\n",
    "soup = BeautifulSoup(response.content, 'html.parser')\n",
    "\n",
    "bestlists = soup.select('div.best-list')\n",
    "# print(len(list(bestlists)))\n",
    "# print(bestlists[0])\n",
    "bestitems = bestlists[0]\n",
    "products = bestitems.select('ul > li')\n",
    "# print('상품개수 :',len(list(products)),'개')\n",
    "for idx, product in enumerate(products):\n",
    "    title = product.select_one('a.itemname')\n",
    "    price = product.select_one('div.s-price > strong')\n",
    "    print(idx+1,title.get_text(), price.get_text())"
   ]
  },
  {
   "cell_type": "code",
   "execution_count": null,
   "id": "7787c376",
   "metadata": {},
   "outputs": [],
   "source": []
  },
  {
   "cell_type": "code",
   "execution_count": null,
   "id": "d8bacf09",
   "metadata": {},
   "outputs": [],
   "source": []
  },
  {
   "cell_type": "code",
   "execution_count": null,
   "id": "e11dd5be",
   "metadata": {},
   "outputs": [],
   "source": []
  },
  {
   "cell_type": "code",
   "execution_count": null,
   "id": "73c5d462",
   "metadata": {},
   "outputs": [],
   "source": []
  },
  {
   "cell_type": "code",
   "execution_count": null,
   "id": "d46dc6c3",
   "metadata": {},
   "outputs": [],
   "source": []
  }
 ],
 "metadata": {
  "kernelspec": {
   "display_name": "Python 3 (ipykernel)",
   "language": "python",
   "name": "python3"
  },
  "language_info": {
   "codemirror_mode": {
    "name": "ipython",
    "version": 3
   },
   "file_extension": ".py",
   "mimetype": "text/x-python",
   "name": "python",
   "nbconvert_exporter": "python",
   "pygments_lexer": "ipython3",
   "version": "3.9.12"
  }
 },
 "nbformat": 4,
 "nbformat_minor": 5
}

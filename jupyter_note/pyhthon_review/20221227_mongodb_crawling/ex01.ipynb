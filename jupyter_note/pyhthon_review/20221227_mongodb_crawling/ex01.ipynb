{
 "cells": [
  {
   "cell_type": "code",
   "execution_count": null,
   "id": "64da7151",
   "metadata": {},
   "outputs": [],
   "source": [
    "actor_collection.delete_many({})"
   ]
  },
  {
   "cell_type": "code",
   "execution_count": null,
   "id": "ab6844d3",
   "metadata": {},
   "outputs": [],
   "source": [
    "'''\n",
    "여러 page 에서 배우 정보 가져오기 + MongoDB 에 크롤링한 data 저장하기 \n",
    "'''\n",
    "# 정규표현식을 사용하지 않고, 문자열 split, indexing, slicing 사용하기\n",
    "\n",
    "from bs4 import BeautifulSoup\n",
    "import requests\n",
    "import pymongo\n",
    "import re\n",
    "import pprint\n",
    "import warnings\n",
    "warnings.filterwarnings('ignore')\n",
    "\n",
    "conn = pymongo.MongoClient()\n",
    "actor_db = conn.cine21\n",
    "actor_collection = actor_db.actor_collection\n",
    "\n",
    "cine21_url = 'http://www.cine21.com/rank/person/content'\n",
    "post_data = dict()\n",
    "post_data['section'] = 'actor'  \n",
    "post_data['period_start'] = '2022-11'  \n",
    "post_data['gender'] = 'all' \n",
    "\n",
    "actor_info_list = []\n",
    "\n",
    "for idx in range(1, 21):\n",
    "    post_data['page'] = idx \n",
    "    \n",
    "    response = requests.post(cine21_url, data=post_data)\n",
    "    soup = BeautifulSoup(response.content, 'html.parser')\n",
    "\n",
    "    actors = soup.select('li.people_li div.name')\n",
    "    hits = soup.select('ul.num_info > li > strong')\n",
    "    movies = soup.select('ul.mov_list')    \n",
    "\n",
    "    for idx, actor in enumerate(actors):\n",
    "        actor_name = re.sub('\\(\\w*\\)','',actor.text)\n",
    "        actor_hits = int(hits[idx].text.replace(',',''))\n",
    "        movie_titles = movies[idx].select('li a span')\n",
    "        movie_title_list = []\n",
    "        for movie_title in movie_titles:\n",
    "            # print(movie_title.text)\n",
    "            movie_title_list.append(movie_title.text)\n",
    "        # 한 사람의 출연영화 목록    \n",
    "        # movie_title_list       \n",
    "\n",
    "        # 한 사람의 상세 정보 : 딕셔너리\n",
    "        actor_info_dict = {}\n",
    "        actor_info_dict['배우이름'] = actor_name\n",
    "        actor_info_dict['흥행지수'] = actor_hits \n",
    "        actor_info_dict['출연영화'] = movie_title_list\n",
    "\n",
    "        # 상세페이지로 이동해서 정보 가져오기    \n",
    "        actor_url = 'http://www.cine21.com' + actor.select_one('a').attrs['href']    \n",
    "        actor_response = requests.get(actor_url)\n",
    "        actor_soup = BeautifulSoup(actor_response.content, 'html.parser')\n",
    "        default_info = actor_soup.select_one('ul.default_info')\n",
    "        actor_detail = default_info.select('li')\n",
    "        for actor_item in actor_detail:  \n",
    "            actor_item = str(actor_item)\n",
    "            elem = actor_item.split('<')\n",
    "            actor_item_key = elem[2][elem[2].find('>')+1:]\n",
    "            actor_item_value = elem[3][elem[3].find('>')+1:]\n",
    "            #  한 사람의 상세정보를 딕셔너리에 추가하기\n",
    "            actor_info_dict[actor_item_key] = actor_item_value     \n",
    "       \n",
    "        # 한 사람의 상세정보를 리스트에 추가하기\n",
    "        #  ㄴ 반복적으로 실행하면 여러 사람들의 상세정보가 리스트에 추가됨\n",
    "        actor_info_list.append(actor_info_dict)\n",
    "\n",
    "actor_collection.insert_many(actor_info_list)        "
   ]
  },
  {
   "cell_type": "code",
   "execution_count": null,
   "id": "dd1e95d8",
   "metadata": {},
   "outputs": [],
   "source": [
    "from bs4 import BeautifulSoup\n",
    "import requests\n",
    "import pymongo\n",
    "import re\n",
    "import pprint\n",
    "import warnings\n",
    "warnings.filterwarnings('ignore')\n",
    "\n",
    "conn = pymongo.MongoClient()\n",
    "actor_db = conn.cine21\n",
    "actor_collection = actor_db.actor_collection"
   ]
  },
  {
   "cell_type": "code",
   "execution_count": null,
   "id": "78ba0563",
   "metadata": {},
   "outputs": [],
   "source": [
    "actor_collection.find_one({})"
   ]
  },
  {
   "cell_type": "code",
   "execution_count": null,
   "id": "101c3de7",
   "metadata": {},
   "outputs": [],
   "source": [
    "# limit(3) : 3 개의 document 만 조회하기\n",
    "actor_documents = actor_collection.find({}).limit(3)\n",
    "\n",
    "for actor_document in actor_documents:\n",
    "    pprint.pprint(actor_document)"
   ]
  },
  {
   "cell_type": "code",
   "execution_count": null,
   "id": "9ba75c46",
   "metadata": {},
   "outputs": [],
   "source": [
    "'''\n",
    "mongodb 에서 key(field) 이름 변경하기  <-- $rename\n",
    "  ㄴ update_one() / update_many() 함수 실행\n",
    "'''\n",
    "\n",
    "# 다른 이름  --> 다른이름\n",
    "actor_collection.update_many({}, {'$rename' : {'다른 이름':'다른이름'}})"
   ]
  },
  {
   "cell_type": "code",
   "execution_count": null,
   "id": "52aab409",
   "metadata": {},
   "outputs": [],
   "source": [
    "# limit(3) : 3 개의 document 만 조회하기\n",
    "actor_documents = actor_collection.find({}).limit(3)\n",
    "\n",
    "for actor_document in actor_documents:\n",
    "    pprint.pprint(actor_document)"
   ]
  },
  {
   "cell_type": "code",
   "execution_count": null,
   "id": "6ba5ffb1",
   "metadata": {},
   "outputs": [],
   "source": [
    "# collection 객체와 연결된 변수 이름 변경하기\n",
    "actor = actor_collection"
   ]
  },
  {
   "cell_type": "code",
   "execution_count": null,
   "id": "f4ca5fd2",
   "metadata": {},
   "outputs": [],
   "source": [
    "'''\n",
    "조회하면서 정렬하기 - find() / sort(정렬기준 key)\n",
    "'''\n",
    "actor_documents = actor.find({}).sort('생년월일').limit(20)\n",
    "for actor_document in actor_documents:\n",
    "    pprint.pprint(actor_document)"
   ]
  },
  {
   "cell_type": "code",
   "execution_count": null,
   "id": "a521d975",
   "metadata": {},
   "outputs": [],
   "source": [
    "'''\n",
    "조회하면서 정렬하기 - find() / sort(정렬기준 key) \n",
    "  ㄴ 내림차순 : pymongo.DESCENDING 속성을 지정함\n",
    "'''\n",
    "actor_documents = actor.find({}).sort('생년월일', pymongo.DESCENDING).limit(20)\n",
    "for actor_document in actor_documents:\n",
    "    pprint.pprint(actor_document)"
   ]
  },
  {
   "cell_type": "code",
   "execution_count": null,
   "id": "0c9d4ab0",
   "metadata": {},
   "outputs": [],
   "source": [
    "'''\n",
    "특정 key(field) 가 있는지 조회하기 - find() / $exists\n",
    "'''\n",
    "# 특기 정보가 있는 배우들만 조회하기\n",
    "actor_documents = actor.find({'특기': {'$exists' : True}})\n",
    "for actor_document in actor_documents:\n",
    "    pprint.pprint(actor_document)"
   ]
  },
  {
   "cell_type": "code",
   "execution_count": null,
   "id": "3df26c54",
   "metadata": {},
   "outputs": [],
   "source": [
    "'''\n",
    "특기 정보가 있는 배우들을 흥행지수 순으로 조회하기\n",
    "'''\n",
    "actor_documents = \\\n",
    "  actor.find({'특기':{'$exists':True}}).sort('흥행지수', pymongo.DESCENDING)\n",
    "for actor_document in actor_documents:\n",
    "    pprint.pprint(actor_document)"
   ]
  },
  {
   "cell_type": "code",
   "execution_count": null,
   "id": "9d6f44e4",
   "metadata": {},
   "outputs": [],
   "source": [
    "'''\n",
    "생년월일이 없는 배우들의 이름만 조회하기\n",
    "'''\n",
    "actor_documents = \\\n",
    "  actor.find({'생년월일':{'$exists':False}},{'_id':0,'배우이름':1})\n",
    "for actor_document in actor_documents:\n",
    "    pprint.pprint(actor_document)"
   ]
  },
  {
   "cell_type": "code",
   "execution_count": null,
   "id": "1431e753",
   "metadata": {},
   "outputs": [],
   "source": [
    "'''\n",
    "key(field) 값 범위로 조회하기\n",
    "'''\n",
    "# 흥행지수가 10000 이상인 배우들만 조회하기\n",
    "actor_documents = \\\n",
    "  actor.find({'흥행지수':{'$gte':10000}}).sort('흥행지수', pymongo.DESCENDING)\n",
    "for actor_document in actor_documents:\n",
    "    pprint.pprint(actor_document)"
   ]
  },
  {
   "cell_type": "code",
   "execution_count": null,
   "id": "03a4fcda",
   "metadata": {},
   "outputs": [],
   "source": [
    "# 흥행지수가 2000 미만인 배우들만 조회하기\n",
    "actor_documents = \\\n",
    "  actor.find({'흥행지수':{'$lt':2000}}).sort('흥행지수', pymongo.DESCENDING)\n",
    "for actor_document in actor_documents:\n",
    "    pprint.pprint(actor_document)"
   ]
  },
  {
   "cell_type": "code",
   "execution_count": null,
   "id": "7313dfa3",
   "metadata": {},
   "outputs": [],
   "source": [
    "# 흥행지수가 10000 이상인 배우들의 이름, 흥행지수, 출연영화만 조회하기\n",
    "actor_documents = \\\n",
    "  actor.find({'흥행지수':{'$gte':10000}}, {'_id':0,'배우이름':1,'흥행지수':1,'출연영화':1})\\\n",
    "       .sort('흥행지수', pymongo.DESCENDING)\n",
    "for actor_document in actor_documents:\n",
    "    pprint.pprint(actor_document)"
   ]
  },
  {
   "cell_type": "code",
   "execution_count": null,
   "id": "9d6ba295",
   "metadata": {},
   "outputs": [],
   "source": [
    "# 올빼미에 출연한 배우들 중에서\n",
    "# 흥행지수가 10000 이상인 배우들의 이름, 흥행지수, 출연영화 조회하기\n",
    "# 흥행지수 내림차순\n",
    "actor_documents = \\\n",
    "  actor.find({'흥행지수':{'$gte':10000}, '출연영화':'올빼미'}, {'_id':0,'배우이름':1,'흥행지수':1,'출연영화':1})\\\n",
    "       .sort('흥행지수', pymongo.DESCENDING)"
   ]
  },
  {
   "cell_type": "code",
   "execution_count": null,
   "id": "6ab8520c",
   "metadata": {},
   "outputs": [],
   "source": [
    "for actor_document in actor_documents:\n",
    "    pprint.pprint(actor_document)"
   ]
  },
  {
   "cell_type": "code",
   "execution_count": null,
   "id": "795eed25",
   "metadata": {},
   "outputs": [],
   "source": [
    "# 올빼미에 출연한 배우들 중에서\n",
    "# 흥행지수가 10000 이상인 배우들의 이름, 흥행지수, 출연영화 조회하기\n",
    "# 배우이름 오름차순\n",
    "actor_documents = \\\n",
    "  actor.find({'흥행지수':{'$gte':10000}, '출연영화':'올빼미'}, {'_id':0,'배우이름':1,'흥행지수':1,'출연영화':1})\\\n",
    "       .sort('배우이름')"
   ]
  },
  {
   "cell_type": "code",
   "execution_count": null,
   "id": "0ff3b26d",
   "metadata": {},
   "outputs": [],
   "source": [
    "for actor_document in actor_documents:\n",
    "    pprint.pprint(actor_document)"
   ]
  },
  {
   "cell_type": "code",
   "execution_count": null,
   "id": "bddf7d98",
   "metadata": {},
   "outputs": [],
   "source": [
    "# 올빼미나 영웅에 출연한 배우들의 배우이름, 출연영화, 흥행지수 조회하기\n",
    "# 배우이름 오름차순\n",
    "actor_documents = \\\n",
    "  actor.find({'$or':[{'출연영화':'올빼미'},{'출연영화':'영웅'}]}, {'_id':0,'배우이름':1,'흥행지수':1,'출연영화':1})\\\n",
    "       .sort('배우이름')\n",
    "for actor_document in actor_documents:\n",
    "    pprint.pprint(actor_document)"
   ]
  },
  {
   "cell_type": "code",
   "execution_count": null,
   "id": "34ddefab",
   "metadata": {},
   "outputs": [],
   "source": [
    "# 흥행지수가 10000 이상이고\n",
    "# 올빼미나 영웅에 출연한 배우들의 배우이름, 출연영화, 흥행지수 조회하기\n",
    "# 배우이름 오름차순\n",
    "actor_documents = \\\n",
    "  actor.find({'흥행지수':{'$gte':10000}, '$or':[{'출연영화':'올빼미'},{'출연영화':'영웅'}]}, {'_id':0,'배우이름':1,'흥행지수':1,'출연영화':1})\\\n",
    "       .sort('배우이름')\n",
    "for actor_document in actor_documents:\n",
    "    pprint.pprint(actor_document)"
   ]
  },
  {
   "cell_type": "code",
   "execution_count": null,
   "id": "05b2fbff",
   "metadata": {},
   "outputs": [],
   "source": [
    "'''\n",
    "find() - $nor  \n",
    "  ㄴ nor <-- not nor\n",
    "  \n",
    "{'$nor': [{'흥행지수':{'$lte':1000}}, {'흥행지수':{'$gte':10000}}]}\n",
    "   └ 두 가지 다 아님   └ 1000 이하 ┘               └ 10000 이상┘\n",
    "        ㄴ 1000 초과 10000 미만이라는 의미              \n",
    "                      \n",
    "'''\n",
    "actor_documents = \\\n",
    "  actor.find({'$nor': [{'흥행지수':{'$lte':1000}},{'흥행지수':{'$gte':10000}}]},\\\n",
    "             {'_id':0,'배우이름':1,'흥행지수':1,'출연영화':1})\\\n",
    "       .sort('흥행지수', pymongo.DESCENDING)\n",
    "for actor_document in actor_documents:\n",
    "    pprint.pprint(actor_document)"
   ]
  },
  {
   "cell_type": "code",
   "execution_count": null,
   "id": "8b7191b7",
   "metadata": {},
   "outputs": [],
   "source": [
    "'''\n",
    "find() - $or\n",
    "\n",
    "{'$or': [{'흥행지수':{'$lte':1000}},{'흥행지수':{'$gte':10000}}]}\n",
    " └ 두 가지 다 해당됨  └ 1000 이하 ┘               └ 10000 이상┘\n",
    "    ㄴ 1000 이하나 10000 이상이라는 의미   \n",
    "'''\n",
    "actor_documents = \\\n",
    "  actor.find({'$or': [{'흥행지수':{'$lte':1000}},{'흥행지수':{'$gte':10000}}]},\\\n",
    "             {'_id':0,'배우이름':1,'흥행지수':1,'출연영화':1})\\\n",
    "       .sort('흥행지수', pymongo.DESCENDING)\n",
    "for actor_document in actor_documents:\n",
    "    pprint.pprint(actor_document)"
   ]
  },
  {
   "cell_type": "code",
   "execution_count": null,
   "id": "30287648",
   "metadata": {},
   "outputs": [],
   "source": [
    "'''\n",
    "find() - in, nin\n",
    "in - 포함됨\n",
    "nin (not in) - 포함되지 않음\n",
    "'''\n",
    "\n",
    "actor_documents = \\\n",
    "  actor.find({'흥행지수':{'$in':[78822, 793, 677, 7968]}},\\\n",
    "             {'_id':0,'배우이름':1,'흥행지수':1,'출연영화':1})\\\n",
    "       .sort('흥행지수', pymongo.DESCENDING)\n",
    "for actor_document in actor_documents:\n",
    "    pprint.pprint(actor_document)"
   ]
  },
  {
   "cell_type": "code",
   "execution_count": null,
   "id": "663ee39e",
   "metadata": {},
   "outputs": [],
   "source": [
    "'''\n",
    "흥행지수가 78822, 793, 677, 7968 가 아닌 \n",
    "배우들 5 명 조회하기\n",
    "'''\n",
    "actor_documents = \\\n",
    "  actor.find({'흥행지수':{'$nin':[78822, 793, 677, 7968]}},\\\n",
    "             {'_id':0,'배우이름':1,'흥행지수':1,'출연영화':1})\\\n",
    "       .sort('흥행지수', pymongo.DESCENDING).limit(5)\n",
    "for actor_document in actor_documents:\n",
    "    pprint.pprint(actor_document)"
   ]
  },
  {
   "cell_type": "code",
   "execution_count": null,
   "id": "125f6dbf",
   "metadata": {},
   "outputs": [],
   "source": [
    "'''\n",
    "흥행지수가 78822, 7968 이 아니고, 10000 이하인 \n",
    "  ㄴ nor (흥행지수가 78822, 7968 이고, 10000 초과)\n",
    "  ㄴ {'$nor' : [{'흥행지수':{'$in':[78822,7968]}}, {'흥행지수':{'$gt':10000}}]}\n",
    "배우들 5 명의 정보를 출력하세요 (_id key 만 제외하고 조회하기)\n",
    "흥행지수 내림차순\n",
    "'''\n",
    "actor_documents = \\\n",
    "  actor.find({'$nor' : [{'흥행지수':{'$in':[78822,7968]}}, {'흥행지수':{'$gt':10000}}]},\\\n",
    "             {'_id':0})\\\n",
    "       .sort('흥행지수', pymongo.DESCENDING).limit(5)\n",
    "for actor_document in actor_documents:\n",
    "    pprint.pprint(actor_document) "
   ]
  },
  {
   "cell_type": "code",
   "execution_count": null,
   "id": "cef9429b",
   "metadata": {},
   "outputs": [],
   "source": [
    "'''\n",
    "흥행지수가 78822, 7968 이 아니고, 10000 이하인 \n",
    "  ㄴ nor (흥행지수가 78822, 7968 이고, 10000 초과)\n",
    "  ㄴ {'$nor' : [{'흥행지수':{'$in':[78822,7968]}}, {'흥행지수':{'$gt':10000}}]}\n",
    "배우들 5 명의 배우이름과 흥행지수를 출력하세요\n",
    "흥행지수 내림차순\n",
    "'''\n",
    "actor_documents = \\\n",
    "  actor.find({'$nor' : [{'흥행지수':{'$in':[78822,7968]}},\\\n",
    "                        {'흥행지수':{'$gt':10000}}]},\\\n",
    "             {'_id':0,'배우이름':1,'흥행지수':1})\\\n",
    "       .sort('흥행지수', pymongo.DESCENDING).limit(5)\n",
    "for actor_document in actor_documents:\n",
    "    pprint.pprint(actor_document) "
   ]
  },
  {
   "cell_type": "code",
   "execution_count": null,
   "id": "ac4ecfa8",
   "metadata": {},
   "outputs": [],
   "source": [
    "'''\n",
    "find() - skip(n) : 검색결과를 n 개 만큼 건너뛰고 조회함 \n",
    "'''\n",
    "# 흥행지수가 10000 이상인 배우 10 명 검색하기\n",
    "# 배우이름하고 흥행지수만 조회\n",
    "actor_documents = actor.find({'흥행지수':{'$gte':10000}},\\\n",
    "                             {'_id':0,'배우이름':1,'흥행지수':1}).limit(10)\n",
    "for actor_document in actor_documents:\n",
    "    pprint.pprint(actor_document) "
   ]
  },
  {
   "cell_type": "code",
   "execution_count": null,
   "id": "cea81509",
   "metadata": {},
   "outputs": [],
   "source": [
    "'''\n",
    ".limit(10).skip(2)\n",
    ".skip(2).limit(10)\n",
    "  ㄴ 순서는 둘 다 됨\n",
    "  .skip(2) : 맨 앞 두 명은 제외하고 조회함\n",
    "             맨 앞 류준열, 유해진이 없음\n",
    "             김래원 뒤 정경호, 안은진이 추가됨\n",
    "'''\n",
    "actor_documents = actor.find({'흥행지수':{'$gte':10000}},\\\n",
    "                             {'_id':0,'배우이름':1,'흥행지수':1}).limit(10).skip(2)\n",
    "for actor_document in actor_documents:\n",
    "    pprint.pprint(actor_document) "
   ]
  },
  {
   "cell_type": "code",
   "execution_count": null,
   "id": "e9318e3d",
   "metadata": {},
   "outputs": [],
   "source": [
    "'''\n",
    "find() - list 조회 (출연영화 목록)\n",
    "'''\n",
    "# 출연영화 중에 올빼미가 있는 배우 조회하기\n",
    "# 배우이름, 출연영화, 흥행지수만 조회 - 흥행지수 내림차순\n",
    "actor_documents = \\\n",
    "  actor.find({'출연영화':'올빼미'}, \\\n",
    "             {'_id':0, '배우이름':1,'출연영화':1,'흥행지수':1})\\\n",
    "       .sort('흥행지수', pymongo.DESCENDING) \n",
    "for actor_document in actor_documents:\n",
    "    pprint.pprint(actor_document) "
   ]
  },
  {
   "cell_type": "code",
   "execution_count": null,
   "id": "ff615676",
   "metadata": {},
   "outputs": [],
   "source": [
    "'''\n",
    "출연영화 중에 올빼미나 살인의 추억이 있는 배우 조회하기\n",
    "  ㄴ  {'$or':[{'출연영화':'올빼미'},{'출연영화':'살인의 추억'}]}\n",
    " 배우이름, 출연영화, 흥행지수만 조회 - 흥행지수 내림차순\n",
    "'''\n",
    "actor_documents = \\\n",
    "  actor.find({'$or':[{'출연영화':'올빼미'},{'출연영화':'살인의 추억'}]}, \\\n",
    "             {'_id':0, '배우이름':1,'출연영화':1,'흥행지수':1})\\\n",
    "       .sort('흥행지수', pymongo.DESCENDING) \n",
    "for actor_document in actor_documents:\n",
    "    pprint.pprint(actor_document) "
   ]
  },
  {
   "cell_type": "code",
   "execution_count": null,
   "id": "ea3be8b0",
   "metadata": {},
   "outputs": [],
   "source": [
    "'''\n",
    "$all\n",
    "출연연화 목록 중에서 첫 번째나 두 번째에\n",
    "올빼미나 리미트가 있는 배우 조회하기\n",
    "  ㄴ  {'출연영화':{'$all':['올빼미','리미트']}}\n",
    " 배우이름, 출연영화, 흥행지수만 조회 - 흥행지수 내림차순\n",
    "'''\n",
    "actor_documents = \\\n",
    "  actor.find({'출연영화':{'$all':['리미트', '올빼미']}}, \\\n",
    "             {'_id':0, '배우이름':1,'출연영화':1,'흥행지수':1})\\\n",
    "       .sort('흥행지수', pymongo.DESCENDING) \n",
    "for actor_document in actor_documents:\n",
    "    pprint.pprint(actor_document) "
   ]
  },
  {
   "cell_type": "code",
   "execution_count": null,
   "id": "fbef63b9",
   "metadata": {},
   "outputs": [],
   "source": [
    "actor_documents = \\\n",
    "  actor.find({'출연영화':{'$all':['올빼미', '리미트']}}, \\\n",
    "             {'_id':0, '배우이름':1,'출연영화':1,'흥행지수':1})\\\n",
    "       .sort('흥행지수', pymongo.DESCENDING) \n",
    "for actor_document in actor_documents:\n",
    "    pprint.pprint(actor_document) "
   ]
  },
  {
   "cell_type": "code",
   "execution_count": null,
   "id": "45b09098",
   "metadata": {},
   "outputs": [],
   "source": [
    "'''\n",
    "- 리스트의 index 번호로 조회하기 -\n",
    "\n",
    "출연연화 목록 중에서 첫 번째에 올빼미가 있는 배우 조회하기\n",
    "  ㄴ  {'출연영화.0':'올빼미'}\n",
    " 배우이름, 출연영화, 흥행지수만 조회 - 흥행지수 내림차순\n",
    "'''\n",
    "actor_documents = \\\n",
    "  actor.find({'출연영화.0':'올빼미'}, \\\n",
    "             {'_id':0, '배우이름':1,'출연영화':1,'흥행지수':1})\\\n",
    "       .sort('흥행지수', pymongo.DESCENDING) \n",
    "for actor_document in actor_documents:\n",
    "    pprint.pprint(actor_document) "
   ]
  },
  {
   "cell_type": "code",
   "execution_count": null,
   "id": "c146e2f5",
   "metadata": {},
   "outputs": [],
   "source": [
    "'''\n",
    "리스트 사이즈로 조회하기 - 출연영화 개수\n",
    "'''\n",
    "# 출연영화가 4 편인 배우 조회하기\n",
    "#  ㄴ {'출연영화':{'$size':4}}\n",
    "# 배우이름, 출연영화, 흥행지수만 조회 - 흥행지수 내림차순\n",
    "actor_documents = \\\n",
    "  actor.find({'출연영화':{'$size':4}}, \\\n",
    "             {'_id':0, '배우이름':1,'출연영화':1,'흥행지수':1})\\\n",
    "       .sort('흥행지수', pymongo.DESCENDING) \n",
    "for actor_document in actor_documents:\n",
    "    pprint.pprint(actor_document) "
   ]
  },
  {
   "cell_type": "code",
   "execution_count": null,
   "id": "a4bcf183",
   "metadata": {},
   "outputs": [],
   "source": [
    "'''\n",
    "find() - elemMatch\n",
    "  ㄴ 적어도 하나 이상의 리스트 요소가 \n",
    "     여러 조건을 동시에 만족하는 경우\n",
    "'''\n",
    "from bs4 import BeautifulSoup\n",
    "import requests\n",
    "import pymongo\n",
    "import re\n",
    "import pprint\n",
    "import warnings\n",
    "warnings.filterwarnings('ignore')\n",
    "\n",
    "conn = pymongo.MongoClient()\n",
    "actor_db = conn.cine21\n",
    "elemmatch_sample = actor_db.sample"
   ]
  },
  {
   "cell_type": "code",
   "execution_count": null,
   "id": "d514ad7b",
   "metadata": {},
   "outputs": [],
   "source": [
    "elemmatch_sample.delete_many({})"
   ]
  },
  {
   "cell_type": "code",
   "execution_count": null,
   "id": "7aeb907d",
   "metadata": {},
   "outputs": [],
   "source": [
    "elemmatch_sample.insert_many([\n",
    "    {'results':[82, 85, 88]},  \n",
    "    {'results':[75, 88, 91]},\n",
    "    {'results':[75, 88, 89]},\n",
    "    {'results':[85, 88, 92]}\n",
    "])"
   ]
  },
  {
   "cell_type": "code",
   "execution_count": null,
   "id": "e706fd8b",
   "metadata": {},
   "outputs": [],
   "source": [
    "'''\n",
    "{'results': {'$gte':90, '$lt':80}}\n",
    "  ㄴ 90 이상과 80 미만이 동시에 있는 document 조회\n",
    "  ㄴ 'results': [75, 88, 91]\n",
    "'''\n",
    "documents = elemmatch_sample.find({'results': {'$gte':90, '$lt':80}})\n",
    "for document in documents:\n",
    "    print(document)"
   ]
  },
  {
   "cell_type": "code",
   "execution_count": null,
   "id": "2fdfd754",
   "metadata": {},
   "outputs": [],
   "source": [
    "'''\n",
    "{'results': {'$gte':90, '$lt':85}}\n",
    "  ㄴ 90 이상과 85 미만이 동시에 있는 document 조회\n",
    "  ㄴ 'results': [75, 88, 91]\n",
    "'''\n",
    "documents = elemmatch_sample.find({'results': {'$gte':90, '$lt':85}})\n",
    "for document in documents:\n",
    "    print(document)"
   ]
  },
  {
   "cell_type": "code",
   "execution_count": null,
   "id": "b33c477d",
   "metadata": {},
   "outputs": [],
   "source": [
    "'''\n",
    "{'results':{'$elemMatch':{'$gte':85, '$lt':90}}}\n",
    "  ㄴ 85 이상이거나 90 미만인 data 가 하나라도 있으면 OK\n",
    "  ㄴ 두 가지 조건을 만족하는 data 가 하나라도 있으면 OK\n",
    "'''\n",
    "documents = \\\n",
    "  elemmatch_sample.find({'results':{'$elemMatch':{'$gte':85, '$lt':90}}})\n",
    "for document in documents:\n",
    "    print(document)"
   ]
  },
  {
   "cell_type": "code",
   "execution_count": null,
   "id": "d5296564",
   "metadata": {},
   "outputs": [],
   "source": [
    "'''\n",
    "{'results':{'$elemMatch':{'$gte':75, '$lt':90}}}\n",
    "  ㄴ 75 이상이거나 90 미만인 data 가 하나라도 있으면 OK\n",
    "  ㄴ 두 가지 조건을 만족하는 data 가 하나라도 있으면 OK\n",
    "'''\n",
    "documents = \\\n",
    "  elemmatch_sample.find({'results':{'$elemMatch':{'$gte':75, '$lt':90}}})\n",
    "for document in documents:\n",
    "    print(document)"
   ]
  },
  {
   "cell_type": "code",
   "execution_count": null,
   "id": "844c68d9",
   "metadata": {},
   "outputs": [],
   "source": [
    "'''\n",
    "{'results':{'$or':[{'$gte':75}, {'$lt':90}]}}\n",
    "  ㄴ 이렇게 하면 오류 발생함\n",
    "documents = \\\n",
    "  elemmatch_sample.find({'results':{'$or':[{'$gte':75}, {'$lt':90}]}})\n",
    "for document in documents:\n",
    "    print(document)\n",
    "'''  \n",
    "1"
   ]
  },
  {
   "cell_type": "code",
   "execution_count": null,
   "id": "9bde98e1",
   "metadata": {},
   "outputs": [],
   "source": [
    "'''\n",
    "직업이 가수인 배우 중,\n",
    "흥행지수가 가장 높은 순서로 10 명을 출력하세요\n",
    "'''\n",
    "documents =\\\n",
    "  actor.find({'직업':'가수'}).sort('흥행지수',pymongo.DESCENDING).limit(10)\n",
    "for document in documents:\n",
    "    pprint.pprint(document)"
   ]
  },
  {
   "cell_type": "code",
   "execution_count": null,
   "id": "fbae6f65",
   "metadata": {},
   "outputs": [],
   "source": [
    "documents =\\\n",
    "  actor.find({'직업':'가수'},\\\n",
    "             {'_id':0,'배우이름':1,'직업':1,'흥행지수':1,'출연영화':1})\\\n",
    "       .sort('흥행지수',pymongo.DESCENDING).limit(10)\n",
    "for document in documents:\n",
    "    pprint.pprint(document)"
   ]
  },
  {
   "cell_type": "code",
   "execution_count": null,
   "id": "49ef414e",
   "metadata": {},
   "outputs": [],
   "source": [
    "'''\n",
    "탄생에 출연한 배우들을 \n",
    "흥행지수가 높은 순으로 10 명 출력하세요\n",
    "출력 필드 : 배우이름, 출연영화, 흥행지수\n",
    "'''\n",
    "documents = actor.find({'출연영화':'탄생'},\\\n",
    "                       {'_id':0,'배우이름':1,'출연영화':1,'흥행지수':1})\\\n",
    "                 .sort('흥행지수', pymongo.DESCENDING).limit(10)\n",
    "for document in documents:\n",
    "    pprint.pprint(document)"
   ]
  },
  {
   "cell_type": "code",
   "execution_count": null,
   "id": "5204fcb3",
   "metadata": {},
   "outputs": [],
   "source": [
    "'''\n",
    "MongoDB Index\n",
    "  ㄴ 검색 성능을 향상시키기 위한 data structure\n",
    "     index 데이터 구조가 없으면\n",
    "     collection 에 있는 data 를 하나씩 조회하는 방법으로 검색해야 됨\n",
    "     \n",
    "기본 index\n",
    "  ㄴ 모든 MongoDB 의 collection 은 기본적으로 \n",
    "     _id Field 를 기반으로 하는 기본 index 가 생성됨\n",
    "'''\n",
    "\n",
    "# Single Field Index (단일필드인덱스) 생성하기\n",
    "# 배우이름 field 기반 단일 index\n",
    "print(actor.create_index('배우이름'))\n",
    "\n",
    "# Index 정보 확인\n",
    "print('Index 정보 :\\n',actor.index_information())\n",
    "\n",
    "'''\n",
    "key : ('field명', direction)\n",
    "  ㄴ direction\n",
    "     ㄴ pymongo.ASCENDING = 1\n",
    "        pymongo.DESCENDING = -1\n",
    "        pymongo.TEXT = 'text'  <--  부분문자열검색\n",
    "                         ㄴ 텍스트 검색을 쉽게 할 수 있도록 함\n",
    "'''\n",
    "\n",
    "# Index 삭제하기\n",
    "# actor collection 에 있는 모든 index 삭제\n",
    "actor.drop_indexes()\n",
    "\n",
    "# Index 정보 조회하기\n",
    "print('Index 정보 :\\n',actor.index_information())\n",
    "\n",
    "# Index 생성하기\n",
    "actor.create_index('배우이름')\n",
    "\n",
    "# Index 정보 조회하기\n",
    "print('Index 정보 :\\n',actor.index_information())\n",
    "\n",
    "# Index 삭제하기\n",
    "# actor collection 에 있는 특정 index 삭제\n",
    "actor.drop_index([('배우이름', 1)])\n",
    "\n",
    "# Index 정보 조회하기\n",
    "print('Index 정보 :\\n',actor.index_information())\n",
    "\n",
    "# Index 생성하기\n",
    "actor.create_index('배우이름')\n",
    "actor.create_index('흥행지수')\n",
    "\n",
    "# Index 정보 조회하기\n",
    "print('Index 정보 :\\n',actor.index_information())\n"
   ]
  },
  {
   "cell_type": "code",
   "execution_count": null,
   "id": "4759a32e",
   "metadata": {},
   "outputs": [],
   "source": [
    "actor.create_index('배우이름')\n",
    "actor.create_index('랭킹')\n",
    "actor.create_index('흥행지수')"
   ]
  },
  {
   "cell_type": "code",
   "execution_count": null,
   "id": "966abf79",
   "metadata": {},
   "outputs": [],
   "source": [
    "actor.index_information()"
   ]
  },
  {
   "cell_type": "code",
   "execution_count": null,
   "id": "080d6720",
   "metadata": {},
   "outputs": [],
   "source": [
    "# direction 도 지정하면서 생성하기 - [] 사용\n",
    "actor.create_index([('직업', 1)])"
   ]
  },
  {
   "cell_type": "code",
   "execution_count": null,
   "id": "5a059e5a",
   "metadata": {},
   "outputs": [],
   "source": [
    "actor.index_information()"
   ]
  },
  {
   "cell_type": "code",
   "execution_count": null,
   "id": "8eeb80f0",
   "metadata": {},
   "outputs": [],
   "source": [
    "actor.drop_indexes()\n",
    "actor.index_information()"
   ]
  },
  {
   "cell_type": "code",
   "execution_count": null,
   "id": "94223997",
   "metadata": {},
   "outputs": [],
   "source": [
    "actor.create_index([('배우이름',1)])\n",
    "actor.create_index([('랭킹',pymongo.ASCENDING)])\n",
    "actor.create_index([('흥행지수',pymongo.DESCENDING)])\n",
    "actor.create_index([('직업', pymongo.TEXT)])\n",
    "actor.create_index([('출연영화', -1)])\n",
    "actor.index_information()"
   ]
  },
  {
   "cell_type": "code",
   "execution_count": null,
   "id": "57d3130d",
   "metadata": {},
   "outputs": [],
   "source": [
    "actor.drop_index([('출연영화', -1)])\n",
    "actor.index_information()"
   ]
  },
  {
   "cell_type": "code",
   "execution_count": null,
   "id": "6eec613f",
   "metadata": {},
   "outputs": [],
   "source": [
    "# actor.create_index([('출연영화', 'text')])"
   ]
  },
  {
   "cell_type": "code",
   "execution_count": null,
   "id": "a44f53a0",
   "metadata": {},
   "outputs": [],
   "source": [
    "actor.index_information()"
   ]
  },
  {
   "cell_type": "code",
   "execution_count": null,
   "id": "d55cf0af",
   "metadata": {},
   "outputs": [],
   "source": [
    "for doc in actor.find({},{'_id':0,'배우이름':1,'출연영화':1}).limit(30):\n",
    "    pprint.pprint(doc)"
   ]
  },
  {
   "cell_type": "code",
   "execution_count": null,
   "id": "c2740851",
   "metadata": {},
   "outputs": [],
   "source": [
    "documents = actor.find({'배우이름':'유해진'})\n",
    "for doc in documents:\n",
    "    pprint.pprint(doc)"
   ]
  },
  {
   "cell_type": "code",
   "execution_count": null,
   "id": "a952fe0b",
   "metadata": {},
   "outputs": [],
   "source": [
    "actor.index_information()"
   ]
  },
  {
   "cell_type": "code",
   "execution_count": null,
   "id": "ed9d755c",
   "metadata": {},
   "outputs": [],
   "source": [
    "actor.drop_indexes()\n",
    "actor.index_information()"
   ]
  },
  {
   "cell_type": "code",
   "execution_count": null,
   "id": "d9b8d89c",
   "metadata": {},
   "outputs": [],
   "source": [
    "# OperationFailure: text index required \n",
    "actor.create_index([('직업', 'text')])"
   ]
  },
  {
   "cell_type": "code",
   "execution_count": null,
   "id": "187f18af",
   "metadata": {},
   "outputs": [],
   "source": [
    "'''\n",
    "{'$text':{'$search':'가수'}}\n",
    "  ㄴ 텍스트 기반 검색 : \n",
    "     정상적으로 실행하려면 \n",
    "     direction 이 'text' 인 index 가 생성되어 있어야 함\n",
    "'''\n",
    "documents = actor.find({'$text':{'$search':'가수'}})\n",
    "for doc in documents:\n",
    "    pprint.pprint(doc)"
   ]
  },
  {
   "cell_type": "code",
   "execution_count": null,
   "id": "4a0a0db3",
   "metadata": {},
   "outputs": [],
   "source": [
    "documents = actor.find({'직업':'가수'})\n",
    "for doc in documents:\n",
    "    pprint.pprint(doc)"
   ]
  },
  {
   "cell_type": "code",
   "execution_count": null,
   "id": "8ea44726",
   "metadata": {},
   "outputs": [],
   "source": [
    "actor.drop_indexes()\n",
    "actor.index_information()"
   ]
  },
  {
   "cell_type": "code",
   "execution_count": null,
   "id": "0d5ac83c",
   "metadata": {},
   "outputs": [],
   "source": [
    "actor.create_index([('출연영화', pymongo.TEXT)])"
   ]
  },
  {
   "cell_type": "code",
   "execution_count": null,
   "id": "6a513aac",
   "metadata": {},
   "outputs": [],
   "source": [
    "actor.index_information()"
   ]
  },
  {
   "cell_type": "code",
   "execution_count": null,
   "id": "4da123ba",
   "metadata": {},
   "outputs": [],
   "source": [
    "for document in actor.find({},{'_id':0,'배우이름':1,'출연영화':1}).limit(50):\n",
    "    pprint.pprint(document)"
   ]
  },
  {
   "cell_type": "code",
   "execution_count": null,
   "id": "1fe5e139",
   "metadata": {},
   "outputs": [],
   "source": [
    "for document in actor.find({'$text':{'$search':'수학자'}}):\n",
    "    pprint.pprint(document)"
   ]
  },
  {
   "cell_type": "code",
   "execution_count": null,
   "id": "b9785934",
   "metadata": {},
   "outputs": [],
   "source": [
    "for document in actor.find({'$text':{'$search':'용의'}}):\n",
    "    pprint.pprint(document)"
   ]
  },
  {
   "cell_type": "code",
   "execution_count": null,
   "id": "c701472d",
   "metadata": {},
   "outputs": [],
   "source": [
    "actor.drop_indexes()\n",
    "actor.index_information()"
   ]
  },
  {
   "cell_type": "code",
   "execution_count": null,
   "id": "d720bfdd",
   "metadata": {},
   "outputs": [],
   "source": [
    "# Compound Field 기반 Index 생성하기 - 복합필드인덱스\n",
    "# 최대 31 개 Field 로 Index 를 생성할 수 있음\n",
    "actor.create_index([('출연영화', pymongo.TEXT), ('직업', pymongo.TEXT), ('배우이름', pymongo.ASCENDING),('원어명', pymongo.DESCENDING)])"
   ]
  },
  {
   "cell_type": "code",
   "execution_count": null,
   "id": "44a7e882",
   "metadata": {},
   "outputs": [],
   "source": [
    "actor.index_information()"
   ]
  },
  {
   "cell_type": "code",
   "execution_count": null,
   "id": "5d46ef75",
   "metadata": {},
   "outputs": [],
   "source": [
    "for document in actor.find({'$text':{'$search':'용의'}}):\n",
    "    pprint.pprint(document)"
   ]
  },
  {
   "cell_type": "code",
   "execution_count": null,
   "id": "fd4900eb",
   "metadata": {},
   "outputs": [],
   "source": [
    "for document in actor.find({'$text':{'$search':'가수'}}):\n",
    "    pprint.pprint(document)"
   ]
  },
  {
   "cell_type": "code",
   "execution_count": null,
   "id": "2b63de00",
   "metadata": {},
   "outputs": [],
   "source": [
    "'''\n",
    "Regular Expression (정규표현식)  \n",
    "   ㄴ $regex 연산자 사용\n",
    "   cf) $text + $search 두 개 연산자를 같이 사용함\n",
    "   \n",
    "   {'출연영화':'용의'} <-- 이렇게 하려면 영화제목을 정확하게 다 입력해야 함\n",
    "   {'출연영화':{'$regex':'용의'}}  <-- 이렇게 하면 부분문자열 검색이 가능함\n",
    "'''\n",
    "for document in actor.find({'출연영화':{'$regex':'용의'}}):\n",
    "    pprint.pprint(document) "
   ]
  },
  {
   "cell_type": "code",
   "execution_count": null,
   "id": "27e4170a",
   "metadata": {},
   "outputs": [],
   "source": [
    "'''\n",
    "actor_db 에 text_collection 이라는 collection 생성하기\n",
    "'''\n",
    "\n",
    "# conn = pymongo.MongoClient()\n",
    "# actor_db = conn.cine21\n",
    "text_collection = actor_db.text_collection"
   ]
  },
  {
   "cell_type": "code",
   "execution_count": null,
   "id": "3cebf58d",
   "metadata": {},
   "outputs": [],
   "source": [
    "text_collection.insert_many([\n",
    "    {'name':'Java Language', 'description':'Coffee and cakes', \"ranking\":1},\n",
    "    {'name':'Burgar Buns', 'description':'Java Hamburgers', \"ranking\":2},\n",
    "    {'name':'Coffee Shop', 'description':'Java coffee', \"ranking\":3},\n",
    "    {'name':'Clothes Clothes Clothes', 'description':'Discount clothing', \"ranking\":4},   \n",
    "    {'name':'Java Shopping', 'description':'Indonesian goods', \"ranking\":5}\n",
    "])"
   ]
  },
  {
   "cell_type": "code",
   "execution_count": null,
   "id": "10f093d2",
   "metadata": {},
   "outputs": [],
   "source": [
    "for document in text_collection.find({},{'_id':0}):\n",
    "    pprint.pprint(document)"
   ]
  },
  {
   "cell_type": "code",
   "execution_count": null,
   "id": "56c81a13",
   "metadata": {},
   "outputs": [],
   "source": [
    "for document in text_collection.find({},{'_id':0,'name':1}):\n",
    "    pprint.pprint(document)"
   ]
  },
  {
   "cell_type": "code",
   "execution_count": null,
   "id": "fb391999",
   "metadata": {},
   "outputs": [],
   "source": [
    "'''\n",
    "\n",
    "정규표현식으로 구분문자열을 검색할 때는\n",
    "index 가 없어도 됨\n",
    "\n",
    "'Co.+'  :  Co 로 시작하면서 그 뒤에 문자가 하나 이상 있는 문자열\n",
    "'Co.*'  :  Co 로 시작하면서 그 뒤에 문자가 없거나 하나 이상 있는 문자열\n",
    "\n",
    "{'name' : {'$regex':'Co.+'}  \n",
    "   <-- name 이 Co 로 시작하면서 그 뒤에 문자가 하나 이상 있는 문자열\n",
    "'''\n",
    "for document in text_collection.find({'name' : {'$regex':'Co.+'}},{'_id':0}):\n",
    "    pprint.pprint(document)"
   ]
  },
  {
   "cell_type": "code",
   "execution_count": null,
   "id": "4ecb3c62",
   "metadata": {},
   "outputs": [],
   "source": [
    "for document in text_collection.find({'name' : {'$regex':'Co.*'}},{'_id':0}):\n",
    "    pprint.pprint(document)"
   ]
  },
  {
   "cell_type": "code",
   "execution_count": null,
   "id": "535bd3a9",
   "metadata": {},
   "outputs": [],
   "source": [
    "for document in text_collection.find({'name' : {'$regex':'Sh.+'}},{'_id':0}):\n",
    "    pprint.pprint(document)"
   ]
  },
  {
   "cell_type": "code",
   "execution_count": null,
   "id": "d1231f17",
   "metadata": {},
   "outputs": [],
   "source": [
    "for document in text_collection.find({'name' : {'$regex':'Sh.*'}},{'_id':0}):\n",
    "    pprint.pprint(document)"
   ]
  },
  {
   "cell_type": "code",
   "execution_count": null,
   "id": "a80bd48c",
   "metadata": {},
   "outputs": [],
   "source": [
    "'''\n",
    "$text : $search 로 부분문자열 검색할 때는\n",
    "text index 가 있어야 함\n",
    "\n",
    "[('name', pymongo.TEXT)]\n",
    "   ㄴ name field 기반으로 부분문자열 검색이 가능함\n",
    "'''\n",
    "text_collection.create_index([('name', pymongo.TEXT)])\n",
    "text_collection.index_information()"
   ]
  },
  {
   "cell_type": "code",
   "execution_count": null,
   "id": "9a57e071",
   "metadata": {},
   "outputs": [],
   "source": [
    "for document in text_collection.find({'$text':{'$search':'coffee'}}):\n",
    "    pprint.pprint(document)"
   ]
  },
  {
   "cell_type": "code",
   "execution_count": null,
   "id": "9efc1c35",
   "metadata": {},
   "outputs": [],
   "source": [
    "for document in text_collection.find({'$text':{'$search':'java coffee shop'}}):\n",
    "    pprint.pprint(document)"
   ]
  },
  {
   "cell_type": "code",
   "execution_count": null,
   "id": "76ba5fd1",
   "metadata": {},
   "outputs": [],
   "source": [
    "for document in text_collection.find({'$text':{'$search':'\\\"coffee shop\\\"'}}):\n",
    "    pprint.pprint(document)"
   ]
  },
  {
   "cell_type": "code",
   "execution_count": null,
   "id": "b34c8217",
   "metadata": {},
   "outputs": [],
   "source": [
    "for document in text_collection.find({'$text':{'$search':'coffee shop'}}):\n",
    "    pprint.pprint(document)"
   ]
  },
  {
   "cell_type": "code",
   "execution_count": null,
   "id": "df31e066",
   "metadata": {},
   "outputs": [],
   "source": [
    "'''\n",
    "대소문자 구분해서 검색하기 : '$caseSensitive'True\n",
    "'''\n",
    "for document in text_collection.find({'$text':{'$search':'coffee','$caseSensitive':True}}):\n",
    "    pprint.pprint(document)"
   ]
  },
  {
   "cell_type": "code",
   "execution_count": null,
   "id": "8f189cc5",
   "metadata": {},
   "outputs": [],
   "source": [
    "for document in text_collection.find({'$text':{'$search':'Coffee','$caseSensitive':True}}):\n",
    "    pprint.pprint(document)"
   ]
  },
  {
   "cell_type": "code",
   "execution_count": null,
   "id": "399bf4b3",
   "metadata": {},
   "outputs": [],
   "source": [
    "for document in actor.find({},{'_id':0}).limit(50):\n",
    "    pprint.pprint(document)    "
   ]
  },
  {
   "cell_type": "code",
   "execution_count": null,
   "id": "04247fcb",
   "metadata": {},
   "outputs": [],
   "source": [
    "'''\n",
    "중앙대학교 출신 배우들을 \n",
    "흥행지수가 높은 순으로 20 명 출력하세요\n",
    "'''\n",
    "print('중앙대학교 출신 배우 :',\\\n",
    "      len(list(actor.find({'학교':{'$regex':'중앙대학교'}}))),'명')    \n",
    "\n",
    "for document in actor.find({'학교':{'$regex':'중앙대학교'}})\\\n",
    "                     .sort('흥행지수', pymongo.DESCENDING).limit(20):\n",
    "    pprint.pprint(document)"
   ]
  },
  {
   "cell_type": "code",
   "execution_count": null,
   "id": "a25e28ec",
   "metadata": {},
   "outputs": [],
   "source": [
    "for document in actor.find({'학교':{'$regex':'중앙대학교'}})\\\n",
    "                     .sort('흥행지수', pymongo.DESCENDING).limit(20):\n",
    "    pprint.pprint(document)"
   ]
  },
  {
   "cell_type": "code",
   "execution_count": null,
   "id": "1c6a3bf9",
   "metadata": {},
   "outputs": [],
   "source": [
    "print('서울예술대학교 출신 배우 :',\\\n",
    "      len(list(actor.find({'학교':{'$regex':'서울예술'}}))),'명')    \n",
    "\n",
    "for document in actor.find({'학교':{'$regex':'서울예술'}})\\\n",
    "                     .sort('흥행지수', pymongo.DESCENDING).limit(20):\n",
    "    pprint.pprint(document)"
   ]
  },
  {
   "cell_type": "code",
   "execution_count": null,
   "id": "7073fe12",
   "metadata": {},
   "outputs": [],
   "source": [
    "for document in actor.find({'배우이름':'이정재'}):                     \n",
    "    pprint.pprint(document)"
   ]
  }
 ],
 "metadata": {
  "kernelspec": {
   "display_name": "Python 3 (ipykernel)",
   "language": "python",
   "name": "python3"
  },
  "language_info": {
   "codemirror_mode": {
    "name": "ipython",
    "version": 3
   },
   "file_extension": ".py",
   "mimetype": "text/x-python",
   "name": "python",
   "nbconvert_exporter": "python",
   "pygments_lexer": "ipython3",
   "version": "3.9.12"
  }
 },
 "nbformat": 4,
 "nbformat_minor": 5
}

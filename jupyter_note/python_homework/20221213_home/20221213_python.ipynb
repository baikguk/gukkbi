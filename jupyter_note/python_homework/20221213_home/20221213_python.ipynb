{
 "cells": [
  {
   "cell_type": "code",
   "execution_count": 12,
   "id": "8ac768d5",
   "metadata": {},
   "outputs": [
    {
     "name": "stdout",
     "output_type": "stream",
     "text": [
      "10000 [3, 5, {'바지': 100, '치마': 200}]\n"
     ]
    }
   ],
   "source": [
    "'''\n",
    "lambda 익명함수 (lamda 식) : 축약함수 (함수 간단하게)\n",
    "lambda\n",
    "     형식]\n",
    "     lambda 매개변수 : 반환값\n",
    "     lambda 함수는 변수에 할당, 파라미터 전달, return 3개 다 가능하기 때문에\n",
    "     일급객체라고함 : first class object, first class citizen\n",
    "     \n",
    "     일급 객체란 프로그래밍에서 아래에 나열된 특징을 가지는 모든 객체들을 가리킨다.\n",
    "\n",
    "        모든 요소는 \"할당 명령문의 대상\"이 될 수 있다.\n",
    "        모든 요소는 \"동일(equal, ==) 비교의 대상\"이 될 수 있다.\n",
    "        모든 요소는 \"함수의 파라미터\"가 될 수 있다.\n",
    "        모든 요소는 \"함수의 반환 값\"이 될 수 있다.\n",
    "'''\n",
    "\n",
    "# **c = (코트=300000, 바지=200000) # *을 붙이는 건 가변파라미터라는 의미이기때문에\n",
    "                                # 따로 못해주는듯? -> ㅇㅇ 문법에 안맞는듯\n",
    "a ,*b = (10000, 3, 5,{'바지':100,'치마':200}) # 근데 얘는 됨 ㅋ\n",
    "print(a,b)\n",
    "# print(c)"
   ]
  },
  {
   "cell_type": "code",
   "execution_count": 7,
   "id": "7b964591",
   "metadata": {},
   "outputs": [
    {
     "name": "stdout",
     "output_type": "stream",
     "text": [
      "[10000, 3, 5, '코트', 300000, '바지', 200000] () {}\n",
      "1 (2, 3, {'코드': 30000, '바지': 20000}) {}\n"
     ]
    }
   ],
   "source": [
    "tuple1 =[10000, 3, 5, '코트',300000, '바지',200000] \n",
    "calc = lambda a,*b,**c : print(a,b,c) \n",
    "calc(tuple1) # 튜플과 리스트는 가변함수의 인자로 못받는듯?\n",
    "            # -> dictionary 형식 으로 받아야함\n",
    "dict1={'코드':30000,'바지':20000}\n",
    "calc(1,2,3,dict1)\n",
    "            "
   ]
  },
  {
   "cell_type": "code",
   "execution_count": 4,
   "id": "fbb4f48d",
   "metadata": {},
   "outputs": [
    {
     "name": "stdout",
     "output_type": "stream",
     "text": [
      "10000 (3, 5) {'코트': 300000, '바지': 200000}\n"
     ]
    }
   ],
   "source": [
    "def calc2(a,*b,**c):\n",
    "    print(a,b,c)\n",
    "    \n",
    "calc2(10000, 3, 5, 코트=300000, 바지=200000)"
   ]
  },
  {
   "cell_type": "code",
   "execution_count": 15,
   "id": "7543fcbc",
   "metadata": {},
   "outputs": [
    {
     "name": "stdout",
     "output_type": "stream",
     "text": [
      "local 50\n",
      "global 50\n"
     ]
    }
   ],
   "source": [
    "f = 50\n",
    "def t():\n",
    "    print('local',f)\n",
    "t()\n",
    "print('global',f)"
   ]
  },
  {
   "cell_type": "code",
   "execution_count": 16,
   "id": "4e0ced7e",
   "metadata": {},
   "outputs": [
    {
     "ename": "UnboundLocalError",
     "evalue": "local variable 'f' referenced before assignment",
     "output_type": "error",
     "traceback": [
      "\u001b[1;31m---------------------------------------------------------------------------\u001b[0m",
      "\u001b[1;31mUnboundLocalError\u001b[0m                         Traceback (most recent call last)",
      "Input \u001b[1;32mIn [16]\u001b[0m, in \u001b[0;36m<cell line: 5>\u001b[1;34m()\u001b[0m\n\u001b[0;32m      3\u001b[0m     f \u001b[38;5;241m=\u001b[39m f\u001b[38;5;241m+\u001b[39m\u001b[38;5;241m1\u001b[39m\n\u001b[0;32m      4\u001b[0m     \u001b[38;5;28mprint\u001b[39m(\u001b[38;5;124m'\u001b[39m\u001b[38;5;124mlocal\u001b[39m\u001b[38;5;124m'\u001b[39m,f)\n\u001b[1;32m----> 5\u001b[0m \u001b[43mt\u001b[49m\u001b[43m(\u001b[49m\u001b[43m)\u001b[49m\n\u001b[0;32m      6\u001b[0m \u001b[38;5;28mprint\u001b[39m(\u001b[38;5;124m'\u001b[39m\u001b[38;5;124mglobal\u001b[39m\u001b[38;5;124m'\u001b[39m,f)\n",
      "Input \u001b[1;32mIn [16]\u001b[0m, in \u001b[0;36mt\u001b[1;34m()\u001b[0m\n\u001b[0;32m      2\u001b[0m \u001b[38;5;28;01mdef\u001b[39;00m \u001b[38;5;21mt\u001b[39m():\n\u001b[1;32m----> 3\u001b[0m     f \u001b[38;5;241m=\u001b[39m \u001b[43mf\u001b[49m\u001b[38;5;241m+\u001b[39m\u001b[38;5;241m1\u001b[39m\n\u001b[0;32m      4\u001b[0m     \u001b[38;5;28mprint\u001b[39m(\u001b[38;5;124m'\u001b[39m\u001b[38;5;124mlocal\u001b[39m\u001b[38;5;124m'\u001b[39m,f)\n",
      "\u001b[1;31mUnboundLocalError\u001b[0m: local variable 'f' referenced before assignment"
     ]
    }
   ],
   "source": [
    "f = 50\n",
    "def t():\n",
    "#       ┌컴파일러가 지역변수라 생각->따라서 지역변수 f가 할당전에 참조됨\n",
    "    f = f+1\n",
    "#   ㄴ 컴파일러가 전역변수라 생각\n",
    "    print('local',f)\n",
    "t()\n",
    "print('global',f)# 파이썬은 자바와는 다르게 오른쪽의 값은 미리 데이터 올라가야한다"
   ]
  },
  {
   "cell_type": "code",
   "execution_count": 17,
   "id": "a57d3920",
   "metadata": {},
   "outputs": [
    {
     "name": "stdout",
     "output_type": "stream",
     "text": [
      "local 1\n",
      "global 50\n"
     ]
    }
   ],
   "source": [
    "#해결법 1 : 함수내에 지역변수를 선언해줌 but 의도와는 다를지도\n",
    "f = 50\n",
    "def t():\n",
    "    f=0\n",
    "    f = f+1\n",
    "    print('local',f)\n",
    "t()\n",
    "print('global',f)"
   ]
  },
  {
   "cell_type": "code",
   "execution_count": 18,
   "id": "5d9cf05e",
   "metadata": {},
   "outputs": [
    {
     "name": "stdout",
     "output_type": "stream",
     "text": [
      "local 51\n",
      "global 51\n"
     ]
    }
   ],
   "source": [
    "# 해결법 2 : 해당 변수가 전역변수임을 선언\n",
    "f = 50\n",
    "def t():\n",
    "    global f\n",
    "    f = f+1\n",
    "    print('local',f)\n",
    "t()\n",
    "print('global',f)"
   ]
  },
  {
   "cell_type": "code",
   "execution_count": 21,
   "id": "f1002eb0",
   "metadata": {},
   "outputs": [
    {
     "name": "stdout",
     "output_type": "stream",
     "text": [
      "22\n"
     ]
    }
   ],
   "source": [
    "def outer():\n",
    "    n1=1\n",
    "    n2=2\n",
    "    n3=3\n",
    "    def inner(n5,n6):\n",
    "        n4=10\n",
    "        r = n1+n2+n5+n6 +n4\n",
    "        return r\n",
    "    return inner\n",
    "print(outer()(4,5))"
   ]
  },
  {
   "cell_type": "code",
   "execution_count": 39,
   "id": "5023e08d",
   "metadata": {},
   "outputs": [
    {
     "name": "stdout",
     "output_type": "stream",
     "text": [
      "평균 6.975 분산 32.101875 표준편차 5.665851657076807\n"
     ]
    }
   ],
   "source": [
    "from statistics import mean\n",
    "from math import sqrt\n",
    "\n",
    "dataset  = [2.1, 15, 1.2, 9.6]\n",
    "\n",
    "def m(dataset):\n",
    "    d= dataset\n",
    "    def a():\n",
    "        ave = sum(d)/len(d)\n",
    "        return ave\n",
    "    def v(ave):\n",
    "        var=0\n",
    "        var= sum([(i-ave)**2/len(d) for i in d])\n",
    "        return var\n",
    "    def s(var):\n",
    "        sta = sqrt(var)\n",
    "        return sta\n",
    "    return a,v,s\n",
    "print('평균',m(dataset)[0](),'분산',m(dataset)[1](m(dataset)[0]())\\\n",
    "     ,'표준편차',m(dataset)[2](m(dataset)[1](m(dataset)[0]())))"
   ]
  },
  {
   "cell_type": "code",
   "execution_count": 45,
   "id": "fc3f6158",
   "metadata": {},
   "outputs": [
    {
     "name": "stdout",
     "output_type": "stream",
     "text": [
      "평균 6.975 분산 32.1019 표준편차 5.6659\n"
     ]
    }
   ],
   "source": [
    "dataset  = [2.1, 15, 1.2, 9.6]\n",
    "\n",
    "def m(dataset):\n",
    "    d= dataset\n",
    "    def a():\n",
    "        ave = sum(d)/len(d)\n",
    "        return ave\n",
    "    def v(ave):\n",
    "        var=0\n",
    "        var= sum([(i-ave)**2/len(d) for i in d])\n",
    "        return var\n",
    "    def s(var):\n",
    "        sta = sqrt(var)\n",
    "        return sta\n",
    "    return a,v,s\n",
    "a,v,s = m(dataset)\n",
    "print('평균',round(a(),4),'분산',round(v(a()),4),'표준편차',round(s(v(a())),4))"
   ]
  },
  {
   "cell_type": "code",
   "execution_count": 46,
   "id": "63e3c039",
   "metadata": {},
   "outputs": [
    {
     "name": "stdout",
     "output_type": "stream",
     "text": [
      "getter() : 100\n",
      "getter() : 100\n"
     ]
    }
   ],
   "source": [
    "def test5(number):\n",
    "    num = number\n",
    "    def get_num():\n",
    "        return num\n",
    "    def set_num(value_from_out):\n",
    "\n",
    "#         nonlocal num\n",
    "        num = value_from_out\n",
    "    return get_num, set_num\n",
    "getter, setter = test5(100)\n",
    "print('getter() :',getter())\n",
    "setter(200) # set_num의 내부함수의 지역변수num에 할당 외부함수 num과는 연결x\n",
    "print('getter() :',getter())"
   ]
  },
  {
   "cell_type": "code",
   "execution_count": 47,
   "id": "4e518f87",
   "metadata": {},
   "outputs": [
    {
     "name": "stdout",
     "output_type": "stream",
     "text": [
      "getter() : 100\n",
      "getter() : 200\n"
     ]
    }
   ],
   "source": [
    "def test5(number):\n",
    "    num = number\n",
    "    def get_num():\n",
    "        return num\n",
    "    def set_num(value_from_out):\n",
    "\n",
    "        nonlocal num # global과는 다르게 해당 변수가 지역변수가 아님을 표시\n",
    "                        #함으로써 컴파일러는 외부함수의 num을 찾아 쓴다\n",
    "        num = value_from_out\n",
    "    return get_num, set_num\n",
    "getter, setter = test5(100)\n",
    "print('getter() :',getter())\n",
    "setter(200) # set_num의 내부함수의 지역변수num에 할당 외부함수 num과는 연결x\n",
    "print('getter() :',getter())"
   ]
  },
  {
   "cell_type": "code",
   "execution_count": null,
   "id": "24895612",
   "metadata": {},
   "outputs": [],
   "source": [
    "#   @wrap는 함수를 파라미터로 받기위해 감싸는 것 \n",
    "# (wrap이라는 이름이 중요하긴 보단 def a() 면 @a로 감싸는듯 ( @ 로)"
   ]
  },
  {
   "cell_type": "code",
   "execution_count": 48,
   "id": "9ba260ab",
   "metadata": {},
   "outputs": [
    {
     "name": "stdout",
     "output_type": "stream",
     "text": [
      "안녕하세요\n",
      "글로벌\n",
      "안녕히 가세요\n"
     ]
    }
   ],
   "source": [
    "def a(func_name):\n",
    "    def decorated():\n",
    "        print('안녕하세요')\n",
    "        func_name()\n",
    "        print('안녕히 가세요')\n",
    "    return decorated\n",
    "    \n",
    "@a # a(hello)() 와 동일함\n",
    "def hello():\n",
    "    print('글로벌')\n",
    "\n",
    "hello()    "
   ]
  },
  {
   "cell_type": "code",
   "execution_count": 50,
   "id": "7c9a665f",
   "metadata": {
    "scrolled": true
   },
   "outputs": [
    {
     "name": "stdout",
     "output_type": "stream",
     "text": [
      "안녕하세요\n",
      "글로벌\n",
      "안녕히 가세요\n"
     ]
    }
   ],
   "source": [
    "def a(func_name):\n",
    "    def decorated():\n",
    "        print('안녕하세요')\n",
    "        func_name()\n",
    "        print('안녕히 가세요')\n",
    "    return decorated\n",
    "    \n",
    "def hello():\n",
    "    print('글로벌')\n",
    "\n",
    "a(hello)()"
   ]
  },
  {
   "cell_type": "code",
   "execution_count": 59,
   "id": "bc74cdfe",
   "metadata": {},
   "outputs": [
    {
     "name": "stdout",
     "output_type": "stream",
     "text": [
      "3\n",
      "6\n"
     ]
    }
   ],
   "source": [
    "\n",
    "# 파이썬에서 instance 매개변수를 표현하는 방법은 변수앞에 self를 붙임\n",
    "# 클래스 스코프에서 안붙이면 static으로 메소드내에서 안붙이면 \n",
    "# 해당 함수 스코프의 지역변수라 인식 \n",
    "\n",
    "#메소드의 경우도 클래스의 멤버메소드라 하고싶으면 파라미터에 무조건self 써야함\n",
    "class Car:\n",
    "    # 자바와는 다르게 __init이 생성자임\n",
    "    # 생략가능함\n",
    "    # 하지만 가독성을 위해서 생성자을 일부러 써주기도함\n",
    "    def __init__(self,n1,n2):\n",
    "        self.n1=n1\n",
    "        self.n2=n2\n",
    "    def p(self):\n",
    "        self.r = self.n1+self.n2\n",
    "        return self.r\n",
    "c = Car(1,2)\n",
    "print(c.p())\n",
    "print(Car(2,4).p())"
   ]
  },
  {
   "cell_type": "code",
   "execution_count": 58,
   "id": "ad3a3b3d",
   "metadata": {},
   "outputs": [
    {
     "name": "stdout",
     "output_type": "stream",
     "text": [
      "결과 8\n"
     ]
    }
   ],
   "source": [
    "class M:\n",
    "    def set_m(self,n1,n2):\n",
    "        self.n1 = n1\n",
    "        self.n2 = n2\n",
    "    def m(self):\n",
    "        self.result = self.n1*self.n2\n",
    "        return self.show(self.result) # 아 메소드 앞에도 self 붙여서 써야됨 ㄷㄷ\n",
    "    def show(self,r):\n",
    "        print('결과',r)\n",
    "m = M()\n",
    "m.set_m(2,4)\n",
    "m.m()"
   ]
  },
  {
   "cell_type": "code",
   "execution_count": 2,
   "id": "a58d162f",
   "metadata": {},
   "outputs": [
    {
     "name": "stdout",
     "output_type": "stream",
     "text": [
      "date1.content : 날짜 처리 클래스\n",
      "DateProcedure.content : 날짜 처리 클래스\n",
      "2022\n",
      "--------------------------------------------------\n",
      "클래스 메소드 21\n",
      "--------------------------------------------------\n",
      "21 -2022 - 12 - 13\n",
      "--------------------------------------------------\n",
      "날짜 처리 클래스\n",
      "21세기 2022년 12월 13일\n",
      "21\n",
      "--------------------------------------------------\n",
      "22 -2022 - 12 - 13\n"
     ]
    }
   ],
   "source": [
    "class DateProcedure:\n",
    "    # class(static) 변수 - 자바의 class(static) 변수와 비슷한 역할을 함\n",
    "    content = '날짜 처리 클래스' \n",
    "    century = 21\n",
    "    \n",
    "    def __init__(self, year, month, day):\n",
    "        self.year = year\n",
    "        self.month = month\n",
    "        self.day = day        \n",
    "    def display(self):  \n",
    "        # 특이하게 instance 메소드에서 static메소드를 부를때도 self를 붙여줘야함\n",
    "        print(f'{DateProcedure.century} -{self.year} - {self.month} - {self.day}')\n",
    "    #   인스턴스 메소드 이기 때문에 self.century 로도 접근이 가능하지만\n",
    "    #   static 멤버변수는 클래스이름으로 DateProcedure.century로 하는게 바람직함\n",
    "    # 클래스 메소드 (@classmethod 데코레이터를 사용함)    \n",
    "    @classmethod\n",
    "    def date_string(cls, dateStr):        \n",
    "        # year, month, day : 지역변수\n",
    "        year = dateStr[:4]\n",
    "        month = dateStr[4:6]\n",
    "        day = dateStr[6:8]\n",
    "        # century : 클래스 맨 위에 선언된 클래스 변수\n",
    "        print(f'{cls.century}세기 {year}년 {month}월 {day}일')\n",
    "    def dis_c(cls):\n",
    "        print('클래스 메소드',cls.century)\n",
    "\n",
    "date1 = DateProcedure(2022, 12, 13)\n",
    "\n",
    "print('date1.content :',date1.content)\n",
    "print('DateProcedure.content :',DateProcedure.content)\n",
    "print(date1.year)\n",
    "print('-' * 50)\n",
    "date1.dis_c()\n",
    "print('-' * 50)\n",
    "date1.display()\n",
    "print('-' * 50)\n",
    "\n",
    "print(DateProcedure.content)\n",
    "DateProcedure.date_string('20221213')\n",
    "print(DateProcedure.century)\n",
    "print('-' * 50)\n",
    "\n",
    "DateProcedure.century = 22\n",
    "date1.display()\n",
    "\n",
    "# 자바처럼 클래스 이름으로 instance 메소드 못부름\n",
    "\n"
   ]
  },
  {
   "cell_type": "code",
   "execution_count": null,
   "id": "96bf616d",
   "metadata": {},
   "outputs": [],
   "source": []
  },
  {
   "cell_type": "code",
   "execution_count": null,
   "id": "525fee93",
   "metadata": {},
   "outputs": [],
   "source": []
  },
  {
   "cell_type": "code",
   "execution_count": null,
   "id": "9d991074",
   "metadata": {},
   "outputs": [],
   "source": []
  },
  {
   "cell_type": "code",
   "execution_count": null,
   "id": "5f674318",
   "metadata": {},
   "outputs": [],
   "source": []
  },
  {
   "cell_type": "code",
   "execution_count": null,
   "id": "180b4864",
   "metadata": {},
   "outputs": [],
   "source": []
  }
 ],
 "metadata": {
  "kernelspec": {
   "display_name": "Python 3 (ipykernel)",
   "language": "python",
   "name": "python3"
  },
  "language_info": {
   "codemirror_mode": {
    "name": "ipython",
    "version": 3
   },
   "file_extension": ".py",
   "mimetype": "text/x-python",
   "name": "python",
   "nbconvert_exporter": "python",
   "pygments_lexer": "ipython3",
   "version": "3.9.12"
  }
 },
 "nbformat": 4,
 "nbformat_minor": 5
}

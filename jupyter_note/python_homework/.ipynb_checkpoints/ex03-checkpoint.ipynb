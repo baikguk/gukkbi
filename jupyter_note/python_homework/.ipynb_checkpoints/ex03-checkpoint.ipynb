{
 "cells": [
  {
   "cell_type": "code",
   "execution_count": null,
   "id": "0f356e14",
   "metadata": {},
   "outputs": [],
   "source": [
    "'''\n",
    "주민등록번호 8~9 번째 자리 숫자로 \n",
    "어느 지역 출신인지 알아보기\n",
    "961102-1561811\n",
    "서울특별시 : 0 ~ 8\n",
    "부산광역시 : 9 ~ 12\n",
    "광주광역시 : (구)55, 56 / (신)65, 66\n",
    "\n",
    "주민등록번호를(-포함) 입력받아서 <-- input() 함수\n",
    "어느 지역인지 출력하세요\n",
    "'''\n",
    "seoul = list(range(9))\n",
    "pusan = list(range(9, 13))\n",
    "kwangju = [55, 56, 65, 66]\n",
    "\n",
    "'''\n",
    "in 연산자 :  값 in iterable_type  \n",
    "         <-- 값이 iterable_type 안에 있는지 알려줌\n",
    "\n",
    "loc_num in seoul    <-- 서울출신\n",
    "loc_num in pusan    <-- 부산출신\n",
    "loc_num in kwangju  <-- 광주출신\n",
    "'''"
   ]
  },
  {
   "cell_type": "code",
   "execution_count": 7,
   "id": "08be2906",
   "metadata": {},
   "outputs": [
    {
     "name": "stdout",
     "output_type": "stream",
     "text": [
      "주민번호 입력 : 961102-108954\n",
      "당신의 출신은 서울 출신 입니다\n"
     ]
    }
   ],
   "source": [
    "seoul = list(range(9))\n",
    "pusan = list(range(9, 13))\n",
    "kwangju = [55, 56, 65, 66]\n",
    "\n",
    "id = input('주민번호 입력 : ')\n",
    "loc = ''\n",
    "id_slice=id.split('-')[1][1]+id.split('-')[1][2]\n",
    "id_slice_int= int(id_slice)\n",
    "\n",
    "if id_slice_int in kwangju:\n",
    "    loc='광주 출신'\n",
    "elif id_slice_int in pusan:\n",
    "    loc='부산 출신'     \n",
    "elif id_slice_int in seoul:\n",
    "    loc='서울 출신'      \n",
    "else:\n",
    "     loc='?'   \n",
    "\n",
    "        \n",
    "if loc!='?':\n",
    "    print('당신의 출신은',loc,'입니다')\n",
    "else:\n",
    "    print('똑바로 입력하소')"
   ]
  },
  {
   "cell_type": "code",
   "execution_count": 10,
   "id": "8d642309",
   "metadata": {},
   "outputs": [
    {
     "name": "stdout",
     "output_type": "stream",
     "text": [
      "00000000001\n",
      "1\n"
     ]
    }
   ],
   "source": [
    "'''\n",
    "출신 찾는 문제 splilt 안쓰고 replace로 도가능\n",
    " str.replace('-','')\n",
    " \n",
    "'''\n",
    "'''\n",
    "앞에 0이 있는 문자열은 int()로 형변환할 때 자동으로 0이 없어지고\n",
    "0뒤에 숫자부분만 정수가 됨\n",
    "'''\n",
    "num='00000000001'\n",
    "print(num)\n",
    "print(int(num))"
   ]
  },
  {
   "cell_type": "code",
   "execution_count": null,
   "id": "3ac74268",
   "metadata": {},
   "outputs": [],
   "source": [
    "'''\n",
    "주민등록번호는 13자리로 구성되는데 마지막 자리수는 \n",
    "주민등록번호의 유효성을 체크하는데 사용됨\n",
    "먼저 앞에서부터 12자리의 숫자에 \n",
    "2, 3, 4, 5, 6, 7, 8, 9, 2, 3, 4, 5를 \n",
    "차례로 곱한 뒤 그 값을 전부 더함 \n",
    "연산 결과 값을 11로 나누면 나머지가 나옴\n",
    "11에서 나머지를 뺀 값이 주민등록번호의 마지막 번호임\n",
    "\n",
    "  8 2 1 0 1 0 - 1 6 3 5 2 1 0\n",
    "X 2 3 4 5 6 7   8 9 2 3 4 5\n",
    "--------------------------------\n",
    "\n",
    "(8X2 + 2X3 + 1X4 + 0X5 + 1X6 + 0X7 + 1X8 + \n",
    "6X9 + 3X2 + 5X3 + 2X4 + 1X5) % 11 <-- 7\n",
    "11 - 7 = 4\n",
    "\n",
    "18+18+4+8+45+12+3+32\n",
    "\n",
    "위와 같이 821010-1635210에 대해서 계산을 해보면 \n",
    "마지막 자리는 4가 되어야 함\n",
    "821010-1635210은 유효하지 않은 주민등록번호임\n",
    "'''\n",
    "# 주민등록번호를 입력하고 유효한지 아닌지를\n",
    "# 출력하는 프로그램을 작성하세요"
   ]
  },
  {
   "cell_type": "code",
   "execution_count": 61,
   "id": "184a6d9e",
   "metadata": {
    "scrolled": true
   },
   "outputs": [
    {
     "name": "stdout",
     "output_type": "stream",
     "text": [
      "주민번호 입력 : 961102-1561810\n",
      "18\n",
      "36\n",
      "40\n",
      "45\n",
      "45\n",
      "59\n",
      "67\n",
      "112\n",
      "124\n",
      "127\n",
      "159\n",
      "164\n",
      "164\n",
      "유효 하지 않은 주민번호입니다\n"
     ]
    }
   ],
   "source": [
    "id = input('주민번호 입력 : ')\n",
    "str_check = '234567892345'\n",
    "loc = ''\n",
    "id_slice=id.split('-')\n",
    "id_str = id_slice[0]+id_slice[1]\n",
    "id_num=int(id_slice[0]+id_slice[1])\n",
    "id_check= id[-1];\n",
    "idx = 0\n",
    "sum= 0\n",
    "for i in str_check:\n",
    "    sum += int(i)*int(id_str[idx])\n",
    "    idx+=1\n",
    "        \n",
    "if (11-sum%11)== int(id_check):\n",
    "    print('유효한 주민번호입니다')\n",
    "else:\n",
    "    print('유효 하지 않은 주민번호입니다')"
   ]
  },
  {
   "cell_type": "code",
   "execution_count": null,
   "id": "09aa51d6",
   "metadata": {},
   "outputs": [],
   "source": [
    "'''\n",
    "입력받은 주번 index\n",
    "직접 노가다뛰어서 하나씩 곱하는 방법\n",
    "'''\n",
    "\n",
    "'''\n",
    "나같은 경우 for문 interable type을 곱해주는 숫자로 받고 안에 인덱스를 만들었지만 \n",
    "강사님 코드는 for문 iterable type 을 곱해주는 숫자의 len을 range로 감싸서\n",
    "iterable로 바꿔주고 그걸 인덱스로 받아\n",
    "곱해주는 숫자와 주번의 인덱스에 넣어줌\n",
    "'''"
   ]
  },
  {
   "cell_type": "code",
   "execution_count": 21,
   "id": "ab5a1a30",
   "metadata": {},
   "outputs": [
    {
     "name": "stdout",
     "output_type": "stream",
     "text": [
      "주민번호 입력 : 961102-1561810\n",
      "유효 하지 않은 주민번호입니다\n"
     ]
    }
   ],
   "source": [
    "id = input('주민번호 입력 : ')\n",
    "str_check = '234567892345'\n",
    "loc = ''\n",
    "id_check= id[-1];\n",
    "id_str1=id.replace('-','')\n",
    "id_num1=int(id_str1)\n",
    "id_str2 = id.split('-')[0]+id.split('-')[1]\n",
    "id_num2 = int(id_str2)\n",
    "sum= 0\n",
    "\n",
    "for i in range(len(str_check)):\n",
    "    sum += int(id_str1[i])*int(str_check[i])\n",
    "        \n",
    "if (11-sum%11)== int(id_check):\n",
    "    print('유효한 주민번호입니다')\n",
    "else:\n",
    "    print('유효 하지 않은 주민번호입니다')"
   ]
  },
  {
   "cell_type": "code",
   "execution_count": 45,
   "id": "6ac753a4",
   "metadata": {},
   "outputs": [
    {
     "ename": "IndentationError",
     "evalue": "expected an indented block (1867786739.py, line 47)",
     "output_type": "error",
     "traceback": [
      "\u001b[1;36m  Input \u001b[1;32mIn [45]\u001b[1;36m\u001b[0m\n\u001b[1;33m    print(j) # value가 너무 많다고 오류\u001b[0m\n\u001b[1;37m    ^\u001b[0m\n\u001b[1;31mIndentationError\u001b[0m\u001b[1;31m:\u001b[0m expected an indented block\n"
     ]
    }
   ],
   "source": [
    "scores = {\n",
    "            '이순신':89,\n",
    "            '유관순':95,\n",
    "            '강감찬':76\n",
    "        }\n",
    "'''\n",
    "dictionary를 iterabl type으로 지정해서\n",
    "for 문을 실행하면 index에 key가 들어간다\n",
    "    ㄴ key()를 iterable type에 붙여서 사용한것과 동일\n",
    "'''\n",
    "\n",
    "for i in scores:\n",
    "    print(i)\n",
    "for i in scores.keys(): # 위 코드와 결과 동일\n",
    "    print(i)\n",
    "print('=================')\n",
    "\n",
    "for i in scores.values():\n",
    "    print(i)\n",
    "for i in scores: # 위 코드와 결과 동일\n",
    "    print(scores[i])\n",
    "print('=================')\n",
    "\n",
    "for i,j in scores.items(): # items()는 key value를 반환함\n",
    "    print(i,j)\n",
    "    \n",
    "    \n",
    "scores2 = {\n",
    "            '이순신':[89,'a'],\n",
    "            '유관순':[75,'b'],\n",
    "            '강감찬':[90,'c']\n",
    "        }\n",
    "    \n",
    "scores3 = {\n",
    "            '이순신':[89,'a',True],\n",
    "            '유관순':[75,'b',True],\n",
    "            '강감찬':[90,'c',False]\n",
    "        }\n",
    "\n",
    "# value가 여러개 일때\n",
    "\n",
    "\n",
    "for i,j,k in scores3.values():\n",
    "    print(i,j,k) # value가 너무 많다고 오류\n",
    "\n",
    "for i,(j,k) in scores2.items():\n",
    "print(j) # value가 너무 많다고 오류\n",
    " \n",
    "    \n",
    "'''\n",
    "enumerate (iterable type) 함수를 사용하면 for문안에 index를 받을 수 있는\n",
    "index를 하나 추가해줘야함 idx, i 처럼\n",
    "'''\n",
    "print('=================')\n",
    "for idx,i in enumerate(scores):\n",
    "    print(idx+1,'번',i)"
   ]
  },
  {
   "cell_type": "code",
   "execution_count": null,
   "id": "01f0b35a",
   "metadata": {},
   "outputs": [],
   "source": []
  },
  {
   "cell_type": "code",
   "execution_count": null,
   "id": "819f089b",
   "metadata": {},
   "outputs": [],
   "source": []
  },
  {
   "cell_type": "code",
   "execution_count": null,
   "id": "5e3f2b18",
   "metadata": {},
   "outputs": [],
   "source": []
  },
  {
   "cell_type": "code",
   "execution_count": null,
   "id": "a60ac75c",
   "metadata": {},
   "outputs": [],
   "source": []
  },
  {
   "cell_type": "code",
   "execution_count": null,
   "id": "610757eb",
   "metadata": {},
   "outputs": [],
   "source": []
  },
  {
   "cell_type": "code",
   "execution_count": null,
   "id": "4e8fe95f",
   "metadata": {},
   "outputs": [],
   "source": []
  },
  {
   "cell_type": "code",
   "execution_count": null,
   "id": "bf2f15c2",
   "metadata": {},
   "outputs": [],
   "source": []
  },
  {
   "cell_type": "code",
   "execution_count": null,
   "id": "5fa8ffc2",
   "metadata": {},
   "outputs": [],
   "source": []
  },
  {
   "cell_type": "code",
   "execution_count": null,
   "id": "e6ad22e4",
   "metadata": {},
   "outputs": [],
   "source": []
  },
  {
   "cell_type": "code",
   "execution_count": null,
   "id": "4f41d32a",
   "metadata": {},
   "outputs": [],
   "source": []
  },
  {
   "cell_type": "code",
   "execution_count": null,
   "id": "50e585a8",
   "metadata": {},
   "outputs": [],
   "source": []
  },
  {
   "cell_type": "code",
   "execution_count": null,
   "id": "29e57f8e",
   "metadata": {},
   "outputs": [],
   "source": []
  },
  {
   "cell_type": "code",
   "execution_count": null,
   "id": "53fdef4a",
   "metadata": {},
   "outputs": [],
   "source": []
  },
  {
   "cell_type": "code",
   "execution_count": null,
   "id": "8513a2ef",
   "metadata": {},
   "outputs": [],
   "source": []
  },
  {
   "cell_type": "code",
   "execution_count": null,
   "id": "3b03711f",
   "metadata": {},
   "outputs": [],
   "source": []
  },
  {
   "cell_type": "code",
   "execution_count": null,
   "id": "9002f658",
   "metadata": {},
   "outputs": [],
   "source": []
  },
  {
   "cell_type": "code",
   "execution_count": null,
   "id": "10b852c0",
   "metadata": {},
   "outputs": [],
   "source": []
  }
 ],
 "metadata": {
  "kernelspec": {
   "display_name": "Python 3 (ipykernel)",
   "language": "python",
   "name": "python3"
  },
  "language_info": {
   "codemirror_mode": {
    "name": "ipython",
    "version": 3
   },
   "file_extension": ".py",
   "mimetype": "text/x-python",
   "name": "python",
   "nbconvert_exporter": "python",
   "pygments_lexer": "ipython3",
   "version": "3.9.12"
  }
 },
 "nbformat": 4,
 "nbformat_minor": 5
}

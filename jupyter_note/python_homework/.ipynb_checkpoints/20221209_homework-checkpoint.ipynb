{
 "cells": [
  {
   "cell_type": "code",
   "execution_count": 37,
   "id": "118b893f",
   "metadata": {},
   "outputs": [
    {
     "name": "stdout",
     "output_type": "stream",
     "text": [
      "['나는']\n",
      "['나는', '더조은']\n",
      "['나는', '더조은', '입니다', '주소는']\n",
      "['나는', '더조은', '입니다', '주소는', '마포구']\n",
      "['나는', '더조은', '입니다', '주소는', '마포구', '입니다', '나이는']\n",
      "['나는', '더조은', '입니다', '주소는', '마포구', '입니다', '나이는', '30세']\n",
      "['나는', '더조은', '입니다', '주소는', '마포구', '입니다', '나이는', '30세', '입니다']\n",
      "['나는', '더조은', '입니다', '주소는', '마포구', '입니다', '나이는', '30세', '입니다']\n",
      "['나는', '더조은', '입니다', '주소는', '마포구', '입니다', '나이는', '30세', '입니다']\n"
     ]
    }
   ],
   "source": [
    "'''\n",
    "문장수 단어수 출력\n",
    "'''\n",
    "str1= '''나는 더조은 입니다\n",
    "주소는 마포구 입니다\n",
    "나이는 30세 입니다'''\n",
    "\n",
    "# str1_sentence = str1.split('\\n')\n",
    "# str1_word=[]\n",
    "# idx = 0\n",
    "# for i in str1_sentence:\n",
    "#     for j in i.split(' '):\n",
    "#         str1_word.append(j)\n",
    "# print(str1_sentence)\n",
    "# print(str1_word)     \n",
    "# print(len(str1_sentence))\n",
    "# print(len(str1_word))\n",
    "\n",
    "'''\n",
    "할당하면 그 저 list사라짐 list 추가 메소드 append 활용\n",
    "\\n과 ' '를 구별해야하는데 '\\n'으로 나누고\n",
    "나눈 문장으로 split시 리스트로 나와 이중 for문을 통해 data하나씩 append해야함\n",
    "'''\n",
    "\n",
    "word =[]\n",
    "str1_sentence=str1.split(' ')\n",
    "for i in str1_sentence:\n",
    "    if '\\n' in i:\n",
    "        word += i.split('\\n')\n",
    "    else:\n",
    "        word += i.split('d')\n",
    "\n",
    "    print(word)\n",
    "\n",
    "print(word)\n",
    "\n",
    "word=[]\n",
    "str1_word = str1.split('\\n')\n",
    "for i in str1_word:\n",
    "        word += i.split(' ') # for문 의 index는 i가 된다\n",
    "print(word)"
   ]
  },
  {
   "cell_type": "code",
   "execution_count": 49,
   "id": "7a22ae47",
   "metadata": {},
   "outputs": [
    {
     "name": "stdout",
     "output_type": "stream",
     "text": [
      "['TOM', 'CRUISE', 'PAUL', 'JENNIFER', '', 'RARA', '', 'KIM']\n"
     ]
    }
   ],
   "source": [
    "names = ['tom', 'cruise', 'paul', 'jennifer', None, 'rara', None, 'kim']\n",
    "list1 = []\n",
    "print([i.upper() if i is not None else '' for i in names ])"
   ]
  },
  {
   "cell_type": "code",
   "execution_count": 52,
   "id": "1414fe61",
   "metadata": {},
   "outputs": [
    {
     "name": "stdout",
     "output_type": "stream",
     "text": [
      "[1, -2, -4, 5, 7, -8, -10, 11, 13, -14, -16, 17, 19]\n",
      "[1, -2, -4, 5, 7, -8, -10, 11, 13, -14, -16, 17, 19]\n"
     ]
    }
   ],
   "source": [
    "list1 = []\n",
    "for i in range(1,20):\n",
    "    if i%3:\n",
    "        if i%2==0:\n",
    "            list1.append(-i)\n",
    "        else:\n",
    "            list1.append(i)\n",
    "print(list1)\n",
    "\n",
    "print([ -i if i%2==0 else i for i in range(1,20) if i%3])"
   ]
  },
  {
   "cell_type": "code",
   "execution_count": 58,
   "id": "fcd5f86d",
   "metadata": {},
   "outputs": [
    {
     "name": "stdout",
     "output_type": "stream",
     "text": [
      "[3, 6, 9, 12, 15, 18, 21, 24, 27, 30, 33, 36, 39, 42, 45, 48, 51, 54, 57, 60, 63, 66, 69, 72, 75, 78, 81, 84, 87, 90, 93, 96, 99]\n",
      "1683\n"
     ]
    }
   ],
   "source": [
    "result = []\n",
    "sum = 0\n",
    "idx =1\n",
    "while(idx<=100):\n",
    "    if  not idx%3:\n",
    "        result.append(idx)\n",
    "        sum+=idx;\n",
    "    idx+=1\n",
    "print(result)\n",
    "print(sum)"
   ]
  },
  {
   "cell_type": "code",
   "execution_count": 79,
   "id": "60a8941d",
   "metadata": {},
   "outputs": [
    {
     "name": "stdout",
     "output_type": "stream",
     "text": [
      "[2, 5, 1, 3, 4]\n",
      "[1, 5, 2, 3, 4]\n",
      "[1, 4, 2, 3, 5]\n",
      "[1, 3, 2, 4, 5]\n",
      "[1, 2, 3, 4, 5]\n",
      "[1, 3, 2, 4, 5]\n",
      "[1, 3, 4, 2, 5]\n",
      "[1, 3, 4, 2, 5]\n"
     ]
    }
   ],
   "source": [
    "dataset = [3,5,1,2,4]\n",
    "i = 0\n",
    "j =4\n",
    "\n",
    "while(i < len(dataset)-1):\n",
    "    while(j >0 ):\n",
    "        if(dataset[i]>dataset[j]):\n",
    "            cup = dataset[i]\n",
    "            dataset[i] =dataset[j]\n",
    "            dataset[j] = cup\n",
    "            print(dataset)\n",
    "        j-=1\n",
    "    j=4\n",
    "    i+=1\n",
    "    \n",
    "print(dataset)\n",
    "    "
   ]
  },
  {
   "cell_type": "code",
   "execution_count": 90,
   "id": "1b4ce228",
   "metadata": {},
   "outputs": [
    {
     "name": "stdout",
     "output_type": "stream",
     "text": [
      "{'A': 4, 'O': 4, 'B': 2, 'AB': 2}\n"
     ]
    }
   ],
   "source": [
    "list_bloods = ['A','A','A','O','O','O','B','O','AB','B','AB','A']\n",
    "dict_bloods = {}\n",
    "idx =0\n",
    "while(idx<len(list_bloods)):\n",
    "    dict_bloods[list_bloods[idx]]= dict_bloods.get(list_bloods[idx],0)+1\n",
    "    idx+=1\n",
    "idx =0\n",
    "print(dict_bloods)"
   ]
  },
  {
   "cell_type": "code",
   "execution_count": 95,
   "id": "763fe33a",
   "metadata": {},
   "outputs": [
    {
     "name": "stdout",
     "output_type": "stream",
     "text": [
      "['대리', '과장', '사장', '부장']\n",
      "{'과장': 2, '부장': 1, '대리': 2, '사장': 1}\n"
     ]
    }
   ],
   "source": [
    "position = ['과장','부장','대리','사장','대리','과장']\n",
    "dict_posi = {}\n",
    "#중복 제거 - > 집합타입으로\n",
    "non_duple = set(position)\n",
    "non_duple_pos = list(non_duple)\n",
    "print(non_duple_pos)\n",
    "\n",
    "#빈도수 출력\n",
    "idx = 0\n",
    "while(idx<len(position)):\n",
    "    dict_posi[position[idx]] = dict_posi.get(position[idx], 0) +1\n",
    "    idx+=1\n",
    "print(dict_posi)"
   ]
  },
  {
   "cell_type": "code",
   "execution_count": 99,
   "id": "73df1a9a",
   "metadata": {},
   "outputs": [
    {
     "name": "stdout",
     "output_type": "stream",
     "text": [
      "[1, 4, 9, 16, 25]\n"
     ]
    }
   ],
   "source": [
    "list1 = [1,2,3,4,5]\n",
    "# (lambda 매개변수 : 반환값, iterable)\n",
    "print(list(map(lambda i :  i**2, list1)))"
   ]
  },
  {
   "cell_type": "code",
   "execution_count": 104,
   "id": "f6de19f6",
   "metadata": {},
   "outputs": [
    {
     "name": "stdout",
     "output_type": "stream",
     "text": [
      "(1, 4, 9, 16, 25)\n",
      "[1, 4, 9, 16, 25]\n"
     ]
    }
   ],
   "source": [
    "#map(변환함수,iterable) : 여러개의 데이터를 한번에 다른 형태로 바꾸기 위해 사용\n",
    "                     # list나 tuple로 묶어줘야함\n",
    "list1 = [1,2,3,4,5]\n",
    "def get_pow(i):\n",
    "    return i**2\n",
    "print(tuple(map(get_pow,list1)))\n",
    "print(list(map(get_pow,list1)))"
   ]
  },
  {
   "cell_type": "code",
   "execution_count": 105,
   "id": "b1ea752d",
   "metadata": {},
   "outputs": [
    {
     "name": "stdout",
     "output_type": "stream",
     "text": [
      "[-5, -4, -3, -2, -1]\n"
     ]
    }
   ],
   "source": [
    "list1 = [-5, -4, -3, -2, -1, 0, 1, 2, 3, 4, 5]\n",
    "'''\n",
    "filter( 변환함수, iterable) : 변환함수의 리턴값이 boolean이면\n",
    "                            해당 index 의 iterable을 반환한\n",
    "'''\n",
    "\n",
    "print(list(filter(lambda i : i<0,list1)))"
   ]
  },
  {
   "cell_type": "code",
   "execution_count": 114,
   "id": "0769ecf0",
   "metadata": {},
   "outputs": [
    {
     "name": "stdout",
     "output_type": "stream",
     "text": [
      "21\n"
     ]
    }
   ],
   "source": [
    "'''\n",
    "reduce() 함수( 집계함수, iterable) : 누적집계를 위해사용 \n",
    "                        집계함수의 인자는 2개 여야함\n",
    "                        이후 첫번째 인자는 누적값을 저장하고\n",
    "                        2번째 인자는 iterable에 따라 값이 바뀜\n",
    "'''\n",
    "from functools import reduce\n",
    "list1 = [1, 2, 3, 4, 5, 6]\n",
    "print(reduce(lambda num1, num2 : num1+num2,list1))\n"
   ]
  },
  {
   "cell_type": "code",
   "execution_count": 123,
   "id": "db697405",
   "metadata": {},
   "outputs": [
    {
     "name": "stdout",
     "output_type": "stream",
     "text": [
      "15\n"
     ]
    },
    {
     "ename": "TypeError",
     "evalue": "unhashable type: 'dict'",
     "output_type": "error",
     "traceback": [
      "\u001b[1;31m---------------------------------------------------------------------------\u001b[0m",
      "\u001b[1;31mTypeError\u001b[0m                                 Traceback (most recent call last)",
      "Input \u001b[1;32mIn [123]\u001b[0m, in \u001b[0;36m<cell line: 22>\u001b[1;34m()\u001b[0m\n\u001b[0;32m     19\u001b[0m     dict_ \u001b[38;5;241m=\u001b[39m {others}\n\u001b[0;32m     20\u001b[0m     \u001b[38;5;28;01mreturn\u001b[39;00m dict_\n\u001b[1;32m---> 22\u001b[0m dict_ \u001b[38;5;241m=\u001b[39m \u001b[43mtest\u001b[49m\u001b[43m(\u001b[49m\u001b[38;5;124;43m'\u001b[39;49m\u001b[38;5;124;43m이순신\u001b[39;49m\u001b[38;5;124;43m'\u001b[39;49m\u001b[43m,\u001b[49m\u001b[38;5;124;43m'\u001b[39;49m\u001b[38;5;124;43m26\u001b[39;49m\u001b[38;5;124;43m'\u001b[39;49m\u001b[43m,\u001b[49m\u001b[43maddrr\u001b[49m\u001b[38;5;241;43m=\u001b[39;49m\u001b[38;5;124;43m'\u001b[39;49m\u001b[38;5;124;43m서울시\u001b[39;49m\u001b[38;5;124;43m'\u001b[39;49m\u001b[43m,\u001b[49m\u001b[43m \u001b[49m\u001b[43mheight\u001b[49m\u001b[38;5;241;43m=\u001b[39;49m\u001b[38;5;241;43m192\u001b[39;49m\u001b[43m,\u001b[49m\u001b[43m \u001b[49m\u001b[43mweight\u001b[49m\u001b[38;5;241;43m=\u001b[39;49m\u001b[38;5;241;43m81\u001b[39;49m\u001b[43m)\u001b[49m\n\u001b[0;32m     23\u001b[0m \u001b[38;5;28mprint\u001b[39m(dict_)\n",
      "Input \u001b[1;32mIn [123]\u001b[0m, in \u001b[0;36mtest\u001b[1;34m(name, age, **others)\u001b[0m\n\u001b[0;32m     17\u001b[0m dict_ \u001b[38;5;241m=\u001b[39m {}\n\u001b[0;32m     18\u001b[0m dict_[name]\u001b[38;5;241m=\u001b[39mage\n\u001b[1;32m---> 19\u001b[0m dict_ \u001b[38;5;241m=\u001b[39m {others}\n\u001b[0;32m     20\u001b[0m \u001b[38;5;28;01mreturn\u001b[39;00m dict_\n",
      "\u001b[1;31mTypeError\u001b[0m: unhashable type: 'dict'"
     ]
    }
   ],
   "source": [
    "'''\n",
    "가변 parameter - 파라미터 앞에 * 붙여주면 여러개 받음\n",
    "dictionary 형 가변 parameter 파라미터 앞에 **붙여주면 여러개 받음\n",
    "'''\n",
    "\n",
    "def add(*num1):\n",
    "    sum =0\n",
    "    for i in num1:\n",
    "        sum+=i\n",
    "    return sum\n",
    "\n",
    "print(add(1,2,3,4,5))\n",
    "\n",
    "dict_ = {}\n",
    "\n",
    "def test(name,age,**others):\n",
    "    dict_ = {}\n",
    "    dict_[name]=age\n",
    "    dict_ = {others}\n",
    "    return dict_\n",
    "\n",
    "dict_ = test('이순신','26',addrr='서울시', height=192, weight=81)\n",
    "print(dict_)\n",
    "\n",
    "lsit"
   ]
  },
  {
   "cell_type": "code",
   "execution_count": 149,
   "id": "feb157e6",
   "metadata": {},
   "outputs": [
    {
     "name": "stdout",
     "output_type": "stream",
     "text": [
      "[False, 1, 2, 4]\n",
      "['b', 'c', 'd', 'd']\n",
      "1\n",
      "0\n",
      "True\n"
     ]
    }
   ],
   "source": [
    "list1 = [4,False,2,1]\n",
    "\n",
    "print(sorted(list1))\n",
    "list1= ['d','b','c','d']\n",
    "print(sorted(list1))\n",
    "\n",
    "# print(list1)\n",
    "list1.sort()\n",
    "a = int(True)\n",
    "print(a)\n",
    "print(int(False))\n",
    "\n",
    "print(bool(0.1))\n",
    "# if i%2:\n",
    "    \n",
    "    \n",
    "    \n",
    "# print(list1)"
   ]
  },
  {
   "cell_type": "code",
   "execution_count": 140,
   "id": "b6b0bcdf",
   "metadata": {},
   "outputs": [
    {
     "ename": "SyntaxError",
     "evalue": "invalid syntax (2487495305.py, line 12)",
     "output_type": "error",
     "traceback": [
      "\u001b[1;36m  Input \u001b[1;32mIn [140]\u001b[1;36m\u001b[0m\n\u001b[1;33m    boo.\u001b[0m\n\u001b[1;37m        ^\u001b[0m\n\u001b[1;31mSyntaxError\u001b[0m\u001b[1;31m:\u001b[0m invalid syntax\n"
     ]
    }
   ],
   "source": [
    "def add(n1,n2):\n",
    "    return n1+n2\n",
    "\n",
    "print(add(1,2))\n",
    "print(add('1','2'))\n",
    "print(add(True,False))\n",
    "print(int(True))\n",
    "print(int(False))\n",
    "str1 = 'dafsfds'\n",
    "boo = True\n",
    "print(str1.upper())"
   ]
  },
  {
   "cell_type": "code",
   "execution_count": null,
   "id": "27e849bb",
   "metadata": {},
   "outputs": [],
   "source": []
  },
  {
   "cell_type": "code",
   "execution_count": null,
   "id": "8ccb0d23",
   "metadata": {},
   "outputs": [],
   "source": []
  },
  {
   "cell_type": "code",
   "execution_count": null,
   "id": "b32199cf",
   "metadata": {},
   "outputs": [],
   "source": []
  },
  {
   "cell_type": "code",
   "execution_count": null,
   "id": "267971a0",
   "metadata": {},
   "outputs": [],
   "source": []
  },
  {
   "cell_type": "code",
   "execution_count": null,
   "id": "0fc2cb72",
   "metadata": {},
   "outputs": [],
   "source": []
  },
  {
   "cell_type": "code",
   "execution_count": null,
   "id": "69038deb",
   "metadata": {},
   "outputs": [],
   "source": []
  },
  {
   "cell_type": "code",
   "execution_count": null,
   "id": "dc4a0985",
   "metadata": {},
   "outputs": [],
   "source": []
  },
  {
   "cell_type": "code",
   "execution_count": null,
   "id": "36307364",
   "metadata": {},
   "outputs": [],
   "source": []
  }
 ],
 "metadata": {
  "kernelspec": {
   "display_name": "Python 3 (ipykernel)",
   "language": "python",
   "name": "python3"
  },
  "language_info": {
   "codemirror_mode": {
    "name": "ipython",
    "version": 3
   },
   "file_extension": ".py",
   "mimetype": "text/x-python",
   "name": "python",
   "nbconvert_exporter": "python",
   "pygments_lexer": "ipython3",
   "version": "3.9.12"
  }
 },
 "nbformat": 4,
 "nbformat_minor": 5
}

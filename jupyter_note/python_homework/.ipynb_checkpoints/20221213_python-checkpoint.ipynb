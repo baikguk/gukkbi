{
 "cells": [
  {
   "cell_type": "code",
   "execution_count": 9,
   "id": "8ac768d5",
   "metadata": {},
   "outputs": [
    {
     "name": "stdout",
     "output_type": "stream",
     "text": [
      "10000 [3, 5]\n",
      "{}\n"
     ]
    }
   ],
   "source": [
    "'''\n",
    "lambda 익명함수 (lamda 식) : 축약함수 (함수 간단하게)\n",
    "lambda\n",
    "     형식]\n",
    "     lambda 매개변수 : 반환값\n",
    "     lambda 함수는 변수에 할당, 파라미터 전달, return 3개 다 가능하기 때문에\n",
    "     일급객체라고함 : first class object, first class citizen\n",
    "     \n",
    "     일급 객체란 프로그래밍에서 아래에 나열된 특징을 가지는 모든 객체들을 가리킨다.\n",
    "\n",
    "        모든 요소는 \"할당 명령문의 대상\"이 될 수 있다.\n",
    "        모든 요소는 \"동일(equal, ==) 비교의 대상\"이 될 수 있다.\n",
    "        모든 요소는 \"함수의 파라미터\"가 될 수 있다.\n",
    "        모든 요소는 \"함수의 반환 값\"이 될 수 있다.\n",
    "'''\n",
    "\n",
    "# **c = (코트=300000, 바지=200000) # *을 붙이는 건 가변파라미터라는 의미이기때문에\n",
    "                                # 따로 못해주는듯?\n",
    "a ,*b = (10000, 3, 5) # 근데 얘는 됨 ㅋ\n",
    "print(a,b)\n",
    "print(c)"
   ]
  },
  {
   "cell_type": "code",
   "execution_count": 19,
   "id": "7b964591",
   "metadata": {},
   "outputs": [
    {
     "name": "stdout",
     "output_type": "stream",
     "text": [
      "[10000, 3, 5, '코트', 300000, '바지', 200000] () {}\n"
     ]
    }
   ],
   "source": [
    "tuple1 =[10000, 3, 5, '코트',300000, '바지',200000] \n",
    "calc = lambda a,*b,**c : print(a,b,c) \n",
    "calc(tuple1) # 튜플과 리스트는 가변함수의 인자로 못받는듯?"
   ]
  },
  {
   "cell_type": "code",
   "execution_count": null,
   "id": "fbb4f48d",
   "metadata": {},
   "outputs": [],
   "source": []
  },
  {
   "cell_type": "code",
   "execution_count": null,
   "id": "7543fcbc",
   "metadata": {},
   "outputs": [],
   "source": []
  },
  {
   "cell_type": "code",
   "execution_count": null,
   "id": "4e0ced7e",
   "metadata": {},
   "outputs": [],
   "source": []
  },
  {
   "cell_type": "code",
   "execution_count": null,
   "id": "a57d3920",
   "metadata": {},
   "outputs": [],
   "source": []
  },
  {
   "cell_type": "code",
   "execution_count": null,
   "id": "5d9cf05e",
   "metadata": {},
   "outputs": [],
   "source": []
  },
  {
   "cell_type": "code",
   "execution_count": null,
   "id": "f1002eb0",
   "metadata": {},
   "outputs": [],
   "source": []
  },
  {
   "cell_type": "code",
   "execution_count": null,
   "id": "5023e08d",
   "metadata": {},
   "outputs": [],
   "source": []
  },
  {
   "cell_type": "code",
   "execution_count": null,
   "id": "fc3f6158",
   "metadata": {},
   "outputs": [],
   "source": []
  },
  {
   "cell_type": "code",
   "execution_count": null,
   "id": "63e3c039",
   "metadata": {},
   "outputs": [],
   "source": []
  },
  {
   "cell_type": "code",
   "execution_count": null,
   "id": "4e518f87",
   "metadata": {},
   "outputs": [],
   "source": []
  },
  {
   "cell_type": "code",
   "execution_count": null,
   "id": "24895612",
   "metadata": {},
   "outputs": [],
   "source": []
  },
  {
   "cell_type": "code",
   "execution_count": null,
   "id": "9ba260ab",
   "metadata": {},
   "outputs": [],
   "source": []
  }
 ],
 "metadata": {
  "kernelspec": {
   "display_name": "Python 3 (ipykernel)",
   "language": "python",
   "name": "python3"
  },
  "language_info": {
   "codemirror_mode": {
    "name": "ipython",
    "version": 3
   },
   "file_extension": ".py",
   "mimetype": "text/x-python",
   "name": "python",
   "nbconvert_exporter": "python",
   "pygments_lexer": "ipython3",
   "version": "3.9.12"
  }
 },
 "nbformat": 4,
 "nbformat_minor": 5
}

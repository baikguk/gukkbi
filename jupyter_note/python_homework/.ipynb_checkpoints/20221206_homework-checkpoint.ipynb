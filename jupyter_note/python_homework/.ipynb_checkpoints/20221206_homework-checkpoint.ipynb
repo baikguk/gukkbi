{
 "cells": [
  {
   "cell_type": "code",
   "execution_count": 1,
   "id": "efda3b41",
   "metadata": {
    "scrolled": true
   },
   "outputs": [
    {
     "name": "stdout",
     "output_type": "stream",
     "text": [
      "1\n",
      "[2, 3, 4]\n",
      "5\n"
     ]
    }
   ],
   "source": [
    "numbers =1,2,3,4,5\n",
    "n1,*n2,n3 = numbers # 변수에 *을 붙임으로 여러개 저장가능\n",
    "print(n1)\n",
    "print(n2)\n",
    "print(n3)"
   ]
  },
  {
   "cell_type": "code",
   "execution_count": 4,
   "id": "12bf6960",
   "metadata": {},
   "outputs": [
    {
     "name": "stdout",
     "output_type": "stream",
     "text": [
      "010 3316 8583\n",
      "10!@#"
     ]
    }
   ],
   "source": [
    "print('010 3316 8583' ,sep='')\n",
    "print(10,end='!@#')"
   ]
  },
  {
   "cell_type": "code",
   "execution_count": 5,
   "id": "e56ed555",
   "metadata": {},
   "outputs": [
    {
     "name": "stdout",
     "output_type": "stream",
     "text": [
      "안\"녕하사에ㅛ|\"요우\n"
     ]
    }
   ],
   "source": [
    "'''\n",
    "\\는 원래의 기능을 제거함\n",
    "'''\n",
    "print('안\\\"녕하사에ㅛ|\"요우')"
   ]
  },
  {
   "cell_type": "code",
   "execution_count": 29,
   "id": "ad6a1008",
   "metadata": {},
   "outputs": [
    {
     "name": "stdout",
     "output_type": "stream",
     "text": [
      "나는 이순신 46세이지\n",
      "나는 이순신 46세 이지\n",
      "나는 백국현 27세 이지\n",
      "나는 이순신 46세이지\n"
     ]
    }
   ],
   "source": [
    "name = '이순신'\n",
    "age = 46\n",
    "print( '나는 %s %d세이지'%(name,age))\n",
    "print('나는 {} {}세 이지'.format(name,age))\n",
    "print('나는 {name} {age}세 이지'.format(name='백국현',age=27)) \n",
    "# .format에서 {} 변수를 지정해서 할당할 수 있음 단 {}안에 변수 적어야함\n",
    "# {}를 비우거나 index입력 불가능\n",
    "print(f'나는 {name} {age}세이지')"
   ]
  },
  {
   "cell_type": "code",
   "execution_count": 15,
   "id": "1f21cd58",
   "metadata": {
    "scrolled": false
   },
   "outputs": [
    {
     "name": "stdout",
     "output_type": "stream",
     "text": [
      "        응애\n",
      "        응애\n",
      "응애        \n",
      "        응애애웅\n",
      "응애        애웅\n",
      "3.1416파이\n"
     ]
    }
   ],
   "source": [
    "print('%10s'%'응애')\n",
    "print('%+10s'%'응애')\n",
    "print('%-10s'%'응애')\n",
    "print('%+10s애웅'%'응애')\n",
    "print('%-10s애웅'%'응애')\n",
    "pi = 3.1415926535\n",
    "print('%-5.4f파이'%pi)"
   ]
  },
  {
   "cell_type": "code",
   "execution_count": 24,
   "id": "0d5b7fa3",
   "metadata": {},
   "outputs": [
    {
     "name": "stdout",
     "output_type": "stream",
     "text": [
      "응애        애웅\n",
      "3.1416    파이\n",
      "    3.1416파이\n"
     ]
    }
   ],
   "source": [
    "### pi = 3.1415926535\n",
    "print('%-10s애웅'%'응애')\n",
    "print('%-10.4f파이'%pi)\n",
    "print('%10.4f파이'%pi)"
   ]
  },
  {
   "cell_type": "code",
   "execution_count": 40,
   "id": "3fcd4841",
   "metadata": {},
   "outputs": [
    {
     "name": "stdout",
     "output_type": "stream",
     "text": [
      "py        \n",
      "        py\n",
      "    py    \n",
      "----py----\n",
      "    py    \n",
      "     3.144\n"
     ]
    }
   ],
   "source": [
    "print('{0:<10}'.format('py'))\n",
    "print('{0:>10}'.format('py'))\n",
    "print('{0:^10}'.format('py'))\n",
    "print('{0:-^10}'.format('py'))\n",
    "print('{0:^10s}'.format('py')) # S는 s, ,f둘다 받을수 있지만\n",
    "print('{:10.3f}'.format(3.14415648)) # S를 받을 수없다"
   ]
  },
  {
   "cell_type": "code",
   "execution_count": 44,
   "id": "2f91dfea",
   "metadata": {},
   "outputs": [
    {
     "name": "stdout",
     "output_type": "stream",
     "text": [
      "200,000\n"
     ]
    }
   ],
   "source": [
    "print('%s'%format(200000,',')) # format이 20000을 문자열로 바꿔 %s로만 받을수 있따"
   ]
  },
  {
   "cell_type": "code",
   "execution_count": 52,
   "id": "e6544c65",
   "metadata": {
    "scrolled": true
   },
   "outputs": [
    {
     "name": "stdout",
     "output_type": "stream",
     "text": [
      "39\n",
      "languag\n",
      "language\n"
     ]
    }
   ],
   "source": [
    "str1 = 'python is the best programming language'\n",
    "print(len(str1))\n",
    "print(str1[-8:-1]) # end 포함안됨 -index는 그냥세서 하면됨\n",
    "print(str1[-8:len(str1)])"
   ]
  },
  {
   "cell_type": "code",
   "execution_count": 62,
   "id": "152c0c37",
   "metadata": {},
   "outputs": [
    {
     "name": "stdout",
     "output_type": "stream",
     "text": [
      "3\n",
      "1\n",
      "7\n",
      "27\n",
      "7\n",
      "27\n",
      "p-y-t-h-o-n- -i-s- -t-h-e- -b-e-s-t- -p-r-o-g-r-a-m-m-i-n-g- -l-a-n-g-u-a-g-e\n"
     ]
    }
   ],
   "source": [
    "'''\n",
    ".count(문자열) - 대상 문자열 속에 지정한 문자열이 이몇 개 있는지 반환함\n",
    "'''\n",
    "str1 = 'python is the best programming language'\n",
    "print(str1.count('e'))\n",
    "print(str1.count('t p'))\n",
    "\n",
    "'''\n",
    ".find(문자열) 왼쪽부터 검색\n",
    ".rfind(문자열) 오른쪽부터 검색\n",
    "-> 처음으로 찾은 index반환 없으면 -1반환\n",
    "\n",
    "'''\n",
    "print(str1.find('i'))\n",
    "print(str1.rfind('i'))\n",
    "\n",
    "'''\n",
    "index(문자열)\n",
    "rindex(문자열)\n",
    ".find(문자열) 왼쪽부터 검색\n",
    ".rfind(문자열) 오른쪽부터 검색\n",
    "-> 처음으로 찾은 index반환 없으면 오류\n",
    "'''\n",
    "print(str1.index('i'))\n",
    "print(str1.rindex('i'))\n",
    "\n",
    "'''\n",
    "join()\n",
    " '구분자'.join(대상 문자열)\n",
    "'''\n",
    "print('-'.join(str1))"
   ]
  },
  {
   "cell_type": "code",
   "execution_count": 74,
   "id": "1c50200e",
   "metadata": {},
   "outputs": [
    {
     "name": "stdout",
     "output_type": "stream",
     "text": [
      "['python', 'is', 'the', 'best', 'programming', 'language']\n",
      "['python is the ', ' programming language']\n",
      "a\n",
      "A\n",
      "Aa\n",
      "False\n",
      "Python Is The Best Programming Language\n",
      "Python is the best programming language\n"
     ]
    },
    {
     "data": {
      "text/plain": [
       "'\\nstrip() : 문자열의 양쪽의 공백 제거\\nlstrip() : 문자열의 왼쪽의 공백 제거\\nrstrip() : 문자열의 오른쪽의 공백 제거\\n'"
      ]
     },
     "execution_count": 74,
     "metadata": {},
     "output_type": "execute_result"
    }
   ],
   "source": [
    "'''\n",
    "문자열.split(' ')\n",
    "'''\n",
    "str1 = 'python is the best programming language'\n",
    "print(str1.split(' '))\n",
    "print(str1.split('best'))\n",
    "\n",
    "'''\n",
    "lower() -소문자로변환\n",
    "upper() -대문자로변환\n",
    "swapcase() - 소<->대\n",
    "'''\n",
    "print('A'.lower())\n",
    "print('a'.upper())\n",
    "print('aA'.swapcase())\n",
    "'''\n",
    "islower() 소문자면 true\n",
    "'''\n",
    "print('a'.isupper())\n",
    "\n",
    "'''\n",
    "title() : 문장의 각단어 첫글자만 대분자\n",
    "capitalize() : 문장의ㅡ 맨 처음 단어의 첫 글자만 대문자 \n",
    "'''\n",
    "print(str1.title())\n",
    "print(str1.capitalize())\n",
    "\n",
    "'''\n",
    "strip() : 문자열의 양쪽의 공백 제거\n",
    "lstrip() : 문자열의 왼쪽의 공백 제거\n",
    "rstrip() : 문자열의 오른쪽의 공백 제거\n",
    "'''"
   ]
  },
  {
   "cell_type": "code",
   "execution_count": null,
   "id": "901a68e8",
   "metadata": {},
   "outputs": [],
   "source": []
  },
  {
   "cell_type": "code",
   "execution_count": null,
   "id": "75b53f09",
   "metadata": {},
   "outputs": [],
   "source": []
  },
  {
   "cell_type": "code",
   "execution_count": null,
   "id": "f594242e",
   "metadata": {},
   "outputs": [],
   "source": []
  },
  {
   "cell_type": "code",
   "execution_count": null,
   "id": "e6c9815f",
   "metadata": {},
   "outputs": [],
   "source": []
  },
  {
   "cell_type": "code",
   "execution_count": null,
   "id": "4ee578a0",
   "metadata": {},
   "outputs": [],
   "source": []
  },
  {
   "cell_type": "code",
   "execution_count": null,
   "id": "23aa6a22",
   "metadata": {},
   "outputs": [],
   "source": []
  },
  {
   "cell_type": "code",
   "execution_count": null,
   "id": "ad382e0a",
   "metadata": {},
   "outputs": [],
   "source": []
  },
  {
   "cell_type": "code",
   "execution_count": null,
   "id": "f8c47c2c",
   "metadata": {},
   "outputs": [],
   "source": []
  }
 ],
 "metadata": {
  "kernelspec": {
   "display_name": "Python 3 (ipykernel)",
   "language": "python",
   "name": "python3"
  },
  "language_info": {
   "codemirror_mode": {
    "name": "ipython",
    "version": 3
   },
   "file_extension": ".py",
   "mimetype": "text/x-python",
   "name": "python",
   "nbconvert_exporter": "python",
   "pygments_lexer": "ipython3",
   "version": "3.9.12"
  }
 },
 "nbformat": 4,
 "nbformat_minor": 5
}

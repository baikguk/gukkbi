{
 "cells": [
  {
   "cell_type": "code",
   "execution_count": 22,
   "id": "1e717624",
   "metadata": {},
   "outputs": [
    {
     "name": "stdout",
     "output_type": "stream",
     "text": [
      "<class 'complex'>\n",
      "이름은 글로벌 이고 나이는 23 입니다\n",
      "이름은글로벌이고 나이는23입니다\n",
      "이름은글로벌이고 나이는23입니다\n",
      "20 10\n",
      "20 10\n"
     ]
    },
    {
     "data": {
      "text/plain": [
       "'\\n보이는 것처럼 동시에 할당연산을 한것이 아니라\\n오른쪽 (cup2,cup1) 에서 ()가 생략된 형태임\\n            ㄴ tuple이라고 함\\n즉 오른쪽에 있는 건 type이 튜플이 변수 한개임\\n\\n'"
      ]
     },
     "execution_count": 22,
     "metadata": {},
     "output_type": "execute_result"
    }
   ],
   "source": [
    "\n",
    "'''\n",
    "파이썬은 literal data를 먼저\n",
    "memory에 올리고 나서\n",
    "변수를 연결시킴\n",
    "\n",
    "자바처럼\n",
    "int number; ->변수를 먼저 메모리에 올리고\n",
    "number = 100이 불가능\n",
    "\n",
    "int\n",
    "float\n",
    "bool\n",
    "str \n",
    "complex\n",
    "타입이 있음\n",
    "'''\n",
    "num = 3+1j\n",
    "print(type(num))\n",
    "\n",
    "'''\n",
    "python에서는 모든 변수들이 reference type임\n",
    "    ㄴ 모두 주소를 저장하고 이승ㅁ\n",
    "    ㄴ 모든 data들은 전부 객체로 메모리에 올라감\n",
    "변수 - data와 연결된 이름표(reference type)\n",
    "        ㄴ data가 memory상에서 어느 위치에 있는\n",
    "            computer한테 알려주는 이름표\n",
    "'''\n",
    "\n",
    "name= '글로벌'\n",
    "age = 23\n",
    "print('이름은',name,'이고 나이는',age,'입니다') # , 연결은 디폴트로 sep=' '이 되어있어 한칸 띄어지게됨\n",
    "print('이름은',name,'이고 나이는',age,'입니다' ,sep='')\n",
    "print('이름은'+name+'이고 나이는'+str(age)+'입니다')\n",
    "\n",
    "'''\n",
    "str() 문자형으로 변환 ->정수 모양 문자열 int,float둘다 사용가능 실수모양 float만 가능\n",
    "int() 정수형으로 변환\n",
    "float() 실수형으로 변환 \n",
    "type() 자료형을 알려주는 함수\n",
    "bool() 논리형으로 변환 -> 0, 0.0 false 그외 true\n",
    "'''\n",
    "\n",
    "'''\n",
    "python에서는 ++num\n",
    "같은 증가 감소 연산자가 없음\n",
    "'''\n",
    "\n",
    "#서로 값 바꾸기\n",
    "num1=10\n",
    "num2 = 20\n",
    "\n",
    "cup = num1\n",
    "num1 = num2\n",
    "num2 = cup\n",
    "print(num1,num2)\n",
    "\n",
    "cup1=10\n",
    "cup2 = 20\n",
    "cup3 = 30\n",
    "cup1,cup2 = cup2,cup1\n",
    "print(cup1,cup2)\n",
    "\n",
    "'''\n",
    "보이는 것처럼 동시에 할당연산을 한것이 아니라\n",
    "오른쪽 (cup2,cup1) 에서 ()가 생략된 형태임\n",
    "            ㄴ tuple이라고 함\n",
    "즉 오른쪽에 있는 건 type이 튜플 변수 한개임\n",
    "tuple unpacking을 통해 각각 할당한 것\n",
    "*** 모든 언어는 할당연산자 오른쪽에는 값이 여러개가 한 번에 올 수 없음\n",
    "\n",
    "'''\n",
    "cup1=10"
   ]
  },
  {
   "cell_type": "code",
   "execution_count": null,
   "id": "8f2f2777",
   "metadata": {},
   "outputs": [],
   "source": []
  }
 ],
 "metadata": {
  "kernelspec": {
   "display_name": "Python 3 (ipykernel)",
   "language": "python",
   "name": "python3"
  },
  "language_info": {
   "codemirror_mode": {
    "name": "ipython",
    "version": 3
   },
   "file_extension": ".py",
   "mimetype": "text/x-python",
   "name": "python",
   "nbconvert_exporter": "python",
   "pygments_lexer": "ipython3",
   "version": "3.9.12"
  }
 },
 "nbformat": 4,
 "nbformat_minor": 5
}

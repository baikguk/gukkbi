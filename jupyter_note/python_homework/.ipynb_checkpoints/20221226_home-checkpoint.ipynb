{
 "cells": [
  {
   "cell_type": "code",
   "execution_count": null,
   "id": "1f6b8f7a",
   "metadata": {},
   "outputs": [],
   "source": [
    "import pymongo\n"
   ]
  },
  {
   "cell_type": "markdown",
   "id": "c0a154ba",
   "metadata": {},
   "source": [
    "mongo 실행시켜서 port 번호 받기"
   ]
  },
  {
   "cell_type": "code",
   "execution_count": null,
   "id": "bd477325",
   "metadata": {},
   "outputs": [],
   "source": [
    "'''\n",
    "MongoDB 연결 -> MongoClient('ip주소',포트번호) 객체 생성\n",
    "                or\n",
    "                MongoClient()\n",
    "                 ㄴ -> 자동으로 localhost:27017접속\n",
    "'''\n",
    "conn = pymongo.MongoClient()\n"
   ]
  },
  {
   "cell_type": "code",
   "execution_count": null,
   "id": "03b55682",
   "metadata": {},
   "outputs": [],
   "source": [
    "'''\n",
    "home_test db 생성\n",
    "\n",
    "변수 = 연결객체(conn).db이름\n",
    "'''\n",
    "db = conn.db_home2\n",
    "print(db)"
   ]
  },
  {
   "cell_type": "code",
   "execution_count": null,
   "id": "349ce6f9",
   "metadata": {},
   "outputs": [],
   "source": [
    "# 컬렉션 생성 형식) db.컬렉션 이름\n",
    "home_col2 = db.home_col2\n",
    "print(home_col2)"
   ]
  },
  {
   "cell_type": "code",
   "execution_count": null,
   "id": "5aeaec72",
   "metadata": {},
   "outputs": [],
   "source": [
    "post = {\n",
    "            \"author\":\"global\", \n",
    "            \"text\":\"global text\", \n",
    "            \"tags\":[\"python\",\"pymongo\",'mongodb']\n",
    "       }\n",
    "post_id = home_col2.insert_one(post).inserted_id\n",
    "post_id"
   ]
  },
  {
   "cell_type": "code",
   "execution_count": null,
   "id": "65ab0bd6",
   "metadata": {},
   "outputs": [],
   "source": [
    "home_col.insert_many(\n",
    "[{\"author\":\"Tom Cruise\", \"age\":55},{\"author\":\"Tom\", \"age\":32}]\n",
    "    \n",
    ")"
   ]
  },
  {
   "cell_type": "code",
   "execution_count": null,
   "id": "adc258f3",
   "metadata": {},
   "outputs": [],
   "source": [
    "#document 개수 확인\n",
    "all_docs = home_col.count_documents({})\n",
    "all_docs"
   ]
  },
  {
   "cell_type": "code",
   "execution_count": null,
   "id": "81ad428e",
   "metadata": {},
   "outputs": [],
   "source": [
    "data = []\n",
    "data.append({'title':'avatar','castings':['zoe','sam','sigourney']})\n",
    "data.append( {\n",
    "        'title':'실미도',\n",
    "        'castings':['설경구', '안성기'],\n",
    "        'datetime':\n",
    "            {\n",
    "                'year':'2003',\n",
    "                'month':3,\n",
    "                'val':\n",
    "                    {\n",
    "                        'a':\n",
    "                            {\n",
    "                                'b':1\n",
    "                            }\n",
    "                    }\n",
    "            }\n",
    "    })\n",
    "data.append({'name':'arron', 'age':23})\n",
    "data.append({'name':'bob', 'age':32})\n",
    "data.append({'name':'cathy', 'age':25})\n",
    "data.append({'name':'peter', 'age':27})\n",
    "data.append({'name':'erick', 'age':28})\n",
    "data.append({'name':'davison', 'age':36})\n",
    "data.append({'name':'lee'})\n",
    "\n",
    "home_col.insert_many(data)"
   ]
  },
  {
   "cell_type": "code",
   "execution_count": null,
   "id": "1ae1ff19",
   "metadata": {},
   "outputs": [],
   "source": [
    "home_col.find_one()"
   ]
  },
  {
   "cell_type": "code",
   "execution_count": null,
   "id": "d6870eb2",
   "metadata": {},
   "outputs": [],
   "source": [
    "all_docs=home_col.find({})\n",
    "for i in all_docs:\n",
    "    print(i)"
   ]
  },
  {
   "cell_type": "code",
   "execution_count": null,
   "id": "f0fca112",
   "metadata": {},
   "outputs": [],
   "source": [
    "'''\n",
    "\n",
    "컬렉션.update_one -> 조건에 맞아도 하나만 수정함, 조건없으면 첫 검색 수정\n",
    "many -> 조건에 맞는 모든걸 수정\n",
    "\n",
    "update로 수정,추가 둘다 가능\n",
    "'''\n",
    "import pprint as p\n",
    "home_col.update_one({'author':'global'},{'$set':{'text':'globalhome'}})\n",
    "for i in home_col.find({'author':'global'}):\n",
    "    print(i)"
   ]
  },
  {
   "cell_type": "code",
   "execution_count": null,
   "id": "d6735900",
   "metadata": {},
   "outputs": [],
   "source": [
    "home_col.update_many({'author':'global'},{'$set':{'test':'testing'}})\n",
    "for i in home_col.find({'author':'global'}):\n",
    "    print(i)"
   ]
  },
  {
   "cell_type": "code",
   "execution_count": null,
   "id": "5b028590",
   "metadata": {},
   "outputs": [],
   "source": [
    "'''\n",
    "document 삭제 수정과 동일하게 one 조건에 맞아도 하나만, 삭제 조건없으면 첫검색 삭제\n",
    "many 조건에 맞는 모든 key 삭제\n",
    "'''"
   ]
  },
  {
   "cell_type": "code",
   "execution_count": null,
   "id": "24c660f3",
   "metadata": {},
   "outputs": [],
   "source": [
    "home_col.delete_one({'author':'Tom'})\n",
    "for i in home_col.find({}):\n",
    "    print(i)"
   ]
  },
  {
   "cell_type": "code",
   "execution_count": null,
   "id": "045818a8",
   "metadata": {},
   "outputs": [],
   "source": [
    "home_col.insert_one(\n",
    "{\"author\":\"Tom\", \"age\":32}\n",
    "    \n",
    ")"
   ]
  },
  {
   "cell_type": "code",
   "execution_count": null,
   "id": "d49f354a",
   "metadata": {},
   "outputs": [],
   "source": [
    "for i in home_col.find({}):\n",
    "    print(i)"
   ]
  },
  {
   "cell_type": "code",
   "execution_count": null,
   "id": "be13d699",
   "metadata": {},
   "outputs": [],
   "source": [
    "# home_col.delete_many({'author':{'$in':'Tom'}}) \n",
    "    #$in needs an array, full error: {'index': 0, 'code': 2, 'errmsg': '$in needs an array'}\n",
    "#-> [] 둘러싸줌\n",
    "home_col.delete_many({'author':{'$in':['Tom']}}) # -> 톰크루즈 삭제안됨\n",
    "for i in home_col.find({}):\n",
    "    print(i)"
   ]
  },
  {
   "cell_type": "code",
   "execution_count": null,
   "id": "ed102544",
   "metadata": {},
   "outputs": [],
   "source": [
    "home_col.delete_many({'author':{'$in':['Tom','Tom Cruise']}}) \n",
    "    # -> RDBMS in과는 달리 아예 똑같아야 인식함\n",
    "for i in home_col.find({}):\n",
    "    print(i)"
   ]
  },
  {
   "cell_type": "code",
   "execution_count": null,
   "id": "4065dfaa",
   "metadata": {},
   "outputs": [],
   "source": [
    "'''\n",
    "라이브러리\n",
    "\n",
    "BeautifulSoup\n",
    "html 데이터를 분석할 수 있는 형태로 만들어주는 클래스\n",
    "'''\n",
    "from bs4 import BeautifulSoup\n",
    "import requests\n",
    "import pymongo\n",
    "import warnings\n",
    "warnings.filterwarnings('ignore')"
   ]
  },
  {
   "cell_type": "code",
   "execution_count": null,
   "id": "885cbe33",
   "metadata": {},
   "outputs": [],
   "source": [
    "#Mongodb과 python 연결 객체생생\n",
    "conn = pymongo.MongoClient()\n",
    "# DB 생성 이름 cine21_home\n",
    "act_db = conn.cine21_home"
   ]
  },
  {
   "cell_type": "code",
   "execution_count": null,
   "id": "5cd10950",
   "metadata": {},
   "outputs": [],
   "source": [
    "# 컬렉션 생성\n",
    "act_col = act_db.act_col"
   ]
  },
  {
   "cell_type": "code",
   "execution_count": null,
   "id": "dad4cfa1",
   "metadata": {},
   "outputs": [],
   "source": [
    "# 크롤링 주소 request하기\n",
    "'''\n",
    "-> 6개월 인기 배우 조회 버튼 클릭시 나옴\n",
    "-> 해당 클릭이 웹페이지가 안바뀌고 data가 바껴서 post방식?\n",
    "section: \n",
    "actor\n",
    "period_start: \n",
    "2022-06\n",
    "gender: \n",
    "all\n",
    "page: \n",
    "1\n",
    "'''\n",
    "url = 'http://www.cine21.com/rank/person/content'\n",
    "# url에서 /content 부분은 관리자모드 네트워크에서 정렬기준 클릭시 확인되는 주소임\n",
    "# http://www.cine21.com/rank/person 만하면 인식 못함\n",
    "post_data = dict()\n",
    "post_data['section']='actor'\n",
    "post_data['period_start']='2022-06'\n",
    "post_data['gender']='all'\n",
    "post_data['page'] = 1\n",
    "\n",
    "response = requests.post(url,post_data)"
   ]
  },
  {
   "cell_type": "code",
   "execution_count": null,
   "id": "49b747e1",
   "metadata": {},
   "outputs": [],
   "source": [
    "'''\n",
    "BeautifilSoup로 parsing (html 데이터를 분석할 수 있게 변환해줌)\n",
    "'''\n",
    "#                                            ┌ parser(파서(문장의 구조 분석·오류 점검 프로그램).) 이름\n",
    "html_data = BeautifulSoup(response.content,'html.parser')\n",
    "#                             ㄴ url,post_data에 대한 컨텐츠     "
   ]
  },
  {
   "cell_type": "code",
   "execution_count": null,
   "id": "5efffa08",
   "metadata": {},
   "outputs": [],
   "source": [
    "#해당 페이지에 해당하는 배우 이름만 출려해보기\n",
    "actors_list = html_data.select('li.people_li div.name')\n",
    "for i in actors_list:\n",
    "    print(i)\n",
    "    print(i.text)\n",
    "print('-'*70)"
   ]
  },
  {
   "cell_type": "code",
   "execution_count": null,
   "id": "2ccd656b",
   "metadata": {},
   "outputs": [],
   "source": [
    "import re\n",
    "for i in actors_list:\n",
    "    print(re.sub('\\W','',i.text))"
   ]
  },
  {
   "cell_type": "code",
   "execution_count": null,
   "id": "2bca51ec",
   "metadata": {},
   "outputs": [],
   "source": [
    "for i in actors_list:\n",
    "    print(re.sub('[유해진]','',i.text))"
   ]
  },
  {
   "cell_type": "code",
   "execution_count": null,
   "id": "0a1f9806",
   "metadata": {},
   "outputs": [],
   "source": [
    "for i in actors_list:\n",
    "    print(re.sub('유|현|박|임|정|변|안','',i.text))"
   ]
  },
  {
   "cell_type": "code",
   "execution_count": null,
   "id": "ff02d4cb",
   "metadata": {},
   "outputs": [],
   "source": [
    "'''\n",
    "  [0-9] (\\d)          :  모든 숫자와 매칭됨\n",
    "  [^0-9] (\\D)         :  숫자가 아닌 것과 매칭됨\n",
    "  [\\t\\n\\r\\f\\v] (\\s)   :  whitespace 문자와 매칭됨\n",
    "  [^\\t\\n\\r\\f\\v] (\\S)  :  whitespace 문자가 아닌 것과 매칭됨\n",
    "  [a-zA-Z0-9]  (\\w)   :  문자 + 숫자와 매칭됨\n",
    "  [^a-zA-Z0-9] (\\W)   :  문자 + 숫자가 아닌 것과 매칭됨\n",
    "'''\n",
    "\n",
    "for i in actors_list:\n",
    "    print(re.sub('[\\(\\d편\\)]','',i.text))"
   ]
  },
  {
   "cell_type": "code",
   "execution_count": null,
   "id": "802f3f70",
   "metadata": {},
   "outputs": [],
   "source": [
    "for i in actors_list:\n",
    "    print(re.sub('\\(\\w*\\)','',i.text))"
   ]
  },
  {
   "cell_type": "code",
   "execution_count": null,
   "id": "ed463ede",
   "metadata": {},
   "outputs": [],
   "source": [
    "for i in actors_list:\n",
    "    print(re.sub('\\(\\w+\\)','',i.text))"
   ]
  },
  {
   "cell_type": "code",
   "execution_count": null,
   "id": "3ea859dc",
   "metadata": {},
   "outputs": [],
   "source": [
    "for i in actors_list:\n",
    "    print(re.sub('\\(\\w?\\)','',i.text))"
   ]
  },
  {
   "cell_type": "code",
   "execution_count": null,
   "id": "2fb28854",
   "metadata": {},
   "outputs": [],
   "source": [
    "actors_list = html_data.select('li.people_li div.name')\n",
    "for i in actors_list:\n",
    "    print(i)\n",
    "    print(i.text)\n",
    "print('-'*70)"
   ]
  },
  {
   "cell_type": "code",
   "execution_count": null,
   "id": "1f520b24",
   "metadata": {},
   "outputs": [],
   "source": [
    "'''\n",
    "배우 상세 정보 가져오기\n",
    "유해진 클릭시 http://www.cine21.com/db/person/info/?person_id=15757 로 이동함\n",
    "여기서 해당 앵커 html 위치\n",
    "li.people_li div.name a의 href 값 db/person/info/?person_id=15757\n",
    "'''\n",
    "print(html_data.select('li.people_li div.name a'))\n",
    "print()\n",
    "print(html_data.select_one('li.people_li div.name a'))\n",
    "print()\n",
    "print(actors_list[0].select_one('a'))\n",
    "print(html_data.select_one('li.people_li div.name a').attrs['href'])\n",
    "#  ㄴ a 태그에서 href 값을 추출함\n",
    "\n",
    "#http://www.cine21.com + /db/person/info/?person_id=15757 해주면 해당 배우의 상세페이지로 이동함\n",
    "print('http://www.cine21.com'+html_data.select_one('li.people_li div.name a').attrs['href'])"
   ]
  },
  {
   "cell_type": "code",
   "execution_count": null,
   "id": "d5c78725",
   "metadata": {},
   "outputs": [],
   "source": [
    "\n",
    "'''\n",
    "페이지의 배우별 상세페이지 url\n",
    "'''\n",
    "actors_detail_url= []\n",
    "idx = 0\n",
    "for i in actors_list:\n",
    "    actors_detail_url.append('http://www.cine21.com' + i.select_one('a').attrs['href'])\n",
    "    \n",
    "    print(actors_detail_url[idx])\n",
    "    idx+=1"
   ]
  },
  {
   "cell_type": "code",
   "execution_count": null,
   "id": "ded23a1d",
   "metadata": {
    "scrolled": true
   },
   "outputs": [],
   "source": [
    "'''\n",
    "상세페이질 이동 후 가지고 올 데이터\n",
    "'''\n",
    "actors_detail_data=[]\n",
    "for idx,i in enumerate(actors_detail_url):\n",
    "    response = requests.get(i) \n",
    "        #--> request get방식이라 웹페이지 이동하고 해당 html가져오는듯?\n",
    "    actors_detail_html_data = BeautifulSoup(response.content,'html.parser')\n",
    "    actors_detail_data.append(actors_detail_html_data.select('ul.default_info li'))\n",
    "actors_detail_data"
   ]
  },
  {
   "cell_type": "code",
   "execution_count": null,
   "id": "b30defe6",
   "metadata": {},
   "outputs": [],
   "source": [
    "actors_detail_list=[]\n",
    "#for 문 하나에 상세페이지로 이동후 기본정보란의 데이터 dict에 저장\n",
    "for i in actors_list:\n",
    "    actors_detail_url= 'http://www.cine21.com' + i.select_one('a').attrs['href']\n",
    "    response = requests.get(actors_detail_url) \n",
    "    actors_detail_html_data = BeautifulSoup(response.content,'html.parser')\n",
    "    actors_detail_dict={}\n",
    "    for j in actors_detail_html_data.select('ul.default_info li'):\n",
    "        # -> 태그 li,span중 span만 잡아서 text?\n",
    "        key = j.select_one('span').text \n",
    "        value = (str(j).split('</span>')[1].split('</li>')[0])\n",
    "        actors_detail_dict[key] = value\n",
    "    actors_detail_list.append(actors_detail_dict)\n",
    "actors_detail_list"
   ]
  },
  {
   "cell_type": "code",
   "execution_count": 269,
   "id": "d079e487",
   "metadata": {},
   "outputs": [
    {
     "name": "stdout",
     "output_type": "stream",
     "text": [
      "<div class=\"name\"><a href=\"/db/person/info/?person_id=15757\">유해진(5편)</a></div>\n",
      "<div class=\"name\"><a href=\"/db/person/info/?person_id=20745\">현빈(3편)</a></div>\n",
      "<div class=\"name\"><a href=\"/db/person/info/?person_id=15222\">박해일(6편)</a></div>\n",
      "<div class=\"name\"><a href=\"/db/person/info/?person_id=66313\">임윤아(4편)</a></div>\n",
      "<div class=\"name\"><a href=\"/db/person/info/?person_id=1533\">정우성(5편)</a></div>\n",
      "<div class=\"name\"><a href=\"/db/person/info/?person_id=90008\">변요한(3편)</a></div>\n",
      "<div class=\"name\"><a href=\"/db/person/info/?person_id=346\">안성기(9편)</a></div>\n"
     ]
    }
   ],
   "source": [
    "'''\n",
    "6) 각 배우의 이름, 흥해지수, 출연 가져오기\n",
    "'''\n",
    "\n",
    "for i in actors_list:\n",
    "    print(i)"
   ]
  },
  {
   "cell_type": "code",
   "execution_count": null,
   "id": "bd204767",
   "metadata": {},
   "outputs": [],
   "source": []
  },
  {
   "cell_type": "code",
   "execution_count": null,
   "id": "2dac30fa",
   "metadata": {},
   "outputs": [],
   "source": []
  },
  {
   "cell_type": "code",
   "execution_count": null,
   "id": "3c02fac8",
   "metadata": {},
   "outputs": [],
   "source": []
  }
 ],
 "metadata": {
  "kernelspec": {
   "display_name": "Python 3 (ipykernel)",
   "language": "python",
   "name": "python3"
  },
  "language_info": {
   "codemirror_mode": {
    "name": "ipython",
    "version": 3
   },
   "file_extension": ".py",
   "mimetype": "text/x-python",
   "name": "python",
   "nbconvert_exporter": "python",
   "pygments_lexer": "ipython3",
   "version": "3.9.12"
  }
 },
 "nbformat": 4,
 "nbformat_minor": 5
}
